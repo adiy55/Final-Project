{
  "cells": [
    {
      "cell_type": "markdown",
      "metadata": {
        "id": "-6ikW2JiYwp0"
      },
      "source": [
        "##The Resnet Research paper can be accessed from here https://arxiv.org/pdf/1512.03385v1.pdf"
      ]
    },
    {
      "cell_type": "code",
      "execution_count": null,
      "metadata": {
        "colab": {
          "base_uri": "https://localhost:8080/"
        },
        "id": "_OI_L93eYy-D",
        "outputId": "55d18a10-138d-48fd-dd69-cd32b552c8e8"
      },
      "outputs": [
        {
          "output_type": "stream",
          "name": "stdout",
          "text": [
            "CUDA is available!  Training on GPU ...\n"
          ]
        }
      ],
      "source": [
        "import torch\n",
        "import numpy as np\n",
        "import os\n",
        "import torch.optim as optim\n",
        "import copy\n",
        "\n",
        "# check if CUDA is available\n",
        "train_on_gpu = torch.cuda.is_available()\n",
        "\n",
        "if not train_on_gpu:\n",
        "  print('CUDA is not available.  Training on CPU ...')\n",
        "else:\n",
        "  print('CUDA is available!  Training on GPU ...')"
      ]
    },
    {
      "cell_type": "code",
      "execution_count": null,
      "metadata": {
        "colab": {
          "base_uri": "https://localhost:8080/"
        },
        "id": "icwOrUg2XwZk",
        "outputId": "dd430992-11fd-4748-a72f-259e2476a340"
      },
      "outputs": [
        {
          "output_type": "stream",
          "name": "stdout",
          "text": [
            "Mounted at /content/drive\n"
          ]
        }
      ],
      "source": [
        "from google.colab import drive\n",
        "drive.mount('/content/drive')"
      ]
    },
    {
      "cell_type": "code",
      "execution_count": null,
      "metadata": {
        "id": "N93l9M4SbvSE"
      },
      "outputs": [],
      "source": [
        "DRIVE_PATH = './drive/MyDrive/First_512'\n",
        "\n",
        "log_format = '%(asctime)s - %(name)s - %(levelname)s - %(message)s'"
      ]
    },
    {
      "cell_type": "code",
      "execution_count": null,
      "metadata": {
        "colab": {
          "base_uri": "https://localhost:8080/"
        },
        "id": "6PLsgon_uX7G",
        "outputId": "1e721cba-8c56-4b3b-8240-6a03d691dccb"
      },
      "outputs": [
        {
          "output_type": "stream",
          "name": "stderr",
          "text": [
            "ERROR:root:test message\n"
          ]
        }
      ],
      "source": [
        "import logging\n",
        "import logging.handlers\n",
        "\n",
        "\n",
        "logging.basicConfig(level=logging.DEBUG,\n",
        "                    format='%(asctime)s - %(name)s - %(levelname)s - %(message)s',\n",
        "                    handlers=[logging.StreamHandler()])\n",
        "\n",
        "\n",
        "logging.info(\"test message\")\n",
        "logging.error(\"test message\")"
      ]
    },
    {
      "cell_type": "code",
      "execution_count": null,
      "metadata": {
        "id": "3Q6m-FNKZzEZ"
      },
      "outputs": [],
      "source": [
        "logger = logging.getLogger(__name__)\n",
        "logger.setLevel(logging.DEBUG)\n",
        "\n",
        "# Create the memory handler with a capacity of 1000 records\n",
        "mem_handler = logging.handlers.MemoryHandler(capacity=1000)\n",
        "\n",
        "# Add the memory handler to the logger\n",
        "logger.addHandler(mem_handler)\n",
        "\n",
        "# Create a file handler that will flush the memory handler to a file every 30 seconds\n",
        "file_handler = logging.FileHandler(f'{DRIVE_PATH}/output.log')\n",
        "file_handler.setLevel(logging.DEBUG)\n",
        "file_handler.setFormatter(logging.Formatter('%(asctime)s - %(name)s - %(levelname)s - %(message)s'))\n",
        "\n",
        "# Add the file handler to the logger\n",
        "logger.addHandler(file_handler)"
      ]
    },
    {
      "cell_type": "code",
      "execution_count": null,
      "metadata": {
        "colab": {
          "base_uri": "https://localhost:8080/"
        },
        "id": "Tqyq8M1rZeHa",
        "outputId": "83ab0925-488b-48e9-c4a5-302033fe25e8"
      },
      "outputs": [
        {
          "output_type": "stream",
          "name": "stderr",
          "text": [
            "DEBUG:__main__:Test Message 0\n",
            "DEBUG:__main__:Test Message 1\n"
          ]
        }
      ],
      "source": [
        "# Log some messages\n",
        "for i in range(2):\n",
        "    logger.debug(f\"Test Message {i}\")\n",
        "\n",
        "# Flush the memory handler to the file\n",
        "mem_handler.flush()\n",
        "\n",
        "# Close the file handler\n",
        "file_handler.close()"
      ]
    },
    {
      "cell_type": "code",
      "execution_count": null,
      "metadata": {
        "id": "J2VFiNdnRWdH"
      },
      "outputs": [],
      "source": [
        "# Save the initial resnet model (THESE ARE THE WEIGHTS USED TO INITALIZE ALL RESNET18 MODELS!)\n",
        "INITIAL_NET_PATH = os.path.join(DRIVE_PATH,\"ResNet18_initial.pth\")\n",
        "def save_initial_net(initial_net_model):\n",
        "  if not os.path.exists(INITIAL_NET_PATH):\n",
        "    torch.save(initial_net_model.state_dict(), f'{DRIVE_PATH}/ResNet18_initial.pth')"
      ]
    },
    {
      "cell_type": "markdown",
      "metadata": {
        "id": "FVwz1WydnN_7"
      },
      "source": [
        "#**Downloading the CIFAR10 datset and loading the data in Normalized form as torch.FloatTensor datatype and generating a validation set by dividing the training set in 80-20 ratio**\n",
        "#**CIFAR10**\n",
        "The CIFAR10 and CIFAR-100 are labeled subsets of the 80 million tiny images dataset. They were collected by Alex Krizhevsky, Vinod Nair, and Geoffrey Hinton.\n",
        "\n",
        "The CIFAR-10 dataset consists of 60000 32x32 colour images in 10 classes, with 6000 images per class. There are 50000 training images and 10000 test images.\n",
        "\n",
        "The dataset is divided into five training batches and one test batch, each with 10000 images. The test batch contains exactly 1000 randomly-selected images from each class. The training batches contain the remaining images in random order, but some training batches may contain more images from one class than another. Between them, the training batches contain exactly 5000 images from each class.\n",
        "\n",
        "Here are the classes in the dataset:\n",
        "1. airplane\n",
        "2. automobile\n",
        "3. bird\n",
        "4. cat\n",
        "5. deer\n",
        "6. dog\n",
        "7. frog\n",
        "8. horse\n",
        "9. ship\n",
        "10. truck\n",
        "\n",
        "The classes are completely mutually exclusive. There is no overlap between automobiles and trucks. \"Automobile\" includes sedans, SUVs, things of that sort. \"Truck\" includes only big trucks. Neither includes pickup trucks.\n",
        "\n",
        "More can be read from their page at https://www.cs.toronto.edu/~kriz/cifar.html"
      ]
    },
    {
      "cell_type": "markdown",
      "metadata": {
        "id": "7U2Vn2qhvrIi"
      },
      "source": [
        "#**Image Augmentation**\n",
        "In this cell, we perform some simple data augmentation by randomly flipping and cropping the given image data. We do this by defining a torchvision transform, and you can learn about all the transforms that are used to pre-process and augment data from the [PyTorch documentation](https://pytorch.org/docs/stable/torchvision/transforms.html)"
      ]
    },
    {
      "cell_type": "code",
      "execution_count": null,
      "metadata": {
        "colab": {
          "base_uri": "https://localhost:8080/"
        },
        "id": "l5WmV1je_1kr",
        "outputId": "2faf679f-70b8-4a5f-cefb-6728bfa081be"
      },
      "outputs": [
        {
          "output_type": "stream",
          "name": "stdout",
          "text": [
            "==> Preparing data..\n",
            "Downloading https://www.cs.toronto.edu/~kriz/cifar-10-python.tar.gz to data/cifar-10-python.tar.gz\n"
          ]
        },
        {
          "output_type": "stream",
          "name": "stderr",
          "text": [
            "100%|██████████| 170498071/170498071 [00:02<00:00, 77201292.10it/s]\n"
          ]
        },
        {
          "output_type": "stream",
          "name": "stdout",
          "text": [
            "Extracting data/cifar-10-python.tar.gz to data\n",
            "Files already downloaded and verified\n"
          ]
        }
      ],
      "source": [
        "from torchvision import datasets\n",
        "import torchvision.transforms as transforms\n",
        "from torch.utils.data.sampler import SubsetRandomSampler\n",
        "\n",
        "# number of subprocesses to use for data loading\n",
        "num_workers = 0\n",
        "# how many samples per batch to load\n",
        "batch_size = 20\n",
        "\n",
        "# convert data to a normalized torch.FloatTensor\n",
        "print('==> Preparing data..')\n",
        "#Image augmentation is used to train the model\n",
        "transform_train = transforms.Compose([\n",
        "    transforms.RandomCrop(32, padding=4),\n",
        "    transforms.RandomHorizontalFlip(),\n",
        "    transforms.ToTensor(),\n",
        "    transforms.Normalize((0.4914, 0.4822, 0.4465), (0.2023, 0.1994, 0.2010)),\n",
        "])\n",
        "#Only the data is normalaized we do not need to augment the test data\n",
        "transform_test = transforms.Compose([\n",
        "    transforms.ToTensor(),\n",
        "    transforms.Normalize((0.4914, 0.4822, 0.4465), (0.2023, 0.1994, 0.2010)),\n",
        "])\n",
        "\n",
        "# choose the training and test datasets\n",
        "train_data = datasets.CIFAR10('data', train=True,\n",
        "                              download=True, transform=transform_train)\n",
        "test_data = datasets.CIFAR10('data', train=False,\n",
        "                             download=True, transform=transform_test)\n",
        "\n",
        "# obtain training indices that will be used for validation\n",
        "num_train = len(train_data)\n",
        "indices = list(range(num_train))\n",
        "np.random.seed(42)\n",
        "np.random.shuffle(indices)\n",
        "train_idx = indices\n",
        "\n",
        "# define samplers for obtaining training and validation batches\n",
        "train_sampler = SubsetRandomSampler(train_idx)\n",
        "\n",
        "# prepare data loaders (combine dataset and sampler)\n",
        "train_loader = torch.utils.data.DataLoader(train_data, batch_size=batch_size,\n",
        "    sampler=train_sampler, num_workers=num_workers,shuffle=False)\n",
        "test_loader = torch.utils.data.DataLoader(test_data, batch_size=batch_size,\n",
        "    num_workers=num_workers)\n",
        "\n",
        "# specify the image classes\n",
        "classes = ['airplane', 'automobile', 'bird', 'cat', 'deer',\n",
        "           'dog', 'frog', 'horse', 'ship', 'truck']\n"
      ]
    },
    {
      "cell_type": "markdown",
      "metadata": {
        "id": "jkqQ7fsUxA0r"
      },
      "source": [
        "#**Defining the Network Architecture**\n",
        "In this section the entire Research Paper is implemented to define the Residual Network approach taken by the researchers\n",
        "\n",
        "NOTE:\n",
        "\n",
        "Output volume for a convolutional layer\n",
        "To compute the output size of a given convolutional layer we can perform the following calculation (taken from Stanford's cs231n course):\n",
        "\n",
        "We can compute the spatial size of the output volume as a function of the input volume size (W), the kernel/filter size (F), the stride with which they are applied (S), and the amount of zero padding used (P) on the border. The correct formula for calculating how many neurons define the output_W is given by (W−F+2P)/S+1.\n",
        "\n",
        "For example for a 7x7 input and a 3x3 filter with stride 1 and pad 0 we would get a 5x5 output. With stride 2 we would get a 3x3 output."
      ]
    },
    {
      "cell_type": "code",
      "execution_count": null,
      "metadata": {
        "id": "OEc93C7xAXEE"
      },
      "outputs": [],
      "source": [
        "import torch.backends.cudnn as cudnn\n",
        "import torch.nn as nn\n",
        "import torch.nn.functional as F\n",
        "from torch.nn import Dropout\n",
        "\n",
        "class BasicBlock(nn.Module):\n",
        "  expansion = 1\n",
        "  def __init__(self, in_planes, planes, stride=1):\n",
        "    super(BasicBlock, self).__init__()\n",
        "    self.conv1 = nn.Conv2d(in_planes, planes, kernel_size=3, stride=stride, padding=1, bias=False)\n",
        "    self.bn1 = nn.BatchNorm2d(planes)\n",
        "    self.conv2 = nn.Conv2d(planes, planes, kernel_size=3, stride=1, padding=1, bias=False)\n",
        "    self.bn2 = nn.BatchNorm2d(planes)\n",
        "\n",
        "    self.shortcut = nn.Sequential()\n",
        "    if stride != 1 or in_planes != self.expansion*planes:\n",
        "      self.shortcut = nn.Sequential(\n",
        "          nn.Conv2d(in_planes, self.expansion*planes, kernel_size=1, stride=stride, bias=False),\n",
        "          nn.BatchNorm2d(self.expansion*planes)\n",
        "      )\n",
        "\n",
        "  def forward(self, x):\n",
        "    out = F.relu(self.bn1(self.conv1(x)))\n",
        "    out = self.bn2(self.conv2(out))\n",
        "    out += self.shortcut(x)\n",
        "    out = F.relu(out)\n",
        "    return out\n",
        "\n",
        "class BottleNeck(nn.Module):\n",
        "  expansion = 4\n",
        "\n",
        "  def __init__(self, in_planes, planes, stride=1):\n",
        "    super(BottleNeck, self).__init__()\n",
        "    self.conv1 = nn.Conv2d(in_planes , planes, kernel_size=1, bias=False)\n",
        "    self.bn1 = nn.BatchNorm2d(planes)\n",
        "    self.conv2 = nn.Conv2d(planes, planes, kernel_size=3, stride=stride, padding=1, bias=False)\n",
        "    self.bn2 = nn.BatchNorm2d(planes)\n",
        "    self.conv3 = nn.Conv2d(planes, self.expansion*planes, kernel_size=1, bias=False)\n",
        "    self.bn3 = nn.BatchNorm2d(self.expansion*planes)\n",
        "\n",
        "    self.shortcut = nn.Sequential()\n",
        "    if stride != 1 or in_planes != self.expansion*planes :\n",
        "      self.shortcut = nn.Sequential(\n",
        "          nn.Conv2d(in_planes, self.expansion*planes, kernel_size=1, stride=stride, bias=False),\n",
        "          nn.BatchNorm2d(self.expansion*planes)\n",
        "      )\n",
        "\n",
        "  def forward(self, x):\n",
        "    out = F.relu(self.bn1(self.conv1(x)))\n",
        "    out = F.relu(self.bn2(self.conv2(out)))\n",
        "    out = self.bn3(self.conv3(out))\n",
        "    out += self.shortcut(x)\n",
        "    out = F.relu(out)\n",
        "    return out\n",
        "\n",
        "class ResNet(nn.Module):\n",
        "  def __init__(self, block, num_blocks, dropout_rate, dropout_location, model_architecture, num_classes=10, curr_epoch=0, valid_loss_min=np.Inf):\n",
        "    super(ResNet, self).__init__()\n",
        "    self.in_planes = 64\n",
        "\n",
        "    #### variables we added\n",
        "    \"\"\"\n",
        "    :param dropout_location: \"last\", \"middle\", \"all\", \"first\"\n",
        "    \"\"\"\n",
        "    self.dropout_rate = dropout_rate\n",
        "    self.dropout_location = dropout_location\n",
        "    self.curr_epoch = curr_epoch\n",
        "    ####\n",
        "\n",
        "    #### logger\n",
        "    self.model_props = f\"{model_architecture}.{dropout_location}.{dropout_rate}\"\n",
        "    ####\n",
        "\n",
        "    self.conv1 = nn.Conv2d(3, 64, kernel_size=3, stride=1, padding=1, bias=False)\n",
        "    self.bn1 = nn.BatchNorm2d(64)\n",
        "    if self.dropout_location == 'all':\n",
        "      self.layer1 = self._make_layer(block, 64, num_blocks[0], stride=1, is_dropout=True)\n",
        "      self.layer2 = self._make_layer(block, 512, num_blocks[1], stride=2, is_dropout=True)\n",
        "      self.layer3 = self._make_layer(block, 512, num_blocks[2], stride=2, is_dropout=True)\n",
        "      self.layer4 = self._make_layer(block, 512, num_blocks[3], stride=2, is_dropout=True)\n",
        "    elif self.dropout_location == 'first':\n",
        "      self.layer1 = self._make_layer(block, 64, num_blocks[0], stride=1, is_dropout=False)\n",
        "      self.layer2 = self._make_layer(block, 512, num_blocks[1], stride=2, is_dropout=True)\n",
        "      self.layer3 = self._make_layer(block, 512, num_blocks[2], stride=2, is_dropout=False)\n",
        "      self.layer4 = self._make_layer(block, 512, num_blocks[3], stride=2, is_dropout=False)\n",
        "    else:\n",
        "      self.layer1 = self._make_layer(block, 64, num_blocks[0], stride=1, is_dropout=False)\n",
        "      self.layer2 = self._make_layer(block, 512, num_blocks[1], stride=2, is_dropout=False)\n",
        "      if self.dropout_location == 'middle':\n",
        "        self.layer3 = self._make_layer(block, 512, num_blocks[2], stride=2, is_dropout=True)\n",
        "        self.layer4 = self._make_layer(block, 512, num_blocks[3], stride=2, is_dropout=False)\n",
        "      else: # self.dropout_location == 'last':\n",
        "        self.layer3 = self._make_layer(block, 512, num_blocks[2], stride=2, is_dropout=False)\n",
        "        self.layer4 = self._make_layer(block, 512, num_blocks[3], stride=2, is_dropout=True)\n",
        "    self.linear = nn.Linear(512*block.expansion, num_classes)\n",
        "\n",
        "  def get_dropout_rate(self):\n",
        "      return self.dropout_rate\n",
        "\n",
        "  def _make_layer(self, block, planes, num_blocks, stride, is_dropout):\n",
        "    strides = [stride] + [1]*(num_blocks-1)\n",
        "    layers = []\n",
        "    for stride in strides:\n",
        "      layers.append(block(self.in_planes, planes, stride))\n",
        "      self.in_planes = planes * block.expansion\n",
        "    if is_dropout:\n",
        "      return nn.Sequential(*layers, Dropout(self.dropout_rate))\n",
        "    return nn.Sequential(*layers)\n",
        "\n",
        "  def forward(self, x):\n",
        "    out = F.relu(self.bn1(self.conv1(x)))\n",
        "    out = self.layer1(out)\n",
        "    out = self.layer2(out)\n",
        "    out = self.layer3(out)\n",
        "    out = self.layer4(out)\n",
        "    out = F.avg_pool2d(out, 4)\n",
        "    out = out.view(out.size(0), -1)\n",
        "    out = self.linear(out)\n",
        "    return out\n",
        "\n",
        "def ResNet18(rate, location):\n",
        "    return ResNet(BasicBlock, [2, 2, 2, 2], model_architecture=\"ResNet18\", dropout_rate=rate, dropout_location=location)\n",
        "\n",
        "def ResNet34(rate, location):\n",
        "    return ResNet(BasicBlock, [3, 4, 6, 3], model_architecture=\"ResNet34\", dropout_rate=rate, dropout_location=location)\n",
        "\n",
        "def ResNet50(rate, location):\n",
        "    return ResNet(Bottleneck, [3, 4, 6, 3], model_architecture=\"ResNet50\", dropout_rate=rate, dropout_location=location)\n",
        "\n",
        "def ResNet101(rate, location):\n",
        "    return ResNet(Bottleneck, [3, 4, 23, 3], model_architecture=\"ResNet101\", dropout_rate=rate, dropout_location=location)\n",
        "\n",
        "def ResNet152(rate, location):\n",
        "    return ResNet(Bottleneck, [3, 8, 36, 3], model_architecture=\"ResNet152\", dropout_rate=rate, dropout_location=location)"
      ]
    },
    {
      "cell_type": "code",
      "execution_count": null,
      "metadata": {
        "id": "pn9uZybz1Nzt"
      },
      "outputs": [],
      "source": [
        "# This class Wraps the torch.nn.DataParallel and adds the logging capability\n",
        "class LoggerDataParallel(torch.nn.DataParallel):\n",
        "    def __init__(self, module, model_props=None, *args, **kwargs):\n",
        "        super(LoggerDataParallel, self).__init__(module, *args, **kwargs)\n",
        "        self.model_props = model_props"
      ]
    },
    {
      "cell_type": "code",
      "execution_count": null,
      "metadata": {
        "colab": {
          "base_uri": "https://localhost:8080/"
        },
        "id": "bwue19KBXdX6",
        "outputId": "2060fb82-b20d-4347-e51a-262a66647ef3"
      },
      "outputs": [
        {
          "output_type": "execute_result",
          "data": {
            "text/plain": [
              "[('first', 0.0),\n",
              " ('first', 0.1),\n",
              " ('first', 0.2),\n",
              " ('first', 0.3),\n",
              " ('first', 0.4),\n",
              " ('first', 0.5)]"
            ]
          },
          "metadata": {},
          "execution_count": 11
        }
      ],
      "source": [
        "dropout_values = [0.0,0.1,0.2,0.3,0.4,0.5]\n",
        "# dropout_values = [0.91,0.93,0.95,0.97]\n",
        "droput_locations = ['first']\n",
        "combinations = []\n",
        "\n",
        "for drop_val in dropout_values:\n",
        "  for drop_loc in droput_locations:\n",
        "    combinations.append((drop_loc, drop_val))\n",
        "\n",
        "combinations"
      ]
    },
    {
      "cell_type": "markdown",
      "metadata": {
        "id": "0dMWiYJf1Ou-"
      },
      "source": [
        "#**Training Loop**\n",
        "Here we train the architecture on training data and check its validation loss by using the validation set and saving the model only if there is an improvement ie decrease in the validation loss."
      ]
    },
    {
      "cell_type": "code",
      "execution_count": null,
      "metadata": {
        "id": "FoZrTwlUXjWX"
      },
      "outputs": [],
      "source": [
        "def save_checkpoint(epoch, model, optimizer, dropout_rate, dropout_location, train_loss_min ,suffix):\n",
        "    \"\"\"Saves model checkpoint\"\"\"\n",
        "    torch.save({\n",
        "                'epoch': epoch,\n",
        "                'model_state_dict': model.state_dict(),\n",
        "                'optimizer_state_dict': optimizer.state_dict(),\n",
        "                'dropout':dropout_rate,\n",
        "                'train_loss_min': train_loss_min,\n",
        "                }, f'{DRIVE_PATH}/{dropout_location}/ResNet18_{dropout_rate}_{suffix}.pth')"
      ]
    },
    {
      "cell_type": "code",
      "execution_count": null,
      "metadata": {
        "id": "lxmqrZ3yMiMs"
      },
      "outputs": [],
      "source": [
        "def print_accuracy_info(class_total, class_correct, prefix):\n",
        "    for i in range(10):\n",
        "      if class_total[i] > 0:\n",
        "        message = '%s Accuracy of %5s: %2d%% (%2d/%2d)' % (\n",
        "            prefix, classes[i], 100 * class_correct[i] / class_total[i],\n",
        "            np.sum(class_correct[i]), np.sum(class_total[i]))\n",
        "        logger.info(message)\n",
        "\n",
        "      else:\n",
        "        print('%s Accuracy of %5s: N/A (no training examples)' % (prefix, classes[i]))\n",
        "\n",
        "    message = '%s Accuracy (Overall): %2d%% (%2d/%2d)' % (prefix,\n",
        "        100. * np.sum(class_correct) / np.sum(class_total),\n",
        "        np.sum(class_correct), np.sum(class_total))\n",
        "    logger.info(message)"
      ]
    },
    {
      "cell_type": "code",
      "execution_count": null,
      "metadata": {
        "id": "YLPoZuGAcUM8"
      },
      "outputs": [],
      "source": [
        "def run_train_loop(curr_net, curr_optimizer, criterion, dropout_location, dropout_rate, curr_epoch = 0, train_loss_min = np.inf):\n",
        "  # number of epochs to train the model\n",
        "  n_epochs = 50\n",
        "\n",
        "  class_correct_train = list(0. for i in range(10))\n",
        "  class_total_train = list(0. for i in range(10))\n",
        "\n",
        "  for epoch in range(curr_epoch, n_epochs+1):\n",
        "    # keep track of training and validation loss\n",
        "    train_loss = 0.0\n",
        "\n",
        "    ###################\n",
        "    # train the model #\n",
        "    ###################\n",
        "    curr_net.train()\n",
        "    for batch_idx, (data, target) in enumerate(train_loader):\n",
        "      # move tensors to GPU if CUDA is available\n",
        "      if train_on_gpu:\n",
        "        data, target = data.cuda(), target.cuda()\n",
        "      # clear the gradients of all optimized variables\n",
        "      curr_optimizer.zero_grad()\n",
        "      # forward pass: compute predicted outputs by passing inputs to the model\n",
        "      output = curr_net(data)\n",
        "      # calculate the batch loss\n",
        "      loss = criterion(output, target)\n",
        "      # backward pass: compute gradient of the loss with respect to model parameters\n",
        "      loss.backward()\n",
        "      # perform a single optimization step (parameter update)\n",
        "      curr_optimizer.step()\n",
        "      # update training loss\n",
        "      train_loss += loss.item()*data.size(0)\n",
        "\n",
        "      _, pred = torch.max(output, 1)\n",
        "      # compare predictions to true label\n",
        "      correct_tensor = pred.eq(target.data.view_as(pred))\n",
        "      correct = np.squeeze(correct_tensor.numpy()) if not train_on_gpu else np.squeeze(correct_tensor.cpu().numpy())\n",
        "      # calculate test accuracy for each object class\n",
        "      for i in range(batch_size):\n",
        "        label = target.data[i]\n",
        "        class_correct_train[label] += correct[i].item()\n",
        "        class_total_train[label] += 1\n",
        "\n",
        "    # calculate average losses\n",
        "    train_loss = train_loss/len(train_loader.sampler)\n",
        "\n",
        "\n",
        "    epoch_info = 'Epoch: {} \\tTraining Loss: {:.6f} \\t'.format(epoch, train_loss)\n",
        "    # print training/validation statistics\n",
        "    text_to_log = f\"{curr_net.model_props}, {epoch_info}\"\n",
        "    logger.info(text_to_log)\n",
        "\n",
        "    print_accuracy_info(class_total_train, class_correct_train, \"Train\")\n",
        "    if train_loss < train_loss_min:\n",
        "          train_loss_min = train_loss\n",
        "          save_checkpoint(epoch, curr_net, curr_optimizer, dropout_rate, dropout_location, train_loss_min,\"best_valid\")\n",
        "\n",
        "    save_checkpoint(epoch, curr_net, curr_optimizer, dropout_rate, dropout_location, train_loss_min ,\"most_recent\")\n",
        "\n",
        "    # Flush the memory handler to the file\n",
        "    mem_handler.flush()\n",
        "\n",
        "    # Close the file handler\n",
        "    file_handler.close()"
      ]
    },
    {
      "cell_type": "code",
      "execution_count": null,
      "metadata": {
        "id": "7_92PMYNXVzW"
      },
      "outputs": [],
      "source": [
        "net = ResNet18(0.0, 'last')\n",
        "if train_on_gpu:\n",
        "  # net = torch.nn.DataParallel(net).cuda()\n",
        "  net = LoggerDataParallel(net, model_props = net.model_props)\n",
        "  cudnn.benchmark = True\n",
        "# net.get_dropout_rate()"
      ]
    },
    {
      "cell_type": "code",
      "execution_count": null,
      "metadata": {
        "id": "e45lMqquUwY0"
      },
      "outputs": [],
      "source": [
        "#### Load model checkpoint\n",
        "def load_checkpoint(path, dropout_location):\n",
        "  try:\n",
        "    checkpoint = torch.load(path)\n",
        "    model_state_dict_pre_fix = checkpoint.get(\"model_state_dict\")\n",
        "    shaved_state_dict = {}\n",
        "    for full_key in model_state_dict_pre_fix.keys():\n",
        "      if \"module\" in full_key:\n",
        "        shaved_state_dict[\".\".join(full_key.split(\".\")[1:])] = model_state_dict_pre_fix.get(full_key)\n",
        "    model_state_dict_pre_fix.update(shaved_state_dict)\n",
        "    curr_epoch = checkpoint.get('epoch', 0)\n",
        "    dropout_rate = checkpoint.get('dropout', 0.0)\n",
        "    train_loss_min = checkpoint.get('train_loss_min', np.inf)\n",
        "    net = ResNet18(dropout_rate, dropout_location)\n",
        "    #### Load model and optimizer state dictionaries\n",
        "    net.load_state_dict(shaved_state_dict)\n",
        "    #optimizer.load_state_dict(checkpoint['optimizer_state_dict'])\n",
        "    return net , curr_epoch, train_loss_min\n",
        "  except Exception as e:\n",
        "    print(e)\n",
        "    return None, 0, np.inf"
      ]
    },
    {
      "cell_type": "code",
      "execution_count": null,
      "metadata": {
        "id": "VVx90zYIX1U_"
      },
      "outputs": [],
      "source": [
        "logger_path = f\"{DRIVE_PATH}\"\n",
        "initial_net = ResNet18(0.0, 'last')\n",
        "state_dict = initial_net.state_dict()\n",
        "save_initial_net(initial_net)"
      ]
    },
    {
      "cell_type": "code",
      "execution_count": null,
      "metadata": {
        "colab": {
          "base_uri": "https://localhost:8080/"
        },
        "id": "wXk5nNPfUQlm",
        "outputId": "9baa381f-d479-4c09-d20f-bdf6b715dea7"
      },
      "outputs": [
        {
          "output_type": "stream",
          "name": "stdout",
          "text": [
            "loaded model from disk\n",
            "loaded model from disk\n",
            "loaded model from disk\n",
            "loaded model from disk\n",
            "loaded model from disk\n",
            "loaded model from disk\n"
          ]
        }
      ],
      "source": [
        "model_map = {}\n",
        "for combination in combinations:\n",
        "  dropout_location, dropout_rate = combination\n",
        "\n",
        "  net_path = os.path.join(DRIVE_PATH,dropout_location,f\"ResNet18_{dropout_rate}_most_recent.pth\")\n",
        "  net , curr_epoch, train_loss_min = load_checkpoint(net_path, dropout_location=dropout_location)\n",
        "\n",
        "  if net is None:\n",
        "    net = ResNet18(dropout_rate, dropout_location)\n",
        "    net.load_state_dict(copy.deepcopy(state_dict))\n",
        "    print(f\"Created the model using initial weights: {net.model_props}\")\n",
        "  else:\n",
        "    print(\"loaded model from disk\")\n",
        "  # if train_on_gpu:\n",
        "  #   net = LoggerDataParallel(net, model_props = net.model_props)\n",
        "\n",
        "    cudnn.benchmark = True\n",
        "\n",
        "  model_key = f\"{dropout_location}_{dropout_rate}\"\n",
        "  model_map[model_key] = (net, curr_epoch, train_loss_min)"
      ]
    },
    {
      "cell_type": "code",
      "execution_count": null,
      "metadata": {
        "id": "GF-h9dlgWNzW"
      },
      "outputs": [],
      "source": [
        "def get_model_for_training(dropout_location, dropout_rate):\n",
        "  model_key = f\"{dropout_location}_{dropout_rate}\"\n",
        "  net, curr_epoch, train_loss_min = model_map.get(model_key)\n",
        "  print(f\"the following model {net.model_props} is starting from epoch : {curr_epoch}\")\n",
        "  return net, curr_epoch, train_loss_min"
      ]
    },
    {
      "cell_type": "code",
      "execution_count": null,
      "metadata": {
        "colab": {
          "base_uri": "https://localhost:8080/"
        },
        "id": "TsV1d_LRYXpl",
        "outputId": "62a37914-16a3-4f2a-a8eb-45b56fc78218"
      },
      "outputs": [
        {
          "metadata": {
            "tags": null
          },
          "name": "stderr",
          "output_type": "stream",
          "text": [
            "INFO:__main__:ResNet18.first.0.0 Starting Training\n"
          ]
        },
        {
          "metadata": {
            "tags": null
          },
          "name": "stdout",
          "output_type": "stream",
          "text": [
            "the following model ResNet18.first.0.0 is starting from epoch : 50\n"
          ]
        },
        {
          "metadata": {
            "tags": null
          },
          "name": "stderr",
          "output_type": "stream",
          "text": [
            "INFO:__main__:ResNet18.first.0.0, Epoch: 50 \tTraining Loss: 0.058145 \t\n",
            "INFO:__main__:Train Accuracy of airplane: 97% (4896/5000)\n",
            "INFO:__main__:Train Accuracy of automobile: 99% (4963/5000)\n",
            "INFO:__main__:Train Accuracy of  bird: 97% (4888/5000)\n",
            "INFO:__main__:Train Accuracy of   cat: 96% (4833/5000)\n",
            "INFO:__main__:Train Accuracy of  deer: 98% (4908/5000)\n",
            "INFO:__main__:Train Accuracy of   dog: 96% (4845/5000)\n",
            "INFO:__main__:Train Accuracy of  frog: 98% (4931/5000)\n",
            "INFO:__main__:Train Accuracy of horse: 98% (4923/5000)\n",
            "INFO:__main__:Train Accuracy of  ship: 98% (4925/5000)\n",
            "INFO:__main__:Train Accuracy of truck: 98% (4928/5000)\n",
            "INFO:__main__:Train Accuracy (Overall): 98% (49040/50000)\n",
            "INFO:__main__:ResNet18.first.0.1 Starting Training\n"
          ]
        },
        {
          "metadata": {
            "tags": null
          },
          "name": "stdout",
          "output_type": "stream",
          "text": [
            "the following model ResNet18.first.0.1 is starting from epoch : 50\n"
          ]
        },
        {
          "output_type": "stream",
          "name": "stderr",
          "text": [
            "INFO:__main__:ResNet18.first.0.1, Epoch: 50 \tTraining Loss: 0.059404 \t\n",
            "INFO:__main__:Train Accuracy of airplane: 97% (4894/5000)\n",
            "INFO:__main__:Train Accuracy of automobile: 99% (4952/5000)\n",
            "INFO:__main__:Train Accuracy of  bird: 97% (4879/5000)\n",
            "INFO:__main__:Train Accuracy of   cat: 96% (4817/5000)\n",
            "INFO:__main__:Train Accuracy of  deer: 98% (4900/5000)\n",
            "INFO:__main__:Train Accuracy of   dog: 96% (4846/5000)\n",
            "INFO:__main__:Train Accuracy of  frog: 98% (4910/5000)\n",
            "INFO:__main__:Train Accuracy of horse: 98% (4913/5000)\n",
            "INFO:__main__:Train Accuracy of  ship: 98% (4932/5000)\n",
            "INFO:__main__:Train Accuracy of truck: 98% (4937/5000)\n",
            "INFO:__main__:Train Accuracy (Overall): 97% (48980/50000)\n",
            "INFO:__main__:ResNet18.first.0.2 Starting Training\n"
          ]
        },
        {
          "output_type": "stream",
          "name": "stdout",
          "text": [
            "the following model ResNet18.first.0.2 is starting from epoch : 50\n"
          ]
        },
        {
          "output_type": "stream",
          "name": "stderr",
          "text": [
            "INFO:__main__:ResNet18.first.0.2, Epoch: 50 \tTraining Loss: 0.061137 \t\n",
            "INFO:__main__:Train Accuracy of airplane: 97% (4895/5000)\n",
            "INFO:__main__:Train Accuracy of automobile: 99% (4961/5000)\n",
            "INFO:__main__:Train Accuracy of  bird: 97% (4869/5000)\n",
            "INFO:__main__:Train Accuracy of   cat: 96% (4802/5000)\n",
            "INFO:__main__:Train Accuracy of  deer: 97% (4892/5000)\n",
            "INFO:__main__:Train Accuracy of   dog: 96% (4833/5000)\n",
            "INFO:__main__:Train Accuracy of  frog: 98% (4914/5000)\n",
            "INFO:__main__:Train Accuracy of horse: 98% (4922/5000)\n",
            "INFO:__main__:Train Accuracy of  ship: 98% (4926/5000)\n",
            "INFO:__main__:Train Accuracy of truck: 98% (4939/5000)\n",
            "INFO:__main__:Train Accuracy (Overall): 97% (48953/50000)\n",
            "INFO:__main__:ResNet18.first.0.3 Starting Training\n"
          ]
        },
        {
          "output_type": "stream",
          "name": "stdout",
          "text": [
            "the following model ResNet18.first.0.3 is starting from epoch : 50\n"
          ]
        },
        {
          "output_type": "stream",
          "name": "stderr",
          "text": [
            "INFO:__main__:ResNet18.first.0.3, Epoch: 50 \tTraining Loss: 0.063147 \t\n",
            "INFO:__main__:Train Accuracy of airplane: 98% (4912/5000)\n",
            "INFO:__main__:Train Accuracy of automobile: 98% (4940/5000)\n",
            "INFO:__main__:Train Accuracy of  bird: 97% (4874/5000)\n",
            "INFO:__main__:Train Accuracy of   cat: 95% (4783/5000)\n",
            "INFO:__main__:Train Accuracy of  deer: 98% (4905/5000)\n",
            "INFO:__main__:Train Accuracy of   dog: 96% (4824/5000)\n",
            "INFO:__main__:Train Accuracy of  frog: 98% (4925/5000)\n",
            "INFO:__main__:Train Accuracy of horse: 98% (4914/5000)\n",
            "INFO:__main__:Train Accuracy of  ship: 98% (4924/5000)\n",
            "INFO:__main__:Train Accuracy of truck: 98% (4920/5000)\n",
            "INFO:__main__:Train Accuracy (Overall): 97% (48921/50000)\n",
            "INFO:__main__:ResNet18.first.0.4 Starting Training\n"
          ]
        },
        {
          "output_type": "stream",
          "name": "stdout",
          "text": [
            "the following model ResNet18.first.0.4 is starting from epoch : 50\n"
          ]
        },
        {
          "output_type": "stream",
          "name": "stderr",
          "text": [
            "INFO:__main__:ResNet18.first.0.4, Epoch: 50 \tTraining Loss: 0.066796 \t\n",
            "INFO:__main__:Train Accuracy of airplane: 97% (4898/5000)\n",
            "INFO:__main__:Train Accuracy of automobile: 99% (4951/5000)\n",
            "INFO:__main__:Train Accuracy of  bird: 97% (4857/5000)\n",
            "INFO:__main__:Train Accuracy of   cat: 96% (4804/5000)\n",
            "INFO:__main__:Train Accuracy of  deer: 97% (4878/5000)\n",
            "INFO:__main__:Train Accuracy of   dog: 96% (4805/5000)\n",
            "INFO:__main__:Train Accuracy of  frog: 98% (4937/5000)\n",
            "INFO:__main__:Train Accuracy of horse: 98% (4907/5000)\n",
            "INFO:__main__:Train Accuracy of  ship: 98% (4924/5000)\n",
            "INFO:__main__:Train Accuracy of truck: 98% (4921/5000)\n",
            "INFO:__main__:Train Accuracy (Overall): 97% (48882/50000)\n",
            "INFO:__main__:ResNet18.first.0.5 Starting Training\n"
          ]
        },
        {
          "output_type": "stream",
          "name": "stdout",
          "text": [
            "the following model ResNet18.first.0.5 is starting from epoch : 50\n"
          ]
        },
        {
          "output_type": "stream",
          "name": "stderr",
          "text": [
            "INFO:__main__:ResNet18.first.0.5, Epoch: 50 \tTraining Loss: 0.066924 \t\n",
            "INFO:__main__:Train Accuracy of airplane: 98% (4906/5000)\n",
            "INFO:__main__:Train Accuracy of automobile: 98% (4936/5000)\n",
            "INFO:__main__:Train Accuracy of  bird: 97% (4852/5000)\n",
            "INFO:__main__:Train Accuracy of   cat: 95% (4791/5000)\n",
            "INFO:__main__:Train Accuracy of  deer: 97% (4891/5000)\n",
            "INFO:__main__:Train Accuracy of   dog: 96% (4815/5000)\n",
            "INFO:__main__:Train Accuracy of  frog: 98% (4924/5000)\n",
            "INFO:__main__:Train Accuracy of horse: 98% (4900/5000)\n",
            "INFO:__main__:Train Accuracy of  ship: 98% (4935/5000)\n",
            "INFO:__main__:Train Accuracy of truck: 98% (4917/5000)\n",
            "INFO:__main__:Train Accuracy (Overall): 97% (48867/50000)\n"
          ]
        }
      ],
      "source": [
        "for combination in combinations:\n",
        "  dropout_location, dropout_rate = combination\n",
        "  net, curr_epoch, train_loss_min = get_model_for_training(dropout_location, dropout_rate)\n",
        "\n",
        "  if curr_epoch == 0:\n",
        "    assert torch.all(torch.eq(initial_net.state_dict()['conv1.weight'], net.state_dict()['conv1.weight']))\n",
        "\n",
        "  if train_on_gpu:\n",
        "    net = LoggerDataParallel(net, model_props = net.model_props)\n",
        "    cudnn.benchmark = True\n",
        "\n",
        "  text_to_log = f\"{net.model_props} Starting Training\"\n",
        "  logger.info(text_to_log)\n",
        "\n",
        "  # specify loss function (categorical cross-entropy)\n",
        "  criterion = nn.CrossEntropyLoss()\n",
        "\n",
        "  # specify optimizer\n",
        "  optimizer = optim.SGD(net.parameters(), lr=0.01, momentum=0.9, weight_decay=0.0001)\n",
        "\n",
        "  run_train_loop(net, optimizer, criterion, dropout_location, dropout_rate, curr_epoch, train_loss_min)"
      ]
    },
    {
      "cell_type": "code",
      "execution_count": null,
      "metadata": {
        "id": "5ShQQZftdD0S"
      },
      "outputs": [],
      "source": [
        "# Flush the memory handler to the file\n",
        "mem_handler.flush()\n",
        "\n",
        "# Close the file handler\n",
        "file_handler.close()"
      ]
    },
    {
      "cell_type": "markdown",
      "metadata": {
        "id": "z1M4p3Is2RMg"
      },
      "source": [
        "#**Loading the Best Model**"
      ]
    },
    {
      "cell_type": "code",
      "execution_count": null,
      "metadata": {
        "id": "ofnr9nTCE8RO"
      },
      "outputs": [],
      "source": [
        "def enable_dropout(mod: nn.Module):\n",
        "    if isinstance(mod, nn.Dropout):\n",
        "        mod.train()"
      ]
    },
    {
      "cell_type": "code",
      "execution_count": null,
      "metadata": {
        "id": "cmHp3KBPGEzB",
        "colab": {
          "base_uri": "https://localhost:8080/"
        },
        "outputId": "32174966-27b2-4719-a12a-071f75d677ba"
      },
      "outputs": [
        {
          "output_type": "stream",
          "name": "stdout",
          "text": [
            "dict_keys(['first_0.0', 'first_0.1', 'first_0.2', 'first_0.3', 'first_0.4', 'first_0.5'])\n",
            "the following model ResNet18.first.0.5 is starting from epoch : 50\n",
            "50\n"
          ]
        }
      ],
      "source": [
        "print(model_map.keys())\n",
        "\n",
        "net, curr_epoch, train_loss_min = get_model_for_training('first', 0.5)\n",
        "print(curr_epoch)\n",
        "criterion = nn.CrossEntropyLoss()\n"
      ]
    },
    {
      "cell_type": "markdown",
      "metadata": {
        "id": "O_lEna0p2Wp5"
      },
      "source": [
        "#**Testing Loop**\n",
        "The real test of the model architecture how well does the model recognizes the image and what is the accuracy on the test data"
      ]
    },
    {
      "cell_type": "code",
      "execution_count": null,
      "metadata": {
        "id": "WsqLF8SVfsnn"
      },
      "outputs": [],
      "source": [
        "# track test loss\n",
        "def run_test_data(net, optimizer, criterion, keep_dropout = True, is_train_loader = False):\n",
        "  test_loss = 0.0\n",
        "  class_correct = list(0. for i in range(10))\n",
        "  class_total = list(0. for i in range(10))\n",
        "\n",
        "  net.eval()\n",
        "  if keep_dropout:\n",
        "    net.apply(enable_dropout)\n",
        "\n",
        "  if train_on_gpu:\n",
        "      net = LoggerDataParallel(net, model_props = net.model_props)\n",
        "\n",
        "  curr_loader = train_loader if is_train_loader else test_loader\n",
        "  log_label = \"Train\" if is_train_loader else \"Test\"\n",
        "\n",
        "  # iterate over test data\n",
        "  for batch_idx, (data, target) in enumerate(curr_loader):\n",
        "    # move tensors to GPU if CUDA is available\n",
        "    if train_on_gpu:\n",
        "      data, target = data.cuda(), target.cuda()\n",
        "    # forward pass: compute predicted outputs by passing inputs to the model\n",
        "    output = net(data)\n",
        "    # calculate the batch loss\n",
        "    loss = criterion(output, target)\n",
        "    # update test loss\n",
        "    test_loss += loss.item()*data.size(0)\n",
        "    # convert output probabilities to predicted class\n",
        "    _, pred = torch.max(output, 1)\n",
        "    # compare predictions to true label\n",
        "    correct_tensor = pred.eq(target.data.view_as(pred))\n",
        "    correct = np.squeeze(correct_tensor.numpy()) if not train_on_gpu else np.squeeze(correct_tensor.cpu().numpy())\n",
        "    # calculate test accuracy for each object class\n",
        "    for i in range(batch_size):\n",
        "      label = target.data[i]\n",
        "      class_correct[label] += correct[i].item()\n",
        "      class_total[label] += 1\n",
        "\n",
        "  # average test loss\n",
        "  test_loss = test_loss/len(test_loader.dataset)\n",
        "  print_accuracy_info(class_total, class_correct, log_label)\n",
        "\n",
        "  return np.sum(class_correct) / np.sum(class_total)"
      ]
    },
    {
      "cell_type": "code",
      "execution_count": null,
      "metadata": {
        "id": "4tA_JeEFjTc7"
      },
      "outputs": [],
      "source": [
        "results_dict_location = os.path.join(DRIVE_PATH, 'trial_results.json')"
      ]
    },
    {
      "cell_type": "code",
      "execution_count": null,
      "metadata": {
        "id": "jt3w8LzXjlIt"
      },
      "outputs": [],
      "source": [
        "import json\n",
        "def save_trials_dict(trial_result_dict):\n",
        "  with open(results_dict_location, 'w') as f:\n",
        "      # write the dictionary to the file as JSON\n",
        "      json.dump(trial_result_dict, f)\n",
        "\n",
        "def load_trials_dict():\n",
        "  if os.path.exists(results_dict_location):\n",
        "    with open(results_dict_location, 'r') as f:\n",
        "        data = json.load(f)\n",
        "    return data\n"
      ]
    },
    {
      "cell_type": "code",
      "execution_count": null,
      "metadata": {
        "id": "FZrFdhddw5jJ"
      },
      "outputs": [],
      "source": [
        "TRIALS_NUMBER = 20\n",
        "loaded_dict = load_trials_dict()\n",
        "trial_result_dict = {} if loaded_dict is None else copy.deepcopy(loaded_dict)"
      ]
    },
    {
      "cell_type": "code",
      "execution_count": null,
      "metadata": {
        "id": "Qa6HnKiDzNVz",
        "colab": {
          "base_uri": "https://localhost:8080/"
        },
        "outputId": "f8b83756-53e5-4c7c-d7c6-ad76d9a6d368"
      },
      "outputs": [
        {
          "output_type": "execute_result",
          "data": {
            "text/plain": [
              "dict_keys(['0.0_first', '0.5_first', '0.1_first', '0.2_first', '0.3_first', '0.4_first', '0.91_first', '0.93_first', '0.95_first'])"
            ]
          },
          "metadata": {},
          "execution_count": 28
        }
      ],
      "source": [
        "trial_result_dict.keys()"
      ]
    },
    {
      "cell_type": "markdown",
      "metadata": {
        "id": "R1JWR-jZ7a-0"
      },
      "source": [
        "General schema of the results\n",
        "```\n",
        "{\n",
        "\n",
        "  \"0.4_last\":{\n",
        "  \n",
        "  \"0.0_train\": [1,2,3,.....],\n",
        "\n",
        "  \"0.0_test\": [1,2,3,.....]\n",
        "\n",
        "  },\n",
        "\n",
        "\n",
        "}\n",
        "```"
      ]
    },
    {
      "cell_type": "code",
      "execution_count": null,
      "metadata": {
        "id": "i8r7sNDiWwie",
        "colab": {
          "base_uri": "https://localhost:8080/"
        },
        "outputId": "1981069c-2f60-4e15-b366-95727a2215a0"
      },
      "outputs": [
        {
          "output_type": "stream",
          "name": "stdout",
          "text": [
            "the following model ResNet18.first.0.0 is starting from epoch : 50\n",
            "Current Loss 0.0545251234417432 \n",
            "Loading into a new model with 0.91 dropout in first location\n",
            "Loading into a new model with 0.93 dropout in first location\n",
            "Loading into a new model with 0.95 dropout in first location\n",
            "Loading into a new model with 0.97 dropout in first location\n",
            "Loading into a new model with 0.99 dropout in first location\n",
            "Current trial : 0\n"
          ]
        },
        {
          "output_type": "stream",
          "name": "stderr",
          "text": [
            "INFO:__main__:Train Accuracy of airplane:  7% (380/5000)\n",
            "INFO:__main__:Train Accuracy of automobile: 82% (4108/5000)\n",
            "INFO:__main__:Train Accuracy of  bird: 43% (2160/5000)\n",
            "INFO:__main__:Train Accuracy of   cat: 62% (3138/5000)\n",
            "INFO:__main__:Train Accuracy of  deer: 15% (799/5000)\n",
            "INFO:__main__:Train Accuracy of   dog: 14% (735/5000)\n",
            "INFO:__main__:Train Accuracy of  frog: 15% (761/5000)\n",
            "INFO:__main__:Train Accuracy of horse: 10% (539/5000)\n",
            "INFO:__main__:Train Accuracy of  ship: 29% (1485/5000)\n",
            "INFO:__main__:Train Accuracy of truck: 27% (1373/5000)\n",
            "INFO:__main__:Train Accuracy (Overall): 30% (15478/50000)\n",
            "INFO:__main__:Test Accuracy of airplane: 13% (138/1000)\n",
            "INFO:__main__:Test Accuracy of automobile: 82% (826/1000)\n",
            "INFO:__main__:Test Accuracy of  bird: 42% (425/1000)\n",
            "INFO:__main__:Test Accuracy of   cat: 63% (633/1000)\n",
            "INFO:__main__:Test Accuracy of  deer: 17% (170/1000)\n",
            "INFO:__main__:Test Accuracy of   dog: 15% (151/1000)\n",
            "INFO:__main__:Test Accuracy of  frog: 15% (153/1000)\n",
            "INFO:__main__:Test Accuracy of horse: 10% (106/1000)\n",
            "INFO:__main__:Test Accuracy of  ship: 38% (388/1000)\n",
            "INFO:__main__:Test Accuracy of truck: 27% (270/1000)\n",
            "INFO:__main__:Test Accuracy (Overall): 32% (3260/10000)\n"
          ]
        },
        {
          "output_type": "stream",
          "name": "stdout",
          "text": [
            "Current trial : 1\n"
          ]
        },
        {
          "output_type": "stream",
          "name": "stderr",
          "text": [
            "INFO:__main__:Train Accuracy of airplane:  7% (377/5000)\n",
            "INFO:__main__:Train Accuracy of automobile: 82% (4113/5000)\n",
            "INFO:__main__:Train Accuracy of  bird: 43% (2164/5000)\n",
            "INFO:__main__:Train Accuracy of   cat: 62% (3135/5000)\n",
            "INFO:__main__:Train Accuracy of  deer: 15% (784/5000)\n",
            "INFO:__main__:Train Accuracy of   dog: 14% (724/5000)\n",
            "INFO:__main__:Train Accuracy of  frog: 17% (850/5000)\n",
            "INFO:__main__:Train Accuracy of horse: 11% (577/5000)\n",
            "INFO:__main__:Train Accuracy of  ship: 29% (1455/5000)\n",
            "INFO:__main__:Train Accuracy of truck: 26% (1346/5000)\n",
            "INFO:__main__:Train Accuracy (Overall): 31% (15525/50000)\n",
            "INFO:__main__:Test Accuracy of airplane: 11% (110/1000)\n",
            "INFO:__main__:Test Accuracy of automobile: 83% (832/1000)\n",
            "INFO:__main__:Test Accuracy of  bird: 45% (453/1000)\n",
            "INFO:__main__:Test Accuracy of   cat: 61% (613/1000)\n",
            "INFO:__main__:Test Accuracy of  deer: 18% (187/1000)\n",
            "INFO:__main__:Test Accuracy of   dog: 14% (149/1000)\n",
            "INFO:__main__:Test Accuracy of  frog: 16% (161/1000)\n",
            "INFO:__main__:Test Accuracy of horse:  9% (99/1000)\n",
            "INFO:__main__:Test Accuracy of  ship: 37% (379/1000)\n",
            "INFO:__main__:Test Accuracy of truck: 28% (282/1000)\n",
            "INFO:__main__:Test Accuracy (Overall): 32% (3265/10000)\n"
          ]
        },
        {
          "output_type": "stream",
          "name": "stdout",
          "text": [
            "Current trial : 2\n"
          ]
        },
        {
          "output_type": "stream",
          "name": "stderr",
          "text": [
            "INFO:__main__:Train Accuracy of airplane:  7% (374/5000)\n",
            "INFO:__main__:Train Accuracy of automobile: 81% (4076/5000)\n",
            "INFO:__main__:Train Accuracy of  bird: 42% (2121/5000)\n",
            "INFO:__main__:Train Accuracy of   cat: 62% (3106/5000)\n",
            "INFO:__main__:Train Accuracy of  deer: 16% (840/5000)\n",
            "INFO:__main__:Train Accuracy of   dog: 15% (774/5000)\n",
            "INFO:__main__:Train Accuracy of  frog: 15% (791/5000)\n",
            "INFO:__main__:Train Accuracy of horse: 10% (539/5000)\n",
            "INFO:__main__:Train Accuracy of  ship: 28% (1441/5000)\n",
            "INFO:__main__:Train Accuracy of truck: 27% (1370/5000)\n",
            "INFO:__main__:Train Accuracy (Overall): 30% (15432/50000)\n",
            "INFO:__main__:Test Accuracy of airplane: 11% (111/1000)\n",
            "INFO:__main__:Test Accuracy of automobile: 84% (849/1000)\n",
            "INFO:__main__:Test Accuracy of  bird: 45% (455/1000)\n",
            "INFO:__main__:Test Accuracy of   cat: 58% (588/1000)\n",
            "INFO:__main__:Test Accuracy of  deer: 19% (190/1000)\n",
            "INFO:__main__:Test Accuracy of   dog: 18% (181/1000)\n",
            "INFO:__main__:Test Accuracy of  frog: 17% (173/1000)\n",
            "INFO:__main__:Test Accuracy of horse: 10% (102/1000)\n",
            "INFO:__main__:Test Accuracy of  ship: 38% (380/1000)\n",
            "INFO:__main__:Test Accuracy of truck: 30% (305/1000)\n",
            "INFO:__main__:Test Accuracy (Overall): 33% (3334/10000)\n"
          ]
        },
        {
          "output_type": "stream",
          "name": "stdout",
          "text": [
            "Current trial : 3\n"
          ]
        },
        {
          "output_type": "stream",
          "name": "stderr",
          "text": [
            "INFO:__main__:Train Accuracy of airplane:  8% (412/5000)\n",
            "INFO:__main__:Train Accuracy of automobile: 83% (4152/5000)\n",
            "INFO:__main__:Train Accuracy of  bird: 43% (2161/5000)\n",
            "INFO:__main__:Train Accuracy of   cat: 62% (3132/5000)\n",
            "INFO:__main__:Train Accuracy of  deer: 16% (820/5000)\n",
            "INFO:__main__:Train Accuracy of   dog: 15% (778/5000)\n",
            "INFO:__main__:Train Accuracy of  frog: 16% (803/5000)\n",
            "INFO:__main__:Train Accuracy of horse: 11% (556/5000)\n",
            "INFO:__main__:Train Accuracy of  ship: 29% (1451/5000)\n",
            "INFO:__main__:Train Accuracy of truck: 27% (1359/5000)\n",
            "INFO:__main__:Train Accuracy (Overall): 31% (15624/50000)\n",
            "INFO:__main__:Test Accuracy of airplane:  9% (99/1000)\n",
            "INFO:__main__:Test Accuracy of automobile: 83% (833/1000)\n",
            "INFO:__main__:Test Accuracy of  bird: 46% (463/1000)\n",
            "INFO:__main__:Test Accuracy of   cat: 58% (589/1000)\n",
            "INFO:__main__:Test Accuracy of  deer: 16% (164/1000)\n",
            "INFO:__main__:Test Accuracy of   dog: 16% (164/1000)\n",
            "INFO:__main__:Test Accuracy of  frog: 17% (176/1000)\n",
            "INFO:__main__:Test Accuracy of horse: 10% (108/1000)\n",
            "INFO:__main__:Test Accuracy of  ship: 37% (378/1000)\n",
            "INFO:__main__:Test Accuracy of truck: 31% (315/1000)\n",
            "INFO:__main__:Test Accuracy (Overall): 32% (3289/10000)\n"
          ]
        },
        {
          "output_type": "stream",
          "name": "stdout",
          "text": [
            "Current trial : 4\n"
          ]
        },
        {
          "output_type": "stream",
          "name": "stderr",
          "text": [
            "INFO:__main__:Train Accuracy of airplane:  7% (376/5000)\n",
            "INFO:__main__:Train Accuracy of automobile: 82% (4118/5000)\n",
            "INFO:__main__:Train Accuracy of  bird: 42% (2129/5000)\n",
            "INFO:__main__:Train Accuracy of   cat: 63% (3156/5000)\n",
            "INFO:__main__:Train Accuracy of  deer: 16% (827/5000)\n",
            "INFO:__main__:Train Accuracy of   dog: 15% (762/5000)\n",
            "INFO:__main__:Train Accuracy of  frog: 16% (831/5000)\n",
            "INFO:__main__:Train Accuracy of horse: 10% (527/5000)\n",
            "INFO:__main__:Train Accuracy of  ship: 29% (1451/5000)\n",
            "INFO:__main__:Train Accuracy of truck: 26% (1306/5000)\n",
            "INFO:__main__:Train Accuracy (Overall): 30% (15483/50000)\n",
            "INFO:__main__:Test Accuracy of airplane: 11% (117/1000)\n",
            "INFO:__main__:Test Accuracy of automobile: 82% (827/1000)\n",
            "INFO:__main__:Test Accuracy of  bird: 42% (427/1000)\n",
            "INFO:__main__:Test Accuracy of   cat: 61% (614/1000)\n",
            "INFO:__main__:Test Accuracy of  deer: 16% (168/1000)\n",
            "INFO:__main__:Test Accuracy of   dog: 15% (151/1000)\n",
            "INFO:__main__:Test Accuracy of  frog: 16% (169/1000)\n",
            "INFO:__main__:Test Accuracy of horse: 10% (103/1000)\n",
            "INFO:__main__:Test Accuracy of  ship: 37% (378/1000)\n",
            "INFO:__main__:Test Accuracy of truck: 28% (286/1000)\n",
            "INFO:__main__:Test Accuracy (Overall): 32% (3240/10000)\n"
          ]
        },
        {
          "output_type": "stream",
          "name": "stdout",
          "text": [
            "Current trial : 5\n"
          ]
        },
        {
          "output_type": "stream",
          "name": "stderr",
          "text": [
            "INFO:__main__:Train Accuracy of airplane:  7% (382/5000)\n",
            "INFO:__main__:Train Accuracy of automobile: 83% (4161/5000)\n",
            "INFO:__main__:Train Accuracy of  bird: 42% (2104/5000)\n",
            "INFO:__main__:Train Accuracy of   cat: 63% (3170/5000)\n",
            "INFO:__main__:Train Accuracy of  deer: 16% (810/5000)\n",
            "INFO:__main__:Train Accuracy of   dog: 14% (740/5000)\n",
            "INFO:__main__:Train Accuracy of  frog: 16% (819/5000)\n",
            "INFO:__main__:Train Accuracy of horse: 11% (569/5000)\n",
            "INFO:__main__:Train Accuracy of  ship: 30% (1501/5000)\n",
            "INFO:__main__:Train Accuracy of truck: 27% (1376/5000)\n",
            "INFO:__main__:Train Accuracy (Overall): 31% (15632/50000)\n",
            "INFO:__main__:Test Accuracy of airplane: 11% (117/1000)\n",
            "INFO:__main__:Test Accuracy of automobile: 82% (827/1000)\n",
            "INFO:__main__:Test Accuracy of  bird: 44% (448/1000)\n",
            "INFO:__main__:Test Accuracy of   cat: 59% (591/1000)\n",
            "INFO:__main__:Test Accuracy of  deer: 16% (161/1000)\n",
            "INFO:__main__:Test Accuracy of   dog: 15% (155/1000)\n",
            "INFO:__main__:Test Accuracy of  frog: 17% (178/1000)\n",
            "INFO:__main__:Test Accuracy of horse: 10% (107/1000)\n",
            "INFO:__main__:Test Accuracy of  ship: 36% (367/1000)\n",
            "INFO:__main__:Test Accuracy of truck: 29% (295/1000)\n",
            "INFO:__main__:Test Accuracy (Overall): 32% (3246/10000)\n"
          ]
        },
        {
          "output_type": "stream",
          "name": "stdout",
          "text": [
            "Current trial : 6\n"
          ]
        },
        {
          "output_type": "stream",
          "name": "stderr",
          "text": [
            "INFO:__main__:Train Accuracy of airplane:  7% (355/5000)\n",
            "INFO:__main__:Train Accuracy of automobile: 82% (4105/5000)\n",
            "INFO:__main__:Train Accuracy of  bird: 42% (2128/5000)\n",
            "INFO:__main__:Train Accuracy of   cat: 62% (3145/5000)\n",
            "INFO:__main__:Train Accuracy of  deer: 15% (789/5000)\n",
            "INFO:__main__:Train Accuracy of   dog: 15% (757/5000)\n",
            "INFO:__main__:Train Accuracy of  frog: 16% (800/5000)\n",
            "INFO:__main__:Train Accuracy of horse: 10% (547/5000)\n",
            "INFO:__main__:Train Accuracy of  ship: 28% (1423/5000)\n",
            "INFO:__main__:Train Accuracy of truck: 27% (1365/5000)\n",
            "INFO:__main__:Train Accuracy (Overall): 30% (15414/50000)\n",
            "INFO:__main__:Test Accuracy of airplane: 11% (119/1000)\n",
            "INFO:__main__:Test Accuracy of automobile: 82% (829/1000)\n",
            "INFO:__main__:Test Accuracy of  bird: 47% (470/1000)\n",
            "INFO:__main__:Test Accuracy of   cat: 62% (623/1000)\n",
            "INFO:__main__:Test Accuracy of  deer: 16% (165/1000)\n",
            "INFO:__main__:Test Accuracy of   dog: 16% (166/1000)\n",
            "INFO:__main__:Test Accuracy of  frog: 16% (168/1000)\n",
            "INFO:__main__:Test Accuracy of horse:  8% (87/1000)\n",
            "INFO:__main__:Test Accuracy of  ship: 36% (368/1000)\n",
            "INFO:__main__:Test Accuracy of truck: 29% (297/1000)\n",
            "INFO:__main__:Test Accuracy (Overall): 32% (3292/10000)\n"
          ]
        },
        {
          "output_type": "stream",
          "name": "stdout",
          "text": [
            "Current trial : 7\n"
          ]
        },
        {
          "output_type": "stream",
          "name": "stderr",
          "text": [
            "INFO:__main__:Train Accuracy of airplane:  7% (376/5000)\n",
            "INFO:__main__:Train Accuracy of automobile: 81% (4088/5000)\n",
            "INFO:__main__:Train Accuracy of  bird: 43% (2173/5000)\n",
            "INFO:__main__:Train Accuracy of   cat: 62% (3145/5000)\n",
            "INFO:__main__:Train Accuracy of  deer: 16% (810/5000)\n",
            "INFO:__main__:Train Accuracy of   dog: 14% (717/5000)\n",
            "INFO:__main__:Train Accuracy of  frog: 15% (785/5000)\n",
            "INFO:__main__:Train Accuracy of horse: 10% (533/5000)\n",
            "INFO:__main__:Train Accuracy of  ship: 30% (1503/5000)\n",
            "INFO:__main__:Train Accuracy of truck: 26% (1345/5000)\n",
            "INFO:__main__:Train Accuracy (Overall): 30% (15475/50000)\n",
            "INFO:__main__:Test Accuracy of airplane: 12% (126/1000)\n",
            "INFO:__main__:Test Accuracy of automobile: 81% (817/1000)\n",
            "INFO:__main__:Test Accuracy of  bird: 42% (428/1000)\n",
            "INFO:__main__:Test Accuracy of   cat: 60% (602/1000)\n",
            "INFO:__main__:Test Accuracy of  deer: 18% (180/1000)\n",
            "INFO:__main__:Test Accuracy of   dog: 15% (152/1000)\n",
            "INFO:__main__:Test Accuracy of  frog: 14% (145/1000)\n",
            "INFO:__main__:Test Accuracy of horse: 10% (100/1000)\n",
            "INFO:__main__:Test Accuracy of  ship: 37% (379/1000)\n",
            "INFO:__main__:Test Accuracy of truck: 31% (317/1000)\n",
            "INFO:__main__:Test Accuracy (Overall): 32% (3246/10000)\n"
          ]
        },
        {
          "output_type": "stream",
          "name": "stdout",
          "text": [
            "Current trial : 8\n"
          ]
        },
        {
          "output_type": "stream",
          "name": "stderr",
          "text": [
            "INFO:__main__:Train Accuracy of airplane:  7% (387/5000)\n",
            "INFO:__main__:Train Accuracy of automobile: 82% (4111/5000)\n",
            "INFO:__main__:Train Accuracy of  bird: 43% (2171/5000)\n",
            "INFO:__main__:Train Accuracy of   cat: 62% (3149/5000)\n",
            "INFO:__main__:Train Accuracy of  deer: 16% (801/5000)\n",
            "INFO:__main__:Train Accuracy of   dog: 14% (707/5000)\n",
            "INFO:__main__:Train Accuracy of  frog: 16% (816/5000)\n",
            "INFO:__main__:Train Accuracy of horse: 11% (550/5000)\n",
            "INFO:__main__:Train Accuracy of  ship: 28% (1426/5000)\n",
            "INFO:__main__:Train Accuracy of truck: 27% (1380/5000)\n",
            "INFO:__main__:Train Accuracy (Overall): 30% (15498/50000)\n",
            "INFO:__main__:Test Accuracy of airplane: 10% (103/1000)\n",
            "INFO:__main__:Test Accuracy of automobile: 83% (832/1000)\n",
            "INFO:__main__:Test Accuracy of  bird: 44% (443/1000)\n",
            "INFO:__main__:Test Accuracy of   cat: 61% (612/1000)\n",
            "INFO:__main__:Test Accuracy of  deer: 18% (188/1000)\n",
            "INFO:__main__:Test Accuracy of   dog: 14% (142/1000)\n",
            "INFO:__main__:Test Accuracy of  frog: 17% (171/1000)\n",
            "INFO:__main__:Test Accuracy of horse: 11% (110/1000)\n",
            "INFO:__main__:Test Accuracy of  ship: 38% (386/1000)\n",
            "INFO:__main__:Test Accuracy of truck: 29% (290/1000)\n",
            "INFO:__main__:Test Accuracy (Overall): 32% (3277/10000)\n"
          ]
        },
        {
          "output_type": "stream",
          "name": "stdout",
          "text": [
            "Current trial : 9\n"
          ]
        },
        {
          "output_type": "stream",
          "name": "stderr",
          "text": [
            "INFO:__main__:Train Accuracy of airplane:  7% (375/5000)\n",
            "INFO:__main__:Train Accuracy of automobile: 82% (4117/5000)\n",
            "INFO:__main__:Train Accuracy of  bird: 43% (2166/5000)\n",
            "INFO:__main__:Train Accuracy of   cat: 63% (3175/5000)\n",
            "INFO:__main__:Train Accuracy of  deer: 15% (799/5000)\n",
            "INFO:__main__:Train Accuracy of   dog: 14% (723/5000)\n",
            "INFO:__main__:Train Accuracy of  frog: 15% (795/5000)\n",
            "INFO:__main__:Train Accuracy of horse: 11% (556/5000)\n",
            "INFO:__main__:Train Accuracy of  ship: 29% (1499/5000)\n",
            "INFO:__main__:Train Accuracy of truck: 26% (1328/5000)\n",
            "INFO:__main__:Train Accuracy (Overall): 31% (15533/50000)\n",
            "INFO:__main__:Test Accuracy of airplane: 10% (108/1000)\n",
            "INFO:__main__:Test Accuracy of automobile: 81% (812/1000)\n",
            "INFO:__main__:Test Accuracy of  bird: 44% (444/1000)\n",
            "INFO:__main__:Test Accuracy of   cat: 58% (587/1000)\n",
            "INFO:__main__:Test Accuracy of  deer: 16% (160/1000)\n",
            "INFO:__main__:Test Accuracy of   dog: 15% (150/1000)\n",
            "INFO:__main__:Test Accuracy of  frog: 17% (176/1000)\n",
            "INFO:__main__:Test Accuracy of horse: 10% (103/1000)\n",
            "INFO:__main__:Test Accuracy of  ship: 39% (395/1000)\n",
            "INFO:__main__:Test Accuracy of truck: 29% (295/1000)\n",
            "INFO:__main__:Test Accuracy (Overall): 32% (3230/10000)\n"
          ]
        },
        {
          "output_type": "stream",
          "name": "stdout",
          "text": [
            "Current trial : 10\n"
          ]
        },
        {
          "output_type": "stream",
          "name": "stderr",
          "text": [
            "INFO:__main__:Train Accuracy of airplane:  7% (388/5000)\n",
            "INFO:__main__:Train Accuracy of automobile: 81% (4081/5000)\n",
            "INFO:__main__:Train Accuracy of  bird: 43% (2153/5000)\n",
            "INFO:__main__:Train Accuracy of   cat: 62% (3141/5000)\n",
            "INFO:__main__:Train Accuracy of  deer: 16% (818/5000)\n",
            "INFO:__main__:Train Accuracy of   dog: 14% (745/5000)\n",
            "INFO:__main__:Train Accuracy of  frog: 15% (768/5000)\n",
            "INFO:__main__:Train Accuracy of horse: 11% (566/5000)\n",
            "INFO:__main__:Train Accuracy of  ship: 29% (1496/5000)\n",
            "INFO:__main__:Train Accuracy of truck: 27% (1358/5000)\n",
            "INFO:__main__:Train Accuracy (Overall): 31% (15514/50000)\n",
            "INFO:__main__:Test Accuracy of airplane: 11% (112/1000)\n",
            "INFO:__main__:Test Accuracy of automobile: 83% (839/1000)\n",
            "INFO:__main__:Test Accuracy of  bird: 45% (457/1000)\n",
            "INFO:__main__:Test Accuracy of   cat: 61% (613/1000)\n",
            "INFO:__main__:Test Accuracy of  deer: 16% (167/1000)\n",
            "INFO:__main__:Test Accuracy of   dog: 16% (168/1000)\n",
            "INFO:__main__:Test Accuracy of  frog: 16% (166/1000)\n",
            "INFO:__main__:Test Accuracy of horse:  9% (93/1000)\n",
            "INFO:__main__:Test Accuracy of  ship: 39% (397/1000)\n",
            "INFO:__main__:Test Accuracy of truck: 29% (298/1000)\n",
            "INFO:__main__:Test Accuracy (Overall): 33% (3310/10000)\n"
          ]
        },
        {
          "output_type": "stream",
          "name": "stdout",
          "text": [
            "Current trial : 11\n"
          ]
        },
        {
          "output_type": "stream",
          "name": "stderr",
          "text": [
            "INFO:__main__:Train Accuracy of airplane:  7% (383/5000)\n",
            "INFO:__main__:Train Accuracy of automobile: 81% (4051/5000)\n",
            "INFO:__main__:Train Accuracy of  bird: 43% (2168/5000)\n",
            "INFO:__main__:Train Accuracy of   cat: 63% (3154/5000)\n",
            "INFO:__main__:Train Accuracy of  deer: 15% (795/5000)\n",
            "INFO:__main__:Train Accuracy of   dog: 14% (743/5000)\n",
            "INFO:__main__:Train Accuracy of  frog: 16% (818/5000)\n",
            "INFO:__main__:Train Accuracy of horse: 10% (548/5000)\n",
            "INFO:__main__:Train Accuracy of  ship: 30% (1500/5000)\n",
            "INFO:__main__:Train Accuracy of truck: 26% (1326/5000)\n",
            "INFO:__main__:Train Accuracy (Overall): 30% (15486/50000)\n",
            "INFO:__main__:Test Accuracy of airplane: 11% (118/1000)\n",
            "INFO:__main__:Test Accuracy of automobile: 82% (824/1000)\n",
            "INFO:__main__:Test Accuracy of  bird: 43% (435/1000)\n",
            "INFO:__main__:Test Accuracy of   cat: 63% (639/1000)\n",
            "INFO:__main__:Test Accuracy of  deer: 17% (171/1000)\n",
            "INFO:__main__:Test Accuracy of   dog: 15% (159/1000)\n",
            "INFO:__main__:Test Accuracy of  frog: 17% (171/1000)\n",
            "INFO:__main__:Test Accuracy of horse: 11% (114/1000)\n",
            "INFO:__main__:Test Accuracy of  ship: 37% (377/1000)\n",
            "INFO:__main__:Test Accuracy of truck: 29% (290/1000)\n",
            "INFO:__main__:Test Accuracy (Overall): 32% (3298/10000)\n"
          ]
        },
        {
          "output_type": "stream",
          "name": "stdout",
          "text": [
            "Current trial : 12\n"
          ]
        },
        {
          "output_type": "stream",
          "name": "stderr",
          "text": [
            "INFO:__main__:Train Accuracy of airplane:  7% (394/5000)\n",
            "INFO:__main__:Train Accuracy of automobile: 81% (4066/5000)\n",
            "INFO:__main__:Train Accuracy of  bird: 43% (2180/5000)\n",
            "INFO:__main__:Train Accuracy of   cat: 62% (3140/5000)\n",
            "INFO:__main__:Train Accuracy of  deer: 15% (797/5000)\n",
            "INFO:__main__:Train Accuracy of   dog: 14% (721/5000)\n",
            "INFO:__main__:Train Accuracy of  frog: 16% (827/5000)\n",
            "INFO:__main__:Train Accuracy of horse: 11% (568/5000)\n",
            "INFO:__main__:Train Accuracy of  ship: 28% (1425/5000)\n",
            "INFO:__main__:Train Accuracy of truck: 27% (1383/5000)\n",
            "INFO:__main__:Train Accuracy (Overall): 31% (15501/50000)\n",
            "INFO:__main__:Test Accuracy of airplane: 13% (130/1000)\n",
            "INFO:__main__:Test Accuracy of automobile: 82% (828/1000)\n",
            "INFO:__main__:Test Accuracy of  bird: 43% (433/1000)\n",
            "INFO:__main__:Test Accuracy of   cat: 58% (584/1000)\n",
            "INFO:__main__:Test Accuracy of  deer: 14% (148/1000)\n",
            "INFO:__main__:Test Accuracy of   dog: 17% (176/1000)\n",
            "INFO:__main__:Test Accuracy of  frog: 16% (164/1000)\n",
            "INFO:__main__:Test Accuracy of horse: 11% (114/1000)\n",
            "INFO:__main__:Test Accuracy of  ship: 38% (387/1000)\n",
            "INFO:__main__:Test Accuracy of truck: 29% (294/1000)\n",
            "INFO:__main__:Test Accuracy (Overall): 32% (3258/10000)\n"
          ]
        },
        {
          "output_type": "stream",
          "name": "stdout",
          "text": [
            "Current trial : 13\n"
          ]
        },
        {
          "output_type": "stream",
          "name": "stderr",
          "text": [
            "INFO:__main__:Train Accuracy of airplane:  7% (389/5000)\n",
            "INFO:__main__:Train Accuracy of automobile: 81% (4090/5000)\n",
            "INFO:__main__:Train Accuracy of  bird: 43% (2155/5000)\n",
            "INFO:__main__:Train Accuracy of   cat: 62% (3131/5000)\n",
            "INFO:__main__:Train Accuracy of  deer: 15% (792/5000)\n",
            "INFO:__main__:Train Accuracy of   dog: 14% (717/5000)\n",
            "INFO:__main__:Train Accuracy of  frog: 16% (824/5000)\n",
            "INFO:__main__:Train Accuracy of horse: 11% (555/5000)\n",
            "INFO:__main__:Train Accuracy of  ship: 30% (1502/5000)\n",
            "INFO:__main__:Train Accuracy of truck: 27% (1351/5000)\n",
            "INFO:__main__:Train Accuracy (Overall): 31% (15506/50000)\n",
            "INFO:__main__:Test Accuracy of airplane: 11% (118/1000)\n",
            "INFO:__main__:Test Accuracy of automobile: 82% (824/1000)\n",
            "INFO:__main__:Test Accuracy of  bird: 47% (473/1000)\n",
            "INFO:__main__:Test Accuracy of   cat: 63% (633/1000)\n",
            "INFO:__main__:Test Accuracy of  deer: 18% (185/1000)\n",
            "INFO:__main__:Test Accuracy of   dog: 13% (133/1000)\n",
            "INFO:__main__:Test Accuracy of  frog: 17% (170/1000)\n",
            "INFO:__main__:Test Accuracy of horse:  8% (85/1000)\n",
            "INFO:__main__:Test Accuracy of  ship: 40% (403/1000)\n",
            "INFO:__main__:Test Accuracy of truck: 31% (317/1000)\n",
            "INFO:__main__:Test Accuracy (Overall): 33% (3341/10000)\n"
          ]
        },
        {
          "output_type": "stream",
          "name": "stdout",
          "text": [
            "Current trial : 14\n"
          ]
        },
        {
          "output_type": "stream",
          "name": "stderr",
          "text": [
            "INFO:__main__:Train Accuracy of airplane:  7% (387/5000)\n",
            "INFO:__main__:Train Accuracy of automobile: 80% (4049/5000)\n",
            "INFO:__main__:Train Accuracy of  bird: 42% (2144/5000)\n",
            "INFO:__main__:Train Accuracy of   cat: 63% (3158/5000)\n",
            "INFO:__main__:Train Accuracy of  deer: 15% (775/5000)\n",
            "INFO:__main__:Train Accuracy of   dog: 14% (740/5000)\n",
            "INFO:__main__:Train Accuracy of  frog: 16% (809/5000)\n",
            "INFO:__main__:Train Accuracy of horse: 11% (550/5000)\n",
            "INFO:__main__:Train Accuracy of  ship: 30% (1505/5000)\n",
            "INFO:__main__:Train Accuracy of truck: 27% (1390/5000)\n",
            "INFO:__main__:Train Accuracy (Overall): 31% (15507/50000)\n",
            "INFO:__main__:Test Accuracy of airplane: 13% (131/1000)\n",
            "INFO:__main__:Test Accuracy of automobile: 84% (840/1000)\n",
            "INFO:__main__:Test Accuracy of  bird: 44% (448/1000)\n",
            "INFO:__main__:Test Accuracy of   cat: 63% (631/1000)\n",
            "INFO:__main__:Test Accuracy of  deer: 18% (189/1000)\n",
            "INFO:__main__:Test Accuracy of   dog: 17% (171/1000)\n",
            "INFO:__main__:Test Accuracy of  frog: 14% (142/1000)\n",
            "INFO:__main__:Test Accuracy of horse: 11% (118/1000)\n",
            "INFO:__main__:Test Accuracy of  ship: 38% (384/1000)\n",
            "INFO:__main__:Test Accuracy of truck: 30% (300/1000)\n",
            "INFO:__main__:Test Accuracy (Overall): 33% (3354/10000)\n"
          ]
        },
        {
          "output_type": "stream",
          "name": "stdout",
          "text": [
            "Current trial : 15\n"
          ]
        },
        {
          "output_type": "stream",
          "name": "stderr",
          "text": [
            "INFO:__main__:Train Accuracy of airplane:  7% (390/5000)\n",
            "INFO:__main__:Train Accuracy of automobile: 82% (4115/5000)\n",
            "INFO:__main__:Train Accuracy of  bird: 42% (2143/5000)\n",
            "INFO:__main__:Train Accuracy of   cat: 62% (3144/5000)\n",
            "INFO:__main__:Train Accuracy of  deer: 16% (813/5000)\n",
            "INFO:__main__:Train Accuracy of   dog: 15% (759/5000)\n",
            "INFO:__main__:Train Accuracy of  frog: 16% (800/5000)\n",
            "INFO:__main__:Train Accuracy of horse: 10% (523/5000)\n",
            "INFO:__main__:Train Accuracy of  ship: 28% (1439/5000)\n",
            "INFO:__main__:Train Accuracy of truck: 27% (1386/5000)\n",
            "INFO:__main__:Train Accuracy (Overall): 31% (15512/50000)\n",
            "INFO:__main__:Test Accuracy of airplane: 12% (127/1000)\n",
            "INFO:__main__:Test Accuracy of automobile: 82% (826/1000)\n",
            "INFO:__main__:Test Accuracy of  bird: 42% (426/1000)\n",
            "INFO:__main__:Test Accuracy of   cat: 61% (619/1000)\n",
            "INFO:__main__:Test Accuracy of  deer: 16% (161/1000)\n",
            "INFO:__main__:Test Accuracy of   dog: 14% (144/1000)\n",
            "INFO:__main__:Test Accuracy of  frog: 16% (168/1000)\n",
            "INFO:__main__:Test Accuracy of horse: 12% (120/1000)\n",
            "INFO:__main__:Test Accuracy of  ship: 37% (379/1000)\n",
            "INFO:__main__:Test Accuracy of truck: 27% (276/1000)\n",
            "INFO:__main__:Test Accuracy (Overall): 32% (3246/10000)\n"
          ]
        },
        {
          "output_type": "stream",
          "name": "stdout",
          "text": [
            "Current trial : 16\n"
          ]
        },
        {
          "output_type": "stream",
          "name": "stderr",
          "text": [
            "INFO:__main__:Train Accuracy of airplane:  8% (400/5000)\n",
            "INFO:__main__:Train Accuracy of automobile: 82% (4114/5000)\n",
            "INFO:__main__:Train Accuracy of  bird: 41% (2094/5000)\n",
            "INFO:__main__:Train Accuracy of   cat: 62% (3108/5000)\n",
            "INFO:__main__:Train Accuracy of  deer: 15% (786/5000)\n",
            "INFO:__main__:Train Accuracy of   dog: 15% (780/5000)\n",
            "INFO:__main__:Train Accuracy of  frog: 16% (818/5000)\n",
            "INFO:__main__:Train Accuracy of horse: 10% (528/5000)\n",
            "INFO:__main__:Train Accuracy of  ship: 29% (1494/5000)\n",
            "INFO:__main__:Train Accuracy of truck: 27% (1383/5000)\n",
            "INFO:__main__:Train Accuracy (Overall): 31% (15505/50000)\n",
            "INFO:__main__:Test Accuracy of airplane: 12% (120/1000)\n",
            "INFO:__main__:Test Accuracy of automobile: 85% (853/1000)\n",
            "INFO:__main__:Test Accuracy of  bird: 45% (458/1000)\n",
            "INFO:__main__:Test Accuracy of   cat: 58% (585/1000)\n",
            "INFO:__main__:Test Accuracy of  deer: 16% (166/1000)\n",
            "INFO:__main__:Test Accuracy of   dog: 16% (160/1000)\n",
            "INFO:__main__:Test Accuracy of  frog: 16% (160/1000)\n",
            "INFO:__main__:Test Accuracy of horse:  9% (98/1000)\n",
            "INFO:__main__:Test Accuracy of  ship: 36% (363/1000)\n",
            "INFO:__main__:Test Accuracy of truck: 28% (283/1000)\n",
            "INFO:__main__:Test Accuracy (Overall): 32% (3246/10000)\n"
          ]
        },
        {
          "output_type": "stream",
          "name": "stdout",
          "text": [
            "Current trial : 17\n"
          ]
        },
        {
          "output_type": "stream",
          "name": "stderr",
          "text": [
            "INFO:__main__:Train Accuracy of airplane:  8% (405/5000)\n",
            "INFO:__main__:Train Accuracy of automobile: 82% (4114/5000)\n",
            "INFO:__main__:Train Accuracy of  bird: 42% (2138/5000)\n",
            "INFO:__main__:Train Accuracy of   cat: 61% (3096/5000)\n",
            "INFO:__main__:Train Accuracy of  deer: 15% (754/5000)\n",
            "INFO:__main__:Train Accuracy of   dog: 14% (732/5000)\n",
            "INFO:__main__:Train Accuracy of  frog: 15% (799/5000)\n",
            "INFO:__main__:Train Accuracy of horse: 11% (584/5000)\n",
            "INFO:__main__:Train Accuracy of  ship: 29% (1467/5000)\n",
            "INFO:__main__:Train Accuracy of truck: 27% (1387/5000)\n",
            "INFO:__main__:Train Accuracy (Overall): 30% (15476/50000)\n",
            "INFO:__main__:Test Accuracy of airplane: 14% (141/1000)\n",
            "INFO:__main__:Test Accuracy of automobile: 83% (833/1000)\n",
            "INFO:__main__:Test Accuracy of  bird: 42% (427/1000)\n",
            "INFO:__main__:Test Accuracy of   cat: 60% (607/1000)\n",
            "INFO:__main__:Test Accuracy of  deer: 16% (169/1000)\n",
            "INFO:__main__:Test Accuracy of   dog: 15% (158/1000)\n",
            "INFO:__main__:Test Accuracy of  frog: 16% (164/1000)\n",
            "INFO:__main__:Test Accuracy of horse:  9% (97/1000)\n",
            "INFO:__main__:Test Accuracy of  ship: 36% (367/1000)\n",
            "INFO:__main__:Test Accuracy of truck: 30% (308/1000)\n",
            "INFO:__main__:Test Accuracy (Overall): 32% (3271/10000)\n"
          ]
        },
        {
          "output_type": "stream",
          "name": "stdout",
          "text": [
            "Current trial : 18\n"
          ]
        },
        {
          "output_type": "stream",
          "name": "stderr",
          "text": [
            "INFO:__main__:Train Accuracy of airplane:  7% (378/5000)\n",
            "INFO:__main__:Train Accuracy of automobile: 81% (4058/5000)\n",
            "INFO:__main__:Train Accuracy of  bird: 44% (2203/5000)\n",
            "INFO:__main__:Train Accuracy of   cat: 62% (3105/5000)\n",
            "INFO:__main__:Train Accuracy of  deer: 15% (788/5000)\n",
            "INFO:__main__:Train Accuracy of   dog: 14% (719/5000)\n",
            "INFO:__main__:Train Accuracy of  frog: 15% (775/5000)\n",
            "INFO:__main__:Train Accuracy of horse: 10% (526/5000)\n",
            "INFO:__main__:Train Accuracy of  ship: 29% (1457/5000)\n",
            "INFO:__main__:Train Accuracy of truck: 27% (1373/5000)\n",
            "INFO:__main__:Train Accuracy (Overall): 30% (15382/50000)\n",
            "INFO:__main__:Test Accuracy of airplane: 14% (140/1000)\n",
            "INFO:__main__:Test Accuracy of automobile: 82% (825/1000)\n",
            "INFO:__main__:Test Accuracy of  bird: 44% (446/1000)\n",
            "INFO:__main__:Test Accuracy of   cat: 60% (603/1000)\n",
            "INFO:__main__:Test Accuracy of  deer: 17% (172/1000)\n",
            "INFO:__main__:Test Accuracy of   dog: 16% (163/1000)\n",
            "INFO:__main__:Test Accuracy of  frog: 16% (161/1000)\n",
            "INFO:__main__:Test Accuracy of horse: 10% (105/1000)\n",
            "INFO:__main__:Test Accuracy of  ship: 39% (390/1000)\n",
            "INFO:__main__:Test Accuracy of truck: 29% (294/1000)\n",
            "INFO:__main__:Test Accuracy (Overall): 32% (3299/10000)\n"
          ]
        },
        {
          "output_type": "stream",
          "name": "stdout",
          "text": [
            "Current trial : 19\n"
          ]
        },
        {
          "output_type": "stream",
          "name": "stderr",
          "text": [
            "INFO:__main__:Train Accuracy of airplane:  7% (376/5000)\n",
            "INFO:__main__:Train Accuracy of automobile: 81% (4077/5000)\n",
            "INFO:__main__:Train Accuracy of  bird: 42% (2115/5000)\n",
            "INFO:__main__:Train Accuracy of   cat: 63% (3193/5000)\n",
            "INFO:__main__:Train Accuracy of  deer: 16% (804/5000)\n",
            "INFO:__main__:Train Accuracy of   dog: 14% (731/5000)\n",
            "INFO:__main__:Train Accuracy of  frog: 16% (815/5000)\n",
            "INFO:__main__:Train Accuracy of horse: 10% (507/5000)\n",
            "INFO:__main__:Train Accuracy of  ship: 29% (1499/5000)\n",
            "INFO:__main__:Train Accuracy of truck: 25% (1297/5000)\n",
            "INFO:__main__:Train Accuracy (Overall): 30% (15414/50000)\n",
            "INFO:__main__:Test Accuracy of airplane: 10% (107/1000)\n",
            "INFO:__main__:Test Accuracy of automobile: 83% (831/1000)\n",
            "INFO:__main__:Test Accuracy of  bird: 44% (448/1000)\n",
            "INFO:__main__:Test Accuracy of   cat: 60% (601/1000)\n",
            "INFO:__main__:Test Accuracy of  deer: 18% (184/1000)\n",
            "INFO:__main__:Test Accuracy of   dog: 14% (143/1000)\n",
            "INFO:__main__:Test Accuracy of  frog: 16% (169/1000)\n",
            "INFO:__main__:Test Accuracy of horse: 10% (102/1000)\n",
            "INFO:__main__:Test Accuracy of  ship: 38% (386/1000)\n",
            "INFO:__main__:Test Accuracy of truck: 27% (271/1000)\n",
            "INFO:__main__:Test Accuracy (Overall): 32% (3242/10000)\n"
          ]
        },
        {
          "output_type": "stream",
          "name": "stdout",
          "text": [
            "the following model ResNet18.first.0.1 is starting from epoch : 50\n",
            "Current Loss 0.052381037138635296 \n",
            "Loading into a new model with 0.91 dropout in first location\n",
            "Loading into a new model with 0.93 dropout in first location\n",
            "Loading into a new model with 0.95 dropout in first location\n",
            "Loading into a new model with 0.97 dropout in first location\n",
            "Loading into a new model with 0.99 dropout in first location\n",
            "Current trial : 0\n"
          ]
        },
        {
          "output_type": "stream",
          "name": "stderr",
          "text": [
            "INFO:__main__:Train Accuracy of airplane: 55% (2790/5000)\n",
            "INFO:__main__:Train Accuracy of automobile: 52% (2600/5000)\n",
            "INFO:__main__:Train Accuracy of  bird: 13% (655/5000)\n",
            "INFO:__main__:Train Accuracy of   cat: 73% (3696/5000)\n",
            "INFO:__main__:Train Accuracy of  deer: 27% (1357/5000)\n",
            "INFO:__main__:Train Accuracy of   dog: 21% (1073/5000)\n",
            "INFO:__main__:Train Accuracy of  frog: 20% (1041/5000)\n",
            "INFO:__main__:Train Accuracy of horse: 21% (1058/5000)\n",
            "INFO:__main__:Train Accuracy of  ship: 20% (1033/5000)\n",
            "INFO:__main__:Train Accuracy of truck: 52% (2640/5000)\n",
            "INFO:__main__:Train Accuracy (Overall): 35% (17943/50000)\n",
            "INFO:__main__:Test Accuracy of airplane: 60% (606/1000)\n",
            "INFO:__main__:Test Accuracy of automobile: 48% (489/1000)\n",
            "INFO:__main__:Test Accuracy of  bird: 15% (153/1000)\n",
            "INFO:__main__:Test Accuracy of   cat: 71% (713/1000)\n",
            "INFO:__main__:Test Accuracy of  deer: 36% (366/1000)\n",
            "INFO:__main__:Test Accuracy of   dog: 21% (217/1000)\n",
            "INFO:__main__:Test Accuracy of  frog: 22% (224/1000)\n",
            "INFO:__main__:Test Accuracy of horse: 19% (196/1000)\n",
            "INFO:__main__:Test Accuracy of  ship: 25% (252/1000)\n",
            "INFO:__main__:Test Accuracy of truck: 57% (573/1000)\n",
            "INFO:__main__:Test Accuracy (Overall): 37% (3789/10000)\n"
          ]
        },
        {
          "output_type": "stream",
          "name": "stdout",
          "text": [
            "Current trial : 1\n"
          ]
        },
        {
          "output_type": "stream",
          "name": "stderr",
          "text": [
            "INFO:__main__:Train Accuracy of airplane: 57% (2894/5000)\n",
            "INFO:__main__:Train Accuracy of automobile: 50% (2525/5000)\n",
            "INFO:__main__:Train Accuracy of  bird: 13% (659/5000)\n",
            "INFO:__main__:Train Accuracy of   cat: 73% (3681/5000)\n",
            "INFO:__main__:Train Accuracy of  deer: 28% (1421/5000)\n",
            "INFO:__main__:Train Accuracy of   dog: 21% (1088/5000)\n",
            "INFO:__main__:Train Accuracy of  frog: 20% (1021/5000)\n",
            "INFO:__main__:Train Accuracy of horse: 21% (1075/5000)\n",
            "INFO:__main__:Train Accuracy of  ship: 20% (1021/5000)\n",
            "INFO:__main__:Train Accuracy of truck: 52% (2605/5000)\n",
            "INFO:__main__:Train Accuracy (Overall): 35% (17990/50000)\n",
            "INFO:__main__:Test Accuracy of airplane: 62% (622/1000)\n",
            "INFO:__main__:Test Accuracy of automobile: 49% (494/1000)\n",
            "INFO:__main__:Test Accuracy of  bird: 16% (163/1000)\n",
            "INFO:__main__:Test Accuracy of   cat: 72% (723/1000)\n",
            "INFO:__main__:Test Accuracy of  deer: 35% (351/1000)\n",
            "INFO:__main__:Test Accuracy of   dog: 23% (235/1000)\n",
            "INFO:__main__:Test Accuracy of  frog: 21% (214/1000)\n",
            "INFO:__main__:Test Accuracy of horse: 22% (223/1000)\n",
            "INFO:__main__:Test Accuracy of  ship: 27% (274/1000)\n",
            "INFO:__main__:Test Accuracy of truck: 58% (582/1000)\n",
            "INFO:__main__:Test Accuracy (Overall): 38% (3881/10000)\n"
          ]
        },
        {
          "output_type": "stream",
          "name": "stdout",
          "text": [
            "Current trial : 2\n"
          ]
        },
        {
          "output_type": "stream",
          "name": "stderr",
          "text": [
            "INFO:__main__:Train Accuracy of airplane: 56% (2832/5000)\n",
            "INFO:__main__:Train Accuracy of automobile: 49% (2493/5000)\n",
            "INFO:__main__:Train Accuracy of  bird: 13% (664/5000)\n",
            "INFO:__main__:Train Accuracy of   cat: 73% (3695/5000)\n",
            "INFO:__main__:Train Accuracy of  deer: 28% (1428/5000)\n",
            "INFO:__main__:Train Accuracy of   dog: 20% (1025/5000)\n",
            "INFO:__main__:Train Accuracy of  frog: 20% (1031/5000)\n",
            "INFO:__main__:Train Accuracy of horse: 21% (1059/5000)\n",
            "INFO:__main__:Train Accuracy of  ship: 20% (1026/5000)\n",
            "INFO:__main__:Train Accuracy of truck: 52% (2604/5000)\n",
            "INFO:__main__:Train Accuracy (Overall): 35% (17857/50000)\n",
            "INFO:__main__:Test Accuracy of airplane: 62% (628/1000)\n",
            "INFO:__main__:Test Accuracy of automobile: 50% (503/1000)\n",
            "INFO:__main__:Test Accuracy of  bird: 14% (142/1000)\n",
            "INFO:__main__:Test Accuracy of   cat: 72% (721/1000)\n",
            "INFO:__main__:Test Accuracy of  deer: 38% (382/1000)\n",
            "INFO:__main__:Test Accuracy of   dog: 22% (222/1000)\n",
            "INFO:__main__:Test Accuracy of  frog: 20% (209/1000)\n",
            "INFO:__main__:Test Accuracy of horse: 23% (236/1000)\n",
            "INFO:__main__:Test Accuracy of  ship: 25% (256/1000)\n",
            "INFO:__main__:Test Accuracy of truck: 57% (574/1000)\n",
            "INFO:__main__:Test Accuracy (Overall): 38% (3873/10000)\n"
          ]
        },
        {
          "output_type": "stream",
          "name": "stdout",
          "text": [
            "Current trial : 3\n"
          ]
        },
        {
          "output_type": "stream",
          "name": "stderr",
          "text": [
            "INFO:__main__:Train Accuracy of airplane: 55% (2780/5000)\n",
            "INFO:__main__:Train Accuracy of automobile: 51% (2552/5000)\n",
            "INFO:__main__:Train Accuracy of  bird: 13% (657/5000)\n",
            "INFO:__main__:Train Accuracy of   cat: 73% (3694/5000)\n",
            "INFO:__main__:Train Accuracy of  deer: 28% (1409/5000)\n",
            "INFO:__main__:Train Accuracy of   dog: 20% (1032/5000)\n",
            "INFO:__main__:Train Accuracy of  frog: 19% (984/5000)\n",
            "INFO:__main__:Train Accuracy of horse: 22% (1101/5000)\n",
            "INFO:__main__:Train Accuracy of  ship: 20% (1035/5000)\n",
            "INFO:__main__:Train Accuracy of truck: 50% (2532/5000)\n",
            "INFO:__main__:Train Accuracy (Overall): 35% (17776/50000)\n",
            "INFO:__main__:Test Accuracy of airplane: 62% (627/1000)\n",
            "INFO:__main__:Test Accuracy of automobile: 52% (525/1000)\n",
            "INFO:__main__:Test Accuracy of  bird: 14% (146/1000)\n",
            "INFO:__main__:Test Accuracy of   cat: 70% (708/1000)\n",
            "INFO:__main__:Test Accuracy of  deer: 35% (356/1000)\n",
            "INFO:__main__:Test Accuracy of   dog: 21% (219/1000)\n",
            "INFO:__main__:Test Accuracy of  frog: 22% (226/1000)\n",
            "INFO:__main__:Test Accuracy of horse: 20% (203/1000)\n",
            "INFO:__main__:Test Accuracy of  ship: 25% (250/1000)\n",
            "INFO:__main__:Test Accuracy of truck: 58% (583/1000)\n",
            "INFO:__main__:Test Accuracy (Overall): 38% (3843/10000)\n"
          ]
        },
        {
          "output_type": "stream",
          "name": "stdout",
          "text": [
            "Current trial : 4\n"
          ]
        },
        {
          "output_type": "stream",
          "name": "stderr",
          "text": [
            "INFO:__main__:Train Accuracy of airplane: 56% (2830/5000)\n",
            "INFO:__main__:Train Accuracy of automobile: 50% (2511/5000)\n",
            "INFO:__main__:Train Accuracy of  bird: 12% (636/5000)\n",
            "INFO:__main__:Train Accuracy of   cat: 73% (3682/5000)\n",
            "INFO:__main__:Train Accuracy of  deer: 28% (1406/5000)\n",
            "INFO:__main__:Train Accuracy of   dog: 21% (1070/5000)\n",
            "INFO:__main__:Train Accuracy of  frog: 20% (1048/5000)\n",
            "INFO:__main__:Train Accuracy of horse: 21% (1065/5000)\n",
            "INFO:__main__:Train Accuracy of  ship: 19% (960/5000)\n",
            "INFO:__main__:Train Accuracy of truck: 51% (2553/5000)\n",
            "INFO:__main__:Train Accuracy (Overall): 35% (17761/50000)\n",
            "INFO:__main__:Test Accuracy of airplane: 60% (603/1000)\n",
            "INFO:__main__:Test Accuracy of automobile: 51% (512/1000)\n",
            "INFO:__main__:Test Accuracy of  bird: 13% (139/1000)\n",
            "INFO:__main__:Test Accuracy of   cat: 71% (713/1000)\n",
            "INFO:__main__:Test Accuracy of  deer: 35% (353/1000)\n",
            "INFO:__main__:Test Accuracy of   dog: 25% (252/1000)\n",
            "INFO:__main__:Test Accuracy of  frog: 21% (216/1000)\n",
            "INFO:__main__:Test Accuracy of horse: 20% (203/1000)\n",
            "INFO:__main__:Test Accuracy of  ship: 25% (257/1000)\n",
            "INFO:__main__:Test Accuracy of truck: 55% (554/1000)\n",
            "INFO:__main__:Test Accuracy (Overall): 38% (3802/10000)\n"
          ]
        },
        {
          "output_type": "stream",
          "name": "stdout",
          "text": [
            "Current trial : 5\n"
          ]
        },
        {
          "output_type": "stream",
          "name": "stderr",
          "text": [
            "INFO:__main__:Train Accuracy of airplane: 56% (2820/5000)\n",
            "INFO:__main__:Train Accuracy of automobile: 50% (2503/5000)\n",
            "INFO:__main__:Train Accuracy of  bird: 12% (631/5000)\n",
            "INFO:__main__:Train Accuracy of   cat: 73% (3676/5000)\n",
            "INFO:__main__:Train Accuracy of  deer: 28% (1404/5000)\n",
            "INFO:__main__:Train Accuracy of   dog: 21% (1063/5000)\n",
            "INFO:__main__:Train Accuracy of  frog: 20% (1022/5000)\n",
            "INFO:__main__:Train Accuracy of horse: 22% (1101/5000)\n",
            "INFO:__main__:Train Accuracy of  ship: 19% (996/5000)\n",
            "INFO:__main__:Train Accuracy of truck: 51% (2571/5000)\n",
            "INFO:__main__:Train Accuracy (Overall): 35% (17787/50000)\n",
            "INFO:__main__:Test Accuracy of airplane: 62% (629/1000)\n",
            "INFO:__main__:Test Accuracy of automobile: 49% (497/1000)\n",
            "INFO:__main__:Test Accuracy of  bird: 16% (166/1000)\n",
            "INFO:__main__:Test Accuracy of   cat: 70% (705/1000)\n",
            "INFO:__main__:Test Accuracy of  deer: 34% (346/1000)\n",
            "INFO:__main__:Test Accuracy of   dog: 22% (220/1000)\n",
            "INFO:__main__:Test Accuracy of  frog: 22% (224/1000)\n",
            "INFO:__main__:Test Accuracy of horse: 20% (208/1000)\n",
            "INFO:__main__:Test Accuracy of  ship: 24% (241/1000)\n",
            "INFO:__main__:Test Accuracy of truck: 55% (552/1000)\n",
            "INFO:__main__:Test Accuracy (Overall): 37% (3788/10000)\n"
          ]
        },
        {
          "output_type": "stream",
          "name": "stdout",
          "text": [
            "Current trial : 6\n"
          ]
        },
        {
          "output_type": "stream",
          "name": "stderr",
          "text": [
            "INFO:__main__:Train Accuracy of airplane: 56% (2838/5000)\n",
            "INFO:__main__:Train Accuracy of automobile: 51% (2550/5000)\n",
            "INFO:__main__:Train Accuracy of  bird: 13% (686/5000)\n",
            "INFO:__main__:Train Accuracy of   cat: 73% (3661/5000)\n",
            "INFO:__main__:Train Accuracy of  deer: 28% (1435/5000)\n",
            "INFO:__main__:Train Accuracy of   dog: 20% (1042/5000)\n",
            "INFO:__main__:Train Accuracy of  frog: 20% (1027/5000)\n",
            "INFO:__main__:Train Accuracy of horse: 20% (1020/5000)\n",
            "INFO:__main__:Train Accuracy of  ship: 20% (1021/5000)\n",
            "INFO:__main__:Train Accuracy of truck: 51% (2566/5000)\n",
            "INFO:__main__:Train Accuracy (Overall): 35% (17846/50000)\n",
            "INFO:__main__:Test Accuracy of airplane: 61% (612/1000)\n",
            "INFO:__main__:Test Accuracy of automobile: 49% (493/1000)\n",
            "INFO:__main__:Test Accuracy of  bird: 12% (122/1000)\n",
            "INFO:__main__:Test Accuracy of   cat: 71% (711/1000)\n",
            "INFO:__main__:Test Accuracy of  deer: 36% (363/1000)\n",
            "INFO:__main__:Test Accuracy of   dog: 20% (203/1000)\n",
            "INFO:__main__:Test Accuracy of  frog: 23% (234/1000)\n",
            "INFO:__main__:Test Accuracy of horse: 20% (208/1000)\n",
            "INFO:__main__:Test Accuracy of  ship: 23% (231/1000)\n",
            "INFO:__main__:Test Accuracy of truck: 56% (569/1000)\n",
            "INFO:__main__:Test Accuracy (Overall): 37% (3746/10000)\n"
          ]
        },
        {
          "output_type": "stream",
          "name": "stdout",
          "text": [
            "Current trial : 7\n"
          ]
        },
        {
          "output_type": "stream",
          "name": "stderr",
          "text": [
            "INFO:__main__:Train Accuracy of airplane: 56% (2809/5000)\n",
            "INFO:__main__:Train Accuracy of automobile: 51% (2564/5000)\n",
            "INFO:__main__:Train Accuracy of  bird: 12% (640/5000)\n",
            "INFO:__main__:Train Accuracy of   cat: 74% (3729/5000)\n",
            "INFO:__main__:Train Accuracy of  deer: 28% (1440/5000)\n",
            "INFO:__main__:Train Accuracy of   dog: 20% (1038/5000)\n",
            "INFO:__main__:Train Accuracy of  frog: 20% (1013/5000)\n",
            "INFO:__main__:Train Accuracy of horse: 21% (1094/5000)\n",
            "INFO:__main__:Train Accuracy of  ship: 20% (1032/5000)\n",
            "INFO:__main__:Train Accuracy of truck: 50% (2527/5000)\n",
            "INFO:__main__:Train Accuracy (Overall): 35% (17886/50000)\n",
            "INFO:__main__:Test Accuracy of airplane: 60% (602/1000)\n",
            "INFO:__main__:Test Accuracy of automobile: 51% (511/1000)\n",
            "INFO:__main__:Test Accuracy of  bird: 15% (153/1000)\n",
            "INFO:__main__:Test Accuracy of   cat: 73% (732/1000)\n",
            "INFO:__main__:Test Accuracy of  deer: 33% (333/1000)\n",
            "INFO:__main__:Test Accuracy of   dog: 21% (213/1000)\n",
            "INFO:__main__:Test Accuracy of  frog: 20% (209/1000)\n",
            "INFO:__main__:Test Accuracy of horse: 21% (213/1000)\n",
            "INFO:__main__:Test Accuracy of  ship: 28% (283/1000)\n",
            "INFO:__main__:Test Accuracy of truck: 57% (572/1000)\n",
            "INFO:__main__:Test Accuracy (Overall): 38% (3821/10000)\n"
          ]
        },
        {
          "output_type": "stream",
          "name": "stdout",
          "text": [
            "Current trial : 8\n"
          ]
        },
        {
          "output_type": "stream",
          "name": "stderr",
          "text": [
            "INFO:__main__:Train Accuracy of airplane: 56% (2846/5000)\n",
            "INFO:__main__:Train Accuracy of automobile: 51% (2551/5000)\n",
            "INFO:__main__:Train Accuracy of  bird: 12% (635/5000)\n",
            "INFO:__main__:Train Accuracy of   cat: 73% (3681/5000)\n",
            "INFO:__main__:Train Accuracy of  deer: 28% (1437/5000)\n",
            "INFO:__main__:Train Accuracy of   dog: 20% (1019/5000)\n",
            "INFO:__main__:Train Accuracy of  frog: 20% (1021/5000)\n",
            "INFO:__main__:Train Accuracy of horse: 21% (1081/5000)\n",
            "INFO:__main__:Train Accuracy of  ship: 20% (1023/5000)\n",
            "INFO:__main__:Train Accuracy of truck: 50% (2534/5000)\n",
            "INFO:__main__:Train Accuracy (Overall): 35% (17828/50000)\n",
            "INFO:__main__:Test Accuracy of airplane: 63% (635/1000)\n",
            "INFO:__main__:Test Accuracy of automobile: 51% (514/1000)\n",
            "INFO:__main__:Test Accuracy of  bird: 14% (145/1000)\n",
            "INFO:__main__:Test Accuracy of   cat: 70% (701/1000)\n",
            "INFO:__main__:Test Accuracy of  deer: 35% (358/1000)\n",
            "INFO:__main__:Test Accuracy of   dog: 19% (197/1000)\n",
            "INFO:__main__:Test Accuracy of  frog: 21% (213/1000)\n",
            "INFO:__main__:Test Accuracy of horse: 21% (218/1000)\n",
            "INFO:__main__:Test Accuracy of  ship: 25% (252/1000)\n",
            "INFO:__main__:Test Accuracy of truck: 56% (565/1000)\n",
            "INFO:__main__:Test Accuracy (Overall): 37% (3798/10000)\n"
          ]
        },
        {
          "output_type": "stream",
          "name": "stdout",
          "text": [
            "Current trial : 9\n"
          ]
        },
        {
          "output_type": "stream",
          "name": "stderr",
          "text": [
            "INFO:__main__:Train Accuracy of airplane: 56% (2828/5000)\n",
            "INFO:__main__:Train Accuracy of automobile: 50% (2545/5000)\n",
            "INFO:__main__:Train Accuracy of  bird: 13% (685/5000)\n",
            "INFO:__main__:Train Accuracy of   cat: 73% (3675/5000)\n",
            "INFO:__main__:Train Accuracy of  deer: 27% (1397/5000)\n",
            "INFO:__main__:Train Accuracy of   dog: 20% (1032/5000)\n",
            "INFO:__main__:Train Accuracy of  frog: 19% (992/5000)\n",
            "INFO:__main__:Train Accuracy of horse: 22% (1108/5000)\n",
            "INFO:__main__:Train Accuracy of  ship: 19% (996/5000)\n",
            "INFO:__main__:Train Accuracy of truck: 51% (2577/5000)\n",
            "INFO:__main__:Train Accuracy (Overall): 35% (17835/50000)\n",
            "INFO:__main__:Test Accuracy of airplane: 60% (603/1000)\n",
            "INFO:__main__:Test Accuracy of automobile: 52% (523/1000)\n",
            "INFO:__main__:Test Accuracy of  bird: 16% (164/1000)\n",
            "INFO:__main__:Test Accuracy of   cat: 70% (704/1000)\n",
            "INFO:__main__:Test Accuracy of  deer: 33% (331/1000)\n",
            "INFO:__main__:Test Accuracy of   dog: 19% (199/1000)\n",
            "INFO:__main__:Test Accuracy of  frog: 19% (199/1000)\n",
            "INFO:__main__:Test Accuracy of horse: 21% (215/1000)\n",
            "INFO:__main__:Test Accuracy of  ship: 26% (266/1000)\n",
            "INFO:__main__:Test Accuracy of truck: 55% (550/1000)\n",
            "INFO:__main__:Test Accuracy (Overall): 37% (3754/10000)\n"
          ]
        },
        {
          "output_type": "stream",
          "name": "stdout",
          "text": [
            "Current trial : 10\n"
          ]
        },
        {
          "output_type": "stream",
          "name": "stderr",
          "text": [
            "INFO:__main__:Train Accuracy of airplane: 56% (2835/5000)\n",
            "INFO:__main__:Train Accuracy of automobile: 50% (2531/5000)\n",
            "INFO:__main__:Train Accuracy of  bird: 13% (655/5000)\n",
            "INFO:__main__:Train Accuracy of   cat: 74% (3715/5000)\n",
            "INFO:__main__:Train Accuracy of  deer: 29% (1457/5000)\n",
            "INFO:__main__:Train Accuracy of   dog: 21% (1082/5000)\n",
            "INFO:__main__:Train Accuracy of  frog: 19% (987/5000)\n",
            "INFO:__main__:Train Accuracy of horse: 21% (1069/5000)\n",
            "INFO:__main__:Train Accuracy of  ship: 20% (1029/5000)\n",
            "INFO:__main__:Train Accuracy of truck: 51% (2579/5000)\n",
            "INFO:__main__:Train Accuracy (Overall): 35% (17939/50000)\n",
            "INFO:__main__:Test Accuracy of airplane: 63% (631/1000)\n",
            "INFO:__main__:Test Accuracy of automobile: 52% (523/1000)\n",
            "INFO:__main__:Test Accuracy of  bird: 15% (150/1000)\n",
            "INFO:__main__:Test Accuracy of   cat: 70% (706/1000)\n",
            "INFO:__main__:Test Accuracy of  deer: 36% (362/1000)\n",
            "INFO:__main__:Test Accuracy of   dog: 21% (214/1000)\n",
            "INFO:__main__:Test Accuracy of  frog: 21% (219/1000)\n",
            "INFO:__main__:Test Accuracy of horse: 24% (247/1000)\n",
            "INFO:__main__:Test Accuracy of  ship: 27% (270/1000)\n",
            "INFO:__main__:Test Accuracy of truck: 60% (600/1000)\n",
            "INFO:__main__:Test Accuracy (Overall): 39% (3922/10000)\n"
          ]
        },
        {
          "output_type": "stream",
          "name": "stdout",
          "text": [
            "Current trial : 11\n"
          ]
        },
        {
          "output_type": "stream",
          "name": "stderr",
          "text": [
            "INFO:__main__:Train Accuracy of airplane: 56% (2826/5000)\n",
            "INFO:__main__:Train Accuracy of automobile: 49% (2461/5000)\n",
            "INFO:__main__:Train Accuracy of  bird: 13% (650/5000)\n",
            "INFO:__main__:Train Accuracy of   cat: 73% (3685/5000)\n",
            "INFO:__main__:Train Accuracy of  deer: 29% (1472/5000)\n",
            "INFO:__main__:Train Accuracy of   dog: 20% (1016/5000)\n",
            "INFO:__main__:Train Accuracy of  frog: 20% (1031/5000)\n",
            "INFO:__main__:Train Accuracy of horse: 22% (1127/5000)\n",
            "INFO:__main__:Train Accuracy of  ship: 21% (1066/5000)\n",
            "INFO:__main__:Train Accuracy of truck: 51% (2576/5000)\n",
            "INFO:__main__:Train Accuracy (Overall): 35% (17910/50000)\n",
            "INFO:__main__:Test Accuracy of airplane: 60% (607/1000)\n",
            "INFO:__main__:Test Accuracy of automobile: 48% (484/1000)\n",
            "INFO:__main__:Test Accuracy of  bird: 16% (168/1000)\n",
            "INFO:__main__:Test Accuracy of   cat: 72% (724/1000)\n",
            "INFO:__main__:Test Accuracy of  deer: 35% (352/1000)\n",
            "INFO:__main__:Test Accuracy of   dog: 21% (218/1000)\n",
            "INFO:__main__:Test Accuracy of  frog: 20% (209/1000)\n",
            "INFO:__main__:Test Accuracy of horse: 19% (199/1000)\n",
            "INFO:__main__:Test Accuracy of  ship: 24% (240/1000)\n",
            "INFO:__main__:Test Accuracy of truck: 57% (572/1000)\n",
            "INFO:__main__:Test Accuracy (Overall): 37% (3773/10000)\n"
          ]
        },
        {
          "output_type": "stream",
          "name": "stdout",
          "text": [
            "Current trial : 12\n"
          ]
        },
        {
          "output_type": "stream",
          "name": "stderr",
          "text": [
            "INFO:__main__:Train Accuracy of airplane: 56% (2812/5000)\n",
            "INFO:__main__:Train Accuracy of automobile: 50% (2543/5000)\n",
            "INFO:__main__:Train Accuracy of  bird: 12% (626/5000)\n",
            "INFO:__main__:Train Accuracy of   cat: 74% (3707/5000)\n",
            "INFO:__main__:Train Accuracy of  deer: 28% (1411/5000)\n",
            "INFO:__main__:Train Accuracy of   dog: 20% (1025/5000)\n",
            "INFO:__main__:Train Accuracy of  frog: 20% (1048/5000)\n",
            "INFO:__main__:Train Accuracy of horse: 22% (1123/5000)\n",
            "INFO:__main__:Train Accuracy of  ship: 19% (995/5000)\n",
            "INFO:__main__:Train Accuracy of truck: 52% (2621/5000)\n",
            "INFO:__main__:Train Accuracy (Overall): 35% (17911/50000)\n",
            "INFO:__main__:Test Accuracy of airplane: 61% (613/1000)\n",
            "INFO:__main__:Test Accuracy of automobile: 53% (530/1000)\n",
            "INFO:__main__:Test Accuracy of  bird: 14% (149/1000)\n",
            "INFO:__main__:Test Accuracy of   cat: 71% (715/1000)\n",
            "INFO:__main__:Test Accuracy of  deer: 34% (345/1000)\n",
            "INFO:__main__:Test Accuracy of   dog: 21% (216/1000)\n",
            "INFO:__main__:Test Accuracy of  frog: 23% (231/1000)\n",
            "INFO:__main__:Test Accuracy of horse: 21% (215/1000)\n",
            "INFO:__main__:Test Accuracy of  ship: 23% (239/1000)\n",
            "INFO:__main__:Test Accuracy of truck: 55% (555/1000)\n",
            "INFO:__main__:Test Accuracy (Overall): 38% (3808/10000)\n"
          ]
        },
        {
          "output_type": "stream",
          "name": "stdout",
          "text": [
            "Current trial : 13\n"
          ]
        },
        {
          "output_type": "stream",
          "name": "stderr",
          "text": [
            "INFO:__main__:Train Accuracy of airplane: 55% (2786/5000)\n",
            "INFO:__main__:Train Accuracy of automobile: 49% (2498/5000)\n",
            "INFO:__main__:Train Accuracy of  bird: 13% (653/5000)\n",
            "INFO:__main__:Train Accuracy of   cat: 75% (3760/5000)\n",
            "INFO:__main__:Train Accuracy of  deer: 28% (1410/5000)\n",
            "INFO:__main__:Train Accuracy of   dog: 20% (1004/5000)\n",
            "INFO:__main__:Train Accuracy of  frog: 20% (1047/5000)\n",
            "INFO:__main__:Train Accuracy of horse: 21% (1088/5000)\n",
            "INFO:__main__:Train Accuracy of  ship: 20% (1004/5000)\n",
            "INFO:__main__:Train Accuracy of truck: 51% (2554/5000)\n",
            "INFO:__main__:Train Accuracy (Overall): 35% (17804/50000)\n",
            "INFO:__main__:Test Accuracy of airplane: 61% (613/1000)\n",
            "INFO:__main__:Test Accuracy of automobile: 50% (504/1000)\n",
            "INFO:__main__:Test Accuracy of  bird: 15% (155/1000)\n",
            "INFO:__main__:Test Accuracy of   cat: 69% (692/1000)\n",
            "INFO:__main__:Test Accuracy of  deer: 34% (344/1000)\n",
            "INFO:__main__:Test Accuracy of   dog: 24% (247/1000)\n",
            "INFO:__main__:Test Accuracy of  frog: 21% (217/1000)\n",
            "INFO:__main__:Test Accuracy of horse: 19% (196/1000)\n",
            "INFO:__main__:Test Accuracy of  ship: 25% (254/1000)\n",
            "INFO:__main__:Test Accuracy of truck: 55% (552/1000)\n",
            "INFO:__main__:Test Accuracy (Overall): 37% (3774/10000)\n"
          ]
        },
        {
          "output_type": "stream",
          "name": "stdout",
          "text": [
            "Current trial : 14\n"
          ]
        },
        {
          "output_type": "stream",
          "name": "stderr",
          "text": [
            "INFO:__main__:Train Accuracy of airplane: 56% (2811/5000)\n",
            "INFO:__main__:Train Accuracy of automobile: 51% (2581/5000)\n",
            "INFO:__main__:Train Accuracy of  bird: 13% (676/5000)\n",
            "INFO:__main__:Train Accuracy of   cat: 73% (3695/5000)\n",
            "INFO:__main__:Train Accuracy of  deer: 29% (1467/5000)\n",
            "INFO:__main__:Train Accuracy of   dog: 19% (982/5000)\n",
            "INFO:__main__:Train Accuracy of  frog: 20% (1032/5000)\n",
            "INFO:__main__:Train Accuracy of horse: 22% (1129/5000)\n",
            "INFO:__main__:Train Accuracy of  ship: 20% (1007/5000)\n",
            "INFO:__main__:Train Accuracy of truck: 51% (2575/5000)\n",
            "INFO:__main__:Train Accuracy (Overall): 35% (17955/50000)\n",
            "INFO:__main__:Test Accuracy of airplane: 62% (622/1000)\n",
            "INFO:__main__:Test Accuracy of automobile: 50% (505/1000)\n",
            "INFO:__main__:Test Accuracy of  bird: 14% (145/1000)\n",
            "INFO:__main__:Test Accuracy of   cat: 70% (709/1000)\n",
            "INFO:__main__:Test Accuracy of  deer: 36% (369/1000)\n",
            "INFO:__main__:Test Accuracy of   dog: 21% (218/1000)\n",
            "INFO:__main__:Test Accuracy of  frog: 21% (215/1000)\n",
            "INFO:__main__:Test Accuracy of horse: 20% (207/1000)\n",
            "INFO:__main__:Test Accuracy of  ship: 25% (259/1000)\n",
            "INFO:__main__:Test Accuracy of truck: 59% (590/1000)\n",
            "INFO:__main__:Test Accuracy (Overall): 38% (3839/10000)\n"
          ]
        },
        {
          "output_type": "stream",
          "name": "stdout",
          "text": [
            "Current trial : 15\n"
          ]
        },
        {
          "output_type": "stream",
          "name": "stderr",
          "text": [
            "INFO:__main__:Train Accuracy of airplane: 57% (2889/5000)\n",
            "INFO:__main__:Train Accuracy of automobile: 51% (2582/5000)\n",
            "INFO:__main__:Train Accuracy of  bird: 13% (690/5000)\n",
            "INFO:__main__:Train Accuracy of   cat: 74% (3731/5000)\n",
            "INFO:__main__:Train Accuracy of  deer: 28% (1427/5000)\n",
            "INFO:__main__:Train Accuracy of   dog: 21% (1072/5000)\n",
            "INFO:__main__:Train Accuracy of  frog: 21% (1061/5000)\n",
            "INFO:__main__:Train Accuracy of horse: 22% (1108/5000)\n",
            "INFO:__main__:Train Accuracy of  ship: 21% (1060/5000)\n",
            "INFO:__main__:Train Accuracy of truck: 50% (2540/5000)\n",
            "INFO:__main__:Train Accuracy (Overall): 36% (18160/50000)\n",
            "INFO:__main__:Test Accuracy of airplane: 60% (604/1000)\n",
            "INFO:__main__:Test Accuracy of automobile: 52% (526/1000)\n",
            "INFO:__main__:Test Accuracy of  bird: 14% (147/1000)\n",
            "INFO:__main__:Test Accuracy of   cat: 70% (707/1000)\n",
            "INFO:__main__:Test Accuracy of  deer: 35% (356/1000)\n",
            "INFO:__main__:Test Accuracy of   dog: 19% (196/1000)\n",
            "INFO:__main__:Test Accuracy of  frog: 21% (214/1000)\n",
            "INFO:__main__:Test Accuracy of horse: 21% (218/1000)\n",
            "INFO:__main__:Test Accuracy of  ship: 27% (272/1000)\n",
            "INFO:__main__:Test Accuracy of truck: 56% (561/1000)\n",
            "INFO:__main__:Test Accuracy (Overall): 38% (3801/10000)\n"
          ]
        },
        {
          "output_type": "stream",
          "name": "stdout",
          "text": [
            "Current trial : 16\n"
          ]
        },
        {
          "output_type": "stream",
          "name": "stderr",
          "text": [
            "INFO:__main__:Train Accuracy of airplane: 56% (2841/5000)\n",
            "INFO:__main__:Train Accuracy of automobile: 50% (2509/5000)\n",
            "INFO:__main__:Train Accuracy of  bird: 13% (675/5000)\n",
            "INFO:__main__:Train Accuracy of   cat: 74% (3708/5000)\n",
            "INFO:__main__:Train Accuracy of  deer: 29% (1453/5000)\n",
            "INFO:__main__:Train Accuracy of   dog: 22% (1104/5000)\n",
            "INFO:__main__:Train Accuracy of  frog: 20% (1001/5000)\n",
            "INFO:__main__:Train Accuracy of horse: 22% (1105/5000)\n",
            "INFO:__main__:Train Accuracy of  ship: 19% (987/5000)\n",
            "INFO:__main__:Train Accuracy of truck: 50% (2543/5000)\n",
            "INFO:__main__:Train Accuracy (Overall): 35% (17926/50000)\n",
            "INFO:__main__:Test Accuracy of airplane: 62% (627/1000)\n",
            "INFO:__main__:Test Accuracy of automobile: 51% (514/1000)\n",
            "INFO:__main__:Test Accuracy of  bird: 16% (165/1000)\n",
            "INFO:__main__:Test Accuracy of   cat: 68% (688/1000)\n",
            "INFO:__main__:Test Accuracy of  deer: 35% (353/1000)\n",
            "INFO:__main__:Test Accuracy of   dog: 22% (225/1000)\n",
            "INFO:__main__:Test Accuracy of  frog: 19% (198/1000)\n",
            "INFO:__main__:Test Accuracy of horse: 21% (211/1000)\n",
            "INFO:__main__:Test Accuracy of  ship: 24% (244/1000)\n",
            "INFO:__main__:Test Accuracy of truck: 58% (581/1000)\n",
            "INFO:__main__:Test Accuracy (Overall): 38% (3806/10000)\n"
          ]
        },
        {
          "output_type": "stream",
          "name": "stdout",
          "text": [
            "Current trial : 17\n"
          ]
        },
        {
          "output_type": "stream",
          "name": "stderr",
          "text": [
            "INFO:__main__:Train Accuracy of airplane: 56% (2831/5000)\n",
            "INFO:__main__:Train Accuracy of automobile: 51% (2577/5000)\n",
            "INFO:__main__:Train Accuracy of  bird: 13% (690/5000)\n",
            "INFO:__main__:Train Accuracy of   cat: 74% (3703/5000)\n",
            "INFO:__main__:Train Accuracy of  deer: 28% (1443/5000)\n",
            "INFO:__main__:Train Accuracy of   dog: 20% (1041/5000)\n",
            "INFO:__main__:Train Accuracy of  frog: 19% (988/5000)\n",
            "INFO:__main__:Train Accuracy of horse: 22% (1113/5000)\n",
            "INFO:__main__:Train Accuracy of  ship: 21% (1052/5000)\n",
            "INFO:__main__:Train Accuracy of truck: 50% (2533/5000)\n",
            "INFO:__main__:Train Accuracy (Overall): 35% (17971/50000)\n",
            "INFO:__main__:Test Accuracy of airplane: 63% (632/1000)\n",
            "INFO:__main__:Test Accuracy of automobile: 50% (505/1000)\n",
            "INFO:__main__:Test Accuracy of  bird: 14% (146/1000)\n",
            "INFO:__main__:Test Accuracy of   cat: 71% (712/1000)\n",
            "INFO:__main__:Test Accuracy of  deer: 36% (368/1000)\n",
            "INFO:__main__:Test Accuracy of   dog: 21% (219/1000)\n",
            "INFO:__main__:Test Accuracy of  frog: 19% (194/1000)\n",
            "INFO:__main__:Test Accuracy of horse: 21% (213/1000)\n",
            "INFO:__main__:Test Accuracy of  ship: 23% (234/1000)\n",
            "INFO:__main__:Test Accuracy of truck: 56% (560/1000)\n",
            "INFO:__main__:Test Accuracy (Overall): 37% (3783/10000)\n"
          ]
        },
        {
          "output_type": "stream",
          "name": "stdout",
          "text": [
            "Current trial : 18\n"
          ]
        },
        {
          "output_type": "stream",
          "name": "stderr",
          "text": [
            "INFO:__main__:Train Accuracy of airplane: 55% (2773/5000)\n",
            "INFO:__main__:Train Accuracy of automobile: 52% (2618/5000)\n",
            "INFO:__main__:Train Accuracy of  bird: 12% (634/5000)\n",
            "INFO:__main__:Train Accuracy of   cat: 75% (3753/5000)\n",
            "INFO:__main__:Train Accuracy of  deer: 28% (1425/5000)\n",
            "INFO:__main__:Train Accuracy of   dog: 20% (1037/5000)\n",
            "INFO:__main__:Train Accuracy of  frog: 18% (949/5000)\n",
            "INFO:__main__:Train Accuracy of horse: 22% (1114/5000)\n",
            "INFO:__main__:Train Accuracy of  ship: 20% (1016/5000)\n",
            "INFO:__main__:Train Accuracy of truck: 51% (2590/5000)\n",
            "INFO:__main__:Train Accuracy (Overall): 35% (17909/50000)\n",
            "INFO:__main__:Test Accuracy of airplane: 61% (611/1000)\n",
            "INFO:__main__:Test Accuracy of automobile: 48% (488/1000)\n",
            "INFO:__main__:Test Accuracy of  bird: 17% (170/1000)\n",
            "INFO:__main__:Test Accuracy of   cat: 72% (721/1000)\n",
            "INFO:__main__:Test Accuracy of  deer: 36% (363/1000)\n",
            "INFO:__main__:Test Accuracy of   dog: 19% (192/1000)\n",
            "INFO:__main__:Test Accuracy of  frog: 21% (213/1000)\n",
            "INFO:__main__:Test Accuracy of horse: 20% (202/1000)\n",
            "INFO:__main__:Test Accuracy of  ship: 26% (264/1000)\n",
            "INFO:__main__:Test Accuracy of truck: 57% (573/1000)\n",
            "INFO:__main__:Test Accuracy (Overall): 37% (3797/10000)\n"
          ]
        },
        {
          "output_type": "stream",
          "name": "stdout",
          "text": [
            "Current trial : 19\n"
          ]
        },
        {
          "output_type": "stream",
          "name": "stderr",
          "text": [
            "INFO:__main__:Train Accuracy of airplane: 57% (2875/5000)\n",
            "INFO:__main__:Train Accuracy of automobile: 51% (2566/5000)\n",
            "INFO:__main__:Train Accuracy of  bird: 13% (683/5000)\n",
            "INFO:__main__:Train Accuracy of   cat: 74% (3728/5000)\n",
            "INFO:__main__:Train Accuracy of  deer: 28% (1418/5000)\n",
            "INFO:__main__:Train Accuracy of   dog: 20% (1029/5000)\n",
            "INFO:__main__:Train Accuracy of  frog: 19% (972/5000)\n",
            "INFO:__main__:Train Accuracy of horse: 22% (1121/5000)\n",
            "INFO:__main__:Train Accuracy of  ship: 21% (1074/5000)\n",
            "INFO:__main__:Train Accuracy of truck: 51% (2564/5000)\n",
            "INFO:__main__:Train Accuracy (Overall): 36% (18030/50000)\n",
            "INFO:__main__:Test Accuracy of airplane: 62% (623/1000)\n",
            "INFO:__main__:Test Accuracy of automobile: 49% (496/1000)\n",
            "INFO:__main__:Test Accuracy of  bird: 16% (162/1000)\n",
            "INFO:__main__:Test Accuracy of   cat: 72% (721/1000)\n",
            "INFO:__main__:Test Accuracy of  deer: 37% (373/1000)\n",
            "INFO:__main__:Test Accuracy of   dog: 21% (212/1000)\n",
            "INFO:__main__:Test Accuracy of  frog: 22% (227/1000)\n",
            "INFO:__main__:Test Accuracy of horse: 22% (226/1000)\n",
            "INFO:__main__:Test Accuracy of  ship: 26% (261/1000)\n",
            "INFO:__main__:Test Accuracy of truck: 60% (600/1000)\n",
            "INFO:__main__:Test Accuracy (Overall): 39% (3901/10000)\n"
          ]
        },
        {
          "output_type": "stream",
          "name": "stdout",
          "text": [
            "the following model ResNet18.first.0.2 is starting from epoch : 50\n",
            "Current Loss 0.059392228309548226 \n",
            "Loading into a new model with 0.91 dropout in first location\n",
            "Loading into a new model with 0.93 dropout in first location\n",
            "Loading into a new model with 0.95 dropout in first location\n",
            "Loading into a new model with 0.97 dropout in first location\n",
            "Loading into a new model with 0.99 dropout in first location\n",
            "Current trial : 0\n"
          ]
        },
        {
          "output_type": "stream",
          "name": "stderr",
          "text": [
            "INFO:__main__:Train Accuracy of airplane: 38% (1919/5000)\n",
            "INFO:__main__:Train Accuracy of automobile: 90% (4505/5000)\n",
            "INFO:__main__:Train Accuracy of  bird:  5% (252/5000)\n",
            "INFO:__main__:Train Accuracy of   cat: 62% (3112/5000)\n",
            "INFO:__main__:Train Accuracy of  deer:  8% (413/5000)\n",
            "INFO:__main__:Train Accuracy of   dog: 16% (835/5000)\n",
            "INFO:__main__:Train Accuracy of  frog:  4% (230/5000)\n",
            "INFO:__main__:Train Accuracy of horse: 11% (584/5000)\n",
            "INFO:__main__:Train Accuracy of  ship:  6% (326/5000)\n",
            "INFO:__main__:Train Accuracy of truck: 30% (1530/5000)\n",
            "INFO:__main__:Train Accuracy (Overall): 27% (13706/50000)\n",
            "INFO:__main__:Test Accuracy of airplane: 46% (461/1000)\n",
            "INFO:__main__:Test Accuracy of automobile: 89% (896/1000)\n",
            "INFO:__main__:Test Accuracy of  bird:  8% (87/1000)\n",
            "INFO:__main__:Test Accuracy of   cat: 60% (607/1000)\n",
            "INFO:__main__:Test Accuracy of  deer:  8% (87/1000)\n",
            "INFO:__main__:Test Accuracy of   dog: 21% (211/1000)\n",
            "INFO:__main__:Test Accuracy of  frog:  6% (60/1000)\n",
            "INFO:__main__:Test Accuracy of horse: 10% (105/1000)\n",
            "INFO:__main__:Test Accuracy of  ship:  7% (78/1000)\n",
            "INFO:__main__:Test Accuracy of truck: 28% (283/1000)\n",
            "INFO:__main__:Test Accuracy (Overall): 28% (2875/10000)\n"
          ]
        },
        {
          "output_type": "stream",
          "name": "stdout",
          "text": [
            "Current trial : 1\n"
          ]
        },
        {
          "output_type": "stream",
          "name": "stderr",
          "text": [
            "INFO:__main__:Train Accuracy of airplane: 39% (1988/5000)\n",
            "INFO:__main__:Train Accuracy of automobile: 89% (4466/5000)\n",
            "INFO:__main__:Train Accuracy of  bird:  5% (254/5000)\n",
            "INFO:__main__:Train Accuracy of   cat: 61% (3061/5000)\n",
            "INFO:__main__:Train Accuracy of  deer:  8% (403/5000)\n",
            "INFO:__main__:Train Accuracy of   dog: 17% (885/5000)\n",
            "INFO:__main__:Train Accuracy of  frog:  5% (265/5000)\n",
            "INFO:__main__:Train Accuracy of horse: 11% (569/5000)\n",
            "INFO:__main__:Train Accuracy of  ship:  7% (357/5000)\n",
            "INFO:__main__:Train Accuracy of truck: 30% (1529/5000)\n",
            "INFO:__main__:Train Accuracy (Overall): 27% (13777/50000)\n",
            "INFO:__main__:Test Accuracy of airplane: 49% (490/1000)\n",
            "INFO:__main__:Test Accuracy of automobile: 87% (878/1000)\n",
            "INFO:__main__:Test Accuracy of  bird:  4% (48/1000)\n",
            "INFO:__main__:Test Accuracy of   cat: 63% (632/1000)\n",
            "INFO:__main__:Test Accuracy of  deer: 10% (109/1000)\n",
            "INFO:__main__:Test Accuracy of   dog: 19% (197/1000)\n",
            "INFO:__main__:Test Accuracy of  frog:  5% (58/1000)\n",
            "INFO:__main__:Test Accuracy of horse: 13% (130/1000)\n",
            "INFO:__main__:Test Accuracy of  ship:  8% (87/1000)\n",
            "INFO:__main__:Test Accuracy of truck: 32% (325/1000)\n",
            "INFO:__main__:Test Accuracy (Overall): 29% (2954/10000)\n"
          ]
        },
        {
          "output_type": "stream",
          "name": "stdout",
          "text": [
            "Current trial : 2\n"
          ]
        },
        {
          "output_type": "stream",
          "name": "stderr",
          "text": [
            "INFO:__main__:Train Accuracy of airplane: 38% (1923/5000)\n",
            "INFO:__main__:Train Accuracy of automobile: 89% (4479/5000)\n",
            "INFO:__main__:Train Accuracy of  bird:  5% (252/5000)\n",
            "INFO:__main__:Train Accuracy of   cat: 62% (3127/5000)\n",
            "INFO:__main__:Train Accuracy of  deer:  8% (439/5000)\n",
            "INFO:__main__:Train Accuracy of   dog: 17% (888/5000)\n",
            "INFO:__main__:Train Accuracy of  frog:  5% (259/5000)\n",
            "INFO:__main__:Train Accuracy of horse: 11% (556/5000)\n",
            "INFO:__main__:Train Accuracy of  ship:  6% (334/5000)\n",
            "INFO:__main__:Train Accuracy of truck: 30% (1508/5000)\n",
            "INFO:__main__:Train Accuracy (Overall): 27% (13765/50000)\n",
            "INFO:__main__:Test Accuracy of airplane: 48% (481/1000)\n",
            "INFO:__main__:Test Accuracy of automobile: 88% (882/1000)\n",
            "INFO:__main__:Test Accuracy of  bird:  7% (70/1000)\n",
            "INFO:__main__:Test Accuracy of   cat: 61% (617/1000)\n",
            "INFO:__main__:Test Accuracy of  deer: 11% (115/1000)\n",
            "INFO:__main__:Test Accuracy of   dog: 17% (179/1000)\n",
            "INFO:__main__:Test Accuracy of  frog:  5% (51/1000)\n",
            "INFO:__main__:Test Accuracy of horse: 12% (122/1000)\n",
            "INFO:__main__:Test Accuracy of  ship: 10% (101/1000)\n",
            "INFO:__main__:Test Accuracy of truck: 29% (295/1000)\n",
            "INFO:__main__:Test Accuracy (Overall): 29% (2913/10000)\n"
          ]
        },
        {
          "output_type": "stream",
          "name": "stdout",
          "text": [
            "Current trial : 3\n"
          ]
        },
        {
          "output_type": "stream",
          "name": "stderr",
          "text": [
            "INFO:__main__:Train Accuracy of airplane: 39% (1982/5000)\n",
            "INFO:__main__:Train Accuracy of automobile: 89% (4468/5000)\n",
            "INFO:__main__:Train Accuracy of  bird:  4% (237/5000)\n",
            "INFO:__main__:Train Accuracy of   cat: 63% (3188/5000)\n",
            "INFO:__main__:Train Accuracy of  deer:  8% (416/5000)\n",
            "INFO:__main__:Train Accuracy of   dog: 17% (871/5000)\n",
            "INFO:__main__:Train Accuracy of  frog:  4% (247/5000)\n",
            "INFO:__main__:Train Accuracy of horse: 11% (598/5000)\n",
            "INFO:__main__:Train Accuracy of  ship:  6% (326/5000)\n",
            "INFO:__main__:Train Accuracy of truck: 30% (1541/5000)\n",
            "INFO:__main__:Train Accuracy (Overall): 27% (13874/50000)\n",
            "INFO:__main__:Test Accuracy of airplane: 48% (486/1000)\n",
            "INFO:__main__:Test Accuracy of automobile: 89% (892/1000)\n",
            "INFO:__main__:Test Accuracy of  bird:  5% (51/1000)\n",
            "INFO:__main__:Test Accuracy of   cat: 62% (627/1000)\n",
            "INFO:__main__:Test Accuracy of  deer: 10% (105/1000)\n",
            "INFO:__main__:Test Accuracy of   dog: 21% (213/1000)\n",
            "INFO:__main__:Test Accuracy of  frog:  6% (63/1000)\n",
            "INFO:__main__:Test Accuracy of horse: 11% (116/1000)\n",
            "INFO:__main__:Test Accuracy of  ship: 10% (100/1000)\n",
            "INFO:__main__:Test Accuracy of truck: 29% (298/1000)\n",
            "INFO:__main__:Test Accuracy (Overall): 29% (2951/10000)\n"
          ]
        },
        {
          "output_type": "stream",
          "name": "stdout",
          "text": [
            "Current trial : 4\n"
          ]
        },
        {
          "output_type": "stream",
          "name": "stderr",
          "text": [
            "INFO:__main__:Train Accuracy of airplane: 40% (2020/5000)\n",
            "INFO:__main__:Train Accuracy of automobile: 89% (4479/5000)\n",
            "INFO:__main__:Train Accuracy of  bird:  5% (267/5000)\n",
            "INFO:__main__:Train Accuracy of   cat: 61% (3079/5000)\n",
            "INFO:__main__:Train Accuracy of  deer:  7% (355/5000)\n",
            "INFO:__main__:Train Accuracy of   dog: 16% (841/5000)\n",
            "INFO:__main__:Train Accuracy of  frog:  5% (258/5000)\n",
            "INFO:__main__:Train Accuracy of horse: 11% (581/5000)\n",
            "INFO:__main__:Train Accuracy of  ship:  6% (345/5000)\n",
            "INFO:__main__:Train Accuracy of truck: 29% (1495/5000)\n",
            "INFO:__main__:Train Accuracy (Overall): 27% (13720/50000)\n",
            "INFO:__main__:Test Accuracy of airplane: 50% (505/1000)\n",
            "INFO:__main__:Test Accuracy of automobile: 88% (888/1000)\n",
            "INFO:__main__:Test Accuracy of  bird:  6% (63/1000)\n",
            "INFO:__main__:Test Accuracy of   cat: 60% (607/1000)\n",
            "INFO:__main__:Test Accuracy of  deer: 10% (101/1000)\n",
            "INFO:__main__:Test Accuracy of   dog: 20% (202/1000)\n",
            "INFO:__main__:Test Accuracy of  frog:  4% (49/1000)\n",
            "INFO:__main__:Test Accuracy of horse: 11% (111/1000)\n",
            "INFO:__main__:Test Accuracy of  ship:  9% (99/1000)\n",
            "INFO:__main__:Test Accuracy of truck: 32% (321/1000)\n",
            "INFO:__main__:Test Accuracy (Overall): 29% (2946/10000)\n"
          ]
        },
        {
          "output_type": "stream",
          "name": "stdout",
          "text": [
            "Current trial : 5\n"
          ]
        },
        {
          "output_type": "stream",
          "name": "stderr",
          "text": [
            "INFO:__main__:Train Accuracy of airplane: 39% (1963/5000)\n",
            "INFO:__main__:Train Accuracy of automobile: 89% (4457/5000)\n",
            "INFO:__main__:Train Accuracy of  bird:  5% (261/5000)\n",
            "INFO:__main__:Train Accuracy of   cat: 60% (3045/5000)\n",
            "INFO:__main__:Train Accuracy of  deer:  7% (384/5000)\n",
            "INFO:__main__:Train Accuracy of   dog: 17% (882/5000)\n",
            "INFO:__main__:Train Accuracy of  frog:  4% (244/5000)\n",
            "INFO:__main__:Train Accuracy of horse: 11% (590/5000)\n",
            "INFO:__main__:Train Accuracy of  ship:  6% (340/5000)\n",
            "INFO:__main__:Train Accuracy of truck: 30% (1508/5000)\n",
            "INFO:__main__:Train Accuracy (Overall): 27% (13674/50000)\n",
            "INFO:__main__:Test Accuracy of airplane: 47% (474/1000)\n",
            "INFO:__main__:Test Accuracy of automobile: 88% (885/1000)\n",
            "INFO:__main__:Test Accuracy of  bird:  6% (60/1000)\n",
            "INFO:__main__:Test Accuracy of   cat: 62% (621/1000)\n",
            "INFO:__main__:Test Accuracy of  deer:  8% (87/1000)\n",
            "INFO:__main__:Test Accuracy of   dog: 21% (217/1000)\n",
            "INFO:__main__:Test Accuracy of  frog:  6% (66/1000)\n",
            "INFO:__main__:Test Accuracy of horse: 11% (113/1000)\n",
            "INFO:__main__:Test Accuracy of  ship:  8% (83/1000)\n",
            "INFO:__main__:Test Accuracy of truck: 30% (304/1000)\n",
            "INFO:__main__:Test Accuracy (Overall): 29% (2910/10000)\n"
          ]
        },
        {
          "output_type": "stream",
          "name": "stdout",
          "text": [
            "Current trial : 6\n"
          ]
        },
        {
          "output_type": "stream",
          "name": "stderr",
          "text": [
            "INFO:__main__:Train Accuracy of airplane: 39% (1991/5000)\n",
            "INFO:__main__:Train Accuracy of automobile: 90% (4513/5000)\n",
            "INFO:__main__:Train Accuracy of  bird:  4% (241/5000)\n",
            "INFO:__main__:Train Accuracy of   cat: 61% (3077/5000)\n",
            "INFO:__main__:Train Accuracy of  deer:  7% (399/5000)\n",
            "INFO:__main__:Train Accuracy of   dog: 16% (826/5000)\n",
            "INFO:__main__:Train Accuracy of  frog:  5% (256/5000)\n",
            "INFO:__main__:Train Accuracy of horse: 11% (559/5000)\n",
            "INFO:__main__:Train Accuracy of  ship:  7% (350/5000)\n",
            "INFO:__main__:Train Accuracy of truck: 30% (1514/5000)\n",
            "INFO:__main__:Train Accuracy (Overall): 27% (13726/50000)\n",
            "INFO:__main__:Test Accuracy of airplane: 47% (476/1000)\n",
            "INFO:__main__:Test Accuracy of automobile: 89% (890/1000)\n",
            "INFO:__main__:Test Accuracy of  bird:  7% (71/1000)\n",
            "INFO:__main__:Test Accuracy of   cat: 59% (596/1000)\n",
            "INFO:__main__:Test Accuracy of  deer: 10% (109/1000)\n",
            "INFO:__main__:Test Accuracy of   dog: 18% (188/1000)\n",
            "INFO:__main__:Test Accuracy of  frog:  5% (59/1000)\n",
            "INFO:__main__:Test Accuracy of horse: 13% (133/1000)\n",
            "INFO:__main__:Test Accuracy of  ship:  7% (70/1000)\n",
            "INFO:__main__:Test Accuracy of truck: 31% (312/1000)\n",
            "INFO:__main__:Test Accuracy (Overall): 29% (2904/10000)\n"
          ]
        },
        {
          "output_type": "stream",
          "name": "stdout",
          "text": [
            "Current trial : 7\n"
          ]
        },
        {
          "output_type": "stream",
          "name": "stderr",
          "text": [
            "INFO:__main__:Train Accuracy of airplane: 39% (1984/5000)\n",
            "INFO:__main__:Train Accuracy of automobile: 89% (4494/5000)\n",
            "INFO:__main__:Train Accuracy of  bird:  4% (228/5000)\n",
            "INFO:__main__:Train Accuracy of   cat: 62% (3100/5000)\n",
            "INFO:__main__:Train Accuracy of  deer:  7% (383/5000)\n",
            "INFO:__main__:Train Accuracy of   dog: 16% (819/5000)\n",
            "INFO:__main__:Train Accuracy of  frog:  5% (271/5000)\n",
            "INFO:__main__:Train Accuracy of horse: 11% (571/5000)\n",
            "INFO:__main__:Train Accuracy of  ship:  6% (349/5000)\n",
            "INFO:__main__:Train Accuracy of truck: 31% (1550/5000)\n",
            "INFO:__main__:Train Accuracy (Overall): 27% (13749/50000)\n",
            "INFO:__main__:Test Accuracy of airplane: 50% (505/1000)\n",
            "INFO:__main__:Test Accuracy of automobile: 88% (882/1000)\n",
            "INFO:__main__:Test Accuracy of  bird:  6% (65/1000)\n",
            "INFO:__main__:Test Accuracy of   cat: 62% (628/1000)\n",
            "INFO:__main__:Test Accuracy of  deer: 11% (115/1000)\n",
            "INFO:__main__:Test Accuracy of   dog: 21% (213/1000)\n",
            "INFO:__main__:Test Accuracy of  frog:  6% (65/1000)\n",
            "INFO:__main__:Test Accuracy of horse: 13% (133/1000)\n",
            "INFO:__main__:Test Accuracy of  ship: 10% (102/1000)\n",
            "INFO:__main__:Test Accuracy of truck: 31% (319/1000)\n",
            "INFO:__main__:Test Accuracy (Overall): 30% (3027/10000)\n"
          ]
        },
        {
          "output_type": "stream",
          "name": "stdout",
          "text": [
            "Current trial : 8\n"
          ]
        },
        {
          "output_type": "stream",
          "name": "stderr",
          "text": [
            "INFO:__main__:Train Accuracy of airplane: 38% (1948/5000)\n",
            "INFO:__main__:Train Accuracy of automobile: 89% (4490/5000)\n",
            "INFO:__main__:Train Accuracy of  bird:  4% (237/5000)\n",
            "INFO:__main__:Train Accuracy of   cat: 62% (3140/5000)\n",
            "INFO:__main__:Train Accuracy of  deer:  8% (422/5000)\n",
            "INFO:__main__:Train Accuracy of   dog: 17% (874/5000)\n",
            "INFO:__main__:Train Accuracy of  frog:  5% (259/5000)\n",
            "INFO:__main__:Train Accuracy of horse: 10% (544/5000)\n",
            "INFO:__main__:Train Accuracy of  ship:  6% (347/5000)\n",
            "INFO:__main__:Train Accuracy of truck: 30% (1542/5000)\n",
            "INFO:__main__:Train Accuracy (Overall): 27% (13803/50000)\n",
            "INFO:__main__:Test Accuracy of airplane: 50% (506/1000)\n",
            "INFO:__main__:Test Accuracy of automobile: 87% (877/1000)\n",
            "INFO:__main__:Test Accuracy of  bird:  6% (67/1000)\n",
            "INFO:__main__:Test Accuracy of   cat: 63% (637/1000)\n",
            "INFO:__main__:Test Accuracy of  deer: 10% (102/1000)\n",
            "INFO:__main__:Test Accuracy of   dog: 20% (209/1000)\n",
            "INFO:__main__:Test Accuracy of  frog:  4% (46/1000)\n",
            "INFO:__main__:Test Accuracy of horse: 11% (114/1000)\n",
            "INFO:__main__:Test Accuracy of  ship:  9% (94/1000)\n",
            "INFO:__main__:Test Accuracy of truck: 30% (309/1000)\n",
            "INFO:__main__:Test Accuracy (Overall): 29% (2961/10000)\n"
          ]
        },
        {
          "output_type": "stream",
          "name": "stdout",
          "text": [
            "Current trial : 9\n"
          ]
        },
        {
          "output_type": "stream",
          "name": "stderr",
          "text": [
            "INFO:__main__:Train Accuracy of airplane: 39% (1954/5000)\n",
            "INFO:__main__:Train Accuracy of automobile: 89% (4467/5000)\n",
            "INFO:__main__:Train Accuracy of  bird:  5% (261/5000)\n",
            "INFO:__main__:Train Accuracy of   cat: 61% (3081/5000)\n",
            "INFO:__main__:Train Accuracy of  deer:  8% (411/5000)\n",
            "INFO:__main__:Train Accuracy of   dog: 17% (891/5000)\n",
            "INFO:__main__:Train Accuracy of  frog:  4% (249/5000)\n",
            "INFO:__main__:Train Accuracy of horse: 12% (603/5000)\n",
            "INFO:__main__:Train Accuracy of  ship:  7% (365/5000)\n",
            "INFO:__main__:Train Accuracy of truck: 30% (1528/5000)\n",
            "INFO:__main__:Train Accuracy (Overall): 27% (13810/50000)\n",
            "INFO:__main__:Test Accuracy of airplane: 47% (478/1000)\n",
            "INFO:__main__:Test Accuracy of automobile: 89% (892/1000)\n",
            "INFO:__main__:Test Accuracy of  bird:  6% (62/1000)\n",
            "INFO:__main__:Test Accuracy of   cat: 61% (619/1000)\n",
            "INFO:__main__:Test Accuracy of  deer: 11% (113/1000)\n",
            "INFO:__main__:Test Accuracy of   dog: 19% (198/1000)\n",
            "INFO:__main__:Test Accuracy of  frog:  5% (55/1000)\n",
            "INFO:__main__:Test Accuracy of horse: 11% (115/1000)\n",
            "INFO:__main__:Test Accuracy of  ship:  8% (89/1000)\n",
            "INFO:__main__:Test Accuracy of truck: 31% (313/1000)\n",
            "INFO:__main__:Test Accuracy (Overall): 29% (2934/10000)\n"
          ]
        },
        {
          "output_type": "stream",
          "name": "stdout",
          "text": [
            "Current trial : 10\n"
          ]
        },
        {
          "output_type": "stream",
          "name": "stderr",
          "text": [
            "INFO:__main__:Train Accuracy of airplane: 40% (2027/5000)\n",
            "INFO:__main__:Train Accuracy of automobile: 90% (4514/5000)\n",
            "INFO:__main__:Train Accuracy of  bird:  5% (255/5000)\n",
            "INFO:__main__:Train Accuracy of   cat: 62% (3129/5000)\n",
            "INFO:__main__:Train Accuracy of  deer:  8% (409/5000)\n",
            "INFO:__main__:Train Accuracy of   dog: 16% (847/5000)\n",
            "INFO:__main__:Train Accuracy of  frog:  4% (232/5000)\n",
            "INFO:__main__:Train Accuracy of horse: 11% (552/5000)\n",
            "INFO:__main__:Train Accuracy of  ship:  5% (296/5000)\n",
            "INFO:__main__:Train Accuracy of truck: 31% (1553/5000)\n",
            "INFO:__main__:Train Accuracy (Overall): 27% (13814/50000)\n",
            "INFO:__main__:Test Accuracy of airplane: 48% (488/1000)\n",
            "INFO:__main__:Test Accuracy of automobile: 89% (898/1000)\n",
            "INFO:__main__:Test Accuracy of  bird:  5% (58/1000)\n",
            "INFO:__main__:Test Accuracy of   cat: 63% (637/1000)\n",
            "INFO:__main__:Test Accuracy of  deer:  8% (83/1000)\n",
            "INFO:__main__:Test Accuracy of   dog: 20% (205/1000)\n",
            "INFO:__main__:Test Accuracy of  frog:  5% (56/1000)\n",
            "INFO:__main__:Test Accuracy of horse: 13% (131/1000)\n",
            "INFO:__main__:Test Accuracy of  ship:  9% (92/1000)\n",
            "INFO:__main__:Test Accuracy of truck: 28% (288/1000)\n",
            "INFO:__main__:Test Accuracy (Overall): 29% (2936/10000)\n"
          ]
        },
        {
          "output_type": "stream",
          "name": "stdout",
          "text": [
            "Current trial : 11\n"
          ]
        },
        {
          "output_type": "stream",
          "name": "stderr",
          "text": [
            "INFO:__main__:Train Accuracy of airplane: 40% (2008/5000)\n",
            "INFO:__main__:Train Accuracy of automobile: 89% (4495/5000)\n",
            "INFO:__main__:Train Accuracy of  bird:  5% (271/5000)\n",
            "INFO:__main__:Train Accuracy of   cat: 61% (3086/5000)\n",
            "INFO:__main__:Train Accuracy of  deer:  7% (397/5000)\n",
            "INFO:__main__:Train Accuracy of   dog: 17% (852/5000)\n",
            "INFO:__main__:Train Accuracy of  frog:  5% (257/5000)\n",
            "INFO:__main__:Train Accuracy of horse: 11% (595/5000)\n",
            "INFO:__main__:Train Accuracy of  ship:  6% (316/5000)\n",
            "INFO:__main__:Train Accuracy of truck: 30% (1514/5000)\n",
            "INFO:__main__:Train Accuracy (Overall): 27% (13791/50000)\n",
            "INFO:__main__:Test Accuracy of airplane: 50% (506/1000)\n",
            "INFO:__main__:Test Accuracy of automobile: 89% (893/1000)\n",
            "INFO:__main__:Test Accuracy of  bird:  6% (61/1000)\n",
            "INFO:__main__:Test Accuracy of   cat: 63% (630/1000)\n",
            "INFO:__main__:Test Accuracy of  deer: 11% (113/1000)\n",
            "INFO:__main__:Test Accuracy of   dog: 20% (207/1000)\n",
            "INFO:__main__:Test Accuracy of  frog:  6% (64/1000)\n",
            "INFO:__main__:Test Accuracy of horse: 13% (131/1000)\n",
            "INFO:__main__:Test Accuracy of  ship:  8% (84/1000)\n",
            "INFO:__main__:Test Accuracy of truck: 31% (313/1000)\n",
            "INFO:__main__:Test Accuracy (Overall): 30% (3002/10000)\n"
          ]
        },
        {
          "output_type": "stream",
          "name": "stdout",
          "text": [
            "Current trial : 12\n"
          ]
        },
        {
          "output_type": "stream",
          "name": "stderr",
          "text": [
            "INFO:__main__:Train Accuracy of airplane: 39% (1951/5000)\n",
            "INFO:__main__:Train Accuracy of automobile: 89% (4487/5000)\n",
            "INFO:__main__:Train Accuracy of  bird:  4% (248/5000)\n",
            "INFO:__main__:Train Accuracy of   cat: 61% (3095/5000)\n",
            "INFO:__main__:Train Accuracy of  deer:  7% (356/5000)\n",
            "INFO:__main__:Train Accuracy of   dog: 17% (871/5000)\n",
            "INFO:__main__:Train Accuracy of  frog:  4% (235/5000)\n",
            "INFO:__main__:Train Accuracy of horse: 11% (587/5000)\n",
            "INFO:__main__:Train Accuracy of  ship:  6% (349/5000)\n",
            "INFO:__main__:Train Accuracy of truck: 30% (1546/5000)\n",
            "INFO:__main__:Train Accuracy (Overall): 27% (13725/50000)\n",
            "INFO:__main__:Test Accuracy of airplane: 48% (489/1000)\n",
            "INFO:__main__:Test Accuracy of automobile: 87% (875/1000)\n",
            "INFO:__main__:Test Accuracy of  bird:  6% (65/1000)\n",
            "INFO:__main__:Test Accuracy of   cat: 63% (635/1000)\n",
            "INFO:__main__:Test Accuracy of  deer: 10% (103/1000)\n",
            "INFO:__main__:Test Accuracy of   dog: 21% (210/1000)\n",
            "INFO:__main__:Test Accuracy of  frog:  5% (56/1000)\n",
            "INFO:__main__:Test Accuracy of horse: 12% (128/1000)\n",
            "INFO:__main__:Test Accuracy of  ship:  9% (99/1000)\n",
            "INFO:__main__:Test Accuracy of truck: 30% (306/1000)\n",
            "INFO:__main__:Test Accuracy (Overall): 29% (2966/10000)\n"
          ]
        },
        {
          "output_type": "stream",
          "name": "stdout",
          "text": [
            "Current trial : 13\n"
          ]
        },
        {
          "output_type": "stream",
          "name": "stderr",
          "text": [
            "INFO:__main__:Train Accuracy of airplane: 38% (1941/5000)\n",
            "INFO:__main__:Train Accuracy of automobile: 89% (4489/5000)\n",
            "INFO:__main__:Train Accuracy of  bird:  5% (251/5000)\n",
            "INFO:__main__:Train Accuracy of   cat: 62% (3149/5000)\n",
            "INFO:__main__:Train Accuracy of  deer:  7% (385/5000)\n",
            "INFO:__main__:Train Accuracy of   dog: 16% (834/5000)\n",
            "INFO:__main__:Train Accuracy of  frog:  4% (237/5000)\n",
            "INFO:__main__:Train Accuracy of horse: 11% (581/5000)\n",
            "INFO:__main__:Train Accuracy of  ship:  7% (351/5000)\n",
            "INFO:__main__:Train Accuracy of truck: 28% (1435/5000)\n",
            "INFO:__main__:Train Accuracy (Overall): 27% (13653/50000)\n",
            "INFO:__main__:Test Accuracy of airplane: 51% (518/1000)\n",
            "INFO:__main__:Test Accuracy of automobile: 88% (881/1000)\n",
            "INFO:__main__:Test Accuracy of  bird:  6% (61/1000)\n",
            "INFO:__main__:Test Accuracy of   cat: 60% (601/1000)\n",
            "INFO:__main__:Test Accuracy of  deer:  8% (81/1000)\n",
            "INFO:__main__:Test Accuracy of   dog: 17% (176/1000)\n",
            "INFO:__main__:Test Accuracy of  frog:  5% (59/1000)\n",
            "INFO:__main__:Test Accuracy of horse: 11% (118/1000)\n",
            "INFO:__main__:Test Accuracy of  ship:  9% (95/1000)\n",
            "INFO:__main__:Test Accuracy of truck: 30% (305/1000)\n",
            "INFO:__main__:Test Accuracy (Overall): 28% (2895/10000)\n"
          ]
        },
        {
          "output_type": "stream",
          "name": "stdout",
          "text": [
            "Current trial : 14\n"
          ]
        },
        {
          "output_type": "stream",
          "name": "stderr",
          "text": [
            "INFO:__main__:Train Accuracy of airplane: 40% (2012/5000)\n",
            "INFO:__main__:Train Accuracy of automobile: 89% (4459/5000)\n",
            "INFO:__main__:Train Accuracy of  bird:  4% (245/5000)\n",
            "INFO:__main__:Train Accuracy of   cat: 62% (3122/5000)\n",
            "INFO:__main__:Train Accuracy of  deer:  7% (399/5000)\n",
            "INFO:__main__:Train Accuracy of   dog: 17% (867/5000)\n",
            "INFO:__main__:Train Accuracy of  frog:  5% (273/5000)\n",
            "INFO:__main__:Train Accuracy of horse: 11% (591/5000)\n",
            "INFO:__main__:Train Accuracy of  ship:  7% (365/5000)\n",
            "INFO:__main__:Train Accuracy of truck: 30% (1530/5000)\n",
            "INFO:__main__:Train Accuracy (Overall): 27% (13863/50000)\n",
            "INFO:__main__:Test Accuracy of airplane: 49% (496/1000)\n",
            "INFO:__main__:Test Accuracy of automobile: 88% (881/1000)\n",
            "INFO:__main__:Test Accuracy of  bird:  6% (65/1000)\n",
            "INFO:__main__:Test Accuracy of   cat: 61% (612/1000)\n",
            "INFO:__main__:Test Accuracy of  deer: 10% (106/1000)\n",
            "INFO:__main__:Test Accuracy of   dog: 20% (208/1000)\n",
            "INFO:__main__:Test Accuracy of  frog:  5% (56/1000)\n",
            "INFO:__main__:Test Accuracy of horse: 12% (121/1000)\n",
            "INFO:__main__:Test Accuracy of  ship:  9% (90/1000)\n",
            "INFO:__main__:Test Accuracy of truck: 31% (310/1000)\n",
            "INFO:__main__:Test Accuracy (Overall): 29% (2945/10000)\n"
          ]
        },
        {
          "output_type": "stream",
          "name": "stdout",
          "text": [
            "Current trial : 15\n"
          ]
        },
        {
          "output_type": "stream",
          "name": "stderr",
          "text": [
            "INFO:__main__:Train Accuracy of airplane: 39% (1979/5000)\n",
            "INFO:__main__:Train Accuracy of automobile: 90% (4522/5000)\n",
            "INFO:__main__:Train Accuracy of  bird:  4% (242/5000)\n",
            "INFO:__main__:Train Accuracy of   cat: 63% (3175/5000)\n",
            "INFO:__main__:Train Accuracy of  deer:  7% (386/5000)\n",
            "INFO:__main__:Train Accuracy of   dog: 17% (890/5000)\n",
            "INFO:__main__:Train Accuracy of  frog:  5% (264/5000)\n",
            "INFO:__main__:Train Accuracy of horse: 11% (562/5000)\n",
            "INFO:__main__:Train Accuracy of  ship:  6% (318/5000)\n",
            "INFO:__main__:Train Accuracy of truck: 29% (1497/5000)\n",
            "INFO:__main__:Train Accuracy (Overall): 27% (13835/50000)\n",
            "INFO:__main__:Test Accuracy of airplane: 45% (458/1000)\n",
            "INFO:__main__:Test Accuracy of automobile: 88% (883/1000)\n",
            "INFO:__main__:Test Accuracy of  bird:  7% (72/1000)\n",
            "INFO:__main__:Test Accuracy of   cat: 61% (612/1000)\n",
            "INFO:__main__:Test Accuracy of  deer: 10% (101/1000)\n",
            "INFO:__main__:Test Accuracy of   dog: 20% (208/1000)\n",
            "INFO:__main__:Test Accuracy of  frog:  4% (48/1000)\n",
            "INFO:__main__:Test Accuracy of horse: 12% (121/1000)\n",
            "INFO:__main__:Test Accuracy of  ship:  8% (82/1000)\n",
            "INFO:__main__:Test Accuracy of truck: 30% (303/1000)\n",
            "INFO:__main__:Test Accuracy (Overall): 28% (2888/10000)\n"
          ]
        },
        {
          "output_type": "stream",
          "name": "stdout",
          "text": [
            "Current trial : 16\n"
          ]
        },
        {
          "output_type": "stream",
          "name": "stderr",
          "text": [
            "INFO:__main__:Train Accuracy of airplane: 40% (2013/5000)\n",
            "INFO:__main__:Train Accuracy of automobile: 89% (4475/5000)\n",
            "INFO:__main__:Train Accuracy of  bird:  4% (239/5000)\n",
            "INFO:__main__:Train Accuracy of   cat: 62% (3138/5000)\n",
            "INFO:__main__:Train Accuracy of  deer:  8% (415/5000)\n",
            "INFO:__main__:Train Accuracy of   dog: 17% (871/5000)\n",
            "INFO:__main__:Train Accuracy of  frog:  5% (260/5000)\n",
            "INFO:__main__:Train Accuracy of horse: 11% (586/5000)\n",
            "INFO:__main__:Train Accuracy of  ship:  6% (331/5000)\n",
            "INFO:__main__:Train Accuracy of truck: 30% (1529/5000)\n",
            "INFO:__main__:Train Accuracy (Overall): 27% (13857/50000)\n",
            "INFO:__main__:Test Accuracy of airplane: 48% (489/1000)\n",
            "INFO:__main__:Test Accuracy of automobile: 88% (881/1000)\n",
            "INFO:__main__:Test Accuracy of  bird:  6% (62/1000)\n",
            "INFO:__main__:Test Accuracy of   cat: 64% (644/1000)\n",
            "INFO:__main__:Test Accuracy of  deer: 10% (101/1000)\n",
            "INFO:__main__:Test Accuracy of   dog: 21% (218/1000)\n",
            "INFO:__main__:Test Accuracy of  frog:  6% (65/1000)\n",
            "INFO:__main__:Test Accuracy of horse: 13% (139/1000)\n",
            "INFO:__main__:Test Accuracy of  ship: 10% (103/1000)\n",
            "INFO:__main__:Test Accuracy of truck: 31% (319/1000)\n",
            "INFO:__main__:Test Accuracy (Overall): 30% (3021/10000)\n"
          ]
        },
        {
          "output_type": "stream",
          "name": "stdout",
          "text": [
            "Current trial : 17\n"
          ]
        },
        {
          "output_type": "stream",
          "name": "stderr",
          "text": [
            "INFO:__main__:Train Accuracy of airplane: 37% (1896/5000)\n",
            "INFO:__main__:Train Accuracy of automobile: 90% (4515/5000)\n",
            "INFO:__main__:Train Accuracy of  bird:  4% (245/5000)\n",
            "INFO:__main__:Train Accuracy of   cat: 61% (3065/5000)\n",
            "INFO:__main__:Train Accuracy of  deer:  8% (419/5000)\n",
            "INFO:__main__:Train Accuracy of   dog: 17% (851/5000)\n",
            "INFO:__main__:Train Accuracy of  frog:  4% (247/5000)\n",
            "INFO:__main__:Train Accuracy of horse: 12% (624/5000)\n",
            "INFO:__main__:Train Accuracy of  ship:  6% (347/5000)\n",
            "INFO:__main__:Train Accuracy of truck: 30% (1527/5000)\n",
            "INFO:__main__:Train Accuracy (Overall): 27% (13736/50000)\n",
            "INFO:__main__:Test Accuracy of airplane: 50% (501/1000)\n",
            "INFO:__main__:Test Accuracy of automobile: 89% (897/1000)\n",
            "INFO:__main__:Test Accuracy of  bird:  7% (70/1000)\n",
            "INFO:__main__:Test Accuracy of   cat: 60% (609/1000)\n",
            "INFO:__main__:Test Accuracy of  deer: 10% (101/1000)\n",
            "INFO:__main__:Test Accuracy of   dog: 18% (188/1000)\n",
            "INFO:__main__:Test Accuracy of  frog:  5% (58/1000)\n",
            "INFO:__main__:Test Accuracy of horse: 14% (142/1000)\n",
            "INFO:__main__:Test Accuracy of  ship:  8% (88/1000)\n",
            "INFO:__main__:Test Accuracy of truck: 31% (311/1000)\n",
            "INFO:__main__:Test Accuracy (Overall): 29% (2965/10000)\n"
          ]
        },
        {
          "output_type": "stream",
          "name": "stdout",
          "text": [
            "Current trial : 18\n"
          ]
        },
        {
          "output_type": "stream",
          "name": "stderr",
          "text": [
            "INFO:__main__:Train Accuracy of airplane: 38% (1915/5000)\n",
            "INFO:__main__:Train Accuracy of automobile: 89% (4482/5000)\n",
            "INFO:__main__:Train Accuracy of  bird:  4% (237/5000)\n",
            "INFO:__main__:Train Accuracy of   cat: 62% (3109/5000)\n",
            "INFO:__main__:Train Accuracy of  deer:  7% (397/5000)\n",
            "INFO:__main__:Train Accuracy of   dog: 16% (817/5000)\n",
            "INFO:__main__:Train Accuracy of  frog:  5% (288/5000)\n",
            "INFO:__main__:Train Accuracy of horse: 11% (587/5000)\n",
            "INFO:__main__:Train Accuracy of  ship:  7% (357/5000)\n",
            "INFO:__main__:Train Accuracy of truck: 30% (1535/5000)\n",
            "INFO:__main__:Train Accuracy (Overall): 27% (13724/50000)\n",
            "INFO:__main__:Test Accuracy of airplane: 48% (482/1000)\n",
            "INFO:__main__:Test Accuracy of automobile: 89% (893/1000)\n",
            "INFO:__main__:Test Accuracy of  bird:  6% (68/1000)\n",
            "INFO:__main__:Test Accuracy of   cat: 62% (620/1000)\n",
            "INFO:__main__:Test Accuracy of  deer: 12% (120/1000)\n",
            "INFO:__main__:Test Accuracy of   dog: 20% (202/1000)\n",
            "INFO:__main__:Test Accuracy of  frog:  6% (61/1000)\n",
            "INFO:__main__:Test Accuracy of horse: 13% (131/1000)\n",
            "INFO:__main__:Test Accuracy of  ship:  9% (92/1000)\n",
            "INFO:__main__:Test Accuracy of truck: 27% (279/1000)\n",
            "INFO:__main__:Test Accuracy (Overall): 29% (2948/10000)\n"
          ]
        },
        {
          "output_type": "stream",
          "name": "stdout",
          "text": [
            "Current trial : 19\n"
          ]
        },
        {
          "output_type": "stream",
          "name": "stderr",
          "text": [
            "INFO:__main__:Train Accuracy of airplane: 39% (1997/5000)\n",
            "INFO:__main__:Train Accuracy of automobile: 89% (4497/5000)\n",
            "INFO:__main__:Train Accuracy of  bird:  5% (251/5000)\n",
            "INFO:__main__:Train Accuracy of   cat: 61% (3066/5000)\n",
            "INFO:__main__:Train Accuracy of  deer:  8% (412/5000)\n",
            "INFO:__main__:Train Accuracy of   dog: 17% (878/5000)\n",
            "INFO:__main__:Train Accuracy of  frog:  5% (250/5000)\n",
            "INFO:__main__:Train Accuracy of horse: 11% (584/5000)\n",
            "INFO:__main__:Train Accuracy of  ship:  6% (343/5000)\n",
            "INFO:__main__:Train Accuracy of truck: 31% (1559/5000)\n",
            "INFO:__main__:Train Accuracy (Overall): 27% (13837/50000)\n",
            "INFO:__main__:Test Accuracy of airplane: 50% (501/1000)\n",
            "INFO:__main__:Test Accuracy of automobile: 87% (878/1000)\n",
            "INFO:__main__:Test Accuracy of  bird:  8% (80/1000)\n",
            "INFO:__main__:Test Accuracy of   cat: 63% (636/1000)\n",
            "INFO:__main__:Test Accuracy of  deer:  8% (86/1000)\n",
            "INFO:__main__:Test Accuracy of   dog: 20% (201/1000)\n",
            "INFO:__main__:Test Accuracy of  frog:  6% (60/1000)\n",
            "INFO:__main__:Test Accuracy of horse: 10% (108/1000)\n",
            "INFO:__main__:Test Accuracy of  ship:  9% (97/1000)\n",
            "INFO:__main__:Test Accuracy of truck: 32% (320/1000)\n",
            "INFO:__main__:Test Accuracy (Overall): 29% (2967/10000)\n"
          ]
        },
        {
          "output_type": "stream",
          "name": "stdout",
          "text": [
            "the following model ResNet18.first.0.3 is starting from epoch : 50\n",
            "Current Loss 0.06218921981617459 \n",
            "Loading into a new model with 0.91 dropout in first location\n",
            "Loading into a new model with 0.93 dropout in first location\n",
            "Loading into a new model with 0.95 dropout in first location\n",
            "Loading into a new model with 0.97 dropout in first location\n",
            "Loading into a new model with 0.99 dropout in first location\n",
            "Current trial : 0\n"
          ]
        },
        {
          "output_type": "stream",
          "name": "stderr",
          "text": [
            "INFO:__main__:Train Accuracy of airplane: 30% (1530/5000)\n",
            "INFO:__main__:Train Accuracy of automobile: 31% (1596/5000)\n",
            "INFO:__main__:Train Accuracy of  bird: 53% (2664/5000)\n",
            "INFO:__main__:Train Accuracy of   cat: 87% (4380/5000)\n",
            "INFO:__main__:Train Accuracy of  deer:  4% (201/5000)\n",
            "INFO:__main__:Train Accuracy of   dog: 15% (773/5000)\n",
            "INFO:__main__:Train Accuracy of  frog: 30% (1500/5000)\n",
            "INFO:__main__:Train Accuracy of horse:  6% (340/5000)\n",
            "INFO:__main__:Train Accuracy of  ship: 19% (967/5000)\n",
            "INFO:__main__:Train Accuracy of truck: 12% (608/5000)\n",
            "INFO:__main__:Train Accuracy (Overall): 29% (14559/50000)\n",
            "INFO:__main__:Test Accuracy of airplane: 40% (402/1000)\n",
            "INFO:__main__:Test Accuracy of automobile: 33% (334/1000)\n",
            "INFO:__main__:Test Accuracy of  bird: 56% (569/1000)\n",
            "INFO:__main__:Test Accuracy of   cat: 83% (833/1000)\n",
            "INFO:__main__:Test Accuracy of  deer:  5% (53/1000)\n",
            "INFO:__main__:Test Accuracy of   dog: 17% (170/1000)\n",
            "INFO:__main__:Test Accuracy of  frog: 32% (320/1000)\n",
            "INFO:__main__:Test Accuracy of horse:  5% (52/1000)\n",
            "INFO:__main__:Test Accuracy of  ship: 30% (307/1000)\n",
            "INFO:__main__:Test Accuracy of truck: 13% (136/1000)\n",
            "INFO:__main__:Test Accuracy (Overall): 31% (3176/10000)\n"
          ]
        },
        {
          "output_type": "stream",
          "name": "stdout",
          "text": [
            "Current trial : 1\n"
          ]
        },
        {
          "output_type": "stream",
          "name": "stderr",
          "text": [
            "INFO:__main__:Train Accuracy of airplane: 30% (1511/5000)\n",
            "INFO:__main__:Train Accuracy of automobile: 32% (1617/5000)\n",
            "INFO:__main__:Train Accuracy of  bird: 52% (2637/5000)\n",
            "INFO:__main__:Train Accuracy of   cat: 87% (4362/5000)\n",
            "INFO:__main__:Train Accuracy of  deer:  4% (208/5000)\n",
            "INFO:__main__:Train Accuracy of   dog: 14% (730/5000)\n",
            "INFO:__main__:Train Accuracy of  frog: 30% (1530/5000)\n",
            "INFO:__main__:Train Accuracy of horse:  6% (329/5000)\n",
            "INFO:__main__:Train Accuracy of  ship: 19% (994/5000)\n",
            "INFO:__main__:Train Accuracy of truck: 11% (596/5000)\n",
            "INFO:__main__:Train Accuracy (Overall): 29% (14514/50000)\n",
            "INFO:__main__:Test Accuracy of airplane: 36% (367/1000)\n",
            "INFO:__main__:Test Accuracy of automobile: 30% (307/1000)\n",
            "INFO:__main__:Test Accuracy of  bird: 54% (549/1000)\n",
            "INFO:__main__:Test Accuracy of   cat: 80% (804/1000)\n",
            "INFO:__main__:Test Accuracy of  deer:  5% (53/1000)\n",
            "INFO:__main__:Test Accuracy of   dog: 15% (157/1000)\n",
            "INFO:__main__:Test Accuracy of  frog: 33% (330/1000)\n",
            "INFO:__main__:Test Accuracy of horse:  5% (58/1000)\n",
            "INFO:__main__:Test Accuracy of  ship: 29% (295/1000)\n",
            "INFO:__main__:Test Accuracy of truck: 13% (136/1000)\n",
            "INFO:__main__:Test Accuracy (Overall): 30% (3056/10000)\n"
          ]
        },
        {
          "output_type": "stream",
          "name": "stdout",
          "text": [
            "Current trial : 2\n"
          ]
        },
        {
          "output_type": "stream",
          "name": "stderr",
          "text": [
            "INFO:__main__:Train Accuracy of airplane: 31% (1572/5000)\n",
            "INFO:__main__:Train Accuracy of automobile: 32% (1616/5000)\n",
            "INFO:__main__:Train Accuracy of  bird: 54% (2748/5000)\n",
            "INFO:__main__:Train Accuracy of   cat: 87% (4392/5000)\n",
            "INFO:__main__:Train Accuracy of  deer:  4% (219/5000)\n",
            "INFO:__main__:Train Accuracy of   dog: 14% (743/5000)\n",
            "INFO:__main__:Train Accuracy of  frog: 29% (1480/5000)\n",
            "INFO:__main__:Train Accuracy of horse:  6% (322/5000)\n",
            "INFO:__main__:Train Accuracy of  ship: 20% (1023/5000)\n",
            "INFO:__main__:Train Accuracy of truck: 11% (573/5000)\n",
            "INFO:__main__:Train Accuracy (Overall): 29% (14688/50000)\n",
            "INFO:__main__:Test Accuracy of airplane: 39% (397/1000)\n",
            "INFO:__main__:Test Accuracy of automobile: 29% (296/1000)\n",
            "INFO:__main__:Test Accuracy of  bird: 54% (541/1000)\n",
            "INFO:__main__:Test Accuracy of   cat: 83% (835/1000)\n",
            "INFO:__main__:Test Accuracy of  deer:  5% (50/1000)\n",
            "INFO:__main__:Test Accuracy of   dog: 15% (155/1000)\n",
            "INFO:__main__:Test Accuracy of  frog: 32% (328/1000)\n",
            "INFO:__main__:Test Accuracy of horse:  5% (56/1000)\n",
            "INFO:__main__:Test Accuracy of  ship: 29% (296/1000)\n",
            "INFO:__main__:Test Accuracy of truck: 12% (129/1000)\n",
            "INFO:__main__:Test Accuracy (Overall): 30% (3083/10000)\n"
          ]
        },
        {
          "output_type": "stream",
          "name": "stdout",
          "text": [
            "Current trial : 3\n"
          ]
        },
        {
          "output_type": "stream",
          "name": "stderr",
          "text": [
            "INFO:__main__:Train Accuracy of airplane: 32% (1643/5000)\n",
            "INFO:__main__:Train Accuracy of automobile: 32% (1618/5000)\n",
            "INFO:__main__:Train Accuracy of  bird: 53% (2664/5000)\n",
            "INFO:__main__:Train Accuracy of   cat: 87% (4380/5000)\n",
            "INFO:__main__:Train Accuracy of  deer:  4% (226/5000)\n",
            "INFO:__main__:Train Accuracy of   dog: 14% (737/5000)\n",
            "INFO:__main__:Train Accuracy of  frog: 30% (1513/5000)\n",
            "INFO:__main__:Train Accuracy of horse:  6% (331/5000)\n",
            "INFO:__main__:Train Accuracy of  ship: 19% (997/5000)\n",
            "INFO:__main__:Train Accuracy of truck: 12% (604/5000)\n",
            "INFO:__main__:Train Accuracy (Overall): 29% (14713/50000)\n",
            "INFO:__main__:Test Accuracy of airplane: 40% (409/1000)\n",
            "INFO:__main__:Test Accuracy of automobile: 33% (336/1000)\n",
            "INFO:__main__:Test Accuracy of  bird: 55% (551/1000)\n",
            "INFO:__main__:Test Accuracy of   cat: 83% (839/1000)\n",
            "INFO:__main__:Test Accuracy of  deer:  6% (64/1000)\n",
            "INFO:__main__:Test Accuracy of   dog: 16% (167/1000)\n",
            "INFO:__main__:Test Accuracy of  frog: 32% (328/1000)\n",
            "INFO:__main__:Test Accuracy of horse:  6% (61/1000)\n",
            "INFO:__main__:Test Accuracy of  ship: 32% (320/1000)\n",
            "INFO:__main__:Test Accuracy of truck: 13% (131/1000)\n",
            "INFO:__main__:Test Accuracy (Overall): 32% (3206/10000)\n"
          ]
        },
        {
          "output_type": "stream",
          "name": "stdout",
          "text": [
            "Current trial : 4\n"
          ]
        },
        {
          "output_type": "stream",
          "name": "stderr",
          "text": [
            "INFO:__main__:Train Accuracy of airplane: 32% (1609/5000)\n",
            "INFO:__main__:Train Accuracy of automobile: 33% (1696/5000)\n",
            "INFO:__main__:Train Accuracy of  bird: 54% (2728/5000)\n",
            "INFO:__main__:Train Accuracy of   cat: 87% (4368/5000)\n",
            "INFO:__main__:Train Accuracy of  deer:  4% (219/5000)\n",
            "INFO:__main__:Train Accuracy of   dog: 15% (755/5000)\n",
            "INFO:__main__:Train Accuracy of  frog: 30% (1517/5000)\n",
            "INFO:__main__:Train Accuracy of horse:  6% (316/5000)\n",
            "INFO:__main__:Train Accuracy of  ship: 20% (1009/5000)\n",
            "INFO:__main__:Train Accuracy of truck: 12% (623/5000)\n",
            "INFO:__main__:Train Accuracy (Overall): 29% (14840/50000)\n",
            "INFO:__main__:Test Accuracy of airplane: 40% (403/1000)\n",
            "INFO:__main__:Test Accuracy of automobile: 30% (309/1000)\n",
            "INFO:__main__:Test Accuracy of  bird: 58% (582/1000)\n",
            "INFO:__main__:Test Accuracy of   cat: 84% (846/1000)\n",
            "INFO:__main__:Test Accuracy of  deer:  5% (59/1000)\n",
            "INFO:__main__:Test Accuracy of   dog: 15% (159/1000)\n",
            "INFO:__main__:Test Accuracy of  frog: 32% (326/1000)\n",
            "INFO:__main__:Test Accuracy of horse:  4% (46/1000)\n",
            "INFO:__main__:Test Accuracy of  ship: 28% (283/1000)\n",
            "INFO:__main__:Test Accuracy of truck: 11% (115/1000)\n",
            "INFO:__main__:Test Accuracy (Overall): 31% (3128/10000)\n"
          ]
        },
        {
          "output_type": "stream",
          "name": "stdout",
          "text": [
            "Current trial : 5\n"
          ]
        },
        {
          "output_type": "stream",
          "name": "stderr",
          "text": [
            "INFO:__main__:Train Accuracy of airplane: 31% (1578/5000)\n",
            "INFO:__main__:Train Accuracy of automobile: 32% (1623/5000)\n",
            "INFO:__main__:Train Accuracy of  bird: 53% (2674/5000)\n",
            "INFO:__main__:Train Accuracy of   cat: 87% (4368/5000)\n",
            "INFO:__main__:Train Accuracy of  deer:  4% (211/5000)\n",
            "INFO:__main__:Train Accuracy of   dog: 15% (779/5000)\n",
            "INFO:__main__:Train Accuracy of  frog: 30% (1531/5000)\n",
            "INFO:__main__:Train Accuracy of horse:  6% (338/5000)\n",
            "INFO:__main__:Train Accuracy of  ship: 19% (975/5000)\n",
            "INFO:__main__:Train Accuracy of truck: 12% (618/5000)\n",
            "INFO:__main__:Train Accuracy (Overall): 29% (14695/50000)\n",
            "INFO:__main__:Test Accuracy of airplane: 36% (365/1000)\n",
            "INFO:__main__:Test Accuracy of automobile: 31% (310/1000)\n",
            "INFO:__main__:Test Accuracy of  bird: 56% (568/1000)\n",
            "INFO:__main__:Test Accuracy of   cat: 83% (834/1000)\n",
            "INFO:__main__:Test Accuracy of  deer:  4% (45/1000)\n",
            "INFO:__main__:Test Accuracy of   dog: 18% (181/1000)\n",
            "INFO:__main__:Test Accuracy of  frog: 32% (320/1000)\n",
            "INFO:__main__:Test Accuracy of horse:  6% (61/1000)\n",
            "INFO:__main__:Test Accuracy of  ship: 29% (299/1000)\n",
            "INFO:__main__:Test Accuracy of truck: 15% (151/1000)\n",
            "INFO:__main__:Test Accuracy (Overall): 31% (3134/10000)\n"
          ]
        },
        {
          "output_type": "stream",
          "name": "stdout",
          "text": [
            "Current trial : 6\n"
          ]
        },
        {
          "output_type": "stream",
          "name": "stderr",
          "text": [
            "INFO:__main__:Train Accuracy of airplane: 32% (1629/5000)\n",
            "INFO:__main__:Train Accuracy of automobile: 31% (1597/5000)\n",
            "INFO:__main__:Train Accuracy of  bird: 54% (2721/5000)\n",
            "INFO:__main__:Train Accuracy of   cat: 86% (4342/5000)\n",
            "INFO:__main__:Train Accuracy of  deer:  4% (206/5000)\n",
            "INFO:__main__:Train Accuracy of   dog: 15% (756/5000)\n",
            "INFO:__main__:Train Accuracy of  frog: 30% (1526/5000)\n",
            "INFO:__main__:Train Accuracy of horse:  6% (321/5000)\n",
            "INFO:__main__:Train Accuracy of  ship: 20% (1007/5000)\n",
            "INFO:__main__:Train Accuracy of truck: 12% (634/5000)\n",
            "INFO:__main__:Train Accuracy (Overall): 29% (14739/50000)\n",
            "INFO:__main__:Test Accuracy of airplane: 39% (393/1000)\n",
            "INFO:__main__:Test Accuracy of automobile: 33% (334/1000)\n",
            "INFO:__main__:Test Accuracy of  bird: 57% (570/1000)\n",
            "INFO:__main__:Test Accuracy of   cat: 84% (842/1000)\n",
            "INFO:__main__:Test Accuracy of  deer:  4% (44/1000)\n",
            "INFO:__main__:Test Accuracy of   dog: 15% (159/1000)\n",
            "INFO:__main__:Test Accuracy of  frog: 30% (307/1000)\n",
            "INFO:__main__:Test Accuracy of horse:  6% (67/1000)\n",
            "INFO:__main__:Test Accuracy of  ship: 30% (308/1000)\n",
            "INFO:__main__:Test Accuracy of truck: 13% (138/1000)\n",
            "INFO:__main__:Test Accuracy (Overall): 31% (3162/10000)\n"
          ]
        },
        {
          "output_type": "stream",
          "name": "stdout",
          "text": [
            "Current trial : 7\n"
          ]
        },
        {
          "output_type": "stream",
          "name": "stderr",
          "text": [
            "INFO:__main__:Train Accuracy of airplane: 31% (1571/5000)\n",
            "INFO:__main__:Train Accuracy of automobile: 31% (1575/5000)\n",
            "INFO:__main__:Train Accuracy of  bird: 54% (2714/5000)\n",
            "INFO:__main__:Train Accuracy of   cat: 88% (4411/5000)\n",
            "INFO:__main__:Train Accuracy of  deer:  4% (215/5000)\n",
            "INFO:__main__:Train Accuracy of   dog: 14% (741/5000)\n",
            "INFO:__main__:Train Accuracy of  frog: 30% (1531/5000)\n",
            "INFO:__main__:Train Accuracy of horse:  6% (319/5000)\n",
            "INFO:__main__:Train Accuracy of  ship: 20% (1006/5000)\n",
            "INFO:__main__:Train Accuracy of truck: 12% (611/5000)\n",
            "INFO:__main__:Train Accuracy (Overall): 29% (14694/50000)\n",
            "INFO:__main__:Test Accuracy of airplane: 40% (402/1000)\n",
            "INFO:__main__:Test Accuracy of automobile: 35% (350/1000)\n",
            "INFO:__main__:Test Accuracy of  bird: 57% (579/1000)\n",
            "INFO:__main__:Test Accuracy of   cat: 83% (832/1000)\n",
            "INFO:__main__:Test Accuracy of  deer:  5% (54/1000)\n",
            "INFO:__main__:Test Accuracy of   dog: 15% (159/1000)\n",
            "INFO:__main__:Test Accuracy of  frog: 34% (340/1000)\n",
            "INFO:__main__:Test Accuracy of horse:  7% (73/1000)\n",
            "INFO:__main__:Test Accuracy of  ship: 31% (310/1000)\n",
            "INFO:__main__:Test Accuracy of truck: 11% (118/1000)\n",
            "INFO:__main__:Test Accuracy (Overall): 32% (3217/10000)\n"
          ]
        },
        {
          "output_type": "stream",
          "name": "stdout",
          "text": [
            "Current trial : 8\n"
          ]
        },
        {
          "output_type": "stream",
          "name": "stderr",
          "text": [
            "INFO:__main__:Train Accuracy of airplane: 31% (1584/5000)\n",
            "INFO:__main__:Train Accuracy of automobile: 31% (1593/5000)\n",
            "INFO:__main__:Train Accuracy of  bird: 52% (2642/5000)\n",
            "INFO:__main__:Train Accuracy of   cat: 87% (4359/5000)\n",
            "INFO:__main__:Train Accuracy of  deer:  4% (211/5000)\n",
            "INFO:__main__:Train Accuracy of   dog: 15% (759/5000)\n",
            "INFO:__main__:Train Accuracy of  frog: 30% (1535/5000)\n",
            "INFO:__main__:Train Accuracy of horse:  6% (345/5000)\n",
            "INFO:__main__:Train Accuracy of  ship: 20% (1019/5000)\n",
            "INFO:__main__:Train Accuracy of truck: 12% (616/5000)\n",
            "INFO:__main__:Train Accuracy (Overall): 29% (14663/50000)\n",
            "INFO:__main__:Test Accuracy of airplane: 37% (376/1000)\n",
            "INFO:__main__:Test Accuracy of automobile: 30% (306/1000)\n",
            "INFO:__main__:Test Accuracy of  bird: 54% (545/1000)\n",
            "INFO:__main__:Test Accuracy of   cat: 82% (826/1000)\n",
            "INFO:__main__:Test Accuracy of  deer:  5% (57/1000)\n",
            "INFO:__main__:Test Accuracy of   dog: 17% (175/1000)\n",
            "INFO:__main__:Test Accuracy of  frog: 30% (304/1000)\n",
            "INFO:__main__:Test Accuracy of horse:  6% (62/1000)\n",
            "INFO:__main__:Test Accuracy of  ship: 28% (288/1000)\n",
            "INFO:__main__:Test Accuracy of truck: 11% (116/1000)\n",
            "INFO:__main__:Test Accuracy (Overall): 30% (3055/10000)\n"
          ]
        },
        {
          "output_type": "stream",
          "name": "stdout",
          "text": [
            "Current trial : 9\n"
          ]
        },
        {
          "output_type": "stream",
          "name": "stderr",
          "text": [
            "INFO:__main__:Train Accuracy of airplane: 32% (1601/5000)\n",
            "INFO:__main__:Train Accuracy of automobile: 32% (1614/5000)\n",
            "INFO:__main__:Train Accuracy of  bird: 53% (2692/5000)\n",
            "INFO:__main__:Train Accuracy of   cat: 88% (4420/5000)\n",
            "INFO:__main__:Train Accuracy of  deer:  4% (231/5000)\n",
            "INFO:__main__:Train Accuracy of   dog: 15% (780/5000)\n",
            "INFO:__main__:Train Accuracy of  frog: 29% (1480/5000)\n",
            "INFO:__main__:Train Accuracy of horse:  6% (310/5000)\n",
            "INFO:__main__:Train Accuracy of  ship: 19% (992/5000)\n",
            "INFO:__main__:Train Accuracy of truck: 12% (603/5000)\n",
            "INFO:__main__:Train Accuracy (Overall): 29% (14723/50000)\n",
            "INFO:__main__:Test Accuracy of airplane: 36% (366/1000)\n",
            "INFO:__main__:Test Accuracy of automobile: 32% (320/1000)\n",
            "INFO:__main__:Test Accuracy of  bird: 55% (557/1000)\n",
            "INFO:__main__:Test Accuracy of   cat: 83% (836/1000)\n",
            "INFO:__main__:Test Accuracy of  deer:  3% (39/1000)\n",
            "INFO:__main__:Test Accuracy of   dog: 14% (146/1000)\n",
            "INFO:__main__:Test Accuracy of  frog: 33% (336/1000)\n",
            "INFO:__main__:Test Accuracy of horse:  4% (46/1000)\n",
            "INFO:__main__:Test Accuracy of  ship: 28% (280/1000)\n",
            "INFO:__main__:Test Accuracy of truck: 15% (153/1000)\n",
            "INFO:__main__:Test Accuracy (Overall): 30% (3079/10000)\n"
          ]
        },
        {
          "output_type": "stream",
          "name": "stdout",
          "text": [
            "Current trial : 10\n"
          ]
        },
        {
          "output_type": "stream",
          "name": "stderr",
          "text": [
            "INFO:__main__:Train Accuracy of airplane: 32% (1614/5000)\n",
            "INFO:__main__:Train Accuracy of automobile: 32% (1610/5000)\n",
            "INFO:__main__:Train Accuracy of  bird: 52% (2623/5000)\n",
            "INFO:__main__:Train Accuracy of   cat: 87% (4380/5000)\n",
            "INFO:__main__:Train Accuracy of  deer:  4% (241/5000)\n",
            "INFO:__main__:Train Accuracy of   dog: 14% (735/5000)\n",
            "INFO:__main__:Train Accuracy of  frog: 29% (1482/5000)\n",
            "INFO:__main__:Train Accuracy of horse:  6% (335/5000)\n",
            "INFO:__main__:Train Accuracy of  ship: 18% (937/5000)\n",
            "INFO:__main__:Train Accuracy of truck: 11% (582/5000)\n",
            "INFO:__main__:Train Accuracy (Overall): 29% (14539/50000)\n",
            "INFO:__main__:Test Accuracy of airplane: 37% (379/1000)\n",
            "INFO:__main__:Test Accuracy of automobile: 32% (323/1000)\n",
            "INFO:__main__:Test Accuracy of  bird: 56% (561/1000)\n",
            "INFO:__main__:Test Accuracy of   cat: 81% (815/1000)\n",
            "INFO:__main__:Test Accuracy of  deer:  4% (42/1000)\n",
            "INFO:__main__:Test Accuracy of   dog: 14% (140/1000)\n",
            "INFO:__main__:Test Accuracy of  frog: 31% (312/1000)\n",
            "INFO:__main__:Test Accuracy of horse:  6% (61/1000)\n",
            "INFO:__main__:Test Accuracy of  ship: 29% (290/1000)\n",
            "INFO:__main__:Test Accuracy of truck: 13% (138/1000)\n",
            "INFO:__main__:Test Accuracy (Overall): 30% (3061/10000)\n"
          ]
        },
        {
          "output_type": "stream",
          "name": "stdout",
          "text": [
            "Current trial : 11\n"
          ]
        },
        {
          "output_type": "stream",
          "name": "stderr",
          "text": [
            "INFO:__main__:Train Accuracy of airplane: 32% (1621/5000)\n",
            "INFO:__main__:Train Accuracy of automobile: 31% (1598/5000)\n",
            "INFO:__main__:Train Accuracy of  bird: 53% (2686/5000)\n",
            "INFO:__main__:Train Accuracy of   cat: 87% (4371/5000)\n",
            "INFO:__main__:Train Accuracy of  deer:  4% (215/5000)\n",
            "INFO:__main__:Train Accuracy of   dog: 14% (717/5000)\n",
            "INFO:__main__:Train Accuracy of  frog: 30% (1541/5000)\n",
            "INFO:__main__:Train Accuracy of horse:  6% (340/5000)\n",
            "INFO:__main__:Train Accuracy of  ship: 21% (1058/5000)\n",
            "INFO:__main__:Train Accuracy of truck: 12% (628/5000)\n",
            "INFO:__main__:Train Accuracy (Overall): 29% (14775/50000)\n",
            "INFO:__main__:Test Accuracy of airplane: 39% (390/1000)\n",
            "INFO:__main__:Test Accuracy of automobile: 31% (317/1000)\n",
            "INFO:__main__:Test Accuracy of  bird: 57% (570/1000)\n",
            "INFO:__main__:Test Accuracy of   cat: 83% (838/1000)\n",
            "INFO:__main__:Test Accuracy of  deer:  5% (59/1000)\n",
            "INFO:__main__:Test Accuracy of   dog: 15% (155/1000)\n",
            "INFO:__main__:Test Accuracy of  frog: 31% (316/1000)\n",
            "INFO:__main__:Test Accuracy of horse:  7% (71/1000)\n",
            "INFO:__main__:Test Accuracy of  ship: 29% (297/1000)\n",
            "INFO:__main__:Test Accuracy of truck: 14% (141/1000)\n",
            "INFO:__main__:Test Accuracy (Overall): 31% (3154/10000)\n"
          ]
        },
        {
          "output_type": "stream",
          "name": "stdout",
          "text": [
            "Current trial : 12\n"
          ]
        },
        {
          "output_type": "stream",
          "name": "stderr",
          "text": [
            "INFO:__main__:Train Accuracy of airplane: 32% (1601/5000)\n",
            "INFO:__main__:Train Accuracy of automobile: 32% (1626/5000)\n",
            "INFO:__main__:Train Accuracy of  bird: 54% (2717/5000)\n",
            "INFO:__main__:Train Accuracy of   cat: 87% (4399/5000)\n",
            "INFO:__main__:Train Accuracy of  deer:  4% (221/5000)\n",
            "INFO:__main__:Train Accuracy of   dog: 15% (785/5000)\n",
            "INFO:__main__:Train Accuracy of  frog: 30% (1547/5000)\n",
            "INFO:__main__:Train Accuracy of horse:  6% (341/5000)\n",
            "INFO:__main__:Train Accuracy of  ship: 20% (1002/5000)\n",
            "INFO:__main__:Train Accuracy of truck: 11% (593/5000)\n",
            "INFO:__main__:Train Accuracy (Overall): 29% (14832/50000)\n",
            "INFO:__main__:Test Accuracy of airplane: 38% (383/1000)\n",
            "INFO:__main__:Test Accuracy of automobile: 32% (323/1000)\n",
            "INFO:__main__:Test Accuracy of  bird: 56% (560/1000)\n",
            "INFO:__main__:Test Accuracy of   cat: 83% (835/1000)\n",
            "INFO:__main__:Test Accuracy of  deer:  5% (59/1000)\n",
            "INFO:__main__:Test Accuracy of   dog: 15% (152/1000)\n",
            "INFO:__main__:Test Accuracy of  frog: 33% (334/1000)\n",
            "INFO:__main__:Test Accuracy of horse:  6% (66/1000)\n",
            "INFO:__main__:Test Accuracy of  ship: 28% (288/1000)\n",
            "INFO:__main__:Test Accuracy of truck: 13% (133/1000)\n",
            "INFO:__main__:Test Accuracy (Overall): 31% (3133/10000)\n"
          ]
        },
        {
          "output_type": "stream",
          "name": "stdout",
          "text": [
            "Current trial : 13\n"
          ]
        },
        {
          "output_type": "stream",
          "name": "stderr",
          "text": [
            "INFO:__main__:Train Accuracy of airplane: 31% (1571/5000)\n",
            "INFO:__main__:Train Accuracy of automobile: 31% (1586/5000)\n",
            "INFO:__main__:Train Accuracy of  bird: 52% (2644/5000)\n",
            "INFO:__main__:Train Accuracy of   cat: 86% (4335/5000)\n",
            "INFO:__main__:Train Accuracy of  deer:  4% (234/5000)\n",
            "INFO:__main__:Train Accuracy of   dog: 15% (757/5000)\n",
            "INFO:__main__:Train Accuracy of  frog: 31% (1555/5000)\n",
            "INFO:__main__:Train Accuracy of horse:  6% (310/5000)\n",
            "INFO:__main__:Train Accuracy of  ship: 20% (1013/5000)\n",
            "INFO:__main__:Train Accuracy of truck: 12% (616/5000)\n",
            "INFO:__main__:Train Accuracy (Overall): 29% (14621/50000)\n",
            "INFO:__main__:Test Accuracy of airplane: 38% (384/1000)\n",
            "INFO:__main__:Test Accuracy of automobile: 32% (320/1000)\n",
            "INFO:__main__:Test Accuracy of  bird: 56% (566/1000)\n",
            "INFO:__main__:Test Accuracy of   cat: 83% (830/1000)\n",
            "INFO:__main__:Test Accuracy of  deer:  6% (62/1000)\n",
            "INFO:__main__:Test Accuracy of   dog: 14% (149/1000)\n",
            "INFO:__main__:Test Accuracy of  frog: 35% (353/1000)\n",
            "INFO:__main__:Test Accuracy of horse:  4% (45/1000)\n",
            "INFO:__main__:Test Accuracy of  ship: 28% (282/1000)\n",
            "INFO:__main__:Test Accuracy of truck: 12% (126/1000)\n",
            "INFO:__main__:Test Accuracy (Overall): 31% (3117/10000)\n"
          ]
        },
        {
          "output_type": "stream",
          "name": "stdout",
          "text": [
            "Current trial : 14\n"
          ]
        },
        {
          "output_type": "stream",
          "name": "stderr",
          "text": [
            "INFO:__main__:Train Accuracy of airplane: 31% (1584/5000)\n",
            "INFO:__main__:Train Accuracy of automobile: 31% (1582/5000)\n",
            "INFO:__main__:Train Accuracy of  bird: 54% (2733/5000)\n",
            "INFO:__main__:Train Accuracy of   cat: 87% (4368/5000)\n",
            "INFO:__main__:Train Accuracy of  deer:  3% (197/5000)\n",
            "INFO:__main__:Train Accuracy of   dog: 15% (763/5000)\n",
            "INFO:__main__:Train Accuracy of  frog: 30% (1509/5000)\n",
            "INFO:__main__:Train Accuracy of horse:  6% (328/5000)\n",
            "INFO:__main__:Train Accuracy of  ship: 19% (988/5000)\n",
            "INFO:__main__:Train Accuracy of truck: 11% (555/5000)\n",
            "INFO:__main__:Train Accuracy (Overall): 29% (14607/50000)\n",
            "INFO:__main__:Test Accuracy of airplane: 38% (382/1000)\n",
            "INFO:__main__:Test Accuracy of automobile: 31% (317/1000)\n",
            "INFO:__main__:Test Accuracy of  bird: 56% (565/1000)\n",
            "INFO:__main__:Test Accuracy of   cat: 84% (846/1000)\n",
            "INFO:__main__:Test Accuracy of  deer:  6% (63/1000)\n",
            "INFO:__main__:Test Accuracy of   dog: 15% (150/1000)\n",
            "INFO:__main__:Test Accuracy of  frog: 32% (327/1000)\n",
            "INFO:__main__:Test Accuracy of horse:  6% (62/1000)\n",
            "INFO:__main__:Test Accuracy of  ship: 26% (266/1000)\n",
            "INFO:__main__:Test Accuracy of truck: 12% (127/1000)\n",
            "INFO:__main__:Test Accuracy (Overall): 31% (3105/10000)\n"
          ]
        },
        {
          "output_type": "stream",
          "name": "stdout",
          "text": [
            "Current trial : 15\n"
          ]
        },
        {
          "output_type": "stream",
          "name": "stderr",
          "text": [
            "INFO:__main__:Train Accuracy of airplane: 31% (1581/5000)\n",
            "INFO:__main__:Train Accuracy of automobile: 32% (1611/5000)\n",
            "INFO:__main__:Train Accuracy of  bird: 53% (2657/5000)\n",
            "INFO:__main__:Train Accuracy of   cat: 87% (4388/5000)\n",
            "INFO:__main__:Train Accuracy of  deer:  4% (219/5000)\n",
            "INFO:__main__:Train Accuracy of   dog: 14% (744/5000)\n",
            "INFO:__main__:Train Accuracy of  frog: 31% (1559/5000)\n",
            "INFO:__main__:Train Accuracy of horse:  6% (321/5000)\n",
            "INFO:__main__:Train Accuracy of  ship: 19% (958/5000)\n",
            "INFO:__main__:Train Accuracy of truck: 12% (633/5000)\n",
            "INFO:__main__:Train Accuracy (Overall): 29% (14671/50000)\n",
            "INFO:__main__:Test Accuracy of airplane: 39% (397/1000)\n",
            "INFO:__main__:Test Accuracy of automobile: 32% (325/1000)\n",
            "INFO:__main__:Test Accuracy of  bird: 55% (558/1000)\n",
            "INFO:__main__:Test Accuracy of   cat: 82% (829/1000)\n",
            "INFO:__main__:Test Accuracy of  deer:  5% (57/1000)\n",
            "INFO:__main__:Test Accuracy of   dog: 16% (163/1000)\n",
            "INFO:__main__:Test Accuracy of  frog: 32% (326/1000)\n",
            "INFO:__main__:Test Accuracy of horse:  5% (58/1000)\n",
            "INFO:__main__:Test Accuracy of  ship: 29% (298/1000)\n",
            "INFO:__main__:Test Accuracy of truck: 13% (130/1000)\n",
            "INFO:__main__:Test Accuracy (Overall): 31% (3141/10000)\n"
          ]
        },
        {
          "output_type": "stream",
          "name": "stdout",
          "text": [
            "Current trial : 16\n"
          ]
        },
        {
          "output_type": "stream",
          "name": "stderr",
          "text": [
            "INFO:__main__:Train Accuracy of airplane: 31% (1575/5000)\n",
            "INFO:__main__:Train Accuracy of automobile: 32% (1608/5000)\n",
            "INFO:__main__:Train Accuracy of  bird: 54% (2703/5000)\n",
            "INFO:__main__:Train Accuracy of   cat: 86% (4340/5000)\n",
            "INFO:__main__:Train Accuracy of  deer:  4% (203/5000)\n",
            "INFO:__main__:Train Accuracy of   dog: 14% (733/5000)\n",
            "INFO:__main__:Train Accuracy of  frog: 30% (1523/5000)\n",
            "INFO:__main__:Train Accuracy of horse:  6% (329/5000)\n",
            "INFO:__main__:Train Accuracy of  ship: 19% (968/5000)\n",
            "INFO:__main__:Train Accuracy of truck: 12% (604/5000)\n",
            "INFO:__main__:Train Accuracy (Overall): 29% (14586/50000)\n",
            "INFO:__main__:Test Accuracy of airplane: 39% (394/1000)\n",
            "INFO:__main__:Test Accuracy of automobile: 33% (331/1000)\n",
            "INFO:__main__:Test Accuracy of  bird: 56% (566/1000)\n",
            "INFO:__main__:Test Accuracy of   cat: 85% (851/1000)\n",
            "INFO:__main__:Test Accuracy of  deer:  5% (59/1000)\n",
            "INFO:__main__:Test Accuracy of   dog: 14% (140/1000)\n",
            "INFO:__main__:Test Accuracy of  frog: 34% (341/1000)\n",
            "INFO:__main__:Test Accuracy of horse:  6% (63/1000)\n",
            "INFO:__main__:Test Accuracy of  ship: 30% (302/1000)\n",
            "INFO:__main__:Test Accuracy of truck: 11% (111/1000)\n",
            "INFO:__main__:Test Accuracy (Overall): 31% (3158/10000)\n"
          ]
        },
        {
          "output_type": "stream",
          "name": "stdout",
          "text": [
            "Current trial : 17\n"
          ]
        },
        {
          "output_type": "stream",
          "name": "stderr",
          "text": [
            "INFO:__main__:Train Accuracy of airplane: 31% (1570/5000)\n",
            "INFO:__main__:Train Accuracy of automobile: 32% (1642/5000)\n",
            "INFO:__main__:Train Accuracy of  bird: 54% (2705/5000)\n",
            "INFO:__main__:Train Accuracy of   cat: 87% (4377/5000)\n",
            "INFO:__main__:Train Accuracy of  deer:  4% (224/5000)\n",
            "INFO:__main__:Train Accuracy of   dog: 14% (744/5000)\n",
            "INFO:__main__:Train Accuracy of  frog: 31% (1550/5000)\n",
            "INFO:__main__:Train Accuracy of horse:  6% (333/5000)\n",
            "INFO:__main__:Train Accuracy of  ship: 20% (1005/5000)\n",
            "INFO:__main__:Train Accuracy of truck: 12% (627/5000)\n",
            "INFO:__main__:Train Accuracy (Overall): 29% (14777/50000)\n",
            "INFO:__main__:Test Accuracy of airplane: 38% (387/1000)\n",
            "INFO:__main__:Test Accuracy of automobile: 34% (345/1000)\n",
            "INFO:__main__:Test Accuracy of  bird: 58% (588/1000)\n",
            "INFO:__main__:Test Accuracy of   cat: 81% (819/1000)\n",
            "INFO:__main__:Test Accuracy of  deer:  3% (34/1000)\n",
            "INFO:__main__:Test Accuracy of   dog: 15% (154/1000)\n",
            "INFO:__main__:Test Accuracy of  frog: 34% (341/1000)\n",
            "INFO:__main__:Test Accuracy of horse:  6% (63/1000)\n",
            "INFO:__main__:Test Accuracy of  ship: 31% (314/1000)\n",
            "INFO:__main__:Test Accuracy of truck: 12% (122/1000)\n",
            "INFO:__main__:Test Accuracy (Overall): 31% (3167/10000)\n"
          ]
        },
        {
          "output_type": "stream",
          "name": "stdout",
          "text": [
            "Current trial : 18\n"
          ]
        },
        {
          "output_type": "stream",
          "name": "stderr",
          "text": [
            "INFO:__main__:Train Accuracy of airplane: 32% (1635/5000)\n",
            "INFO:__main__:Train Accuracy of automobile: 33% (1655/5000)\n",
            "INFO:__main__:Train Accuracy of  bird: 53% (2698/5000)\n",
            "INFO:__main__:Train Accuracy of   cat: 87% (4380/5000)\n",
            "INFO:__main__:Train Accuracy of  deer:  4% (209/5000)\n",
            "INFO:__main__:Train Accuracy of   dog: 15% (783/5000)\n",
            "INFO:__main__:Train Accuracy of  frog: 30% (1534/5000)\n",
            "INFO:__main__:Train Accuracy of horse:  6% (321/5000)\n",
            "INFO:__main__:Train Accuracy of  ship: 18% (949/5000)\n",
            "INFO:__main__:Train Accuracy of truck: 11% (599/5000)\n",
            "INFO:__main__:Train Accuracy (Overall): 29% (14763/50000)\n",
            "INFO:__main__:Test Accuracy of airplane: 39% (396/1000)\n",
            "INFO:__main__:Test Accuracy of automobile: 34% (345/1000)\n",
            "INFO:__main__:Test Accuracy of  bird: 56% (563/1000)\n",
            "INFO:__main__:Test Accuracy of   cat: 83% (838/1000)\n",
            "INFO:__main__:Test Accuracy of  deer:  5% (53/1000)\n",
            "INFO:__main__:Test Accuracy of   dog: 17% (170/1000)\n",
            "INFO:__main__:Test Accuracy of  frog: 31% (311/1000)\n",
            "INFO:__main__:Test Accuracy of horse:  5% (55/1000)\n",
            "INFO:__main__:Test Accuracy of  ship: 29% (292/1000)\n",
            "INFO:__main__:Test Accuracy of truck: 12% (122/1000)\n",
            "INFO:__main__:Test Accuracy (Overall): 31% (3145/10000)\n"
          ]
        },
        {
          "output_type": "stream",
          "name": "stdout",
          "text": [
            "Current trial : 19\n"
          ]
        },
        {
          "output_type": "stream",
          "name": "stderr",
          "text": [
            "INFO:__main__:Train Accuracy of airplane: 31% (1575/5000)\n",
            "INFO:__main__:Train Accuracy of automobile: 32% (1641/5000)\n",
            "INFO:__main__:Train Accuracy of  bird: 53% (2669/5000)\n",
            "INFO:__main__:Train Accuracy of   cat: 87% (4353/5000)\n",
            "INFO:__main__:Train Accuracy of  deer:  4% (237/5000)\n",
            "INFO:__main__:Train Accuracy of   dog: 16% (819/5000)\n",
            "INFO:__main__:Train Accuracy of  frog: 29% (1488/5000)\n",
            "INFO:__main__:Train Accuracy of horse:  7% (369/5000)\n",
            "INFO:__main__:Train Accuracy of  ship: 21% (1058/5000)\n",
            "INFO:__main__:Train Accuracy of truck: 12% (647/5000)\n",
            "INFO:__main__:Train Accuracy (Overall): 29% (14856/50000)\n",
            "INFO:__main__:Test Accuracy of airplane: 36% (365/1000)\n",
            "INFO:__main__:Test Accuracy of automobile: 32% (320/1000)\n",
            "INFO:__main__:Test Accuracy of  bird: 56% (561/1000)\n",
            "INFO:__main__:Test Accuracy of   cat: 82% (822/1000)\n",
            "INFO:__main__:Test Accuracy of  deer:  5% (53/1000)\n",
            "INFO:__main__:Test Accuracy of   dog: 14% (140/1000)\n",
            "INFO:__main__:Test Accuracy of  frog: 30% (304/1000)\n",
            "INFO:__main__:Test Accuracy of horse:  6% (66/1000)\n",
            "INFO:__main__:Test Accuracy of  ship: 30% (308/1000)\n",
            "INFO:__main__:Test Accuracy of truck: 14% (145/1000)\n",
            "INFO:__main__:Test Accuracy (Overall): 30% (3084/10000)\n"
          ]
        },
        {
          "output_type": "stream",
          "name": "stdout",
          "text": [
            "the following model ResNet18.first.0.4 is starting from epoch : 50\n",
            "Current Loss 0.06518802997473394 \n",
            "Loading into a new model with 0.91 dropout in first location\n",
            "Loading into a new model with 0.93 dropout in first location\n",
            "Loading into a new model with 0.95 dropout in first location\n",
            "Loading into a new model with 0.97 dropout in first location\n",
            "Loading into a new model with 0.99 dropout in first location\n",
            "Current trial : 0\n"
          ]
        },
        {
          "output_type": "stream",
          "name": "stderr",
          "text": [
            "INFO:__main__:Train Accuracy of airplane: 26% (1315/5000)\n",
            "INFO:__main__:Train Accuracy of automobile: 49% (2454/5000)\n",
            "INFO:__main__:Train Accuracy of  bird: 17% (873/5000)\n",
            "INFO:__main__:Train Accuracy of   cat: 92% (4600/5000)\n",
            "INFO:__main__:Train Accuracy of  deer: 27% (1367/5000)\n",
            "INFO:__main__:Train Accuracy of   dog: 32% (1601/5000)\n",
            "INFO:__main__:Train Accuracy of  frog: 39% (1996/5000)\n",
            "INFO:__main__:Train Accuracy of horse: 19% (993/5000)\n",
            "INFO:__main__:Train Accuracy of  ship: 11% (560/5000)\n",
            "INFO:__main__:Train Accuracy of truck: 40% (2022/5000)\n",
            "INFO:__main__:Train Accuracy (Overall): 35% (17781/50000)\n",
            "INFO:__main__:Test Accuracy of airplane: 31% (315/1000)\n",
            "INFO:__main__:Test Accuracy of automobile: 52% (527/1000)\n",
            "INFO:__main__:Test Accuracy of  bird: 17% (177/1000)\n",
            "INFO:__main__:Test Accuracy of   cat: 90% (908/1000)\n",
            "INFO:__main__:Test Accuracy of  deer: 31% (318/1000)\n",
            "INFO:__main__:Test Accuracy of   dog: 31% (312/1000)\n",
            "INFO:__main__:Test Accuracy of  frog: 43% (438/1000)\n",
            "INFO:__main__:Test Accuracy of horse: 23% (237/1000)\n",
            "INFO:__main__:Test Accuracy of  ship: 16% (160/1000)\n",
            "INFO:__main__:Test Accuracy of truck: 45% (457/1000)\n",
            "INFO:__main__:Test Accuracy (Overall): 38% (3849/10000)\n"
          ]
        },
        {
          "output_type": "stream",
          "name": "stdout",
          "text": [
            "Current trial : 1\n"
          ]
        },
        {
          "output_type": "stream",
          "name": "stderr",
          "text": [
            "INFO:__main__:Train Accuracy of airplane: 26% (1343/5000)\n",
            "INFO:__main__:Train Accuracy of automobile: 50% (2518/5000)\n",
            "INFO:__main__:Train Accuracy of  bird: 17% (879/5000)\n",
            "INFO:__main__:Train Accuracy of   cat: 91% (4581/5000)\n",
            "INFO:__main__:Train Accuracy of  deer: 29% (1480/5000)\n",
            "INFO:__main__:Train Accuracy of   dog: 32% (1616/5000)\n",
            "INFO:__main__:Train Accuracy of  frog: 40% (2004/5000)\n",
            "INFO:__main__:Train Accuracy of horse: 20% (1001/5000)\n",
            "INFO:__main__:Train Accuracy of  ship: 12% (606/5000)\n",
            "INFO:__main__:Train Accuracy of truck: 40% (2026/5000)\n",
            "INFO:__main__:Train Accuracy (Overall): 36% (18054/50000)\n",
            "INFO:__main__:Test Accuracy of airplane: 32% (329/1000)\n",
            "INFO:__main__:Test Accuracy of automobile: 49% (493/1000)\n",
            "INFO:__main__:Test Accuracy of  bird: 18% (182/1000)\n",
            "INFO:__main__:Test Accuracy of   cat: 88% (884/1000)\n",
            "INFO:__main__:Test Accuracy of  deer: 32% (327/1000)\n",
            "INFO:__main__:Test Accuracy of   dog: 28% (288/1000)\n",
            "INFO:__main__:Test Accuracy of  frog: 44% (444/1000)\n",
            "INFO:__main__:Test Accuracy of horse: 19% (195/1000)\n",
            "INFO:__main__:Test Accuracy of  ship: 18% (180/1000)\n",
            "INFO:__main__:Test Accuracy of truck: 48% (487/1000)\n",
            "INFO:__main__:Test Accuracy (Overall): 38% (3809/10000)\n"
          ]
        },
        {
          "output_type": "stream",
          "name": "stdout",
          "text": [
            "Current trial : 2\n"
          ]
        },
        {
          "output_type": "stream",
          "name": "stderr",
          "text": [
            "INFO:__main__:Train Accuracy of airplane: 26% (1338/5000)\n",
            "INFO:__main__:Train Accuracy of automobile: 52% (2617/5000)\n",
            "INFO:__main__:Train Accuracy of  bird: 16% (839/5000)\n",
            "INFO:__main__:Train Accuracy of   cat: 91% (4581/5000)\n",
            "INFO:__main__:Train Accuracy of  deer: 27% (1371/5000)\n",
            "INFO:__main__:Train Accuracy of   dog: 33% (1690/5000)\n",
            "INFO:__main__:Train Accuracy of  frog: 40% (2048/5000)\n",
            "INFO:__main__:Train Accuracy of horse: 20% (1015/5000)\n",
            "INFO:__main__:Train Accuracy of  ship: 12% (602/5000)\n",
            "INFO:__main__:Train Accuracy of truck: 40% (2022/5000)\n",
            "INFO:__main__:Train Accuracy (Overall): 36% (18123/50000)\n",
            "INFO:__main__:Test Accuracy of airplane: 31% (315/1000)\n",
            "INFO:__main__:Test Accuracy of automobile: 51% (510/1000)\n",
            "INFO:__main__:Test Accuracy of  bird: 17% (178/1000)\n",
            "INFO:__main__:Test Accuracy of   cat: 88% (887/1000)\n",
            "INFO:__main__:Test Accuracy of  deer: 33% (334/1000)\n",
            "INFO:__main__:Test Accuracy of   dog: 33% (334/1000)\n",
            "INFO:__main__:Test Accuracy of  frog: 42% (420/1000)\n",
            "INFO:__main__:Test Accuracy of horse: 20% (203/1000)\n",
            "INFO:__main__:Test Accuracy of  ship: 16% (167/1000)\n",
            "INFO:__main__:Test Accuracy of truck: 46% (469/1000)\n",
            "INFO:__main__:Test Accuracy (Overall): 38% (3817/10000)\n"
          ]
        },
        {
          "output_type": "stream",
          "name": "stdout",
          "text": [
            "Current trial : 3\n"
          ]
        },
        {
          "output_type": "stream",
          "name": "stderr",
          "text": [
            "INFO:__main__:Train Accuracy of airplane: 26% (1327/5000)\n",
            "INFO:__main__:Train Accuracy of automobile: 50% (2530/5000)\n",
            "INFO:__main__:Train Accuracy of  bird: 16% (833/5000)\n",
            "INFO:__main__:Train Accuracy of   cat: 92% (4613/5000)\n",
            "INFO:__main__:Train Accuracy of  deer: 28% (1415/5000)\n",
            "INFO:__main__:Train Accuracy of   dog: 32% (1643/5000)\n",
            "INFO:__main__:Train Accuracy of  frog: 39% (1977/5000)\n",
            "INFO:__main__:Train Accuracy of horse: 20% (1013/5000)\n",
            "INFO:__main__:Train Accuracy of  ship: 11% (590/5000)\n",
            "INFO:__main__:Train Accuracy of truck: 41% (2060/5000)\n",
            "INFO:__main__:Train Accuracy (Overall): 36% (18001/50000)\n",
            "INFO:__main__:Test Accuracy of airplane: 32% (322/1000)\n",
            "INFO:__main__:Test Accuracy of automobile: 51% (513/1000)\n",
            "INFO:__main__:Test Accuracy of  bird: 16% (162/1000)\n",
            "INFO:__main__:Test Accuracy of   cat: 88% (886/1000)\n",
            "INFO:__main__:Test Accuracy of  deer: 32% (326/1000)\n",
            "INFO:__main__:Test Accuracy of   dog: 32% (321/1000)\n",
            "INFO:__main__:Test Accuracy of  frog: 44% (449/1000)\n",
            "INFO:__main__:Test Accuracy of horse: 21% (210/1000)\n",
            "INFO:__main__:Test Accuracy of  ship: 14% (147/1000)\n",
            "INFO:__main__:Test Accuracy of truck: 47% (471/1000)\n",
            "INFO:__main__:Test Accuracy (Overall): 38% (3807/10000)\n"
          ]
        },
        {
          "output_type": "stream",
          "name": "stdout",
          "text": [
            "Current trial : 4\n"
          ]
        },
        {
          "output_type": "stream",
          "name": "stderr",
          "text": [
            "INFO:__main__:Train Accuracy of airplane: 25% (1288/5000)\n",
            "INFO:__main__:Train Accuracy of automobile: 51% (2551/5000)\n",
            "INFO:__main__:Train Accuracy of  bird: 16% (834/5000)\n",
            "INFO:__main__:Train Accuracy of   cat: 92% (4603/5000)\n",
            "INFO:__main__:Train Accuracy of  deer: 27% (1396/5000)\n",
            "INFO:__main__:Train Accuracy of   dog: 32% (1611/5000)\n",
            "INFO:__main__:Train Accuracy of  frog: 40% (2032/5000)\n",
            "INFO:__main__:Train Accuracy of horse: 19% (993/5000)\n",
            "INFO:__main__:Train Accuracy of  ship: 11% (583/5000)\n",
            "INFO:__main__:Train Accuracy of truck: 41% (2058/5000)\n",
            "INFO:__main__:Train Accuracy (Overall): 35% (17949/50000)\n",
            "INFO:__main__:Test Accuracy of airplane: 34% (341/1000)\n",
            "INFO:__main__:Test Accuracy of automobile: 50% (506/1000)\n",
            "INFO:__main__:Test Accuracy of  bird: 17% (175/1000)\n",
            "INFO:__main__:Test Accuracy of   cat: 89% (899/1000)\n",
            "INFO:__main__:Test Accuracy of  deer: 33% (336/1000)\n",
            "INFO:__main__:Test Accuracy of   dog: 32% (325/1000)\n",
            "INFO:__main__:Test Accuracy of  frog: 46% (461/1000)\n",
            "INFO:__main__:Test Accuracy of horse: 23% (235/1000)\n",
            "INFO:__main__:Test Accuracy of  ship: 15% (158/1000)\n",
            "INFO:__main__:Test Accuracy of truck: 49% (490/1000)\n",
            "INFO:__main__:Test Accuracy (Overall): 39% (3926/10000)\n"
          ]
        },
        {
          "output_type": "stream",
          "name": "stdout",
          "text": [
            "Current trial : 5\n"
          ]
        },
        {
          "output_type": "stream",
          "name": "stderr",
          "text": [
            "INFO:__main__:Train Accuracy of airplane: 26% (1307/5000)\n",
            "INFO:__main__:Train Accuracy of automobile: 49% (2493/5000)\n",
            "INFO:__main__:Train Accuracy of  bird: 16% (826/5000)\n",
            "INFO:__main__:Train Accuracy of   cat: 91% (4574/5000)\n",
            "INFO:__main__:Train Accuracy of  deer: 27% (1361/5000)\n",
            "INFO:__main__:Train Accuracy of   dog: 33% (1670/5000)\n",
            "INFO:__main__:Train Accuracy of  frog: 40% (2028/5000)\n",
            "INFO:__main__:Train Accuracy of horse: 20% (1016/5000)\n",
            "INFO:__main__:Train Accuracy of  ship: 12% (640/5000)\n",
            "INFO:__main__:Train Accuracy of truck: 40% (2048/5000)\n",
            "INFO:__main__:Train Accuracy (Overall): 35% (17963/50000)\n",
            "INFO:__main__:Test Accuracy of airplane: 33% (331/1000)\n",
            "INFO:__main__:Test Accuracy of automobile: 50% (505/1000)\n",
            "INFO:__main__:Test Accuracy of  bird: 17% (179/1000)\n",
            "INFO:__main__:Test Accuracy of   cat: 89% (898/1000)\n",
            "INFO:__main__:Test Accuracy of  deer: 32% (325/1000)\n",
            "INFO:__main__:Test Accuracy of   dog: 31% (317/1000)\n",
            "INFO:__main__:Test Accuracy of  frog: 42% (421/1000)\n",
            "INFO:__main__:Test Accuracy of horse: 21% (219/1000)\n",
            "INFO:__main__:Test Accuracy of  ship: 16% (168/1000)\n",
            "INFO:__main__:Test Accuracy of truck: 44% (443/1000)\n",
            "INFO:__main__:Test Accuracy (Overall): 38% (3806/10000)\n"
          ]
        },
        {
          "output_type": "stream",
          "name": "stdout",
          "text": [
            "Current trial : 6\n"
          ]
        },
        {
          "output_type": "stream",
          "name": "stderr",
          "text": [
            "INFO:__main__:Train Accuracy of airplane: 25% (1288/5000)\n",
            "INFO:__main__:Train Accuracy of automobile: 50% (2536/5000)\n",
            "INFO:__main__:Train Accuracy of  bird: 17% (861/5000)\n",
            "INFO:__main__:Train Accuracy of   cat: 91% (4586/5000)\n",
            "INFO:__main__:Train Accuracy of  deer: 27% (1363/5000)\n",
            "INFO:__main__:Train Accuracy of   dog: 32% (1649/5000)\n",
            "INFO:__main__:Train Accuracy of  frog: 40% (2008/5000)\n",
            "INFO:__main__:Train Accuracy of horse: 19% (999/5000)\n",
            "INFO:__main__:Train Accuracy of  ship: 11% (578/5000)\n",
            "INFO:__main__:Train Accuracy of truck: 40% (2035/5000)\n",
            "INFO:__main__:Train Accuracy (Overall): 35% (17903/50000)\n",
            "INFO:__main__:Test Accuracy of airplane: 32% (326/1000)\n",
            "INFO:__main__:Test Accuracy of automobile: 55% (551/1000)\n",
            "INFO:__main__:Test Accuracy of  bird: 17% (171/1000)\n",
            "INFO:__main__:Test Accuracy of   cat: 89% (893/1000)\n",
            "INFO:__main__:Test Accuracy of  deer: 33% (333/1000)\n",
            "INFO:__main__:Test Accuracy of   dog: 31% (313/1000)\n",
            "INFO:__main__:Test Accuracy of  frog: 44% (441/1000)\n",
            "INFO:__main__:Test Accuracy of horse: 22% (223/1000)\n",
            "INFO:__main__:Test Accuracy of  ship: 16% (166/1000)\n",
            "INFO:__main__:Test Accuracy of truck: 44% (442/1000)\n",
            "INFO:__main__:Test Accuracy (Overall): 38% (3859/10000)\n"
          ]
        },
        {
          "output_type": "stream",
          "name": "stdout",
          "text": [
            "Current trial : 7\n"
          ]
        },
        {
          "output_type": "stream",
          "name": "stderr",
          "text": [
            "INFO:__main__:Train Accuracy of airplane: 25% (1278/5000)\n",
            "INFO:__main__:Train Accuracy of automobile: 50% (2502/5000)\n",
            "INFO:__main__:Train Accuracy of  bird: 17% (873/5000)\n",
            "INFO:__main__:Train Accuracy of   cat: 92% (4636/5000)\n",
            "INFO:__main__:Train Accuracy of  deer: 27% (1364/5000)\n",
            "INFO:__main__:Train Accuracy of   dog: 32% (1642/5000)\n",
            "INFO:__main__:Train Accuracy of  frog: 39% (1958/5000)\n",
            "INFO:__main__:Train Accuracy of horse: 20% (1015/5000)\n",
            "INFO:__main__:Train Accuracy of  ship: 12% (607/5000)\n",
            "INFO:__main__:Train Accuracy of truck: 39% (1999/5000)\n",
            "INFO:__main__:Train Accuracy (Overall): 35% (17874/50000)\n",
            "INFO:__main__:Test Accuracy of airplane: 30% (302/1000)\n",
            "INFO:__main__:Test Accuracy of automobile: 50% (509/1000)\n",
            "INFO:__main__:Test Accuracy of  bird: 16% (164/1000)\n",
            "INFO:__main__:Test Accuracy of   cat: 90% (903/1000)\n",
            "INFO:__main__:Test Accuracy of  deer: 33% (339/1000)\n",
            "INFO:__main__:Test Accuracy of   dog: 33% (335/1000)\n",
            "INFO:__main__:Test Accuracy of  frog: 44% (443/1000)\n",
            "INFO:__main__:Test Accuracy of horse: 25% (251/1000)\n",
            "INFO:__main__:Test Accuracy of  ship: 15% (154/1000)\n",
            "INFO:__main__:Test Accuracy of truck: 48% (482/1000)\n",
            "INFO:__main__:Test Accuracy (Overall): 38% (3882/10000)\n"
          ]
        },
        {
          "output_type": "stream",
          "name": "stdout",
          "text": [
            "Current trial : 8\n"
          ]
        },
        {
          "output_type": "stream",
          "name": "stderr",
          "text": [
            "INFO:__main__:Train Accuracy of airplane: 26% (1301/5000)\n",
            "INFO:__main__:Train Accuracy of automobile: 49% (2491/5000)\n",
            "INFO:__main__:Train Accuracy of  bird: 17% (881/5000)\n",
            "INFO:__main__:Train Accuracy of   cat: 91% (4598/5000)\n",
            "INFO:__main__:Train Accuracy of  deer: 27% (1384/5000)\n",
            "INFO:__main__:Train Accuracy of   dog: 33% (1656/5000)\n",
            "INFO:__main__:Train Accuracy of  frog: 39% (1996/5000)\n",
            "INFO:__main__:Train Accuracy of horse: 18% (934/5000)\n",
            "INFO:__main__:Train Accuracy of  ship: 12% (637/5000)\n",
            "INFO:__main__:Train Accuracy of truck: 41% (2098/5000)\n",
            "INFO:__main__:Train Accuracy (Overall): 35% (17976/50000)\n",
            "INFO:__main__:Test Accuracy of airplane: 32% (322/1000)\n",
            "INFO:__main__:Test Accuracy of automobile: 49% (496/1000)\n",
            "INFO:__main__:Test Accuracy of  bird: 17% (178/1000)\n",
            "INFO:__main__:Test Accuracy of   cat: 90% (902/1000)\n",
            "INFO:__main__:Test Accuracy of  deer: 31% (318/1000)\n",
            "INFO:__main__:Test Accuracy of   dog: 32% (321/1000)\n",
            "INFO:__main__:Test Accuracy of  frog: 42% (424/1000)\n",
            "INFO:__main__:Test Accuracy of horse: 24% (243/1000)\n",
            "INFO:__main__:Test Accuracy of  ship: 16% (164/1000)\n",
            "INFO:__main__:Test Accuracy of truck: 46% (468/1000)\n",
            "INFO:__main__:Test Accuracy (Overall): 38% (3836/10000)\n"
          ]
        },
        {
          "output_type": "stream",
          "name": "stdout",
          "text": [
            "Current trial : 9\n"
          ]
        },
        {
          "output_type": "stream",
          "name": "stderr",
          "text": [
            "INFO:__main__:Train Accuracy of airplane: 25% (1289/5000)\n",
            "INFO:__main__:Train Accuracy of automobile: 51% (2577/5000)\n",
            "INFO:__main__:Train Accuracy of  bird: 18% (903/5000)\n",
            "INFO:__main__:Train Accuracy of   cat: 91% (4566/5000)\n",
            "INFO:__main__:Train Accuracy of  deer: 27% (1372/5000)\n",
            "INFO:__main__:Train Accuracy of   dog: 33% (1676/5000)\n",
            "INFO:__main__:Train Accuracy of  frog: 38% (1949/5000)\n",
            "INFO:__main__:Train Accuracy of horse: 19% (970/5000)\n",
            "INFO:__main__:Train Accuracy of  ship: 11% (578/5000)\n",
            "INFO:__main__:Train Accuracy of truck: 41% (2061/5000)\n",
            "INFO:__main__:Train Accuracy (Overall): 35% (17941/50000)\n",
            "INFO:__main__:Test Accuracy of airplane: 33% (331/1000)\n",
            "INFO:__main__:Test Accuracy of automobile: 51% (510/1000)\n",
            "INFO:__main__:Test Accuracy of  bird: 16% (160/1000)\n",
            "INFO:__main__:Test Accuracy of   cat: 91% (919/1000)\n",
            "INFO:__main__:Test Accuracy of  deer: 34% (347/1000)\n",
            "INFO:__main__:Test Accuracy of   dog: 34% (342/1000)\n",
            "INFO:__main__:Test Accuracy of  frog: 42% (423/1000)\n",
            "INFO:__main__:Test Accuracy of horse: 23% (230/1000)\n",
            "INFO:__main__:Test Accuracy of  ship: 16% (160/1000)\n",
            "INFO:__main__:Test Accuracy of truck: 46% (460/1000)\n",
            "INFO:__main__:Test Accuracy (Overall): 38% (3882/10000)\n"
          ]
        },
        {
          "output_type": "stream",
          "name": "stdout",
          "text": [
            "Current trial : 10\n"
          ]
        },
        {
          "output_type": "stream",
          "name": "stderr",
          "text": [
            "INFO:__main__:Train Accuracy of airplane: 26% (1303/5000)\n",
            "INFO:__main__:Train Accuracy of automobile: 49% (2468/5000)\n",
            "INFO:__main__:Train Accuracy of  bird: 16% (806/5000)\n",
            "INFO:__main__:Train Accuracy of   cat: 91% (4568/5000)\n",
            "INFO:__main__:Train Accuracy of  deer: 28% (1440/5000)\n",
            "INFO:__main__:Train Accuracy of   dog: 33% (1665/5000)\n",
            "INFO:__main__:Train Accuracy of  frog: 39% (1973/5000)\n",
            "INFO:__main__:Train Accuracy of horse: 18% (948/5000)\n",
            "INFO:__main__:Train Accuracy of  ship: 11% (575/5000)\n",
            "INFO:__main__:Train Accuracy of truck: 41% (2071/5000)\n",
            "INFO:__main__:Train Accuracy (Overall): 35% (17817/50000)\n",
            "INFO:__main__:Test Accuracy of airplane: 33% (338/1000)\n",
            "INFO:__main__:Test Accuracy of automobile: 50% (500/1000)\n",
            "INFO:__main__:Test Accuracy of  bird: 17% (177/1000)\n",
            "INFO:__main__:Test Accuracy of   cat: 91% (913/1000)\n",
            "INFO:__main__:Test Accuracy of  deer: 34% (340/1000)\n",
            "INFO:__main__:Test Accuracy of   dog: 31% (318/1000)\n",
            "INFO:__main__:Test Accuracy of  frog: 44% (447/1000)\n",
            "INFO:__main__:Test Accuracy of horse: 22% (224/1000)\n",
            "INFO:__main__:Test Accuracy of  ship: 17% (171/1000)\n",
            "INFO:__main__:Test Accuracy of truck: 48% (480/1000)\n",
            "INFO:__main__:Test Accuracy (Overall): 39% (3908/10000)\n"
          ]
        },
        {
          "output_type": "stream",
          "name": "stdout",
          "text": [
            "Current trial : 11\n"
          ]
        },
        {
          "output_type": "stream",
          "name": "stderr",
          "text": [
            "INFO:__main__:Train Accuracy of airplane: 25% (1278/5000)\n",
            "INFO:__main__:Train Accuracy of automobile: 50% (2512/5000)\n",
            "INFO:__main__:Train Accuracy of  bird: 16% (840/5000)\n",
            "INFO:__main__:Train Accuracy of   cat: 91% (4588/5000)\n",
            "INFO:__main__:Train Accuracy of  deer: 27% (1383/5000)\n",
            "INFO:__main__:Train Accuracy of   dog: 33% (1661/5000)\n",
            "INFO:__main__:Train Accuracy of  frog: 40% (2012/5000)\n",
            "INFO:__main__:Train Accuracy of horse: 20% (1014/5000)\n",
            "INFO:__main__:Train Accuracy of  ship: 12% (616/5000)\n",
            "INFO:__main__:Train Accuracy of truck: 42% (2110/5000)\n",
            "INFO:__main__:Train Accuracy (Overall): 36% (18014/50000)\n",
            "INFO:__main__:Test Accuracy of airplane: 33% (335/1000)\n",
            "INFO:__main__:Test Accuracy of automobile: 51% (514/1000)\n",
            "INFO:__main__:Test Accuracy of  bird: 17% (173/1000)\n",
            "INFO:__main__:Test Accuracy of   cat: 91% (917/1000)\n",
            "INFO:__main__:Test Accuracy of  deer: 32% (327/1000)\n",
            "INFO:__main__:Test Accuracy of   dog: 30% (300/1000)\n",
            "INFO:__main__:Test Accuracy of  frog: 43% (438/1000)\n",
            "INFO:__main__:Test Accuracy of horse: 21% (210/1000)\n",
            "INFO:__main__:Test Accuracy of  ship: 16% (163/1000)\n",
            "INFO:__main__:Test Accuracy of truck: 43% (437/1000)\n",
            "INFO:__main__:Test Accuracy (Overall): 38% (3814/10000)\n"
          ]
        },
        {
          "output_type": "stream",
          "name": "stdout",
          "text": [
            "Current trial : 12\n"
          ]
        },
        {
          "output_type": "stream",
          "name": "stderr",
          "text": [
            "INFO:__main__:Train Accuracy of airplane: 26% (1324/5000)\n",
            "INFO:__main__:Train Accuracy of automobile: 49% (2464/5000)\n",
            "INFO:__main__:Train Accuracy of  bird: 16% (845/5000)\n",
            "INFO:__main__:Train Accuracy of   cat: 91% (4589/5000)\n",
            "INFO:__main__:Train Accuracy of  deer: 27% (1360/5000)\n",
            "INFO:__main__:Train Accuracy of   dog: 34% (1702/5000)\n",
            "INFO:__main__:Train Accuracy of  frog: 40% (2003/5000)\n",
            "INFO:__main__:Train Accuracy of horse: 19% (976/5000)\n",
            "INFO:__main__:Train Accuracy of  ship: 11% (595/5000)\n",
            "INFO:__main__:Train Accuracy of truck: 41% (2055/5000)\n",
            "INFO:__main__:Train Accuracy (Overall): 35% (17913/50000)\n",
            "INFO:__main__:Test Accuracy of airplane: 32% (328/1000)\n",
            "INFO:__main__:Test Accuracy of automobile: 52% (521/1000)\n",
            "INFO:__main__:Test Accuracy of  bird: 17% (178/1000)\n",
            "INFO:__main__:Test Accuracy of   cat: 88% (886/1000)\n",
            "INFO:__main__:Test Accuracy of  deer: 32% (329/1000)\n",
            "INFO:__main__:Test Accuracy of   dog: 31% (314/1000)\n",
            "INFO:__main__:Test Accuracy of  frog: 43% (434/1000)\n",
            "INFO:__main__:Test Accuracy of horse: 22% (224/1000)\n",
            "INFO:__main__:Test Accuracy of  ship: 15% (157/1000)\n",
            "INFO:__main__:Test Accuracy of truck: 45% (451/1000)\n",
            "INFO:__main__:Test Accuracy (Overall): 38% (3822/10000)\n"
          ]
        },
        {
          "output_type": "stream",
          "name": "stdout",
          "text": [
            "Current trial : 13\n"
          ]
        },
        {
          "output_type": "stream",
          "name": "stderr",
          "text": [
            "INFO:__main__:Train Accuracy of airplane: 26% (1309/5000)\n",
            "INFO:__main__:Train Accuracy of automobile: 50% (2540/5000)\n",
            "INFO:__main__:Train Accuracy of  bird: 16% (834/5000)\n",
            "INFO:__main__:Train Accuracy of   cat: 91% (4569/5000)\n",
            "INFO:__main__:Train Accuracy of  deer: 28% (1400/5000)\n",
            "INFO:__main__:Train Accuracy of   dog: 32% (1624/5000)\n",
            "INFO:__main__:Train Accuracy of  frog: 39% (1992/5000)\n",
            "INFO:__main__:Train Accuracy of horse: 19% (978/5000)\n",
            "INFO:__main__:Train Accuracy of  ship: 11% (568/5000)\n",
            "INFO:__main__:Train Accuracy of truck: 41% (2091/5000)\n",
            "INFO:__main__:Train Accuracy (Overall): 35% (17905/50000)\n",
            "INFO:__main__:Test Accuracy of airplane: 33% (331/1000)\n",
            "INFO:__main__:Test Accuracy of automobile: 50% (500/1000)\n",
            "INFO:__main__:Test Accuracy of  bird: 18% (181/1000)\n",
            "INFO:__main__:Test Accuracy of   cat: 90% (902/1000)\n",
            "INFO:__main__:Test Accuracy of  deer: 32% (329/1000)\n",
            "INFO:__main__:Test Accuracy of   dog: 31% (314/1000)\n",
            "INFO:__main__:Test Accuracy of  frog: 43% (430/1000)\n",
            "INFO:__main__:Test Accuracy of horse: 23% (233/1000)\n",
            "INFO:__main__:Test Accuracy of  ship: 16% (169/1000)\n",
            "INFO:__main__:Test Accuracy of truck: 45% (452/1000)\n",
            "INFO:__main__:Test Accuracy (Overall): 38% (3841/10000)\n"
          ]
        },
        {
          "output_type": "stream",
          "name": "stdout",
          "text": [
            "Current trial : 14\n"
          ]
        },
        {
          "output_type": "stream",
          "name": "stderr",
          "text": [
            "INFO:__main__:Train Accuracy of airplane: 27% (1375/5000)\n",
            "INFO:__main__:Train Accuracy of automobile: 50% (2526/5000)\n",
            "INFO:__main__:Train Accuracy of  bird: 15% (795/5000)\n",
            "INFO:__main__:Train Accuracy of   cat: 91% (4586/5000)\n",
            "INFO:__main__:Train Accuracy of  deer: 28% (1432/5000)\n",
            "INFO:__main__:Train Accuracy of   dog: 33% (1671/5000)\n",
            "INFO:__main__:Train Accuracy of  frog: 38% (1944/5000)\n",
            "INFO:__main__:Train Accuracy of horse: 20% (1032/5000)\n",
            "INFO:__main__:Train Accuracy of  ship: 12% (600/5000)\n",
            "INFO:__main__:Train Accuracy of truck: 41% (2078/5000)\n",
            "INFO:__main__:Train Accuracy (Overall): 36% (18039/50000)\n",
            "INFO:__main__:Test Accuracy of airplane: 33% (337/1000)\n",
            "INFO:__main__:Test Accuracy of automobile: 51% (517/1000)\n",
            "INFO:__main__:Test Accuracy of  bird: 17% (175/1000)\n",
            "INFO:__main__:Test Accuracy of   cat: 89% (891/1000)\n",
            "INFO:__main__:Test Accuracy of  deer: 32% (326/1000)\n",
            "INFO:__main__:Test Accuracy of   dog: 31% (317/1000)\n",
            "INFO:__main__:Test Accuracy of  frog: 44% (449/1000)\n",
            "INFO:__main__:Test Accuracy of horse: 22% (227/1000)\n",
            "INFO:__main__:Test Accuracy of  ship: 15% (153/1000)\n",
            "INFO:__main__:Test Accuracy of truck: 46% (462/1000)\n",
            "INFO:__main__:Test Accuracy (Overall): 38% (3854/10000)\n"
          ]
        },
        {
          "output_type": "stream",
          "name": "stdout",
          "text": [
            "Current trial : 15\n"
          ]
        },
        {
          "output_type": "stream",
          "name": "stderr",
          "text": [
            "INFO:__main__:Train Accuracy of airplane: 26% (1324/5000)\n",
            "INFO:__main__:Train Accuracy of automobile: 50% (2505/5000)\n",
            "INFO:__main__:Train Accuracy of  bird: 16% (812/5000)\n",
            "INFO:__main__:Train Accuracy of   cat: 91% (4577/5000)\n",
            "INFO:__main__:Train Accuracy of  deer: 27% (1381/5000)\n",
            "INFO:__main__:Train Accuracy of   dog: 32% (1636/5000)\n",
            "INFO:__main__:Train Accuracy of  frog: 38% (1947/5000)\n",
            "INFO:__main__:Train Accuracy of horse: 19% (985/5000)\n",
            "INFO:__main__:Train Accuracy of  ship: 12% (633/5000)\n",
            "INFO:__main__:Train Accuracy of truck: 40% (2001/5000)\n",
            "INFO:__main__:Train Accuracy (Overall): 35% (17801/50000)\n",
            "INFO:__main__:Test Accuracy of airplane: 32% (322/1000)\n",
            "INFO:__main__:Test Accuracy of automobile: 51% (510/1000)\n",
            "INFO:__main__:Test Accuracy of  bird: 18% (180/1000)\n",
            "INFO:__main__:Test Accuracy of   cat: 90% (901/1000)\n",
            "INFO:__main__:Test Accuracy of  deer: 33% (332/1000)\n",
            "INFO:__main__:Test Accuracy of   dog: 32% (325/1000)\n",
            "INFO:__main__:Test Accuracy of  frog: 41% (415/1000)\n",
            "INFO:__main__:Test Accuracy of horse: 22% (227/1000)\n",
            "INFO:__main__:Test Accuracy of  ship: 14% (146/1000)\n",
            "INFO:__main__:Test Accuracy of truck: 45% (453/1000)\n",
            "INFO:__main__:Test Accuracy (Overall): 38% (3811/10000)\n"
          ]
        },
        {
          "output_type": "stream",
          "name": "stdout",
          "text": [
            "Current trial : 16\n"
          ]
        },
        {
          "output_type": "stream",
          "name": "stderr",
          "text": [
            "INFO:__main__:Train Accuracy of airplane: 26% (1331/5000)\n",
            "INFO:__main__:Train Accuracy of automobile: 51% (2564/5000)\n",
            "INFO:__main__:Train Accuracy of  bird: 17% (874/5000)\n",
            "INFO:__main__:Train Accuracy of   cat: 91% (4595/5000)\n",
            "INFO:__main__:Train Accuracy of  deer: 28% (1402/5000)\n",
            "INFO:__main__:Train Accuracy of   dog: 33% (1699/5000)\n",
            "INFO:__main__:Train Accuracy of  frog: 39% (1972/5000)\n",
            "INFO:__main__:Train Accuracy of horse: 19% (967/5000)\n",
            "INFO:__main__:Train Accuracy of  ship: 10% (549/5000)\n",
            "INFO:__main__:Train Accuracy of truck: 39% (1985/5000)\n",
            "INFO:__main__:Train Accuracy (Overall): 35% (17938/50000)\n",
            "INFO:__main__:Test Accuracy of airplane: 33% (335/1000)\n",
            "INFO:__main__:Test Accuracy of automobile: 51% (513/1000)\n",
            "INFO:__main__:Test Accuracy of  bird: 17% (176/1000)\n",
            "INFO:__main__:Test Accuracy of   cat: 89% (897/1000)\n",
            "INFO:__main__:Test Accuracy of  deer: 31% (312/1000)\n",
            "INFO:__main__:Test Accuracy of   dog: 31% (310/1000)\n",
            "INFO:__main__:Test Accuracy of  frog: 44% (442/1000)\n",
            "INFO:__main__:Test Accuracy of horse: 20% (204/1000)\n",
            "INFO:__main__:Test Accuracy of  ship: 16% (164/1000)\n",
            "INFO:__main__:Test Accuracy of truck: 46% (463/1000)\n",
            "INFO:__main__:Test Accuracy (Overall): 38% (3816/10000)\n"
          ]
        },
        {
          "output_type": "stream",
          "name": "stdout",
          "text": [
            "Current trial : 17\n"
          ]
        },
        {
          "output_type": "stream",
          "name": "stderr",
          "text": [
            "INFO:__main__:Train Accuracy of airplane: 26% (1315/5000)\n",
            "INFO:__main__:Train Accuracy of automobile: 49% (2494/5000)\n",
            "INFO:__main__:Train Accuracy of  bird: 18% (900/5000)\n",
            "INFO:__main__:Train Accuracy of   cat: 91% (4597/5000)\n",
            "INFO:__main__:Train Accuracy of  deer: 27% (1380/5000)\n",
            "INFO:__main__:Train Accuracy of   dog: 32% (1613/5000)\n",
            "INFO:__main__:Train Accuracy of  frog: 39% (1957/5000)\n",
            "INFO:__main__:Train Accuracy of horse: 19% (997/5000)\n",
            "INFO:__main__:Train Accuracy of  ship: 11% (595/5000)\n",
            "INFO:__main__:Train Accuracy of truck: 40% (2015/5000)\n",
            "INFO:__main__:Train Accuracy (Overall): 35% (17863/50000)\n",
            "INFO:__main__:Test Accuracy of airplane: 32% (324/1000)\n",
            "INFO:__main__:Test Accuracy of automobile: 49% (492/1000)\n",
            "INFO:__main__:Test Accuracy of  bird: 17% (179/1000)\n",
            "INFO:__main__:Test Accuracy of   cat: 89% (892/1000)\n",
            "INFO:__main__:Test Accuracy of  deer: 33% (330/1000)\n",
            "INFO:__main__:Test Accuracy of   dog: 32% (322/1000)\n",
            "INFO:__main__:Test Accuracy of  frog: 43% (433/1000)\n",
            "INFO:__main__:Test Accuracy of horse: 21% (214/1000)\n",
            "INFO:__main__:Test Accuracy of  ship: 16% (161/1000)\n",
            "INFO:__main__:Test Accuracy of truck: 44% (442/1000)\n",
            "INFO:__main__:Test Accuracy (Overall): 37% (3789/10000)\n"
          ]
        },
        {
          "output_type": "stream",
          "name": "stdout",
          "text": [
            "Current trial : 18\n"
          ]
        },
        {
          "output_type": "stream",
          "name": "stderr",
          "text": [
            "INFO:__main__:Train Accuracy of airplane: 26% (1304/5000)\n",
            "INFO:__main__:Train Accuracy of automobile: 50% (2531/5000)\n",
            "INFO:__main__:Train Accuracy of  bird: 17% (862/5000)\n",
            "INFO:__main__:Train Accuracy of   cat: 91% (4592/5000)\n",
            "INFO:__main__:Train Accuracy of  deer: 28% (1403/5000)\n",
            "INFO:__main__:Train Accuracy of   dog: 33% (1658/5000)\n",
            "INFO:__main__:Train Accuracy of  frog: 39% (1994/5000)\n",
            "INFO:__main__:Train Accuracy of horse: 19% (993/5000)\n",
            "INFO:__main__:Train Accuracy of  ship: 11% (565/5000)\n",
            "INFO:__main__:Train Accuracy of truck: 41% (2067/5000)\n",
            "INFO:__main__:Train Accuracy (Overall): 35% (17969/50000)\n",
            "INFO:__main__:Test Accuracy of airplane: 30% (306/1000)\n",
            "INFO:__main__:Test Accuracy of automobile: 51% (513/1000)\n",
            "INFO:__main__:Test Accuracy of  bird: 18% (181/1000)\n",
            "INFO:__main__:Test Accuracy of   cat: 89% (893/1000)\n",
            "INFO:__main__:Test Accuracy of  deer: 30% (302/1000)\n",
            "INFO:__main__:Test Accuracy of   dog: 32% (321/1000)\n",
            "INFO:__main__:Test Accuracy of  frog: 44% (440/1000)\n",
            "INFO:__main__:Test Accuracy of horse: 25% (254/1000)\n",
            "INFO:__main__:Test Accuracy of  ship: 15% (154/1000)\n",
            "INFO:__main__:Test Accuracy of truck: 46% (461/1000)\n",
            "INFO:__main__:Test Accuracy (Overall): 38% (3825/10000)\n"
          ]
        },
        {
          "output_type": "stream",
          "name": "stdout",
          "text": [
            "Current trial : 19\n"
          ]
        },
        {
          "output_type": "stream",
          "name": "stderr",
          "text": [
            "INFO:__main__:Train Accuracy of airplane: 27% (1351/5000)\n",
            "INFO:__main__:Train Accuracy of automobile: 50% (2531/5000)\n",
            "INFO:__main__:Train Accuracy of  bird: 16% (847/5000)\n",
            "INFO:__main__:Train Accuracy of   cat: 91% (4599/5000)\n",
            "INFO:__main__:Train Accuracy of  deer: 28% (1422/5000)\n",
            "INFO:__main__:Train Accuracy of   dog: 33% (1694/5000)\n",
            "INFO:__main__:Train Accuracy of  frog: 39% (1999/5000)\n",
            "INFO:__main__:Train Accuracy of horse: 20% (1025/5000)\n",
            "INFO:__main__:Train Accuracy of  ship: 11% (596/5000)\n",
            "INFO:__main__:Train Accuracy of truck: 39% (1992/5000)\n",
            "INFO:__main__:Train Accuracy (Overall): 36% (18056/50000)\n",
            "INFO:__main__:Test Accuracy of airplane: 34% (348/1000)\n",
            "INFO:__main__:Test Accuracy of automobile: 50% (508/1000)\n",
            "INFO:__main__:Test Accuracy of  bird: 19% (196/1000)\n",
            "INFO:__main__:Test Accuracy of   cat: 90% (900/1000)\n",
            "INFO:__main__:Test Accuracy of  deer: 33% (334/1000)\n",
            "INFO:__main__:Test Accuracy of   dog: 30% (305/1000)\n",
            "INFO:__main__:Test Accuracy of  frog: 42% (428/1000)\n",
            "INFO:__main__:Test Accuracy of horse: 21% (216/1000)\n",
            "INFO:__main__:Test Accuracy of  ship: 15% (157/1000)\n",
            "INFO:__main__:Test Accuracy of truck: 49% (490/1000)\n",
            "INFO:__main__:Test Accuracy (Overall): 38% (3882/10000)\n"
          ]
        },
        {
          "output_type": "stream",
          "name": "stdout",
          "text": [
            "the following model ResNet18.first.0.5 is starting from epoch : 50\n",
            "Current Loss 0.0672261366385501 \n",
            "Loading into a new model with 0.91 dropout in first location\n",
            "Loading into a new model with 0.93 dropout in first location\n",
            "Loading into a new model with 0.95 dropout in first location\n",
            "Loading into a new model with 0.97 dropout in first location\n",
            "Loading into a new model with 0.99 dropout in first location\n",
            "Current trial : 0\n"
          ]
        },
        {
          "output_type": "stream",
          "name": "stderr",
          "text": [
            "INFO:__main__:Train Accuracy of airplane: 55% (2785/5000)\n",
            "INFO:__main__:Train Accuracy of automobile: 89% (4454/5000)\n",
            "INFO:__main__:Train Accuracy of  bird: 54% (2725/5000)\n",
            "INFO:__main__:Train Accuracy of   cat: 50% (2544/5000)\n",
            "INFO:__main__:Train Accuracy of  deer: 44% (2222/5000)\n",
            "INFO:__main__:Train Accuracy of   dog: 46% (2328/5000)\n",
            "INFO:__main__:Train Accuracy of  frog: 53% (2698/5000)\n",
            "INFO:__main__:Train Accuracy of horse: 60% (3033/5000)\n",
            "INFO:__main__:Train Accuracy of  ship: 23% (1197/5000)\n",
            "INFO:__main__:Train Accuracy of truck: 49% (2450/5000)\n",
            "INFO:__main__:Train Accuracy (Overall): 52% (26436/50000)\n",
            "INFO:__main__:Test Accuracy of airplane: 60% (606/1000)\n",
            "INFO:__main__:Test Accuracy of automobile: 87% (872/1000)\n",
            "INFO:__main__:Test Accuracy of  bird: 55% (555/1000)\n",
            "INFO:__main__:Test Accuracy of   cat: 44% (447/1000)\n",
            "INFO:__main__:Test Accuracy of  deer: 50% (505/1000)\n",
            "INFO:__main__:Test Accuracy of   dog: 46% (469/1000)\n",
            "INFO:__main__:Test Accuracy of  frog: 54% (545/1000)\n",
            "INFO:__main__:Test Accuracy of horse: 62% (624/1000)\n",
            "INFO:__main__:Test Accuracy of  ship: 28% (283/1000)\n",
            "INFO:__main__:Test Accuracy of truck: 51% (511/1000)\n",
            "INFO:__main__:Test Accuracy (Overall): 54% (5417/10000)\n"
          ]
        },
        {
          "output_type": "stream",
          "name": "stdout",
          "text": [
            "Current trial : 1\n"
          ]
        },
        {
          "output_type": "stream",
          "name": "stderr",
          "text": [
            "INFO:__main__:Train Accuracy of airplane: 55% (2774/5000)\n",
            "INFO:__main__:Train Accuracy of automobile: 88% (4419/5000)\n",
            "INFO:__main__:Train Accuracy of  bird: 52% (2636/5000)\n",
            "INFO:__main__:Train Accuracy of   cat: 50% (2504/5000)\n",
            "INFO:__main__:Train Accuracy of  deer: 45% (2279/5000)\n",
            "INFO:__main__:Train Accuracy of   dog: 44% (2207/5000)\n",
            "INFO:__main__:Train Accuracy of  frog: 54% (2732/5000)\n",
            "INFO:__main__:Train Accuracy of horse: 62% (3114/5000)\n",
            "INFO:__main__:Train Accuracy of  ship: 23% (1175/5000)\n",
            "INFO:__main__:Train Accuracy of truck: 48% (2439/5000)\n",
            "INFO:__main__:Train Accuracy (Overall): 52% (26279/50000)\n",
            "INFO:__main__:Test Accuracy of airplane: 61% (619/1000)\n",
            "INFO:__main__:Test Accuracy of automobile: 86% (864/1000)\n",
            "INFO:__main__:Test Accuracy of  bird: 55% (554/1000)\n",
            "INFO:__main__:Test Accuracy of   cat: 45% (454/1000)\n",
            "INFO:__main__:Test Accuracy of  deer: 48% (488/1000)\n",
            "INFO:__main__:Test Accuracy of   dog: 45% (454/1000)\n",
            "INFO:__main__:Test Accuracy of  frog: 56% (561/1000)\n",
            "INFO:__main__:Test Accuracy of horse: 63% (632/1000)\n",
            "INFO:__main__:Test Accuracy of  ship: 29% (295/1000)\n",
            "INFO:__main__:Test Accuracy of truck: 50% (504/1000)\n",
            "INFO:__main__:Test Accuracy (Overall): 54% (5425/10000)\n"
          ]
        },
        {
          "output_type": "stream",
          "name": "stdout",
          "text": [
            "Current trial : 2\n"
          ]
        },
        {
          "output_type": "stream",
          "name": "stderr",
          "text": [
            "INFO:__main__:Train Accuracy of airplane: 55% (2765/5000)\n",
            "INFO:__main__:Train Accuracy of automobile: 88% (4419/5000)\n",
            "INFO:__main__:Train Accuracy of  bird: 53% (2696/5000)\n",
            "INFO:__main__:Train Accuracy of   cat: 52% (2600/5000)\n",
            "INFO:__main__:Train Accuracy of  deer: 45% (2278/5000)\n",
            "INFO:__main__:Train Accuracy of   dog: 44% (2204/5000)\n",
            "INFO:__main__:Train Accuracy of  frog: 54% (2729/5000)\n",
            "INFO:__main__:Train Accuracy of horse: 61% (3075/5000)\n",
            "INFO:__main__:Train Accuracy of  ship: 23% (1153/5000)\n",
            "INFO:__main__:Train Accuracy of truck: 50% (2509/5000)\n",
            "INFO:__main__:Train Accuracy (Overall): 52% (26428/50000)\n",
            "INFO:__main__:Test Accuracy of airplane: 62% (625/1000)\n",
            "INFO:__main__:Test Accuracy of automobile: 86% (864/1000)\n",
            "INFO:__main__:Test Accuracy of  bird: 54% (541/1000)\n",
            "INFO:__main__:Test Accuracy of   cat: 45% (454/1000)\n",
            "INFO:__main__:Test Accuracy of  deer: 47% (475/1000)\n",
            "INFO:__main__:Test Accuracy of   dog: 47% (477/1000)\n",
            "INFO:__main__:Test Accuracy of  frog: 54% (543/1000)\n",
            "INFO:__main__:Test Accuracy of horse: 63% (638/1000)\n",
            "INFO:__main__:Test Accuracy of  ship: 31% (310/1000)\n",
            "INFO:__main__:Test Accuracy of truck: 51% (514/1000)\n",
            "INFO:__main__:Test Accuracy (Overall): 54% (5441/10000)\n"
          ]
        },
        {
          "output_type": "stream",
          "name": "stdout",
          "text": [
            "Current trial : 3\n"
          ]
        },
        {
          "output_type": "stream",
          "name": "stderr",
          "text": [
            "INFO:__main__:Train Accuracy of airplane: 56% (2838/5000)\n",
            "INFO:__main__:Train Accuracy of automobile: 88% (4436/5000)\n",
            "INFO:__main__:Train Accuracy of  bird: 53% (2691/5000)\n",
            "INFO:__main__:Train Accuracy of   cat: 51% (2559/5000)\n",
            "INFO:__main__:Train Accuracy of  deer: 45% (2272/5000)\n",
            "INFO:__main__:Train Accuracy of   dog: 45% (2291/5000)\n",
            "INFO:__main__:Train Accuracy of  frog: 53% (2656/5000)\n",
            "INFO:__main__:Train Accuracy of horse: 61% (3061/5000)\n",
            "INFO:__main__:Train Accuracy of  ship: 23% (1169/5000)\n",
            "INFO:__main__:Train Accuracy of truck: 48% (2418/5000)\n",
            "INFO:__main__:Train Accuracy (Overall): 52% (26391/50000)\n",
            "INFO:__main__:Test Accuracy of airplane: 60% (606/1000)\n",
            "INFO:__main__:Test Accuracy of automobile: 87% (878/1000)\n",
            "INFO:__main__:Test Accuracy of  bird: 56% (560/1000)\n",
            "INFO:__main__:Test Accuracy of   cat: 47% (472/1000)\n",
            "INFO:__main__:Test Accuracy of  deer: 50% (500/1000)\n",
            "INFO:__main__:Test Accuracy of   dog: 47% (478/1000)\n",
            "INFO:__main__:Test Accuracy of  frog: 55% (559/1000)\n",
            "INFO:__main__:Test Accuracy of horse: 63% (636/1000)\n",
            "INFO:__main__:Test Accuracy of  ship: 30% (300/1000)\n",
            "INFO:__main__:Test Accuracy of truck: 49% (497/1000)\n",
            "INFO:__main__:Test Accuracy (Overall): 54% (5486/10000)\n"
          ]
        },
        {
          "output_type": "stream",
          "name": "stdout",
          "text": [
            "Current trial : 4\n"
          ]
        },
        {
          "output_type": "stream",
          "name": "stderr",
          "text": [
            "INFO:__main__:Train Accuracy of airplane: 55% (2786/5000)\n",
            "INFO:__main__:Train Accuracy of automobile: 87% (4384/5000)\n",
            "INFO:__main__:Train Accuracy of  bird: 53% (2656/5000)\n",
            "INFO:__main__:Train Accuracy of   cat: 51% (2569/5000)\n",
            "INFO:__main__:Train Accuracy of  deer: 44% (2232/5000)\n",
            "INFO:__main__:Train Accuracy of   dog: 45% (2275/5000)\n",
            "INFO:__main__:Train Accuracy of  frog: 52% (2632/5000)\n",
            "INFO:__main__:Train Accuracy of horse: 61% (3051/5000)\n",
            "INFO:__main__:Train Accuracy of  ship: 23% (1173/5000)\n",
            "INFO:__main__:Train Accuracy of truck: 49% (2473/5000)\n",
            "INFO:__main__:Train Accuracy (Overall): 52% (26231/50000)\n",
            "INFO:__main__:Test Accuracy of airplane: 66% (663/1000)\n",
            "INFO:__main__:Test Accuracy of automobile: 89% (891/1000)\n",
            "INFO:__main__:Test Accuracy of  bird: 56% (560/1000)\n",
            "INFO:__main__:Test Accuracy of   cat: 46% (460/1000)\n",
            "INFO:__main__:Test Accuracy of  deer: 46% (462/1000)\n",
            "INFO:__main__:Test Accuracy of   dog: 47% (478/1000)\n",
            "INFO:__main__:Test Accuracy of  frog: 58% (584/1000)\n",
            "INFO:__main__:Test Accuracy of horse: 64% (645/1000)\n",
            "INFO:__main__:Test Accuracy of  ship: 28% (284/1000)\n",
            "INFO:__main__:Test Accuracy of truck: 50% (508/1000)\n",
            "INFO:__main__:Test Accuracy (Overall): 55% (5535/10000)\n"
          ]
        },
        {
          "output_type": "stream",
          "name": "stdout",
          "text": [
            "Current trial : 5\n"
          ]
        },
        {
          "output_type": "stream",
          "name": "stderr",
          "text": [
            "INFO:__main__:Train Accuracy of airplane: 56% (2833/5000)\n",
            "INFO:__main__:Train Accuracy of automobile: 87% (4392/5000)\n",
            "INFO:__main__:Train Accuracy of  bird: 54% (2719/5000)\n",
            "INFO:__main__:Train Accuracy of   cat: 50% (2507/5000)\n",
            "INFO:__main__:Train Accuracy of  deer: 46% (2326/5000)\n",
            "INFO:__main__:Train Accuracy of   dog: 44% (2231/5000)\n",
            "INFO:__main__:Train Accuracy of  frog: 53% (2673/5000)\n",
            "INFO:__main__:Train Accuracy of horse: 61% (3085/5000)\n",
            "INFO:__main__:Train Accuracy of  ship: 24% (1220/5000)\n",
            "INFO:__main__:Train Accuracy of truck: 50% (2515/5000)\n",
            "INFO:__main__:Train Accuracy (Overall): 53% (26501/50000)\n",
            "INFO:__main__:Test Accuracy of airplane: 62% (624/1000)\n",
            "INFO:__main__:Test Accuracy of automobile: 86% (866/1000)\n",
            "INFO:__main__:Test Accuracy of  bird: 55% (552/1000)\n",
            "INFO:__main__:Test Accuracy of   cat: 48% (487/1000)\n",
            "INFO:__main__:Test Accuracy of  deer: 45% (458/1000)\n",
            "INFO:__main__:Test Accuracy of   dog: 47% (474/1000)\n",
            "INFO:__main__:Test Accuracy of  frog: 52% (529/1000)\n",
            "INFO:__main__:Test Accuracy of horse: 64% (645/1000)\n",
            "INFO:__main__:Test Accuracy of  ship: 29% (292/1000)\n",
            "INFO:__main__:Test Accuracy of truck: 51% (517/1000)\n",
            "INFO:__main__:Test Accuracy (Overall): 54% (5444/10000)\n"
          ]
        },
        {
          "output_type": "stream",
          "name": "stdout",
          "text": [
            "Current trial : 6\n"
          ]
        },
        {
          "output_type": "stream",
          "name": "stderr",
          "text": [
            "INFO:__main__:Train Accuracy of airplane: 56% (2806/5000)\n",
            "INFO:__main__:Train Accuracy of automobile: 88% (4412/5000)\n",
            "INFO:__main__:Train Accuracy of  bird: 53% (2664/5000)\n",
            "INFO:__main__:Train Accuracy of   cat: 51% (2552/5000)\n",
            "INFO:__main__:Train Accuracy of  deer: 45% (2283/5000)\n",
            "INFO:__main__:Train Accuracy of   dog: 43% (2150/5000)\n",
            "INFO:__main__:Train Accuracy of  frog: 53% (2682/5000)\n",
            "INFO:__main__:Train Accuracy of horse: 60% (3047/5000)\n",
            "INFO:__main__:Train Accuracy of  ship: 23% (1195/5000)\n",
            "INFO:__main__:Train Accuracy of truck: 51% (2562/5000)\n",
            "INFO:__main__:Train Accuracy (Overall): 52% (26353/50000)\n",
            "INFO:__main__:Test Accuracy of airplane: 60% (601/1000)\n",
            "INFO:__main__:Test Accuracy of automobile: 86% (868/1000)\n",
            "INFO:__main__:Test Accuracy of  bird: 59% (592/1000)\n",
            "INFO:__main__:Test Accuracy of   cat: 44% (449/1000)\n",
            "INFO:__main__:Test Accuracy of  deer: 49% (496/1000)\n",
            "INFO:__main__:Test Accuracy of   dog: 46% (469/1000)\n",
            "INFO:__main__:Test Accuracy of  frog: 58% (584/1000)\n",
            "INFO:__main__:Test Accuracy of horse: 62% (628/1000)\n",
            "INFO:__main__:Test Accuracy of  ship: 32% (329/1000)\n",
            "INFO:__main__:Test Accuracy of truck: 50% (505/1000)\n",
            "INFO:__main__:Test Accuracy (Overall): 55% (5521/10000)\n"
          ]
        },
        {
          "output_type": "stream",
          "name": "stdout",
          "text": [
            "Current trial : 7\n"
          ]
        },
        {
          "output_type": "stream",
          "name": "stderr",
          "text": [
            "INFO:__main__:Train Accuracy of airplane: 55% (2783/5000)\n",
            "INFO:__main__:Train Accuracy of automobile: 87% (4394/5000)\n",
            "INFO:__main__:Train Accuracy of  bird: 53% (2670/5000)\n",
            "INFO:__main__:Train Accuracy of   cat: 52% (2617/5000)\n",
            "INFO:__main__:Train Accuracy of  deer: 45% (2250/5000)\n",
            "INFO:__main__:Train Accuracy of   dog: 45% (2289/5000)\n",
            "INFO:__main__:Train Accuracy of  frog: 53% (2653/5000)\n",
            "INFO:__main__:Train Accuracy of horse: 61% (3051/5000)\n",
            "INFO:__main__:Train Accuracy of  ship: 22% (1149/5000)\n",
            "INFO:__main__:Train Accuracy of truck: 50% (2508/5000)\n",
            "INFO:__main__:Train Accuracy (Overall): 52% (26364/50000)\n",
            "INFO:__main__:Test Accuracy of airplane: 63% (632/1000)\n",
            "INFO:__main__:Test Accuracy of automobile: 87% (875/1000)\n",
            "INFO:__main__:Test Accuracy of  bird: 52% (529/1000)\n",
            "INFO:__main__:Test Accuracy of   cat: 44% (440/1000)\n",
            "INFO:__main__:Test Accuracy of  deer: 48% (482/1000)\n",
            "INFO:__main__:Test Accuracy of   dog: 47% (473/1000)\n",
            "INFO:__main__:Test Accuracy of  frog: 55% (558/1000)\n",
            "INFO:__main__:Test Accuracy of horse: 63% (637/1000)\n",
            "INFO:__main__:Test Accuracy of  ship: 28% (280/1000)\n",
            "INFO:__main__:Test Accuracy of truck: 53% (530/1000)\n",
            "INFO:__main__:Test Accuracy (Overall): 54% (5436/10000)\n"
          ]
        },
        {
          "output_type": "stream",
          "name": "stdout",
          "text": [
            "Current trial : 8\n"
          ]
        },
        {
          "output_type": "stream",
          "name": "stderr",
          "text": [
            "INFO:__main__:Train Accuracy of airplane: 54% (2746/5000)\n",
            "INFO:__main__:Train Accuracy of automobile: 88% (4418/5000)\n",
            "INFO:__main__:Train Accuracy of  bird: 53% (2668/5000)\n",
            "INFO:__main__:Train Accuracy of   cat: 51% (2580/5000)\n",
            "INFO:__main__:Train Accuracy of  deer: 44% (2236/5000)\n",
            "INFO:__main__:Train Accuracy of   dog: 45% (2252/5000)\n",
            "INFO:__main__:Train Accuracy of  frog: 54% (2704/5000)\n",
            "INFO:__main__:Train Accuracy of horse: 61% (3073/5000)\n",
            "INFO:__main__:Train Accuracy of  ship: 23% (1151/5000)\n",
            "INFO:__main__:Train Accuracy of truck: 50% (2504/5000)\n",
            "INFO:__main__:Train Accuracy (Overall): 52% (26332/50000)\n",
            "INFO:__main__:Test Accuracy of airplane: 60% (606/1000)\n",
            "INFO:__main__:Test Accuracy of automobile: 88% (880/1000)\n",
            "INFO:__main__:Test Accuracy of  bird: 52% (529/1000)\n",
            "INFO:__main__:Test Accuracy of   cat: 46% (465/1000)\n",
            "INFO:__main__:Test Accuracy of  deer: 48% (483/1000)\n",
            "INFO:__main__:Test Accuracy of   dog: 47% (470/1000)\n",
            "INFO:__main__:Test Accuracy of  frog: 54% (545/1000)\n",
            "INFO:__main__:Test Accuracy of horse: 64% (641/1000)\n",
            "INFO:__main__:Test Accuracy of  ship: 28% (288/1000)\n",
            "INFO:__main__:Test Accuracy of truck: 51% (517/1000)\n",
            "INFO:__main__:Test Accuracy (Overall): 54% (5424/10000)\n"
          ]
        },
        {
          "output_type": "stream",
          "name": "stdout",
          "text": [
            "Current trial : 9\n"
          ]
        },
        {
          "output_type": "stream",
          "name": "stderr",
          "text": [
            "INFO:__main__:Train Accuracy of airplane: 55% (2766/5000)\n",
            "INFO:__main__:Train Accuracy of automobile: 88% (4412/5000)\n",
            "INFO:__main__:Train Accuracy of  bird: 53% (2661/5000)\n",
            "INFO:__main__:Train Accuracy of   cat: 49% (2485/5000)\n",
            "INFO:__main__:Train Accuracy of  deer: 45% (2261/5000)\n",
            "INFO:__main__:Train Accuracy of   dog: 44% (2235/5000)\n",
            "INFO:__main__:Train Accuracy of  frog: 54% (2704/5000)\n",
            "INFO:__main__:Train Accuracy of horse: 61% (3063/5000)\n",
            "INFO:__main__:Train Accuracy of  ship: 22% (1137/5000)\n",
            "INFO:__main__:Train Accuracy of truck: 49% (2472/5000)\n",
            "INFO:__main__:Train Accuracy (Overall): 52% (26196/50000)\n",
            "INFO:__main__:Test Accuracy of airplane: 60% (602/1000)\n",
            "INFO:__main__:Test Accuracy of automobile: 86% (866/1000)\n",
            "INFO:__main__:Test Accuracy of  bird: 55% (556/1000)\n",
            "INFO:__main__:Test Accuracy of   cat: 46% (462/1000)\n",
            "INFO:__main__:Test Accuracy of  deer: 50% (507/1000)\n",
            "INFO:__main__:Test Accuracy of   dog: 47% (471/1000)\n",
            "INFO:__main__:Test Accuracy of  frog: 54% (542/1000)\n",
            "INFO:__main__:Test Accuracy of horse: 62% (621/1000)\n",
            "INFO:__main__:Test Accuracy of  ship: 28% (282/1000)\n",
            "INFO:__main__:Test Accuracy of truck: 53% (535/1000)\n",
            "INFO:__main__:Test Accuracy (Overall): 54% (5444/10000)\n"
          ]
        },
        {
          "output_type": "stream",
          "name": "stdout",
          "text": [
            "Current trial : 10\n"
          ]
        },
        {
          "output_type": "stream",
          "name": "stderr",
          "text": [
            "INFO:__main__:Train Accuracy of airplane: 56% (2838/5000)\n",
            "INFO:__main__:Train Accuracy of automobile: 87% (4355/5000)\n",
            "INFO:__main__:Train Accuracy of  bird: 54% (2709/5000)\n",
            "INFO:__main__:Train Accuracy of   cat: 51% (2565/5000)\n",
            "INFO:__main__:Train Accuracy of  deer: 45% (2287/5000)\n",
            "INFO:__main__:Train Accuracy of   dog: 44% (2236/5000)\n",
            "INFO:__main__:Train Accuracy of  frog: 52% (2642/5000)\n",
            "INFO:__main__:Train Accuracy of horse: 60% (3043/5000)\n",
            "INFO:__main__:Train Accuracy of  ship: 22% (1148/5000)\n",
            "INFO:__main__:Train Accuracy of truck: 49% (2490/5000)\n",
            "INFO:__main__:Train Accuracy (Overall): 52% (26313/50000)\n",
            "INFO:__main__:Test Accuracy of airplane: 62% (621/1000)\n",
            "INFO:__main__:Test Accuracy of automobile: 88% (881/1000)\n",
            "INFO:__main__:Test Accuracy of  bird: 54% (543/1000)\n",
            "INFO:__main__:Test Accuracy of   cat: 46% (461/1000)\n",
            "INFO:__main__:Test Accuracy of  deer: 49% (490/1000)\n",
            "INFO:__main__:Test Accuracy of   dog: 44% (441/1000)\n",
            "INFO:__main__:Test Accuracy of  frog: 54% (545/1000)\n",
            "INFO:__main__:Test Accuracy of horse: 61% (619/1000)\n",
            "INFO:__main__:Test Accuracy of  ship: 29% (299/1000)\n",
            "INFO:__main__:Test Accuracy of truck: 50% (506/1000)\n",
            "INFO:__main__:Test Accuracy (Overall): 54% (5406/10000)\n"
          ]
        },
        {
          "output_type": "stream",
          "name": "stdout",
          "text": [
            "Current trial : 11\n"
          ]
        },
        {
          "output_type": "stream",
          "name": "stderr",
          "text": [
            "INFO:__main__:Train Accuracy of airplane: 57% (2897/5000)\n",
            "INFO:__main__:Train Accuracy of automobile: 88% (4432/5000)\n",
            "INFO:__main__:Train Accuracy of  bird: 53% (2687/5000)\n",
            "INFO:__main__:Train Accuracy of   cat: 52% (2625/5000)\n",
            "INFO:__main__:Train Accuracy of  deer: 45% (2263/5000)\n",
            "INFO:__main__:Train Accuracy of   dog: 43% (2190/5000)\n",
            "INFO:__main__:Train Accuracy of  frog: 53% (2680/5000)\n",
            "INFO:__main__:Train Accuracy of horse: 60% (3029/5000)\n",
            "INFO:__main__:Train Accuracy of  ship: 23% (1188/5000)\n",
            "INFO:__main__:Train Accuracy of truck: 49% (2477/5000)\n",
            "INFO:__main__:Train Accuracy (Overall): 52% (26468/50000)\n",
            "INFO:__main__:Test Accuracy of airplane: 60% (602/1000)\n",
            "INFO:__main__:Test Accuracy of automobile: 87% (873/1000)\n",
            "INFO:__main__:Test Accuracy of  bird: 58% (580/1000)\n",
            "INFO:__main__:Test Accuracy of   cat: 44% (445/1000)\n",
            "INFO:__main__:Test Accuracy of  deer: 47% (476/1000)\n",
            "INFO:__main__:Test Accuracy of   dog: 48% (484/1000)\n",
            "INFO:__main__:Test Accuracy of  frog: 57% (571/1000)\n",
            "INFO:__main__:Test Accuracy of horse: 62% (621/1000)\n",
            "INFO:__main__:Test Accuracy of  ship: 27% (273/1000)\n",
            "INFO:__main__:Test Accuracy of truck: 52% (527/1000)\n",
            "INFO:__main__:Test Accuracy (Overall): 54% (5452/10000)\n"
          ]
        },
        {
          "output_type": "stream",
          "name": "stdout",
          "text": [
            "Current trial : 12\n"
          ]
        },
        {
          "output_type": "stream",
          "name": "stderr",
          "text": [
            "INFO:__main__:Train Accuracy of airplane: 55% (2777/5000)\n",
            "INFO:__main__:Train Accuracy of automobile: 87% (4389/5000)\n",
            "INFO:__main__:Train Accuracy of  bird: 53% (2662/5000)\n",
            "INFO:__main__:Train Accuracy of   cat: 50% (2528/5000)\n",
            "INFO:__main__:Train Accuracy of  deer: 45% (2262/5000)\n",
            "INFO:__main__:Train Accuracy of   dog: 46% (2301/5000)\n",
            "INFO:__main__:Train Accuracy of  frog: 53% (2680/5000)\n",
            "INFO:__main__:Train Accuracy of horse: 61% (3057/5000)\n",
            "INFO:__main__:Train Accuracy of  ship: 22% (1135/5000)\n",
            "INFO:__main__:Train Accuracy of truck: 50% (2517/5000)\n",
            "INFO:__main__:Train Accuracy (Overall): 52% (26308/50000)\n",
            "INFO:__main__:Test Accuracy of airplane: 61% (614/1000)\n",
            "INFO:__main__:Test Accuracy of automobile: 88% (886/1000)\n",
            "INFO:__main__:Test Accuracy of  bird: 56% (566/1000)\n",
            "INFO:__main__:Test Accuracy of   cat: 44% (449/1000)\n",
            "INFO:__main__:Test Accuracy of  deer: 48% (489/1000)\n",
            "INFO:__main__:Test Accuracy of   dog: 45% (452/1000)\n",
            "INFO:__main__:Test Accuracy of  frog: 55% (551/1000)\n",
            "INFO:__main__:Test Accuracy of horse: 63% (634/1000)\n",
            "INFO:__main__:Test Accuracy of  ship: 27% (278/1000)\n",
            "INFO:__main__:Test Accuracy of truck: 54% (545/1000)\n",
            "INFO:__main__:Test Accuracy (Overall): 54% (5464/10000)\n"
          ]
        },
        {
          "output_type": "stream",
          "name": "stdout",
          "text": [
            "Current trial : 13\n"
          ]
        },
        {
          "output_type": "stream",
          "name": "stderr",
          "text": [
            "INFO:__main__:Train Accuracy of airplane: 56% (2830/5000)\n",
            "INFO:__main__:Train Accuracy of automobile: 88% (4409/5000)\n",
            "INFO:__main__:Train Accuracy of  bird: 53% (2684/5000)\n",
            "INFO:__main__:Train Accuracy of   cat: 52% (2613/5000)\n",
            "INFO:__main__:Train Accuracy of  deer: 44% (2221/5000)\n",
            "INFO:__main__:Train Accuracy of   dog: 44% (2242/5000)\n",
            "INFO:__main__:Train Accuracy of  frog: 52% (2606/5000)\n",
            "INFO:__main__:Train Accuracy of horse: 60% (3043/5000)\n",
            "INFO:__main__:Train Accuracy of  ship: 22% (1118/5000)\n",
            "INFO:__main__:Train Accuracy of truck: 49% (2456/5000)\n",
            "INFO:__main__:Train Accuracy (Overall): 52% (26222/50000)\n",
            "INFO:__main__:Test Accuracy of airplane: 60% (608/1000)\n",
            "INFO:__main__:Test Accuracy of automobile: 87% (874/1000)\n",
            "INFO:__main__:Test Accuracy of  bird: 57% (571/1000)\n",
            "INFO:__main__:Test Accuracy of   cat: 46% (463/1000)\n",
            "INFO:__main__:Test Accuracy of  deer: 47% (478/1000)\n",
            "INFO:__main__:Test Accuracy of   dog: 48% (488/1000)\n",
            "INFO:__main__:Test Accuracy of  frog: 56% (561/1000)\n",
            "INFO:__main__:Test Accuracy of horse: 64% (644/1000)\n",
            "INFO:__main__:Test Accuracy of  ship: 30% (304/1000)\n",
            "INFO:__main__:Test Accuracy of truck: 49% (499/1000)\n",
            "INFO:__main__:Test Accuracy (Overall): 54% (5490/10000)\n"
          ]
        },
        {
          "output_type": "stream",
          "name": "stdout",
          "text": [
            "Current trial : 14\n"
          ]
        },
        {
          "output_type": "stream",
          "name": "stderr",
          "text": [
            "INFO:__main__:Train Accuracy of airplane: 55% (2790/5000)\n",
            "INFO:__main__:Train Accuracy of automobile: 88% (4419/5000)\n",
            "INFO:__main__:Train Accuracy of  bird: 54% (2704/5000)\n",
            "INFO:__main__:Train Accuracy of   cat: 50% (2506/5000)\n",
            "INFO:__main__:Train Accuracy of  deer: 45% (2294/5000)\n",
            "INFO:__main__:Train Accuracy of   dog: 45% (2286/5000)\n",
            "INFO:__main__:Train Accuracy of  frog: 52% (2640/5000)\n",
            "INFO:__main__:Train Accuracy of horse: 61% (3070/5000)\n",
            "INFO:__main__:Train Accuracy of  ship: 23% (1172/5000)\n",
            "INFO:__main__:Train Accuracy of truck: 49% (2459/5000)\n",
            "INFO:__main__:Train Accuracy (Overall): 52% (26340/50000)\n",
            "INFO:__main__:Test Accuracy of airplane: 64% (642/1000)\n",
            "INFO:__main__:Test Accuracy of automobile: 85% (859/1000)\n",
            "INFO:__main__:Test Accuracy of  bird: 55% (553/1000)\n",
            "INFO:__main__:Test Accuracy of   cat: 45% (459/1000)\n",
            "INFO:__main__:Test Accuracy of  deer: 48% (480/1000)\n",
            "INFO:__main__:Test Accuracy of   dog: 50% (500/1000)\n",
            "INFO:__main__:Test Accuracy of  frog: 55% (559/1000)\n",
            "INFO:__main__:Test Accuracy of horse: 65% (653/1000)\n",
            "INFO:__main__:Test Accuracy of  ship: 29% (299/1000)\n",
            "INFO:__main__:Test Accuracy of truck: 51% (510/1000)\n",
            "INFO:__main__:Test Accuracy (Overall): 55% (5514/10000)\n"
          ]
        },
        {
          "output_type": "stream",
          "name": "stdout",
          "text": [
            "Current trial : 15\n"
          ]
        },
        {
          "output_type": "stream",
          "name": "stderr",
          "text": [
            "INFO:__main__:Train Accuracy of airplane: 55% (2763/5000)\n",
            "INFO:__main__:Train Accuracy of automobile: 88% (4430/5000)\n",
            "INFO:__main__:Train Accuracy of  bird: 53% (2679/5000)\n",
            "INFO:__main__:Train Accuracy of   cat: 50% (2513/5000)\n",
            "INFO:__main__:Train Accuracy of  deer: 45% (2268/5000)\n",
            "INFO:__main__:Train Accuracy of   dog: 44% (2214/5000)\n",
            "INFO:__main__:Train Accuracy of  frog: 53% (2672/5000)\n",
            "INFO:__main__:Train Accuracy of horse: 61% (3091/5000)\n",
            "INFO:__main__:Train Accuracy of  ship: 23% (1186/5000)\n",
            "INFO:__main__:Train Accuracy of truck: 50% (2539/5000)\n",
            "INFO:__main__:Train Accuracy (Overall): 52% (26355/50000)\n",
            "INFO:__main__:Test Accuracy of airplane: 60% (605/1000)\n",
            "INFO:__main__:Test Accuracy of automobile: 87% (871/1000)\n",
            "INFO:__main__:Test Accuracy of  bird: 53% (539/1000)\n",
            "INFO:__main__:Test Accuracy of   cat: 45% (454/1000)\n",
            "INFO:__main__:Test Accuracy of  deer: 48% (481/1000)\n",
            "INFO:__main__:Test Accuracy of   dog: 45% (454/1000)\n",
            "INFO:__main__:Test Accuracy of  frog: 56% (562/1000)\n",
            "INFO:__main__:Test Accuracy of horse: 63% (632/1000)\n",
            "INFO:__main__:Test Accuracy of  ship: 28% (289/1000)\n",
            "INFO:__main__:Test Accuracy of truck: 49% (496/1000)\n",
            "INFO:__main__:Test Accuracy (Overall): 53% (5383/10000)\n"
          ]
        },
        {
          "output_type": "stream",
          "name": "stdout",
          "text": [
            "Current trial : 16\n"
          ]
        },
        {
          "output_type": "stream",
          "name": "stderr",
          "text": [
            "INFO:__main__:Train Accuracy of airplane: 55% (2796/5000)\n",
            "INFO:__main__:Train Accuracy of automobile: 88% (4402/5000)\n",
            "INFO:__main__:Train Accuracy of  bird: 54% (2714/5000)\n",
            "INFO:__main__:Train Accuracy of   cat: 51% (2568/5000)\n",
            "INFO:__main__:Train Accuracy of  deer: 45% (2254/5000)\n",
            "INFO:__main__:Train Accuracy of   dog: 43% (2178/5000)\n",
            "INFO:__main__:Train Accuracy of  frog: 53% (2672/5000)\n",
            "INFO:__main__:Train Accuracy of horse: 60% (3036/5000)\n",
            "INFO:__main__:Train Accuracy of  ship: 22% (1144/5000)\n",
            "INFO:__main__:Train Accuracy of truck: 49% (2493/5000)\n",
            "INFO:__main__:Train Accuracy (Overall): 52% (26257/50000)\n",
            "INFO:__main__:Test Accuracy of airplane: 62% (627/1000)\n",
            "INFO:__main__:Test Accuracy of automobile: 87% (877/1000)\n",
            "INFO:__main__:Test Accuracy of  bird: 57% (578/1000)\n",
            "INFO:__main__:Test Accuracy of   cat: 46% (464/1000)\n",
            "INFO:__main__:Test Accuracy of  deer: 48% (488/1000)\n",
            "INFO:__main__:Test Accuracy of   dog: 47% (475/1000)\n",
            "INFO:__main__:Test Accuracy of  frog: 52% (526/1000)\n",
            "INFO:__main__:Test Accuracy of horse: 62% (625/1000)\n",
            "INFO:__main__:Test Accuracy of  ship: 30% (303/1000)\n",
            "INFO:__main__:Test Accuracy of truck: 50% (502/1000)\n",
            "INFO:__main__:Test Accuracy (Overall): 54% (5465/10000)\n"
          ]
        },
        {
          "output_type": "stream",
          "name": "stdout",
          "text": [
            "Current trial : 17\n"
          ]
        },
        {
          "output_type": "stream",
          "name": "stderr",
          "text": [
            "INFO:__main__:Train Accuracy of airplane: 56% (2802/5000)\n",
            "INFO:__main__:Train Accuracy of automobile: 88% (4422/5000)\n",
            "INFO:__main__:Train Accuracy of  bird: 54% (2705/5000)\n",
            "INFO:__main__:Train Accuracy of   cat: 51% (2555/5000)\n",
            "INFO:__main__:Train Accuracy of  deer: 46% (2330/5000)\n",
            "INFO:__main__:Train Accuracy of   dog: 44% (2242/5000)\n",
            "INFO:__main__:Train Accuracy of  frog: 53% (2697/5000)\n",
            "INFO:__main__:Train Accuracy of horse: 61% (3093/5000)\n",
            "INFO:__main__:Train Accuracy of  ship: 22% (1105/5000)\n",
            "INFO:__main__:Train Accuracy of truck: 50% (2507/5000)\n",
            "INFO:__main__:Train Accuracy (Overall): 52% (26458/50000)\n",
            "INFO:__main__:Test Accuracy of airplane: 60% (601/1000)\n",
            "INFO:__main__:Test Accuracy of automobile: 87% (873/1000)\n",
            "INFO:__main__:Test Accuracy of  bird: 54% (545/1000)\n",
            "INFO:__main__:Test Accuracy of   cat: 45% (454/1000)\n",
            "INFO:__main__:Test Accuracy of  deer: 49% (491/1000)\n",
            "INFO:__main__:Test Accuracy of   dog: 46% (466/1000)\n",
            "INFO:__main__:Test Accuracy of  frog: 55% (552/1000)\n",
            "INFO:__main__:Test Accuracy of horse: 63% (636/1000)\n",
            "INFO:__main__:Test Accuracy of  ship: 30% (304/1000)\n",
            "INFO:__main__:Test Accuracy of truck: 50% (505/1000)\n",
            "INFO:__main__:Test Accuracy (Overall): 54% (5427/10000)\n"
          ]
        },
        {
          "output_type": "stream",
          "name": "stdout",
          "text": [
            "Current trial : 18\n"
          ]
        },
        {
          "output_type": "stream",
          "name": "stderr",
          "text": [
            "INFO:__main__:Train Accuracy of airplane: 56% (2819/5000)\n",
            "INFO:__main__:Train Accuracy of automobile: 88% (4426/5000)\n",
            "INFO:__main__:Train Accuracy of  bird: 54% (2733/5000)\n",
            "INFO:__main__:Train Accuracy of   cat: 51% (2570/5000)\n",
            "INFO:__main__:Train Accuracy of  deer: 45% (2259/5000)\n",
            "INFO:__main__:Train Accuracy of   dog: 43% (2186/5000)\n",
            "INFO:__main__:Train Accuracy of  frog: 53% (2674/5000)\n",
            "INFO:__main__:Train Accuracy of horse: 62% (3115/5000)\n",
            "INFO:__main__:Train Accuracy of  ship: 23% (1154/5000)\n",
            "INFO:__main__:Train Accuracy of truck: 48% (2448/5000)\n",
            "INFO:__main__:Train Accuracy (Overall): 52% (26384/50000)\n",
            "INFO:__main__:Test Accuracy of airplane: 62% (623/1000)\n",
            "INFO:__main__:Test Accuracy of automobile: 87% (876/1000)\n",
            "INFO:__main__:Test Accuracy of  bird: 55% (558/1000)\n",
            "INFO:__main__:Test Accuracy of   cat: 45% (454/1000)\n",
            "INFO:__main__:Test Accuracy of  deer: 49% (499/1000)\n",
            "INFO:__main__:Test Accuracy of   dog: 46% (465/1000)\n",
            "INFO:__main__:Test Accuracy of  frog: 56% (560/1000)\n",
            "INFO:__main__:Test Accuracy of horse: 61% (614/1000)\n",
            "INFO:__main__:Test Accuracy of  ship: 29% (294/1000)\n",
            "INFO:__main__:Test Accuracy of truck: 51% (516/1000)\n",
            "INFO:__main__:Test Accuracy (Overall): 54% (5459/10000)\n"
          ]
        },
        {
          "output_type": "stream",
          "name": "stdout",
          "text": [
            "Current trial : 19\n"
          ]
        },
        {
          "output_type": "stream",
          "name": "stderr",
          "text": [
            "INFO:__main__:Train Accuracy of airplane: 56% (2830/5000)\n",
            "INFO:__main__:Train Accuracy of automobile: 88% (4410/5000)\n",
            "INFO:__main__:Train Accuracy of  bird: 53% (2665/5000)\n",
            "INFO:__main__:Train Accuracy of   cat: 50% (2520/5000)\n",
            "INFO:__main__:Train Accuracy of  deer: 44% (2242/5000)\n",
            "INFO:__main__:Train Accuracy of   dog: 44% (2230/5000)\n",
            "INFO:__main__:Train Accuracy of  frog: 52% (2642/5000)\n",
            "INFO:__main__:Train Accuracy of horse: 62% (3106/5000)\n",
            "INFO:__main__:Train Accuracy of  ship: 23% (1172/5000)\n",
            "INFO:__main__:Train Accuracy of truck: 49% (2455/5000)\n",
            "INFO:__main__:Train Accuracy (Overall): 52% (26272/50000)\n",
            "INFO:__main__:Test Accuracy of airplane: 62% (621/1000)\n",
            "INFO:__main__:Test Accuracy of automobile: 87% (874/1000)\n",
            "INFO:__main__:Test Accuracy of  bird: 55% (552/1000)\n",
            "INFO:__main__:Test Accuracy of   cat: 48% (482/1000)\n",
            "INFO:__main__:Test Accuracy of  deer: 49% (490/1000)\n",
            "INFO:__main__:Test Accuracy of   dog: 48% (487/1000)\n",
            "INFO:__main__:Test Accuracy of  frog: 52% (527/1000)\n",
            "INFO:__main__:Test Accuracy of horse: 61% (619/1000)\n",
            "INFO:__main__:Test Accuracy of  ship: 31% (312/1000)\n",
            "INFO:__main__:Test Accuracy of truck: 51% (510/1000)\n",
            "INFO:__main__:Test Accuracy (Overall): 54% (5474/10000)\n"
          ]
        }
      ],
      "source": [
        "for combination in combinations:\n",
        "  dropout_location, dropout_rate = combination\n",
        "  trial_dict_key = f\"{dropout_rate}_{dropout_location}\"\n",
        "\n",
        "  if trial_result_dict.get(trial_dict_key) is None:\n",
        "    trial_result_dict[trial_dict_key]={}\n",
        "\n",
        "  net, curr_epoch, train_loss_min = get_model_for_training(dropout_location, dropout_rate)\n",
        "  original_dict = copy.deepcopy(net.state_dict())\n",
        "  print(f\"Current Loss {train_loss_min} \")\n",
        "  # for rate in np.arange(0, 1.1, 0.1):\n",
        "  for rate in [0.91, 0.93, 0.95, 0.97, 0.99]:\n",
        "    print(f\"Loading into a new model with {rate} dropout in {dropout_location} location\")\n",
        "    net = ResNet18(rate, dropout_location)\n",
        "    net.load_state_dict(original_dict)\n",
        "\n",
        "    trial_test_key = f\"{rate}_test\"\n",
        "    trial_train_key = f\"{rate}_train\"\n",
        "\n",
        "    if trial_result_dict.get(trial_dict_key).get(trial_test_key) is None:\n",
        "      trial_result_dict[trial_dict_key][trial_test_key]= []\n",
        "\n",
        "    if trial_result_dict.get(trial_dict_key).get(trial_train_key) is None:\n",
        "      trial_result_dict[trial_dict_key][trial_train_key] = []\n",
        "\n",
        "    start_idx = len(trial_result_dict[trial_dict_key][trial_train_key])\n",
        "\n",
        "    for trial in range(start_idx, TRIALS_NUMBER):\n",
        "      print(f\"Current trial : {trial}\")\n",
        "      if train_on_gpu:\n",
        "        net = LoggerDataParallel(net, model_props = net.model_props)\n",
        "        cudnn.benchmark = True\n",
        "\n",
        "      # specify loss function (categorical cross-entropy)\n",
        "      criterion = nn.CrossEntropyLoss()\n",
        "\n",
        "      # specify optimizer\n",
        "      optimizer = optim.SGD(net.parameters(), lr=0.01, momentum=0.9, weight_decay=0.0001)\n",
        "\n",
        "      #run_test_data(net, optimizer, criterion, False)\n",
        "      total_overall_accuracy_on_train = run_test_data(net, optimizer, criterion, True, True)\n",
        "      total_overall_accuracy_on_test = run_test_data(net, optimizer, criterion, True, False)\n",
        "\n",
        "      trial_result_dict[trial_dict_key][trial_test_key].append(total_overall_accuracy_on_test)\n",
        "      trial_result_dict[trial_dict_key][trial_train_key].append(total_overall_accuracy_on_train)\n",
        "      save_trials_dict(trial_result_dict)"
      ]
    },
    {
      "cell_type": "code",
      "execution_count": null,
      "metadata": {
        "id": "AuRpFkiZANJn"
      },
      "outputs": [],
      "source": []
    }
  ],
  "metadata": {
    "accelerator": "GPU",
    "colab": {
      "collapsed_sections": [
        "FVwz1WydnN_7"
      ],
      "machine_shape": "hm",
      "provenance": []
    },
    "kernelspec": {
      "display_name": "Python 3",
      "name": "python3"
    }
  },
  "nbformat": 4,
  "nbformat_minor": 0
}