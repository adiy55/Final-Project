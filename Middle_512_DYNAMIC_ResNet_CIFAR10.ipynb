{
  "cells": [
    {
      "cell_type": "markdown",
      "metadata": {
        "id": "-6ikW2JiYwp0"
      },
      "source": [
        "##The Resnet Research paper can be accessed from here https://arxiv.org/pdf/1512.03385v1.pdf"
      ]
    },
    {
      "cell_type": "code",
      "execution_count": null,
      "metadata": {
        "colab": {
          "base_uri": "https://localhost:8080/"
        },
        "id": "_OI_L93eYy-D",
        "outputId": "7b1a8ae4-c8f2-4c64-875b-000849c5cff4"
      },
      "outputs": [
        {
          "output_type": "stream",
          "name": "stdout",
          "text": [
            "CUDA is available!  Training on GPU ...\n"
          ]
        }
      ],
      "source": [
        "import torch\n",
        "import numpy as np\n",
        "import os\n",
        "import torch.optim as optim\n",
        "import copy\n",
        "\n",
        "# check if CUDA is available\n",
        "train_on_gpu = torch.cuda.is_available()\n",
        "\n",
        "if not train_on_gpu:\n",
        "  print('CUDA is not available.  Training on CPU ...')\n",
        "else:\n",
        "  print('CUDA is available!  Training on GPU ...')"
      ]
    },
    {
      "cell_type": "code",
      "execution_count": null,
      "metadata": {
        "colab": {
          "base_uri": "https://localhost:8080/"
        },
        "id": "icwOrUg2XwZk",
        "outputId": "adcdb442-ea97-453d-99de-23bc0f780bd9"
      },
      "outputs": [
        {
          "output_type": "stream",
          "name": "stdout",
          "text": [
            "Mounted at /content/drive\n"
          ]
        }
      ],
      "source": [
        "from google.colab import drive\n",
        "drive.mount('/content/drive')"
      ]
    },
    {
      "cell_type": "code",
      "execution_count": null,
      "metadata": {
        "id": "N93l9M4SbvSE"
      },
      "outputs": [],
      "source": [
        "DRIVE_PATH = './drive/MyDrive/Middle_512'\n",
        "\n",
        "log_format = '%(asctime)s - %(name)s - %(levelname)s - %(message)s'"
      ]
    },
    {
      "cell_type": "code",
      "execution_count": null,
      "metadata": {
        "colab": {
          "base_uri": "https://localhost:8080/"
        },
        "id": "6PLsgon_uX7G",
        "outputId": "22a60fcc-aeca-417d-e3cb-c2a6b19786b5"
      },
      "outputs": [
        {
          "output_type": "stream",
          "name": "stderr",
          "text": [
            "ERROR:root:test message\n"
          ]
        }
      ],
      "source": [
        "import logging\n",
        "import logging.handlers\n",
        "\n",
        "\n",
        "logging.basicConfig(level=logging.DEBUG,\n",
        "                    format='%(asctime)s - %(name)s - %(levelname)s - %(message)s',\n",
        "                    handlers=[logging.StreamHandler()])\n",
        "\n",
        "\n",
        "logging.info(\"test message\")\n",
        "logging.error(\"test message\")"
      ]
    },
    {
      "cell_type": "code",
      "execution_count": null,
      "metadata": {
        "id": "3Q6m-FNKZzEZ"
      },
      "outputs": [],
      "source": [
        "logger = logging.getLogger(__name__)\n",
        "logger.setLevel(logging.DEBUG)\n",
        "\n",
        "# Create the memory handler with a capacity of 1000 records\n",
        "mem_handler = logging.handlers.MemoryHandler(capacity=1000)\n",
        "\n",
        "# Add the memory handler to the logger\n",
        "logger.addHandler(mem_handler)\n",
        "\n",
        "# Create a file handler that will flush the memory handler to a file every 30 seconds\n",
        "file_handler = logging.FileHandler(f'{DRIVE_PATH}/output.log')\n",
        "file_handler.setLevel(logging.DEBUG)\n",
        "file_handler.setFormatter(logging.Formatter('%(asctime)s - %(name)s - %(levelname)s - %(message)s'))\n",
        "\n",
        "# Add the file handler to the logger\n",
        "logger.addHandler(file_handler)"
      ]
    },
    {
      "cell_type": "code",
      "execution_count": null,
      "metadata": {
        "colab": {
          "base_uri": "https://localhost:8080/"
        },
        "id": "Tqyq8M1rZeHa",
        "outputId": "8f08d0b2-61f8-49a5-df76-f60b3d92b1cd"
      },
      "outputs": [
        {
          "output_type": "stream",
          "name": "stderr",
          "text": [
            "DEBUG:__main__:Test Message 0\n",
            "DEBUG:__main__:Test Message 1\n"
          ]
        }
      ],
      "source": [
        "# Log some messages\n",
        "for i in range(2):\n",
        "    logger.debug(f\"Test Message {i}\")\n",
        "\n",
        "# Flush the memory handler to the file\n",
        "mem_handler.flush()\n",
        "\n",
        "# Close the file handler\n",
        "file_handler.close()"
      ]
    },
    {
      "cell_type": "code",
      "execution_count": null,
      "metadata": {
        "id": "J2VFiNdnRWdH"
      },
      "outputs": [],
      "source": [
        "# Save the initial resnet model (THESE ARE THE WEIGHTS USED TO INITALIZE ALL RESNET18 MODELS!)\n",
        "INITIAL_NET_PATH = os.path.join(DRIVE_PATH,\"ResNet18_initial.pth\")\n",
        "def save_initial_net(initial_net_model):\n",
        "  if not os.path.exists(INITIAL_NET_PATH):\n",
        "    torch.save(initial_net_model.state_dict(), f'{DRIVE_PATH}/ResNet18_initial.pth')"
      ]
    },
    {
      "cell_type": "markdown",
      "metadata": {
        "id": "FVwz1WydnN_7"
      },
      "source": [
        "#**Downloading the CIFAR10 datset and loading the data in Normalized form as torch.FloatTensor datatype and generating a validation set by dividing the training set in 80-20 ratio**\n",
        "#**CIFAR10**\n",
        "The CIFAR10 and CIFAR-100 are labeled subsets of the 80 million tiny images dataset. They were collected by Alex Krizhevsky, Vinod Nair, and Geoffrey Hinton.\n",
        "\n",
        "The CIFAR-10 dataset consists of 60000 32x32 colour images in 10 classes, with 6000 images per class. There are 50000 training images and 10000 test images.\n",
        "\n",
        "The dataset is divided into five training batches and one test batch, each with 10000 images. The test batch contains exactly 1000 randomly-selected images from each class. The training batches contain the remaining images in random order, but some training batches may contain more images from one class than another. Between them, the training batches contain exactly 5000 images from each class.\n",
        "\n",
        "Here are the classes in the dataset:\n",
        "1. airplane\n",
        "2. automobile\n",
        "3. bird\n",
        "4. cat\n",
        "5. deer\n",
        "6. dog\n",
        "7. frog\n",
        "8. horse\n",
        "9. ship\n",
        "10. truck\n",
        "\n",
        "The classes are completely mutually exclusive. There is no overlap between automobiles and trucks. \"Automobile\" includes sedans, SUVs, things of that sort. \"Truck\" includes only big trucks. Neither includes pickup trucks.\n",
        "\n",
        "More can be read from their page at https://www.cs.toronto.edu/~kriz/cifar.html"
      ]
    },
    {
      "cell_type": "markdown",
      "metadata": {
        "id": "7U2Vn2qhvrIi"
      },
      "source": [
        "#**Image Augmentation**\n",
        "In this cell, we perform some simple data augmentation by randomly flipping and cropping the given image data. We do this by defining a torchvision transform, and you can learn about all the transforms that are used to pre-process and augment data from the [PyTorch documentation](https://pytorch.org/docs/stable/torchvision/transforms.html)"
      ]
    },
    {
      "cell_type": "code",
      "execution_count": null,
      "metadata": {
        "colab": {
          "base_uri": "https://localhost:8080/"
        },
        "id": "l5WmV1je_1kr",
        "outputId": "0933cf9d-464a-4858-c709-d3bda96bb01c"
      },
      "outputs": [
        {
          "output_type": "stream",
          "name": "stdout",
          "text": [
            "==> Preparing data..\n",
            "Downloading https://www.cs.toronto.edu/~kriz/cifar-10-python.tar.gz to data/cifar-10-python.tar.gz\n"
          ]
        },
        {
          "output_type": "stream",
          "name": "stderr",
          "text": [
            "100%|██████████| 170498071/170498071 [00:02<00:00, 76111523.96it/s]\n"
          ]
        },
        {
          "output_type": "stream",
          "name": "stdout",
          "text": [
            "Extracting data/cifar-10-python.tar.gz to data\n",
            "Files already downloaded and verified\n"
          ]
        }
      ],
      "source": [
        "from torchvision import datasets\n",
        "import torchvision.transforms as transforms\n",
        "from torch.utils.data.sampler import SubsetRandomSampler\n",
        "\n",
        "# number of subprocesses to use for data loading\n",
        "num_workers = 0\n",
        "# how many samples per batch to load\n",
        "batch_size = 20\n",
        "\n",
        "# convert data to a normalized torch.FloatTensor\n",
        "print('==> Preparing data..')\n",
        "#Image augmentation is used to train the model\n",
        "transform_train = transforms.Compose([\n",
        "    transforms.RandomCrop(32, padding=4),\n",
        "    transforms.RandomHorizontalFlip(),\n",
        "    transforms.ToTensor(),\n",
        "    transforms.Normalize((0.4914, 0.4822, 0.4465), (0.2023, 0.1994, 0.2010)),\n",
        "])\n",
        "#Only the data is normalaized we do not need to augment the test data\n",
        "transform_test = transforms.Compose([\n",
        "    transforms.ToTensor(),\n",
        "    transforms.Normalize((0.4914, 0.4822, 0.4465), (0.2023, 0.1994, 0.2010)),\n",
        "])\n",
        "\n",
        "# choose the training and test datasets\n",
        "train_data = datasets.CIFAR10('data', train=True,\n",
        "                              download=True, transform=transform_train)\n",
        "test_data = datasets.CIFAR10('data', train=False,\n",
        "                             download=True, transform=transform_test)\n",
        "\n",
        "# obtain training indices that will be used for validation\n",
        "num_train = len(train_data)\n",
        "indices = list(range(num_train))\n",
        "np.random.seed(42)\n",
        "np.random.shuffle(indices)\n",
        "train_idx = indices\n",
        "\n",
        "# define samplers for obtaining training and validation batches\n",
        "train_sampler = SubsetRandomSampler(train_idx)\n",
        "\n",
        "# prepare data loaders (combine dataset and sampler)\n",
        "train_loader = torch.utils.data.DataLoader(train_data, batch_size=batch_size,\n",
        "    sampler=train_sampler, num_workers=num_workers,shuffle=False)\n",
        "test_loader = torch.utils.data.DataLoader(test_data, batch_size=batch_size,\n",
        "    num_workers=num_workers)\n",
        "\n",
        "# specify the image classes\n",
        "classes = ['airplane', 'automobile', 'bird', 'cat', 'deer',\n",
        "           'dog', 'frog', 'horse', 'ship', 'truck']\n"
      ]
    },
    {
      "cell_type": "markdown",
      "metadata": {
        "id": "jkqQ7fsUxA0r"
      },
      "source": [
        "#**Defining the Network Architecture**\n",
        "In this section the entire Research Paper is implemented to define the Residual Network approach taken by the researchers\n",
        "\n",
        "NOTE:\n",
        "\n",
        "Output volume for a convolutional layer\n",
        "To compute the output size of a given convolutional layer we can perform the following calculation (taken from Stanford's cs231n course):\n",
        "\n",
        "We can compute the spatial size of the output volume as a function of the input volume size (W), the kernel/filter size (F), the stride with which they are applied (S), and the amount of zero padding used (P) on the border. The correct formula for calculating how many neurons define the output_W is given by (W−F+2P)/S+1.\n",
        "\n",
        "For example for a 7x7 input and a 3x3 filter with stride 1 and pad 0 we would get a 5x5 output. With stride 2 we would get a 3x3 output."
      ]
    },
    {
      "cell_type": "code",
      "execution_count": null,
      "metadata": {
        "id": "OEc93C7xAXEE"
      },
      "outputs": [],
      "source": [
        "import torch.backends.cudnn as cudnn\n",
        "import torch.nn as nn\n",
        "import torch.nn.functional as F\n",
        "from torch.nn import Dropout\n",
        "\n",
        "class BasicBlock(nn.Module):\n",
        "  expansion = 1\n",
        "  def __init__(self, in_planes, planes, stride=1):\n",
        "    super(BasicBlock, self).__init__()\n",
        "    self.conv1 = nn.Conv2d(in_planes, planes, kernel_size=3, stride=stride, padding=1, bias=False)\n",
        "    self.bn1 = nn.BatchNorm2d(planes)\n",
        "    self.conv2 = nn.Conv2d(planes, planes, kernel_size=3, stride=1, padding=1, bias=False)\n",
        "    self.bn2 = nn.BatchNorm2d(planes)\n",
        "\n",
        "    self.shortcut = nn.Sequential()\n",
        "    if stride != 1 or in_planes != self.expansion*planes:\n",
        "      self.shortcut = nn.Sequential(\n",
        "          nn.Conv2d(in_planes, self.expansion*planes, kernel_size=1, stride=stride, bias=False),\n",
        "          nn.BatchNorm2d(self.expansion*planes)\n",
        "      )\n",
        "\n",
        "  def forward(self, x):\n",
        "    out = F.relu(self.bn1(self.conv1(x)))\n",
        "    out = self.bn2(self.conv2(out))\n",
        "    out += self.shortcut(x)\n",
        "    out = F.relu(out)\n",
        "    return out\n",
        "\n",
        "class BottleNeck(nn.Module):\n",
        "  expansion = 4\n",
        "\n",
        "  def __init__(self, in_planes, planes, stride=1):\n",
        "    super(BottleNeck, self).__init__()\n",
        "    self.conv1 = nn.Conv2d(in_planes , planes, kernel_size=1, bias=False)\n",
        "    self.bn1 = nn.BatchNorm2d(planes)\n",
        "    self.conv2 = nn.Conv2d(planes, planes, kernel_size=3, stride=stride, padding=1, bias=False)\n",
        "    self.bn2 = nn.BatchNorm2d(planes)\n",
        "    self.conv3 = nn.Conv2d(planes, self.expansion*planes, kernel_size=1, bias=False)\n",
        "    self.bn3 = nn.BatchNorm2d(self.expansion*planes)\n",
        "\n",
        "    self.shortcut = nn.Sequential()\n",
        "    if stride != 1 or in_planes != self.expansion*planes :\n",
        "      self.shortcut = nn.Sequential(\n",
        "          nn.Conv2d(in_planes, self.expansion*planes, kernel_size=1, stride=stride, bias=False),\n",
        "          nn.BatchNorm2d(self.expansion*planes)\n",
        "      )\n",
        "\n",
        "  def forward(self, x):\n",
        "    out = F.relu(self.bn1(self.conv1(x)))\n",
        "    out = F.relu(self.bn2(self.conv2(out)))\n",
        "    out = self.bn3(self.conv3(out))\n",
        "    out += self.shortcut(x)\n",
        "    out = F.relu(out)\n",
        "    return out\n",
        "\n",
        "class ResNet(nn.Module):\n",
        "  def __init__(self, block, num_blocks, dropout_rate, dropout_location, model_architecture, num_classes=10, curr_epoch=0, valid_loss_min=np.Inf):\n",
        "    super(ResNet, self).__init__()\n",
        "    self.in_planes = 64\n",
        "\n",
        "    #### variables we added\n",
        "    \"\"\"\n",
        "    :param dropout_location: \"last\", \"middle\", \"all\"\n",
        "    \"\"\"\n",
        "    self.dropout_rate = dropout_rate\n",
        "    self.dropout_location = dropout_location\n",
        "    self.curr_epoch = curr_epoch\n",
        "    ####\n",
        "\n",
        "    #### logger\n",
        "    self.model_props = f\"{model_architecture}.{dropout_location}.{dropout_rate}\"\n",
        "    ####\n",
        "\n",
        "    self.conv1 = nn.Conv2d(3, 64, kernel_size=3, stride=1, padding=1, bias=False)\n",
        "    self.bn1 = nn.BatchNorm2d(64)\n",
        "    if self.dropout_location == 'all':\n",
        "      self.layer1 = self._make_layer(block, 64, num_blocks[0], stride=1, is_dropout=True)\n",
        "      self.layer2 = self._make_layer(block, 128, num_blocks[1], stride=2, is_dropout=True)\n",
        "      self.layer3 = self._make_layer(block, 512, num_blocks[2], stride=2, is_dropout=True)\n",
        "      self.layer4 = self._make_layer(block, 512, num_blocks[3], stride=2, is_dropout=True)\n",
        "    else:\n",
        "      self.layer1 = self._make_layer(block, 64, num_blocks[0], stride=1, is_dropout=False)\n",
        "      self.layer2 = self._make_layer(block, 128, num_blocks[1], stride=2, is_dropout=False)\n",
        "      if self.dropout_location == 'middle':\n",
        "        self.layer3 = self._make_layer(block, 512, num_blocks[2], stride=2, is_dropout=True)\n",
        "        self.layer4 = self._make_layer(block, 512, num_blocks[3], stride=2, is_dropout=False)\n",
        "      else: # self.dropout_location == 'last':\n",
        "        self.layer3 = self._make_layer(block, 512, num_blocks[2], stride=2, is_dropout=False)\n",
        "        self.layer4 = self._make_layer(block, 512, num_blocks[3], stride=2, is_dropout=True)\n",
        "    self.linear = nn.Linear(512*block.expansion, num_classes)\n",
        "\n",
        "  def get_dropout_rate(self):\n",
        "      return self.dropout_rate\n",
        "\n",
        "  def _make_layer(self, block, planes, num_blocks, stride, is_dropout):\n",
        "    strides = [stride] + [1]*(num_blocks-1)\n",
        "    layers = []\n",
        "    for stride in strides:\n",
        "      layers.append(block(self.in_planes, planes, stride))\n",
        "      self.in_planes = planes * block.expansion\n",
        "    if is_dropout:\n",
        "      return nn.Sequential(*layers, Dropout(self.dropout_rate))\n",
        "    return nn.Sequential(*layers)\n",
        "\n",
        "  def forward(self, x):\n",
        "    out = F.relu(self.bn1(self.conv1(x)))\n",
        "    out = self.layer1(out)\n",
        "    out = self.layer2(out)\n",
        "    out = self.layer3(out)\n",
        "    out = self.layer4(out)\n",
        "    out = F.avg_pool2d(out, 4)\n",
        "    out = out.view(out.size(0), -1)\n",
        "    out = self.linear(out)\n",
        "    return out\n",
        "\n",
        "def ResNet18(rate, location):\n",
        "    return ResNet(BasicBlock, [2, 2, 2, 2], model_architecture=\"ResNet18\", dropout_rate=rate, dropout_location=location)\n",
        "\n",
        "def ResNet34(rate, location):\n",
        "    return ResNet(BasicBlock, [3, 4, 6, 3], model_architecture=\"ResNet34\", dropout_rate=rate, dropout_location=location)\n",
        "\n",
        "def ResNet50(rate, location):\n",
        "    return ResNet(Bottleneck, [3, 4, 6, 3], model_architecture=\"ResNet50\", dropout_rate=rate, dropout_location=location)\n",
        "\n",
        "def ResNet101(rate, location):\n",
        "    return ResNet(Bottleneck, [3, 4, 23, 3], model_architecture=\"ResNet101\", dropout_rate=rate, dropout_location=location)\n",
        "\n",
        "def ResNet152(rate, location):\n",
        "    return ResNet(Bottleneck, [3, 8, 36, 3], model_architecture=\"ResNet152\", dropout_rate=rate, dropout_location=location)"
      ]
    },
    {
      "cell_type": "code",
      "execution_count": null,
      "metadata": {
        "id": "pn9uZybz1Nzt"
      },
      "outputs": [],
      "source": [
        "# This class Wraps the torch.nn.DataParallel and adds the logging capability\n",
        "class LoggerDataParallel(torch.nn.DataParallel):\n",
        "    def __init__(self, module, model_props=None, *args, **kwargs):\n",
        "        super(LoggerDataParallel, self).__init__(module, *args, **kwargs)\n",
        "        self.model_props = model_props"
      ]
    },
    {
      "cell_type": "code",
      "execution_count": null,
      "metadata": {
        "colab": {
          "base_uri": "https://localhost:8080/"
        },
        "id": "bwue19KBXdX6",
        "outputId": "e024ea0b-8035-402b-8b6c-ce514017cd89"
      },
      "outputs": [
        {
          "output_type": "execute_result",
          "data": {
            "text/plain": [
              "[('middle', 0.0),\n",
              " ('middle', 0.1),\n",
              " ('middle', 0.2),\n",
              " ('middle', 0.3),\n",
              " ('middle', 0.4),\n",
              " ('middle', 0.5)]"
            ]
          },
          "metadata": {},
          "execution_count": 11
        }
      ],
      "source": [
        "dropout_values = [0.0,0.1,0.2,0.3,0.4,0.5]\n",
        "droput_locations = ['middle']\n",
        "combinations = []\n",
        "\n",
        "for drop_val in dropout_values:\n",
        "  for drop_loc in droput_locations:\n",
        "    combinations.append((drop_loc, drop_val))\n",
        "\n",
        "combinations"
      ]
    },
    {
      "cell_type": "markdown",
      "metadata": {
        "id": "0dMWiYJf1Ou-"
      },
      "source": [
        "#**Training Loop**\n",
        "Here we train the architecture on training data and check its validation loss by using the validation set and saving the model only if there is an improvement ie decrease in the validation loss."
      ]
    },
    {
      "cell_type": "code",
      "execution_count": null,
      "metadata": {
        "id": "FoZrTwlUXjWX"
      },
      "outputs": [],
      "source": [
        "def save_checkpoint(epoch, model, optimizer, dropout_rate, dropout_location, train_loss_min ,suffix):\n",
        "    \"\"\"Saves model checkpoint\"\"\"\n",
        "    torch.save({\n",
        "                'epoch': epoch,\n",
        "                'model_state_dict': model.state_dict(),\n",
        "                'optimizer_state_dict': optimizer.state_dict(),\n",
        "                'dropout':dropout_rate,\n",
        "                'train_loss_min': train_loss_min,\n",
        "                }, f'{DRIVE_PATH}/{dropout_location}/ResNet18_{dropout_rate}_{suffix}.pth')"
      ]
    },
    {
      "cell_type": "code",
      "execution_count": null,
      "metadata": {
        "id": "lxmqrZ3yMiMs"
      },
      "outputs": [],
      "source": [
        "def print_accuracy_info(class_total, class_correct, prefix):\n",
        "    for i in range(10):\n",
        "      if class_total[i] > 0:\n",
        "        message = '%s Accuracy of %5s: %2d%% (%2d/%2d)' % (\n",
        "            prefix, classes[i], 100 * class_correct[i] / class_total[i],\n",
        "            np.sum(class_correct[i]), np.sum(class_total[i]))\n",
        "        logger.info(message)\n",
        "\n",
        "      else:\n",
        "        print('%s Accuracy of %5s: N/A (no training examples)' % (prefix, classes[i]))\n",
        "\n",
        "    message = '%s Accuracy (Overall): %2d%% (%2d/%2d)' % (prefix,\n",
        "        100. * np.sum(class_correct) / np.sum(class_total),\n",
        "        np.sum(class_correct), np.sum(class_total))\n",
        "    logger.info(message)"
      ]
    },
    {
      "cell_type": "code",
      "execution_count": null,
      "metadata": {
        "id": "YLPoZuGAcUM8"
      },
      "outputs": [],
      "source": [
        "def run_train_loop(curr_net, curr_optimizer, criterion, dropout_location, dropout_rate, curr_epoch = 0, train_loss_min = np.inf):\n",
        "  # number of epochs to train the model\n",
        "  n_epochs = 50\n",
        "\n",
        "  class_correct_train = list(0. for i in range(10))\n",
        "  class_total_train = list(0. for i in range(10))\n",
        "\n",
        "  for epoch in range(curr_epoch, n_epochs+1):\n",
        "    # keep track of training and validation loss\n",
        "    train_loss = 0.0\n",
        "\n",
        "    ###################\n",
        "    # train the model #\n",
        "    ###################\n",
        "    curr_net.train()\n",
        "    for batch_idx, (data, target) in enumerate(train_loader):\n",
        "      # move tensors to GPU if CUDA is available\n",
        "      if train_on_gpu:\n",
        "        data, target = data.cuda(), target.cuda()\n",
        "      # clear the gradients of all optimized variables\n",
        "      curr_optimizer.zero_grad()\n",
        "      # forward pass: compute predicted outputs by passing inputs to the model\n",
        "      output = curr_net(data)\n",
        "      # calculate the batch loss\n",
        "      loss = criterion(output, target)\n",
        "      # backward pass: compute gradient of the loss with respect to model parameters\n",
        "      loss.backward()\n",
        "      # perform a single optimization step (parameter update)\n",
        "      curr_optimizer.step()\n",
        "      # update training loss\n",
        "      train_loss += loss.item()*data.size(0)\n",
        "\n",
        "      _, pred = torch.max(output, 1)\n",
        "      # compare predictions to true label\n",
        "      correct_tensor = pred.eq(target.data.view_as(pred))\n",
        "      correct = np.squeeze(correct_tensor.numpy()) if not train_on_gpu else np.squeeze(correct_tensor.cpu().numpy())\n",
        "      # calculate test accuracy for each object class\n",
        "      for i in range(batch_size):\n",
        "        label = target.data[i]\n",
        "        class_correct_train[label] += correct[i].item()\n",
        "        class_total_train[label] += 1\n",
        "\n",
        "    # calculate average losses\n",
        "    train_loss = train_loss/len(train_loader.sampler)\n",
        "\n",
        "\n",
        "    epoch_info = 'Epoch: {} \\tTraining Loss: {:.6f} \\t'.format(epoch, train_loss)\n",
        "    # print training/validation statistics\n",
        "    text_to_log = f\"{curr_net.model_props}, {epoch_info}\"\n",
        "    logger.info(text_to_log)\n",
        "\n",
        "    print_accuracy_info(class_total_train, class_correct_train, \"Train\")\n",
        "    if train_loss < train_loss_min:\n",
        "          train_loss_min = train_loss\n",
        "          save_checkpoint(epoch, curr_net, curr_optimizer, dropout_rate, dropout_location, train_loss_min,\"best_valid\")\n",
        "\n",
        "    save_checkpoint(epoch, curr_net, curr_optimizer, dropout_rate, dropout_location, train_loss_min ,\"most_recent\")\n",
        "\n",
        "    # Flush the memory handler to the file\n",
        "    mem_handler.flush()\n",
        "\n",
        "    # Close the file handler\n",
        "    file_handler.close()"
      ]
    },
    {
      "cell_type": "code",
      "execution_count": null,
      "metadata": {
        "id": "7_92PMYNXVzW"
      },
      "outputs": [],
      "source": [
        "net = ResNet18(0.0, 'last')\n",
        "if train_on_gpu:\n",
        "  # net = torch.nn.DataParallel(net).cuda()\n",
        "  net = LoggerDataParallel(net, model_props = net.model_props)\n",
        "  cudnn.benchmark = True\n",
        "# net.get_dropout_rate()"
      ]
    },
    {
      "cell_type": "code",
      "execution_count": null,
      "metadata": {
        "id": "e45lMqquUwY0"
      },
      "outputs": [],
      "source": [
        "#### Load model checkpoint\n",
        "def load_checkpoint(path, dropout_location):\n",
        "  try:\n",
        "    checkpoint = torch.load(path)\n",
        "    model_state_dict_pre_fix = checkpoint.get(\"model_state_dict\")\n",
        "    shaved_state_dict = {}\n",
        "    for full_key in model_state_dict_pre_fix.keys():\n",
        "      if \"module\" in full_key:\n",
        "        shaved_state_dict[\".\".join(full_key.split(\".\")[1:])] = model_state_dict_pre_fix.get(full_key)\n",
        "    model_state_dict_pre_fix.update(shaved_state_dict)\n",
        "    curr_epoch = checkpoint.get('epoch', 0)\n",
        "    dropout_rate = checkpoint.get('dropout', 0.0)\n",
        "    train_loss_min = checkpoint.get('train_loss_min', np.inf)\n",
        "    net = ResNet18(dropout_rate, dropout_location)\n",
        "    #### Load model and optimizer state dictionaries\n",
        "    net.load_state_dict(shaved_state_dict)\n",
        "    #optimizer.load_state_dict(checkpoint['optimizer_state_dict'])\n",
        "    return net , curr_epoch, train_loss_min\n",
        "  except Exception as e:\n",
        "    print(e)\n",
        "    return None, 0, np.inf"
      ]
    },
    {
      "cell_type": "code",
      "execution_count": null,
      "metadata": {
        "id": "VVx90zYIX1U_"
      },
      "outputs": [],
      "source": [
        "logger_path = f\"{DRIVE_PATH}\"\n",
        "initial_net = ResNet18(0.0, 'last')\n",
        "state_dict = initial_net.state_dict()\n",
        "save_initial_net(initial_net)"
      ]
    },
    {
      "cell_type": "code",
      "execution_count": null,
      "metadata": {
        "colab": {
          "base_uri": "https://localhost:8080/"
        },
        "id": "wXk5nNPfUQlm",
        "outputId": "088fc379-7c70-4499-ec99-2d1bf812d31e"
      },
      "outputs": [
        {
          "output_type": "stream",
          "name": "stdout",
          "text": [
            "loaded model from disk\n",
            "loaded model from disk\n",
            "loaded model from disk\n",
            "loaded model from disk\n",
            "loaded model from disk\n",
            "loaded model from disk\n"
          ]
        }
      ],
      "source": [
        "model_map = {}\n",
        "for combination in combinations:\n",
        "  dropout_location, dropout_rate = combination\n",
        "\n",
        "  net_path = os.path.join(DRIVE_PATH,dropout_location,f\"ResNet18_{dropout_rate}_most_recent.pth\")\n",
        "  net , curr_epoch, train_loss_min = load_checkpoint(net_path, dropout_location=dropout_location)\n",
        "\n",
        "  if net is None:\n",
        "    net = ResNet18(dropout_rate, dropout_location)\n",
        "    net.load_state_dict(copy.deepcopy(state_dict))\n",
        "    print(f\"Created the model using initial weights: {net.model_props}\")\n",
        "  else:\n",
        "    print(\"loaded model from disk\")\n",
        "  # if train_on_gpu:\n",
        "  #   net = LoggerDataParallel(net, model_props = net.model_props)\n",
        "\n",
        "    cudnn.benchmark = True\n",
        "\n",
        "  model_key = f\"{dropout_location}_{dropout_rate}\"\n",
        "  model_map[model_key] = (net, curr_epoch, train_loss_min)"
      ]
    },
    {
      "cell_type": "code",
      "execution_count": null,
      "metadata": {
        "id": "GF-h9dlgWNzW"
      },
      "outputs": [],
      "source": [
        "def get_model_for_training(dropout_location, dropout_rate):\n",
        "  model_key = f\"{dropout_location}_{dropout_rate}\"\n",
        "  net, curr_epoch, train_loss_min = model_map.get(model_key)\n",
        "  print(f\"the following model {net.model_props} is starting from epoch : {curr_epoch}\")\n",
        "  return net, curr_epoch, train_loss_min"
      ]
    },
    {
      "cell_type": "code",
      "execution_count": null,
      "metadata": {
        "id": "TsV1d_LRYXpl",
        "colab": {
          "base_uri": "https://localhost:8080/"
        },
        "outputId": "45542700-11e6-4933-9419-34c045d21d33"
      },
      "outputs": [
        {
          "output_type": "stream",
          "name": "stderr",
          "text": [
            "INFO:__main__:ResNet18.middle.0.0 Starting Training\n"
          ]
        },
        {
          "output_type": "stream",
          "name": "stdout",
          "text": [
            "the following model ResNet18.middle.0.0 is starting from epoch : 50\n"
          ]
        },
        {
          "output_type": "stream",
          "name": "stderr",
          "text": [
            "INFO:__main__:ResNet18.middle.0.0, Epoch: 50 \tTraining Loss: 0.067454 \t\n",
            "INFO:__main__:Train Accuracy of airplane: 97% (4888/5000)\n",
            "INFO:__main__:Train Accuracy of automobile: 98% (4941/5000)\n",
            "INFO:__main__:Train Accuracy of  bird: 97% (4865/5000)\n",
            "INFO:__main__:Train Accuracy of   cat: 95% (4781/5000)\n",
            "INFO:__main__:Train Accuracy of  deer: 98% (4904/5000)\n",
            "INFO:__main__:Train Accuracy of   dog: 96% (4814/5000)\n",
            "INFO:__main__:Train Accuracy of  frog: 98% (4910/5000)\n",
            "INFO:__main__:Train Accuracy of horse: 98% (4917/5000)\n",
            "INFO:__main__:Train Accuracy of  ship: 98% (4916/5000)\n",
            "INFO:__main__:Train Accuracy of truck: 98% (4923/5000)\n",
            "INFO:__main__:Train Accuracy (Overall): 97% (48859/50000)\n",
            "INFO:__main__:ResNet18.middle.0.1 Starting Training\n"
          ]
        },
        {
          "output_type": "stream",
          "name": "stdout",
          "text": [
            "the following model ResNet18.middle.0.1 is starting from epoch : 50\n"
          ]
        },
        {
          "output_type": "stream",
          "name": "stderr",
          "text": [
            "INFO:__main__:ResNet18.middle.0.1, Epoch: 50 \tTraining Loss: 0.071152 \t\n",
            "INFO:__main__:Train Accuracy of airplane: 97% (4880/5000)\n",
            "INFO:__main__:Train Accuracy of automobile: 98% (4941/5000)\n",
            "INFO:__main__:Train Accuracy of  bird: 96% (4845/5000)\n",
            "INFO:__main__:Train Accuracy of   cat: 95% (4759/5000)\n",
            "INFO:__main__:Train Accuracy of  deer: 97% (4888/5000)\n",
            "INFO:__main__:Train Accuracy of   dog: 96% (4804/5000)\n",
            "INFO:__main__:Train Accuracy of  frog: 98% (4920/5000)\n",
            "INFO:__main__:Train Accuracy of horse: 98% (4906/5000)\n",
            "INFO:__main__:Train Accuracy of  ship: 98% (4913/5000)\n",
            "INFO:__main__:Train Accuracy of truck: 98% (4909/5000)\n",
            "INFO:__main__:Train Accuracy (Overall): 97% (48765/50000)\n",
            "INFO:__main__:ResNet18.middle.0.2 Starting Training\n"
          ]
        },
        {
          "output_type": "stream",
          "name": "stdout",
          "text": [
            "the following model ResNet18.middle.0.2 is starting from epoch : 50\n"
          ]
        },
        {
          "output_type": "stream",
          "name": "stderr",
          "text": [
            "INFO:__main__:ResNet18.middle.0.2, Epoch: 50 \tTraining Loss: 0.072385 \t\n",
            "INFO:__main__:Train Accuracy of airplane: 97% (4870/5000)\n",
            "INFO:__main__:Train Accuracy of automobile: 98% (4936/5000)\n",
            "INFO:__main__:Train Accuracy of  bird: 96% (4829/5000)\n",
            "INFO:__main__:Train Accuracy of   cat: 95% (4781/5000)\n",
            "INFO:__main__:Train Accuracy of  deer: 97% (4885/5000)\n",
            "INFO:__main__:Train Accuracy of   dog: 95% (4799/5000)\n",
            "INFO:__main__:Train Accuracy of  frog: 98% (4902/5000)\n",
            "INFO:__main__:Train Accuracy of horse: 98% (4906/5000)\n",
            "INFO:__main__:Train Accuracy of  ship: 98% (4936/5000)\n",
            "INFO:__main__:Train Accuracy of truck: 98% (4914/5000)\n",
            "INFO:__main__:Train Accuracy (Overall): 97% (48758/50000)\n",
            "INFO:__main__:ResNet18.middle.0.3 Starting Training\n"
          ]
        },
        {
          "output_type": "stream",
          "name": "stdout",
          "text": [
            "the following model ResNet18.middle.0.3 is starting from epoch : 50\n"
          ]
        },
        {
          "output_type": "stream",
          "name": "stderr",
          "text": [
            "INFO:__main__:ResNet18.middle.0.3, Epoch: 50 \tTraining Loss: 0.074351 \t\n",
            "INFO:__main__:Train Accuracy of airplane: 97% (4870/5000)\n",
            "INFO:__main__:Train Accuracy of automobile: 98% (4937/5000)\n",
            "INFO:__main__:Train Accuracy of  bird: 96% (4828/5000)\n",
            "INFO:__main__:Train Accuracy of   cat: 95% (4767/5000)\n",
            "INFO:__main__:Train Accuracy of  deer: 97% (4869/5000)\n",
            "INFO:__main__:Train Accuracy of   dog: 96% (4800/5000)\n",
            "INFO:__main__:Train Accuracy of  frog: 98% (4914/5000)\n",
            "INFO:__main__:Train Accuracy of horse: 98% (4912/5000)\n",
            "INFO:__main__:Train Accuracy of  ship: 98% (4906/5000)\n",
            "INFO:__main__:Train Accuracy of truck: 98% (4923/5000)\n",
            "INFO:__main__:Train Accuracy (Overall): 97% (48726/50000)\n",
            "INFO:__main__:ResNet18.middle.0.4 Starting Training\n"
          ]
        },
        {
          "output_type": "stream",
          "name": "stdout",
          "text": [
            "the following model ResNet18.middle.0.4 is starting from epoch : 50\n"
          ]
        },
        {
          "output_type": "stream",
          "name": "stderr",
          "text": [
            "INFO:__main__:ResNet18.middle.0.4, Epoch: 50 \tTraining Loss: 0.068689 \t\n",
            "INFO:__main__:Train Accuracy of airplane: 97% (4883/5000)\n",
            "INFO:__main__:Train Accuracy of automobile: 98% (4946/5000)\n",
            "INFO:__main__:Train Accuracy of  bird: 97% (4855/5000)\n",
            "INFO:__main__:Train Accuracy of   cat: 95% (4773/5000)\n",
            "INFO:__main__:Train Accuracy of  deer: 97% (4892/5000)\n",
            "INFO:__main__:Train Accuracy of   dog: 96% (4809/5000)\n",
            "INFO:__main__:Train Accuracy of  frog: 98% (4908/5000)\n",
            "INFO:__main__:Train Accuracy of horse: 98% (4908/5000)\n",
            "INFO:__main__:Train Accuracy of  ship: 98% (4936/5000)\n",
            "INFO:__main__:Train Accuracy of truck: 98% (4923/5000)\n",
            "INFO:__main__:Train Accuracy (Overall): 97% (48833/50000)\n",
            "INFO:__main__:ResNet18.middle.0.5 Starting Training\n"
          ]
        },
        {
          "output_type": "stream",
          "name": "stdout",
          "text": [
            "the following model ResNet18.middle.0.5 is starting from epoch : 50\n"
          ]
        },
        {
          "output_type": "stream",
          "name": "stderr",
          "text": [
            "INFO:__main__:ResNet18.middle.0.5, Epoch: 50 \tTraining Loss: 0.072899 \t\n",
            "INFO:__main__:Train Accuracy of airplane: 97% (4878/5000)\n",
            "INFO:__main__:Train Accuracy of automobile: 98% (4930/5000)\n",
            "INFO:__main__:Train Accuracy of  bird: 96% (4841/5000)\n",
            "INFO:__main__:Train Accuracy of   cat: 95% (4768/5000)\n",
            "INFO:__main__:Train Accuracy of  deer: 97% (4882/5000)\n",
            "INFO:__main__:Train Accuracy of   dog: 95% (4787/5000)\n",
            "INFO:__main__:Train Accuracy of  frog: 98% (4910/5000)\n",
            "INFO:__main__:Train Accuracy of horse: 98% (4912/5000)\n",
            "INFO:__main__:Train Accuracy of  ship: 98% (4922/5000)\n",
            "INFO:__main__:Train Accuracy of truck: 98% (4920/5000)\n",
            "INFO:__main__:Train Accuracy (Overall): 97% (48750/50000)\n"
          ]
        }
      ],
      "source": [
        "for combination in combinations:\n",
        "  dropout_location, dropout_rate = combination\n",
        "  net, curr_epoch, train_loss_min = get_model_for_training(dropout_location, dropout_rate)\n",
        "\n",
        "  if curr_epoch == 0:\n",
        "    assert torch.all(torch.eq(initial_net.state_dict()['conv1.weight'], net.state_dict()['conv1.weight']))\n",
        "\n",
        "  if train_on_gpu:\n",
        "    net = LoggerDataParallel(net, model_props = net.model_props)\n",
        "    cudnn.benchmark = True\n",
        "\n",
        "  text_to_log = f\"{net.model_props} Starting Training\"\n",
        "  logger.info(text_to_log)\n",
        "\n",
        "  # specify loss function (categorical cross-entropy)\n",
        "  criterion = nn.CrossEntropyLoss()\n",
        "\n",
        "  # specify optimizer\n",
        "  optimizer = optim.SGD(net.parameters(), lr=0.01, momentum=0.9, weight_decay=0.0001)\n",
        "\n",
        "  run_train_loop(net, optimizer, criterion, dropout_location, dropout_rate, curr_epoch, train_loss_min)"
      ]
    },
    {
      "cell_type": "code",
      "execution_count": null,
      "metadata": {
        "id": "5ShQQZftdD0S"
      },
      "outputs": [],
      "source": [
        "# Flush the memory handler to the file\n",
        "mem_handler.flush()\n",
        "\n",
        "# Close the file handler\n",
        "file_handler.close()"
      ]
    },
    {
      "cell_type": "markdown",
      "metadata": {
        "id": "z1M4p3Is2RMg"
      },
      "source": [
        "#**Loading the Best Model**"
      ]
    },
    {
      "cell_type": "code",
      "execution_count": null,
      "metadata": {
        "id": "ofnr9nTCE8RO"
      },
      "outputs": [],
      "source": [
        "def enable_dropout(mod: nn.Module):\n",
        "    if isinstance(mod, nn.Dropout):\n",
        "        mod.train()"
      ]
    },
    {
      "cell_type": "code",
      "execution_count": null,
      "metadata": {
        "id": "cmHp3KBPGEzB",
        "colab": {
          "base_uri": "https://localhost:8080/"
        },
        "outputId": "2b447a9b-f67b-420e-87ca-0ae031ad147b"
      },
      "outputs": [
        {
          "output_type": "stream",
          "name": "stdout",
          "text": [
            "dict_keys(['middle_0.0', 'middle_0.1', 'middle_0.2', 'middle_0.3', 'middle_0.4', 'middle_0.5'])\n",
            "the following model ResNet18.middle.0.5 is starting from epoch : 50\n",
            "50\n"
          ]
        }
      ],
      "source": [
        "print(model_map.keys())\n",
        "\n",
        "net, curr_epoch, train_loss_min = get_model_for_training('middle', 0.5)\n",
        "print(curr_epoch)\n",
        "criterion = nn.CrossEntropyLoss()\n"
      ]
    },
    {
      "cell_type": "markdown",
      "metadata": {
        "id": "O_lEna0p2Wp5"
      },
      "source": [
        "#**Testing Loop**\n",
        "The real test of the model architecture how well does the model recognizes the image and what is the accuracy on the test data"
      ]
    },
    {
      "cell_type": "code",
      "execution_count": null,
      "metadata": {
        "id": "WsqLF8SVfsnn"
      },
      "outputs": [],
      "source": [
        "# track test loss\n",
        "def run_test_data(net, optimizer, criterion, keep_dropout = True, is_train_loader = False):\n",
        "  test_loss = 0.0\n",
        "  class_correct = list(0. for i in range(10))\n",
        "  class_total = list(0. for i in range(10))\n",
        "\n",
        "  net.eval()\n",
        "  if keep_dropout:\n",
        "    net.apply(enable_dropout)\n",
        "\n",
        "  if train_on_gpu:\n",
        "      net = LoggerDataParallel(net, model_props = net.model_props)\n",
        "\n",
        "  curr_loader = train_loader if is_train_loader else test_loader\n",
        "  log_label = \"Train\" if is_train_loader else \"Test\"\n",
        "\n",
        "  # iterate over test data\n",
        "  for batch_idx, (data, target) in enumerate(curr_loader):\n",
        "    # move tensors to GPU if CUDA is available\n",
        "    if train_on_gpu:\n",
        "      data, target = data.cuda(), target.cuda()\n",
        "    # forward pass: compute predicted outputs by passing inputs to the model\n",
        "    output = net(data)\n",
        "    # calculate the batch loss\n",
        "    loss = criterion(output, target)\n",
        "    # update test loss\n",
        "    test_loss += loss.item()*data.size(0)\n",
        "    # convert output probabilities to predicted class\n",
        "    _, pred = torch.max(output, 1)\n",
        "    # compare predictions to true label\n",
        "    correct_tensor = pred.eq(target.data.view_as(pred))\n",
        "    correct = np.squeeze(correct_tensor.numpy()) if not train_on_gpu else np.squeeze(correct_tensor.cpu().numpy())\n",
        "    # calculate test accuracy for each object class\n",
        "    for i in range(batch_size):\n",
        "      label = target.data[i]\n",
        "      class_correct[label] += correct[i].item()\n",
        "      class_total[label] += 1\n",
        "\n",
        "  # average test loss\n",
        "  test_loss = test_loss/len(test_loader.dataset)\n",
        "  print_accuracy_info(class_total, class_correct, log_label)\n",
        "\n",
        "  return np.sum(class_correct) / np.sum(class_total)"
      ]
    },
    {
      "cell_type": "code",
      "execution_count": null,
      "metadata": {
        "id": "4tA_JeEFjTc7"
      },
      "outputs": [],
      "source": [
        "results_dict_location = os.path.join(DRIVE_PATH, 'trial_results.json')"
      ]
    },
    {
      "cell_type": "code",
      "execution_count": null,
      "metadata": {
        "id": "jt3w8LzXjlIt"
      },
      "outputs": [],
      "source": [
        "import json\n",
        "def save_trials_dict(trial_result_dict):\n",
        "  with open(results_dict_location, 'w') as f:\n",
        "      # write the dictionary to the file as JSON\n",
        "      json.dump(trial_result_dict, f)\n",
        "\n",
        "def load_trials_dict():\n",
        "  if os.path.exists(results_dict_location):\n",
        "    with open(results_dict_location, 'r') as f:\n",
        "        data = json.load(f)\n",
        "    return data\n"
      ]
    },
    {
      "cell_type": "code",
      "execution_count": null,
      "metadata": {
        "id": "FZrFdhddw5jJ"
      },
      "outputs": [],
      "source": [
        "TRIALS_NUMBER = 20\n",
        "loaded_dict = load_trials_dict()\n",
        "trial_result_dict = {} if loaded_dict is None else copy.deepcopy(loaded_dict)"
      ]
    },
    {
      "cell_type": "code",
      "execution_count": null,
      "metadata": {
        "id": "Qa6HnKiDzNVz",
        "colab": {
          "base_uri": "https://localhost:8080/"
        },
        "outputId": "e0e92c1b-0530-43a8-b661-0aee61bb245c"
      },
      "outputs": [
        {
          "output_type": "execute_result",
          "data": {
            "text/plain": [
              "dict_keys(['0.0_middle', '0.5_middle', '0.1_middle', '0.2_middle', '0.3_middle', '0.4_middle'])"
            ]
          },
          "metadata": {},
          "execution_count": 28
        }
      ],
      "source": [
        "trial_result_dict.keys()"
      ]
    },
    {
      "cell_type": "markdown",
      "metadata": {
        "id": "R1JWR-jZ7a-0"
      },
      "source": [
        "General schema of the results\n",
        "```\n",
        "{\n",
        "\n",
        "  \"0.4_last\":{\n",
        "  \n",
        "  \"0.0_train\": [1,2,3,.....],\n",
        "\n",
        "  \"0.0_test\": [1,2,3,.....]\n",
        "\n",
        "  },\n",
        "\n",
        "\n",
        "}\n",
        "```"
      ]
    },
    {
      "cell_type": "code",
      "execution_count": null,
      "metadata": {
        "id": "i8r7sNDiWwie",
        "colab": {
          "base_uri": "https://localhost:8080/"
        },
        "outputId": "b1c9160a-ad76-4bf1-89ca-8ede898fb4ee"
      },
      "outputs": [
        {
          "output_type": "stream",
          "name": "stdout",
          "text": [
            "the following model ResNet18.middle.0.0 is starting from epoch : 50\n",
            "Current Loss 0.06285921205691994 \n",
            "Loading into a new model with 0.91 dropout in middle location\n",
            "Loading into a new model with 0.93 dropout in middle location\n",
            "Loading into a new model with 0.95 dropout in middle location\n",
            "Loading into a new model with 0.97 dropout in middle location\n",
            "Loading into a new model with 0.99 dropout in middle location\n",
            "Current trial : 0\n"
          ]
        },
        {
          "output_type": "stream",
          "name": "stderr",
          "text": [
            "INFO:__main__:Train Accuracy of airplane: 20% (1004/5000)\n",
            "INFO:__main__:Train Accuracy of automobile: 14% (722/5000)\n",
            "INFO:__main__:Train Accuracy of  bird:  0% (24/5000)\n",
            "INFO:__main__:Train Accuracy of   cat:  8% (426/5000)\n",
            "INFO:__main__:Train Accuracy of  deer: 32% (1601/5000)\n",
            "INFO:__main__:Train Accuracy of   dog: 56% (2819/5000)\n",
            "INFO:__main__:Train Accuracy of  frog:  4% (210/5000)\n",
            "INFO:__main__:Train Accuracy of horse: 89% (4489/5000)\n",
            "INFO:__main__:Train Accuracy of  ship: 31% (1550/5000)\n",
            "INFO:__main__:Train Accuracy of truck: 17% (878/5000)\n",
            "INFO:__main__:Train Accuracy (Overall): 27% (13723/50000)\n",
            "INFO:__main__:Test Accuracy of airplane: 23% (235/1000)\n",
            "INFO:__main__:Test Accuracy of automobile: 13% (131/1000)\n",
            "INFO:__main__:Test Accuracy of  bird:  0% ( 2/1000)\n",
            "INFO:__main__:Test Accuracy of   cat:  8% (81/1000)\n",
            "INFO:__main__:Test Accuracy of  deer: 33% (332/1000)\n",
            "INFO:__main__:Test Accuracy of   dog: 55% (551/1000)\n",
            "INFO:__main__:Test Accuracy of  frog:  5% (51/1000)\n",
            "INFO:__main__:Test Accuracy of horse: 90% (905/1000)\n",
            "INFO:__main__:Test Accuracy of  ship: 38% (384/1000)\n",
            "INFO:__main__:Test Accuracy of truck: 18% (182/1000)\n",
            "INFO:__main__:Test Accuracy (Overall): 28% (2854/10000)\n"
          ]
        },
        {
          "output_type": "stream",
          "name": "stdout",
          "text": [
            "Current trial : 1\n"
          ]
        },
        {
          "output_type": "stream",
          "name": "stderr",
          "text": [
            "INFO:__main__:Train Accuracy of airplane: 19% (979/5000)\n",
            "INFO:__main__:Train Accuracy of automobile: 13% (670/5000)\n",
            "INFO:__main__:Train Accuracy of  bird:  0% ( 7/5000)\n",
            "INFO:__main__:Train Accuracy of   cat:  9% (453/5000)\n",
            "INFO:__main__:Train Accuracy of  deer: 31% (1567/5000)\n",
            "INFO:__main__:Train Accuracy of   dog: 56% (2846/5000)\n",
            "INFO:__main__:Train Accuracy of  frog:  4% (201/5000)\n",
            "INFO:__main__:Train Accuracy of horse: 89% (4497/5000)\n",
            "INFO:__main__:Train Accuracy of  ship: 31% (1598/5000)\n",
            "INFO:__main__:Train Accuracy of truck: 17% (889/5000)\n",
            "INFO:__main__:Train Accuracy (Overall): 27% (13707/50000)\n",
            "INFO:__main__:Test Accuracy of airplane: 23% (233/1000)\n",
            "INFO:__main__:Test Accuracy of automobile: 12% (120/1000)\n",
            "INFO:__main__:Test Accuracy of  bird:  0% ( 2/1000)\n",
            "INFO:__main__:Test Accuracy of   cat:  6% (66/1000)\n",
            "INFO:__main__:Test Accuracy of  deer: 31% (315/1000)\n",
            "INFO:__main__:Test Accuracy of   dog: 55% (554/1000)\n",
            "INFO:__main__:Test Accuracy of  frog:  5% (52/1000)\n",
            "INFO:__main__:Test Accuracy of horse: 90% (909/1000)\n",
            "INFO:__main__:Test Accuracy of  ship: 38% (389/1000)\n",
            "INFO:__main__:Test Accuracy of truck: 17% (178/1000)\n",
            "INFO:__main__:Test Accuracy (Overall): 28% (2818/10000)\n"
          ]
        },
        {
          "output_type": "stream",
          "name": "stdout",
          "text": [
            "Current trial : 2\n"
          ]
        },
        {
          "output_type": "stream",
          "name": "stderr",
          "text": [
            "INFO:__main__:Train Accuracy of airplane: 21% (1064/5000)\n",
            "INFO:__main__:Train Accuracy of automobile: 14% (706/5000)\n",
            "INFO:__main__:Train Accuracy of  bird:  0% (15/5000)\n",
            "INFO:__main__:Train Accuracy of   cat:  8% (412/5000)\n",
            "INFO:__main__:Train Accuracy of  deer: 31% (1572/5000)\n",
            "INFO:__main__:Train Accuracy of   dog: 55% (2782/5000)\n",
            "INFO:__main__:Train Accuracy of  frog:  4% (202/5000)\n",
            "INFO:__main__:Train Accuracy of horse: 89% (4483/5000)\n",
            "INFO:__main__:Train Accuracy of  ship: 31% (1581/5000)\n",
            "INFO:__main__:Train Accuracy of truck: 18% (901/5000)\n",
            "INFO:__main__:Train Accuracy (Overall): 27% (13718/50000)\n",
            "INFO:__main__:Test Accuracy of airplane: 22% (222/1000)\n",
            "INFO:__main__:Test Accuracy of automobile: 13% (131/1000)\n",
            "INFO:__main__:Test Accuracy of  bird:  0% ( 2/1000)\n",
            "INFO:__main__:Test Accuracy of   cat:  7% (78/1000)\n",
            "INFO:__main__:Test Accuracy of  deer: 30% (307/1000)\n",
            "INFO:__main__:Test Accuracy of   dog: 56% (569/1000)\n",
            "INFO:__main__:Test Accuracy of  frog:  4% (49/1000)\n",
            "INFO:__main__:Test Accuracy of horse: 89% (896/1000)\n",
            "INFO:__main__:Test Accuracy of  ship: 39% (399/1000)\n",
            "INFO:__main__:Test Accuracy of truck: 15% (158/1000)\n",
            "INFO:__main__:Test Accuracy (Overall): 28% (2811/10000)\n"
          ]
        },
        {
          "output_type": "stream",
          "name": "stdout",
          "text": [
            "Current trial : 3\n"
          ]
        },
        {
          "output_type": "stream",
          "name": "stderr",
          "text": [
            "INFO:__main__:Train Accuracy of airplane: 20% (1002/5000)\n",
            "INFO:__main__:Train Accuracy of automobile: 14% (729/5000)\n",
            "INFO:__main__:Train Accuracy of  bird:  0% (17/5000)\n",
            "INFO:__main__:Train Accuracy of   cat:  8% (422/5000)\n",
            "INFO:__main__:Train Accuracy of  deer: 32% (1629/5000)\n",
            "INFO:__main__:Train Accuracy of   dog: 57% (2879/5000)\n",
            "INFO:__main__:Train Accuracy of  frog:  4% (224/5000)\n",
            "INFO:__main__:Train Accuracy of horse: 89% (4472/5000)\n",
            "INFO:__main__:Train Accuracy of  ship: 31% (1567/5000)\n",
            "INFO:__main__:Train Accuracy of truck: 17% (877/5000)\n",
            "INFO:__main__:Train Accuracy (Overall): 27% (13818/50000)\n",
            "INFO:__main__:Test Accuracy of airplane: 21% (212/1000)\n",
            "INFO:__main__:Test Accuracy of automobile: 13% (132/1000)\n",
            "INFO:__main__:Test Accuracy of  bird:  0% ( 4/1000)\n",
            "INFO:__main__:Test Accuracy of   cat:  7% (71/1000)\n",
            "INFO:__main__:Test Accuracy of  deer: 30% (306/1000)\n",
            "INFO:__main__:Test Accuracy of   dog: 56% (565/1000)\n",
            "INFO:__main__:Test Accuracy of  frog:  4% (43/1000)\n",
            "INFO:__main__:Test Accuracy of horse: 90% (904/1000)\n",
            "INFO:__main__:Test Accuracy of  ship: 37% (377/1000)\n",
            "INFO:__main__:Test Accuracy of truck: 17% (172/1000)\n",
            "INFO:__main__:Test Accuracy (Overall): 27% (2786/10000)\n"
          ]
        },
        {
          "output_type": "stream",
          "name": "stdout",
          "text": [
            "Current trial : 4\n"
          ]
        },
        {
          "output_type": "stream",
          "name": "stderr",
          "text": [
            "INFO:__main__:Train Accuracy of airplane: 19% (997/5000)\n",
            "INFO:__main__:Train Accuracy of automobile: 13% (652/5000)\n",
            "INFO:__main__:Train Accuracy of  bird:  0% (21/5000)\n",
            "INFO:__main__:Train Accuracy of   cat:  8% (423/5000)\n",
            "INFO:__main__:Train Accuracy of  deer: 31% (1592/5000)\n",
            "INFO:__main__:Train Accuracy of   dog: 56% (2842/5000)\n",
            "INFO:__main__:Train Accuracy of  frog:  4% (226/5000)\n",
            "INFO:__main__:Train Accuracy of horse: 89% (4472/5000)\n",
            "INFO:__main__:Train Accuracy of  ship: 30% (1531/5000)\n",
            "INFO:__main__:Train Accuracy of truck: 17% (884/5000)\n",
            "INFO:__main__:Train Accuracy (Overall): 27% (13640/50000)\n",
            "INFO:__main__:Test Accuracy of airplane: 23% (235/1000)\n",
            "INFO:__main__:Test Accuracy of automobile: 12% (124/1000)\n",
            "INFO:__main__:Test Accuracy of  bird:  0% ( 2/1000)\n",
            "INFO:__main__:Test Accuracy of   cat:  8% (86/1000)\n",
            "INFO:__main__:Test Accuracy of  deer: 29% (299/1000)\n",
            "INFO:__main__:Test Accuracy of   dog: 54% (549/1000)\n",
            "INFO:__main__:Test Accuracy of  frog:  6% (60/1000)\n",
            "INFO:__main__:Test Accuracy of horse: 88% (886/1000)\n",
            "INFO:__main__:Test Accuracy of  ship: 38% (388/1000)\n",
            "INFO:__main__:Test Accuracy of truck: 15% (159/1000)\n",
            "INFO:__main__:Test Accuracy (Overall): 27% (2788/10000)\n"
          ]
        },
        {
          "output_type": "stream",
          "name": "stdout",
          "text": [
            "Current trial : 5\n"
          ]
        },
        {
          "output_type": "stream",
          "name": "stderr",
          "text": [
            "INFO:__main__:Train Accuracy of airplane: 20% (1012/5000)\n",
            "INFO:__main__:Train Accuracy of automobile: 13% (669/5000)\n",
            "INFO:__main__:Train Accuracy of  bird:  0% (23/5000)\n",
            "INFO:__main__:Train Accuracy of   cat:  9% (470/5000)\n",
            "INFO:__main__:Train Accuracy of  deer: 31% (1579/5000)\n",
            "INFO:__main__:Train Accuracy of   dog: 56% (2840/5000)\n",
            "INFO:__main__:Train Accuracy of  frog:  4% (203/5000)\n",
            "INFO:__main__:Train Accuracy of horse: 89% (4475/5000)\n",
            "INFO:__main__:Train Accuracy of  ship: 32% (1613/5000)\n",
            "INFO:__main__:Train Accuracy of truck: 17% (851/5000)\n",
            "INFO:__main__:Train Accuracy (Overall): 27% (13735/50000)\n",
            "INFO:__main__:Test Accuracy of airplane: 21% (214/1000)\n",
            "INFO:__main__:Test Accuracy of automobile: 13% (131/1000)\n",
            "INFO:__main__:Test Accuracy of  bird:  0% ( 1/1000)\n",
            "INFO:__main__:Test Accuracy of   cat:  8% (84/1000)\n",
            "INFO:__main__:Test Accuracy of  deer: 28% (280/1000)\n",
            "INFO:__main__:Test Accuracy of   dog: 55% (557/1000)\n",
            "INFO:__main__:Test Accuracy of  frog:  3% (38/1000)\n",
            "INFO:__main__:Test Accuracy of horse: 89% (893/1000)\n",
            "INFO:__main__:Test Accuracy of  ship: 40% (407/1000)\n",
            "INFO:__main__:Test Accuracy of truck: 17% (176/1000)\n",
            "INFO:__main__:Test Accuracy (Overall): 27% (2781/10000)\n"
          ]
        },
        {
          "output_type": "stream",
          "name": "stdout",
          "text": [
            "Current trial : 6\n"
          ]
        },
        {
          "output_type": "stream",
          "name": "stderr",
          "text": [
            "INFO:__main__:Train Accuracy of airplane: 20% (1000/5000)\n",
            "INFO:__main__:Train Accuracy of automobile: 13% (685/5000)\n",
            "INFO:__main__:Train Accuracy of  bird:  0% (18/5000)\n",
            "INFO:__main__:Train Accuracy of   cat:  8% (418/5000)\n",
            "INFO:__main__:Train Accuracy of  deer: 31% (1570/5000)\n",
            "INFO:__main__:Train Accuracy of   dog: 56% (2845/5000)\n",
            "INFO:__main__:Train Accuracy of  frog:  3% (192/5000)\n",
            "INFO:__main__:Train Accuracy of horse: 89% (4493/5000)\n",
            "INFO:__main__:Train Accuracy of  ship: 32% (1633/5000)\n",
            "INFO:__main__:Train Accuracy of truck: 18% (910/5000)\n",
            "INFO:__main__:Train Accuracy (Overall): 27% (13764/50000)\n",
            "INFO:__main__:Test Accuracy of airplane: 24% (244/1000)\n",
            "INFO:__main__:Test Accuracy of automobile: 12% (125/1000)\n",
            "INFO:__main__:Test Accuracy of  bird:  0% ( 4/1000)\n",
            "INFO:__main__:Test Accuracy of   cat:  7% (73/1000)\n",
            "INFO:__main__:Test Accuracy of  deer: 30% (308/1000)\n",
            "INFO:__main__:Test Accuracy of   dog: 53% (537/1000)\n",
            "INFO:__main__:Test Accuracy of  frog:  4% (42/1000)\n",
            "INFO:__main__:Test Accuracy of horse: 89% (891/1000)\n",
            "INFO:__main__:Test Accuracy of  ship: 36% (366/1000)\n",
            "INFO:__main__:Test Accuracy of truck: 16% (164/1000)\n",
            "INFO:__main__:Test Accuracy (Overall): 27% (2754/10000)\n"
          ]
        },
        {
          "output_type": "stream",
          "name": "stdout",
          "text": [
            "Current trial : 7\n"
          ]
        },
        {
          "output_type": "stream",
          "name": "stderr",
          "text": [
            "INFO:__main__:Train Accuracy of airplane: 19% (994/5000)\n",
            "INFO:__main__:Train Accuracy of automobile: 12% (641/5000)\n",
            "INFO:__main__:Train Accuracy of  bird:  0% (17/5000)\n",
            "INFO:__main__:Train Accuracy of   cat:  9% (461/5000)\n",
            "INFO:__main__:Train Accuracy of  deer: 31% (1574/5000)\n",
            "INFO:__main__:Train Accuracy of   dog: 54% (2745/5000)\n",
            "INFO:__main__:Train Accuracy of  frog:  4% (211/5000)\n",
            "INFO:__main__:Train Accuracy of horse: 89% (4481/5000)\n",
            "INFO:__main__:Train Accuracy of  ship: 32% (1610/5000)\n",
            "INFO:__main__:Train Accuracy of truck: 17% (888/5000)\n",
            "INFO:__main__:Train Accuracy (Overall): 27% (13622/50000)\n",
            "INFO:__main__:Test Accuracy of airplane: 22% (224/1000)\n",
            "INFO:__main__:Test Accuracy of automobile: 13% (135/1000)\n",
            "INFO:__main__:Test Accuracy of  bird:  0% ( 4/1000)\n",
            "INFO:__main__:Test Accuracy of   cat: 10% (108/1000)\n",
            "INFO:__main__:Test Accuracy of  deer: 31% (314/1000)\n",
            "INFO:__main__:Test Accuracy of   dog: 55% (553/1000)\n",
            "INFO:__main__:Test Accuracy of  frog:  4% (47/1000)\n",
            "INFO:__main__:Test Accuracy of horse: 88% (885/1000)\n",
            "INFO:__main__:Test Accuracy of  ship: 37% (371/1000)\n",
            "INFO:__main__:Test Accuracy of truck: 16% (162/1000)\n",
            "INFO:__main__:Test Accuracy (Overall): 28% (2803/10000)\n"
          ]
        },
        {
          "output_type": "stream",
          "name": "stdout",
          "text": [
            "Current trial : 8\n"
          ]
        },
        {
          "output_type": "stream",
          "name": "stderr",
          "text": [
            "INFO:__main__:Train Accuracy of airplane: 19% (978/5000)\n",
            "INFO:__main__:Train Accuracy of automobile: 13% (699/5000)\n",
            "INFO:__main__:Train Accuracy of  bird:  0% (14/5000)\n",
            "INFO:__main__:Train Accuracy of   cat:  9% (455/5000)\n",
            "INFO:__main__:Train Accuracy of  deer: 32% (1601/5000)\n",
            "INFO:__main__:Train Accuracy of   dog: 57% (2863/5000)\n",
            "INFO:__main__:Train Accuracy of  frog:  4% (220/5000)\n",
            "INFO:__main__:Train Accuracy of horse: 89% (4452/5000)\n",
            "INFO:__main__:Train Accuracy of  ship: 31% (1590/5000)\n",
            "INFO:__main__:Train Accuracy of truck: 17% (876/5000)\n",
            "INFO:__main__:Train Accuracy (Overall): 27% (13748/50000)\n",
            "INFO:__main__:Test Accuracy of airplane: 22% (227/1000)\n",
            "INFO:__main__:Test Accuracy of automobile: 14% (147/1000)\n",
            "INFO:__main__:Test Accuracy of  bird:  0% ( 5/1000)\n",
            "INFO:__main__:Test Accuracy of   cat:  7% (74/1000)\n",
            "INFO:__main__:Test Accuracy of  deer: 31% (317/1000)\n",
            "INFO:__main__:Test Accuracy of   dog: 57% (575/1000)\n",
            "INFO:__main__:Test Accuracy of  frog:  5% (54/1000)\n",
            "INFO:__main__:Test Accuracy of horse: 89% (898/1000)\n",
            "INFO:__main__:Test Accuracy of  ship: 37% (373/1000)\n",
            "INFO:__main__:Test Accuracy of truck: 17% (177/1000)\n",
            "INFO:__main__:Test Accuracy (Overall): 28% (2847/10000)\n"
          ]
        },
        {
          "output_type": "stream",
          "name": "stdout",
          "text": [
            "Current trial : 9\n"
          ]
        },
        {
          "output_type": "stream",
          "name": "stderr",
          "text": [
            "INFO:__main__:Train Accuracy of airplane: 19% (976/5000)\n",
            "INFO:__main__:Train Accuracy of automobile: 13% (685/5000)\n",
            "INFO:__main__:Train Accuracy of  bird:  0% (25/5000)\n",
            "INFO:__main__:Train Accuracy of   cat:  8% (449/5000)\n",
            "INFO:__main__:Train Accuracy of  deer: 32% (1617/5000)\n",
            "INFO:__main__:Train Accuracy of   dog: 57% (2872/5000)\n",
            "INFO:__main__:Train Accuracy of  frog:  4% (228/5000)\n",
            "INFO:__main__:Train Accuracy of horse: 89% (4466/5000)\n",
            "INFO:__main__:Train Accuracy of  ship: 31% (1572/5000)\n",
            "INFO:__main__:Train Accuracy of truck: 17% (862/5000)\n",
            "INFO:__main__:Train Accuracy (Overall): 27% (13752/50000)\n",
            "INFO:__main__:Test Accuracy of airplane: 21% (216/1000)\n",
            "INFO:__main__:Test Accuracy of automobile: 13% (139/1000)\n",
            "INFO:__main__:Test Accuracy of  bird:  0% ( 4/1000)\n",
            "INFO:__main__:Test Accuracy of   cat:  7% (79/1000)\n",
            "INFO:__main__:Test Accuracy of  deer: 31% (314/1000)\n",
            "INFO:__main__:Test Accuracy of   dog: 55% (556/1000)\n",
            "INFO:__main__:Test Accuracy of  frog:  4% (44/1000)\n",
            "INFO:__main__:Test Accuracy of horse: 89% (896/1000)\n",
            "INFO:__main__:Test Accuracy of  ship: 38% (389/1000)\n",
            "INFO:__main__:Test Accuracy of truck: 16% (165/1000)\n",
            "INFO:__main__:Test Accuracy (Overall): 28% (2802/10000)\n"
          ]
        },
        {
          "output_type": "stream",
          "name": "stdout",
          "text": [
            "Current trial : 10\n"
          ]
        },
        {
          "output_type": "stream",
          "name": "stderr",
          "text": [
            "INFO:__main__:Train Accuracy of airplane: 20% (1002/5000)\n",
            "INFO:__main__:Train Accuracy of automobile: 13% (682/5000)\n",
            "INFO:__main__:Train Accuracy of  bird:  0% (14/5000)\n",
            "INFO:__main__:Train Accuracy of   cat:  8% (447/5000)\n",
            "INFO:__main__:Train Accuracy of  deer: 31% (1591/5000)\n",
            "INFO:__main__:Train Accuracy of   dog: 57% (2855/5000)\n",
            "INFO:__main__:Train Accuracy of  frog:  4% (212/5000)\n",
            "INFO:__main__:Train Accuracy of horse: 88% (4422/5000)\n",
            "INFO:__main__:Train Accuracy of  ship: 33% (1654/5000)\n",
            "INFO:__main__:Train Accuracy of truck: 17% (857/5000)\n",
            "INFO:__main__:Train Accuracy (Overall): 27% (13736/50000)\n",
            "INFO:__main__:Test Accuracy of airplane: 20% (204/1000)\n",
            "INFO:__main__:Test Accuracy of automobile: 14% (141/1000)\n",
            "INFO:__main__:Test Accuracy of  bird:  0% ( 3/1000)\n",
            "INFO:__main__:Test Accuracy of   cat:  7% (79/1000)\n",
            "INFO:__main__:Test Accuracy of  deer: 32% (320/1000)\n",
            "INFO:__main__:Test Accuracy of   dog: 58% (585/1000)\n",
            "INFO:__main__:Test Accuracy of  frog:  5% (55/1000)\n",
            "INFO:__main__:Test Accuracy of horse: 91% (918/1000)\n",
            "INFO:__main__:Test Accuracy of  ship: 38% (385/1000)\n",
            "INFO:__main__:Test Accuracy of truck: 15% (158/1000)\n",
            "INFO:__main__:Test Accuracy (Overall): 28% (2848/10000)\n"
          ]
        },
        {
          "output_type": "stream",
          "name": "stdout",
          "text": [
            "Current trial : 11\n"
          ]
        },
        {
          "output_type": "stream",
          "name": "stderr",
          "text": [
            "INFO:__main__:Train Accuracy of airplane: 19% (963/5000)\n",
            "INFO:__main__:Train Accuracy of automobile: 13% (687/5000)\n",
            "INFO:__main__:Train Accuracy of  bird:  0% (14/5000)\n",
            "INFO:__main__:Train Accuracy of   cat:  8% (437/5000)\n",
            "INFO:__main__:Train Accuracy of  deer: 32% (1616/5000)\n",
            "INFO:__main__:Train Accuracy of   dog: 56% (2802/5000)\n",
            "INFO:__main__:Train Accuracy of  frog:  4% (216/5000)\n",
            "INFO:__main__:Train Accuracy of horse: 89% (4488/5000)\n",
            "INFO:__main__:Train Accuracy of  ship: 30% (1523/5000)\n",
            "INFO:__main__:Train Accuracy of truck: 17% (853/5000)\n",
            "INFO:__main__:Train Accuracy (Overall): 27% (13599/50000)\n",
            "INFO:__main__:Test Accuracy of airplane: 22% (226/1000)\n",
            "INFO:__main__:Test Accuracy of automobile: 15% (151/1000)\n",
            "INFO:__main__:Test Accuracy of  bird:  0% ( 1/1000)\n",
            "INFO:__main__:Test Accuracy of   cat:  8% (86/1000)\n",
            "INFO:__main__:Test Accuracy of  deer: 30% (305/1000)\n",
            "INFO:__main__:Test Accuracy of   dog: 57% (572/1000)\n",
            "INFO:__main__:Test Accuracy of  frog:  5% (58/1000)\n",
            "INFO:__main__:Test Accuracy of horse: 88% (886/1000)\n",
            "INFO:__main__:Test Accuracy of  ship: 38% (385/1000)\n",
            "INFO:__main__:Test Accuracy of truck: 18% (181/1000)\n",
            "INFO:__main__:Test Accuracy (Overall): 28% (2851/10000)\n"
          ]
        },
        {
          "output_type": "stream",
          "name": "stdout",
          "text": [
            "Current trial : 12\n"
          ]
        },
        {
          "output_type": "stream",
          "name": "stderr",
          "text": [
            "INFO:__main__:Train Accuracy of airplane: 19% (987/5000)\n",
            "INFO:__main__:Train Accuracy of automobile: 14% (708/5000)\n",
            "INFO:__main__:Train Accuracy of  bird:  0% (18/5000)\n",
            "INFO:__main__:Train Accuracy of   cat:  9% (458/5000)\n",
            "INFO:__main__:Train Accuracy of  deer: 31% (1576/5000)\n",
            "INFO:__main__:Train Accuracy of   dog: 58% (2911/5000)\n",
            "INFO:__main__:Train Accuracy of  frog:  3% (197/5000)\n",
            "INFO:__main__:Train Accuracy of horse: 89% (4494/5000)\n",
            "INFO:__main__:Train Accuracy of  ship: 32% (1612/5000)\n",
            "INFO:__main__:Train Accuracy of truck: 17% (865/5000)\n",
            "INFO:__main__:Train Accuracy (Overall): 27% (13826/50000)\n",
            "INFO:__main__:Test Accuracy of airplane: 21% (217/1000)\n",
            "INFO:__main__:Test Accuracy of automobile: 13% (132/1000)\n",
            "INFO:__main__:Test Accuracy of  bird:  0% ( 2/1000)\n",
            "INFO:__main__:Test Accuracy of   cat:  7% (73/1000)\n",
            "INFO:__main__:Test Accuracy of  deer: 30% (300/1000)\n",
            "INFO:__main__:Test Accuracy of   dog: 55% (552/1000)\n",
            "INFO:__main__:Test Accuracy of  frog:  4% (48/1000)\n",
            "INFO:__main__:Test Accuracy of horse: 89% (896/1000)\n",
            "INFO:__main__:Test Accuracy of  ship: 38% (382/1000)\n",
            "INFO:__main__:Test Accuracy of truck: 16% (164/1000)\n",
            "INFO:__main__:Test Accuracy (Overall): 27% (2766/10000)\n"
          ]
        },
        {
          "output_type": "stream",
          "name": "stdout",
          "text": [
            "Current trial : 13\n"
          ]
        },
        {
          "output_type": "stream",
          "name": "stderr",
          "text": [
            "INFO:__main__:Train Accuracy of airplane: 19% (955/5000)\n",
            "INFO:__main__:Train Accuracy of automobile: 13% (672/5000)\n",
            "INFO:__main__:Train Accuracy of  bird:  0% (13/5000)\n",
            "INFO:__main__:Train Accuracy of   cat:  9% (459/5000)\n",
            "INFO:__main__:Train Accuracy of  deer: 32% (1605/5000)\n",
            "INFO:__main__:Train Accuracy of   dog: 57% (2878/5000)\n",
            "INFO:__main__:Train Accuracy of  frog:  4% (221/5000)\n",
            "INFO:__main__:Train Accuracy of horse: 88% (4444/5000)\n",
            "INFO:__main__:Train Accuracy of  ship: 31% (1595/5000)\n",
            "INFO:__main__:Train Accuracy of truck: 18% (916/5000)\n",
            "INFO:__main__:Train Accuracy (Overall): 27% (13758/50000)\n",
            "INFO:__main__:Test Accuracy of airplane: 21% (214/1000)\n",
            "INFO:__main__:Test Accuracy of automobile: 12% (126/1000)\n",
            "INFO:__main__:Test Accuracy of  bird:  0% ( 2/1000)\n",
            "INFO:__main__:Test Accuracy of   cat:  7% (74/1000)\n",
            "INFO:__main__:Test Accuracy of  deer: 30% (304/1000)\n",
            "INFO:__main__:Test Accuracy of   dog: 53% (534/1000)\n",
            "INFO:__main__:Test Accuracy of  frog:  4% (46/1000)\n",
            "INFO:__main__:Test Accuracy of horse: 90% (909/1000)\n",
            "INFO:__main__:Test Accuracy of  ship: 39% (391/1000)\n",
            "INFO:__main__:Test Accuracy of truck: 16% (164/1000)\n",
            "INFO:__main__:Test Accuracy (Overall): 27% (2764/10000)\n"
          ]
        },
        {
          "output_type": "stream",
          "name": "stdout",
          "text": [
            "Current trial : 14\n"
          ]
        },
        {
          "output_type": "stream",
          "name": "stderr",
          "text": [
            "INFO:__main__:Train Accuracy of airplane: 21% (1077/5000)\n",
            "INFO:__main__:Train Accuracy of automobile: 14% (705/5000)\n",
            "INFO:__main__:Train Accuracy of  bird:  0% (22/5000)\n",
            "INFO:__main__:Train Accuracy of   cat:  9% (485/5000)\n",
            "INFO:__main__:Train Accuracy of  deer: 31% (1583/5000)\n",
            "INFO:__main__:Train Accuracy of   dog: 57% (2877/5000)\n",
            "INFO:__main__:Train Accuracy of  frog:  4% (204/5000)\n",
            "INFO:__main__:Train Accuracy of horse: 89% (4478/5000)\n",
            "INFO:__main__:Train Accuracy of  ship: 32% (1605/5000)\n",
            "INFO:__main__:Train Accuracy of truck: 17% (864/5000)\n",
            "INFO:__main__:Train Accuracy (Overall): 27% (13900/50000)\n",
            "INFO:__main__:Test Accuracy of airplane: 23% (231/1000)\n",
            "INFO:__main__:Test Accuracy of automobile: 13% (135/1000)\n",
            "INFO:__main__:Test Accuracy of  bird:  0% ( 3/1000)\n",
            "INFO:__main__:Test Accuracy of   cat:  9% (91/1000)\n",
            "INFO:__main__:Test Accuracy of  deer: 32% (328/1000)\n",
            "INFO:__main__:Test Accuracy of   dog: 57% (570/1000)\n",
            "INFO:__main__:Test Accuracy of  frog:  4% (42/1000)\n",
            "INFO:__main__:Test Accuracy of horse: 86% (865/1000)\n",
            "INFO:__main__:Test Accuracy of  ship: 41% (416/1000)\n",
            "INFO:__main__:Test Accuracy of truck: 17% (179/1000)\n",
            "INFO:__main__:Test Accuracy (Overall): 28% (2860/10000)\n"
          ]
        },
        {
          "output_type": "stream",
          "name": "stdout",
          "text": [
            "Current trial : 15\n"
          ]
        },
        {
          "output_type": "stream",
          "name": "stderr",
          "text": [
            "INFO:__main__:Train Accuracy of airplane: 19% (990/5000)\n",
            "INFO:__main__:Train Accuracy of automobile: 14% (703/5000)\n",
            "INFO:__main__:Train Accuracy of  bird:  0% (20/5000)\n",
            "INFO:__main__:Train Accuracy of   cat:  9% (454/5000)\n",
            "INFO:__main__:Train Accuracy of  deer: 30% (1544/5000)\n",
            "INFO:__main__:Train Accuracy of   dog: 56% (2833/5000)\n",
            "INFO:__main__:Train Accuracy of  frog:  4% (203/5000)\n",
            "INFO:__main__:Train Accuracy of horse: 89% (4497/5000)\n",
            "INFO:__main__:Train Accuracy of  ship: 31% (1567/5000)\n",
            "INFO:__main__:Train Accuracy of truck: 18% (901/5000)\n",
            "INFO:__main__:Train Accuracy (Overall): 27% (13712/50000)\n",
            "INFO:__main__:Test Accuracy of airplane: 21% (214/1000)\n",
            "INFO:__main__:Test Accuracy of automobile: 13% (139/1000)\n",
            "INFO:__main__:Test Accuracy of  bird:  0% ( 1/1000)\n",
            "INFO:__main__:Test Accuracy of   cat:  8% (83/1000)\n",
            "INFO:__main__:Test Accuracy of  deer: 34% (340/1000)\n",
            "INFO:__main__:Test Accuracy of   dog: 54% (549/1000)\n",
            "INFO:__main__:Test Accuracy of  frog:  4% (40/1000)\n",
            "INFO:__main__:Test Accuracy of horse: 87% (874/1000)\n",
            "INFO:__main__:Test Accuracy of  ship: 40% (406/1000)\n",
            "INFO:__main__:Test Accuracy of truck: 18% (185/1000)\n",
            "INFO:__main__:Test Accuracy (Overall): 28% (2831/10000)\n"
          ]
        },
        {
          "output_type": "stream",
          "name": "stdout",
          "text": [
            "Current trial : 16\n"
          ]
        },
        {
          "output_type": "stream",
          "name": "stderr",
          "text": [
            "INFO:__main__:Train Accuracy of airplane: 19% (952/5000)\n",
            "INFO:__main__:Train Accuracy of automobile: 14% (706/5000)\n",
            "INFO:__main__:Train Accuracy of  bird:  0% (15/5000)\n",
            "INFO:__main__:Train Accuracy of   cat:  8% (426/5000)\n",
            "INFO:__main__:Train Accuracy of  deer: 31% (1579/5000)\n",
            "INFO:__main__:Train Accuracy of   dog: 56% (2838/5000)\n",
            "INFO:__main__:Train Accuracy of  frog:  4% (222/5000)\n",
            "INFO:__main__:Train Accuracy of horse: 89% (4491/5000)\n",
            "INFO:__main__:Train Accuracy of  ship: 31% (1578/5000)\n",
            "INFO:__main__:Train Accuracy of truck: 17% (853/5000)\n",
            "INFO:__main__:Train Accuracy (Overall): 27% (13660/50000)\n",
            "INFO:__main__:Test Accuracy of airplane: 21% (210/1000)\n",
            "INFO:__main__:Test Accuracy of automobile: 12% (126/1000)\n",
            "INFO:__main__:Test Accuracy of  bird:  0% ( 4/1000)\n",
            "INFO:__main__:Test Accuracy of   cat:  9% (94/1000)\n",
            "INFO:__main__:Test Accuracy of  deer: 32% (325/1000)\n",
            "INFO:__main__:Test Accuracy of   dog: 53% (539/1000)\n",
            "INFO:__main__:Test Accuracy of  frog:  4% (42/1000)\n",
            "INFO:__main__:Test Accuracy of horse: 88% (886/1000)\n",
            "INFO:__main__:Test Accuracy of  ship: 39% (392/1000)\n",
            "INFO:__main__:Test Accuracy of truck: 17% (175/1000)\n",
            "INFO:__main__:Test Accuracy (Overall): 27% (2793/10000)\n"
          ]
        },
        {
          "output_type": "stream",
          "name": "stdout",
          "text": [
            "Current trial : 17\n"
          ]
        },
        {
          "output_type": "stream",
          "name": "stderr",
          "text": [
            "INFO:__main__:Train Accuracy of airplane: 20% (1019/5000)\n",
            "INFO:__main__:Train Accuracy of automobile: 14% (712/5000)\n",
            "INFO:__main__:Train Accuracy of  bird:  0% ( 8/5000)\n",
            "INFO:__main__:Train Accuracy of   cat:  8% (443/5000)\n",
            "INFO:__main__:Train Accuracy of  deer: 30% (1517/5000)\n",
            "INFO:__main__:Train Accuracy of   dog: 58% (2906/5000)\n",
            "INFO:__main__:Train Accuracy of  frog:  4% (206/5000)\n",
            "INFO:__main__:Train Accuracy of horse: 89% (4467/5000)\n",
            "INFO:__main__:Train Accuracy of  ship: 31% (1570/5000)\n",
            "INFO:__main__:Train Accuracy of truck: 17% (864/5000)\n",
            "INFO:__main__:Train Accuracy (Overall): 27% (13712/50000)\n",
            "INFO:__main__:Test Accuracy of airplane: 23% (231/1000)\n",
            "INFO:__main__:Test Accuracy of automobile: 13% (130/1000)\n",
            "INFO:__main__:Test Accuracy of  bird:  0% ( 4/1000)\n",
            "INFO:__main__:Test Accuracy of   cat:  7% (77/1000)\n",
            "INFO:__main__:Test Accuracy of  deer: 30% (307/1000)\n",
            "INFO:__main__:Test Accuracy of   dog: 55% (557/1000)\n",
            "INFO:__main__:Test Accuracy of  frog:  3% (34/1000)\n",
            "INFO:__main__:Test Accuracy of horse: 88% (883/1000)\n",
            "INFO:__main__:Test Accuracy of  ship: 40% (401/1000)\n",
            "INFO:__main__:Test Accuracy of truck: 17% (174/1000)\n",
            "INFO:__main__:Test Accuracy (Overall): 27% (2798/10000)\n"
          ]
        },
        {
          "output_type": "stream",
          "name": "stdout",
          "text": [
            "Current trial : 18\n"
          ]
        },
        {
          "output_type": "stream",
          "name": "stderr",
          "text": [
            "INFO:__main__:Train Accuracy of airplane: 19% (996/5000)\n",
            "INFO:__main__:Train Accuracy of automobile: 13% (675/5000)\n",
            "INFO:__main__:Train Accuracy of  bird:  0% (18/5000)\n",
            "INFO:__main__:Train Accuracy of   cat:  8% (441/5000)\n",
            "INFO:__main__:Train Accuracy of  deer: 32% (1639/5000)\n",
            "INFO:__main__:Train Accuracy of   dog: 57% (2851/5000)\n",
            "INFO:__main__:Train Accuracy of  frog:  4% (215/5000)\n",
            "INFO:__main__:Train Accuracy of horse: 90% (4503/5000)\n",
            "INFO:__main__:Train Accuracy of  ship: 31% (1596/5000)\n",
            "INFO:__main__:Train Accuracy of truck: 16% (831/5000)\n",
            "INFO:__main__:Train Accuracy (Overall): 27% (13765/50000)\n",
            "INFO:__main__:Test Accuracy of airplane: 22% (227/1000)\n",
            "INFO:__main__:Test Accuracy of automobile: 13% (130/1000)\n",
            "INFO:__main__:Test Accuracy of  bird:  0% ( 6/1000)\n",
            "INFO:__main__:Test Accuracy of   cat:  9% (97/1000)\n",
            "INFO:__main__:Test Accuracy of  deer: 33% (330/1000)\n",
            "INFO:__main__:Test Accuracy of   dog: 54% (545/1000)\n",
            "INFO:__main__:Test Accuracy of  frog:  5% (51/1000)\n",
            "INFO:__main__:Test Accuracy of horse: 91% (913/1000)\n",
            "INFO:__main__:Test Accuracy of  ship: 39% (391/1000)\n",
            "INFO:__main__:Test Accuracy of truck: 18% (183/1000)\n",
            "INFO:__main__:Test Accuracy (Overall): 28% (2873/10000)\n"
          ]
        },
        {
          "output_type": "stream",
          "name": "stdout",
          "text": [
            "Current trial : 19\n"
          ]
        },
        {
          "output_type": "stream",
          "name": "stderr",
          "text": [
            "INFO:__main__:Train Accuracy of airplane: 20% (1047/5000)\n",
            "INFO:__main__:Train Accuracy of automobile: 14% (708/5000)\n",
            "INFO:__main__:Train Accuracy of  bird:  0% (26/5000)\n",
            "INFO:__main__:Train Accuracy of   cat:  9% (459/5000)\n",
            "INFO:__main__:Train Accuracy of  deer: 31% (1596/5000)\n",
            "INFO:__main__:Train Accuracy of   dog: 55% (2769/5000)\n",
            "INFO:__main__:Train Accuracy of  frog:  4% (208/5000)\n",
            "INFO:__main__:Train Accuracy of horse: 89% (4476/5000)\n",
            "INFO:__main__:Train Accuracy of  ship: 32% (1609/5000)\n",
            "INFO:__main__:Train Accuracy of truck: 17% (859/5000)\n",
            "INFO:__main__:Train Accuracy (Overall): 27% (13757/50000)\n",
            "INFO:__main__:Test Accuracy of airplane: 22% (220/1000)\n",
            "INFO:__main__:Test Accuracy of automobile: 13% (131/1000)\n",
            "INFO:__main__:Test Accuracy of  bird:  0% ( 0/1000)\n",
            "INFO:__main__:Test Accuracy of   cat:  8% (88/1000)\n",
            "INFO:__main__:Test Accuracy of  deer: 30% (306/1000)\n",
            "INFO:__main__:Test Accuracy of   dog: 52% (529/1000)\n",
            "INFO:__main__:Test Accuracy of  frog:  6% (60/1000)\n",
            "INFO:__main__:Test Accuracy of horse: 89% (898/1000)\n",
            "INFO:__main__:Test Accuracy of  ship: 38% (383/1000)\n",
            "INFO:__main__:Test Accuracy of truck: 16% (168/1000)\n",
            "INFO:__main__:Test Accuracy (Overall): 27% (2783/10000)\n"
          ]
        },
        {
          "output_type": "stream",
          "name": "stdout",
          "text": [
            "the following model ResNet18.middle.0.1 is starting from epoch : 50\n",
            "Current Loss 0.07137598413837841 \n",
            "Loading into a new model with 0.91 dropout in middle location\n",
            "Loading into a new model with 0.93 dropout in middle location\n",
            "Loading into a new model with 0.95 dropout in middle location\n",
            "Loading into a new model with 0.97 dropout in middle location\n",
            "Loading into a new model with 0.99 dropout in middle location\n",
            "Current trial : 0\n"
          ]
        },
        {
          "output_type": "stream",
          "name": "stderr",
          "text": [
            "INFO:__main__:Train Accuracy of airplane:  6% (311/5000)\n",
            "INFO:__main__:Train Accuracy of automobile: 16% (815/5000)\n",
            "INFO:__main__:Train Accuracy of  bird:  1% (90/5000)\n",
            "INFO:__main__:Train Accuracy of   cat: 24% (1215/5000)\n",
            "INFO:__main__:Train Accuracy of  deer: 52% (2617/5000)\n",
            "INFO:__main__:Train Accuracy of   dog: 82% (4135/5000)\n",
            "INFO:__main__:Train Accuracy of  frog: 15% (786/5000)\n",
            "INFO:__main__:Train Accuracy of horse: 55% (2772/5000)\n",
            "INFO:__main__:Train Accuracy of  ship: 41% (2065/5000)\n",
            "INFO:__main__:Train Accuracy of truck: 68% (3442/5000)\n",
            "INFO:__main__:Train Accuracy (Overall): 36% (18248/50000)\n",
            "INFO:__main__:Test Accuracy of airplane:  6% (68/1000)\n",
            "INFO:__main__:Test Accuracy of automobile: 17% (173/1000)\n",
            "INFO:__main__:Test Accuracy of  bird:  1% (12/1000)\n",
            "INFO:__main__:Test Accuracy of   cat: 24% (240/1000)\n",
            "INFO:__main__:Test Accuracy of  deer: 58% (582/1000)\n",
            "INFO:__main__:Test Accuracy of   dog: 81% (816/1000)\n",
            "INFO:__main__:Test Accuracy of  frog: 19% (190/1000)\n",
            "INFO:__main__:Test Accuracy of horse: 54% (546/1000)\n",
            "INFO:__main__:Test Accuracy of  ship: 44% (442/1000)\n",
            "INFO:__main__:Test Accuracy of truck: 69% (692/1000)\n",
            "INFO:__main__:Test Accuracy (Overall): 37% (3761/10000)\n"
          ]
        },
        {
          "output_type": "stream",
          "name": "stdout",
          "text": [
            "Current trial : 1\n"
          ]
        },
        {
          "output_type": "stream",
          "name": "stderr",
          "text": [
            "INFO:__main__:Train Accuracy of airplane:  7% (357/5000)\n",
            "INFO:__main__:Train Accuracy of automobile: 14% (735/5000)\n",
            "INFO:__main__:Train Accuracy of  bird:  1% (69/5000)\n",
            "INFO:__main__:Train Accuracy of   cat: 23% (1191/5000)\n",
            "INFO:__main__:Train Accuracy of  deer: 52% (2649/5000)\n",
            "INFO:__main__:Train Accuracy of   dog: 84% (4200/5000)\n",
            "INFO:__main__:Train Accuracy of  frog: 16% (800/5000)\n",
            "INFO:__main__:Train Accuracy of horse: 56% (2800/5000)\n",
            "INFO:__main__:Train Accuracy of  ship: 39% (1998/5000)\n",
            "INFO:__main__:Train Accuracy of truck: 69% (3498/5000)\n",
            "INFO:__main__:Train Accuracy (Overall): 36% (18297/50000)\n",
            "INFO:__main__:Test Accuracy of airplane:  5% (59/1000)\n",
            "INFO:__main__:Test Accuracy of automobile: 17% (171/1000)\n",
            "INFO:__main__:Test Accuracy of  bird:  1% (18/1000)\n",
            "INFO:__main__:Test Accuracy of   cat: 21% (214/1000)\n",
            "INFO:__main__:Test Accuracy of  deer: 55% (555/1000)\n",
            "INFO:__main__:Test Accuracy of   dog: 79% (797/1000)\n",
            "INFO:__main__:Test Accuracy of  frog: 17% (179/1000)\n",
            "INFO:__main__:Test Accuracy of horse: 53% (538/1000)\n",
            "INFO:__main__:Test Accuracy of  ship: 43% (435/1000)\n",
            "INFO:__main__:Test Accuracy of truck: 70% (705/1000)\n",
            "INFO:__main__:Test Accuracy (Overall): 36% (3671/10000)\n"
          ]
        },
        {
          "output_type": "stream",
          "name": "stdout",
          "text": [
            "Current trial : 2\n"
          ]
        },
        {
          "output_type": "stream",
          "name": "stderr",
          "text": [
            "INFO:__main__:Train Accuracy of airplane:  7% (350/5000)\n",
            "INFO:__main__:Train Accuracy of automobile: 14% (742/5000)\n",
            "INFO:__main__:Train Accuracy of  bird:  2% (106/5000)\n",
            "INFO:__main__:Train Accuracy of   cat: 23% (1198/5000)\n",
            "INFO:__main__:Train Accuracy of  deer: 52% (2627/5000)\n",
            "INFO:__main__:Train Accuracy of   dog: 84% (4217/5000)\n",
            "INFO:__main__:Train Accuracy of  frog: 15% (798/5000)\n",
            "INFO:__main__:Train Accuracy of horse: 54% (2709/5000)\n",
            "INFO:__main__:Train Accuracy of  ship: 42% (2106/5000)\n",
            "INFO:__main__:Train Accuracy of truck: 69% (3482/5000)\n",
            "INFO:__main__:Train Accuracy (Overall): 36% (18335/50000)\n",
            "INFO:__main__:Test Accuracy of airplane:  7% (75/1000)\n",
            "INFO:__main__:Test Accuracy of automobile: 17% (172/1000)\n",
            "INFO:__main__:Test Accuracy of  bird:  1% (15/1000)\n",
            "INFO:__main__:Test Accuracy of   cat: 23% (239/1000)\n",
            "INFO:__main__:Test Accuracy of  deer: 56% (563/1000)\n",
            "INFO:__main__:Test Accuracy of   dog: 82% (822/1000)\n",
            "INFO:__main__:Test Accuracy of  frog: 18% (184/1000)\n",
            "INFO:__main__:Test Accuracy of horse: 55% (551/1000)\n",
            "INFO:__main__:Test Accuracy of  ship: 45% (450/1000)\n",
            "INFO:__main__:Test Accuracy of truck: 72% (725/1000)\n",
            "INFO:__main__:Test Accuracy (Overall): 37% (3796/10000)\n"
          ]
        },
        {
          "output_type": "stream",
          "name": "stdout",
          "text": [
            "Current trial : 3\n"
          ]
        },
        {
          "output_type": "stream",
          "name": "stderr",
          "text": [
            "INFO:__main__:Train Accuracy of airplane:  5% (289/5000)\n",
            "INFO:__main__:Train Accuracy of automobile: 15% (773/5000)\n",
            "INFO:__main__:Train Accuracy of  bird:  1% (87/5000)\n",
            "INFO:__main__:Train Accuracy of   cat: 24% (1219/5000)\n",
            "INFO:__main__:Train Accuracy of  deer: 53% (2676/5000)\n",
            "INFO:__main__:Train Accuracy of   dog: 83% (4189/5000)\n",
            "INFO:__main__:Train Accuracy of  frog: 16% (810/5000)\n",
            "INFO:__main__:Train Accuracy of horse: 55% (2758/5000)\n",
            "INFO:__main__:Train Accuracy of  ship: 41% (2072/5000)\n",
            "INFO:__main__:Train Accuracy of truck: 70% (3504/5000)\n",
            "INFO:__main__:Train Accuracy (Overall): 36% (18377/50000)\n",
            "INFO:__main__:Test Accuracy of airplane:  6% (64/1000)\n",
            "INFO:__main__:Test Accuracy of automobile: 18% (180/1000)\n",
            "INFO:__main__:Test Accuracy of  bird:  1% (12/1000)\n",
            "INFO:__main__:Test Accuracy of   cat: 23% (235/1000)\n",
            "INFO:__main__:Test Accuracy of  deer: 55% (555/1000)\n",
            "INFO:__main__:Test Accuracy of   dog: 81% (819/1000)\n",
            "INFO:__main__:Test Accuracy of  frog: 19% (190/1000)\n",
            "INFO:__main__:Test Accuracy of horse: 53% (532/1000)\n",
            "INFO:__main__:Test Accuracy of  ship: 42% (427/1000)\n",
            "INFO:__main__:Test Accuracy of truck: 69% (691/1000)\n",
            "INFO:__main__:Test Accuracy (Overall): 37% (3705/10000)\n"
          ]
        },
        {
          "output_type": "stream",
          "name": "stdout",
          "text": [
            "Current trial : 4\n"
          ]
        },
        {
          "output_type": "stream",
          "name": "stderr",
          "text": [
            "INFO:__main__:Train Accuracy of airplane:  6% (328/5000)\n",
            "INFO:__main__:Train Accuracy of automobile: 14% (746/5000)\n",
            "INFO:__main__:Train Accuracy of  bird:  1% (84/5000)\n",
            "INFO:__main__:Train Accuracy of   cat: 24% (1215/5000)\n",
            "INFO:__main__:Train Accuracy of  deer: 52% (2628/5000)\n",
            "INFO:__main__:Train Accuracy of   dog: 83% (4193/5000)\n",
            "INFO:__main__:Train Accuracy of  frog: 16% (813/5000)\n",
            "INFO:__main__:Train Accuracy of horse: 55% (2756/5000)\n",
            "INFO:__main__:Train Accuracy of  ship: 41% (2053/5000)\n",
            "INFO:__main__:Train Accuracy of truck: 68% (3420/5000)\n",
            "INFO:__main__:Train Accuracy (Overall): 36% (18236/50000)\n",
            "INFO:__main__:Test Accuracy of airplane:  8% (86/1000)\n",
            "INFO:__main__:Test Accuracy of automobile: 17% (174/1000)\n",
            "INFO:__main__:Test Accuracy of  bird:  1% (13/1000)\n",
            "INFO:__main__:Test Accuracy of   cat: 20% (209/1000)\n",
            "INFO:__main__:Test Accuracy of  deer: 55% (554/1000)\n",
            "INFO:__main__:Test Accuracy of   dog: 81% (818/1000)\n",
            "INFO:__main__:Test Accuracy of  frog: 16% (163/1000)\n",
            "INFO:__main__:Test Accuracy of horse: 52% (528/1000)\n",
            "INFO:__main__:Test Accuracy of  ship: 42% (429/1000)\n",
            "INFO:__main__:Test Accuracy of truck: 70% (709/1000)\n",
            "INFO:__main__:Test Accuracy (Overall): 36% (3683/10000)\n"
          ]
        },
        {
          "output_type": "stream",
          "name": "stdout",
          "text": [
            "Current trial : 5\n"
          ]
        },
        {
          "output_type": "stream",
          "name": "stderr",
          "text": [
            "INFO:__main__:Train Accuracy of airplane:  7% (354/5000)\n",
            "INFO:__main__:Train Accuracy of automobile: 16% (808/5000)\n",
            "INFO:__main__:Train Accuracy of  bird:  1% (79/5000)\n",
            "INFO:__main__:Train Accuracy of   cat: 24% (1202/5000)\n",
            "INFO:__main__:Train Accuracy of  deer: 53% (2659/5000)\n",
            "INFO:__main__:Train Accuracy of   dog: 84% (4234/5000)\n",
            "INFO:__main__:Train Accuracy of  frog: 17% (876/5000)\n",
            "INFO:__main__:Train Accuracy of horse: 55% (2775/5000)\n",
            "INFO:__main__:Train Accuracy of  ship: 42% (2104/5000)\n",
            "INFO:__main__:Train Accuracy of truck: 69% (3488/5000)\n",
            "INFO:__main__:Train Accuracy (Overall): 37% (18579/50000)\n",
            "INFO:__main__:Test Accuracy of airplane:  7% (75/1000)\n",
            "INFO:__main__:Test Accuracy of automobile: 16% (165/1000)\n",
            "INFO:__main__:Test Accuracy of  bird:  1% (18/1000)\n",
            "INFO:__main__:Test Accuracy of   cat: 24% (240/1000)\n",
            "INFO:__main__:Test Accuracy of  deer: 58% (585/1000)\n",
            "INFO:__main__:Test Accuracy of   dog: 78% (788/1000)\n",
            "INFO:__main__:Test Accuracy of  frog: 19% (196/1000)\n",
            "INFO:__main__:Test Accuracy of horse: 55% (551/1000)\n",
            "INFO:__main__:Test Accuracy of  ship: 43% (434/1000)\n",
            "INFO:__main__:Test Accuracy of truck: 70% (703/1000)\n",
            "INFO:__main__:Test Accuracy (Overall): 37% (3755/10000)\n"
          ]
        },
        {
          "output_type": "stream",
          "name": "stdout",
          "text": [
            "Current trial : 6\n"
          ]
        },
        {
          "output_type": "stream",
          "name": "stderr",
          "text": [
            "INFO:__main__:Train Accuracy of airplane:  6% (325/5000)\n",
            "INFO:__main__:Train Accuracy of automobile: 16% (837/5000)\n",
            "INFO:__main__:Train Accuracy of  bird:  1% (73/5000)\n",
            "INFO:__main__:Train Accuracy of   cat: 24% (1207/5000)\n",
            "INFO:__main__:Train Accuracy of  deer: 52% (2616/5000)\n",
            "INFO:__main__:Train Accuracy of   dog: 83% (4164/5000)\n",
            "INFO:__main__:Train Accuracy of  frog: 16% (803/5000)\n",
            "INFO:__main__:Train Accuracy of horse: 55% (2774/5000)\n",
            "INFO:__main__:Train Accuracy of  ship: 41% (2055/5000)\n",
            "INFO:__main__:Train Accuracy of truck: 69% (3465/5000)\n",
            "INFO:__main__:Train Accuracy (Overall): 36% (18319/50000)\n",
            "INFO:__main__:Test Accuracy of airplane:  5% (58/1000)\n",
            "INFO:__main__:Test Accuracy of automobile: 16% (160/1000)\n",
            "INFO:__main__:Test Accuracy of  bird:  1% (16/1000)\n",
            "INFO:__main__:Test Accuracy of   cat: 21% (218/1000)\n",
            "INFO:__main__:Test Accuracy of  deer: 57% (571/1000)\n",
            "INFO:__main__:Test Accuracy of   dog: 82% (820/1000)\n",
            "INFO:__main__:Test Accuracy of  frog: 16% (163/1000)\n",
            "INFO:__main__:Test Accuracy of horse: 54% (542/1000)\n",
            "INFO:__main__:Test Accuracy of  ship: 42% (427/1000)\n",
            "INFO:__main__:Test Accuracy of truck: 69% (699/1000)\n",
            "INFO:__main__:Test Accuracy (Overall): 36% (3674/10000)\n"
          ]
        },
        {
          "output_type": "stream",
          "name": "stdout",
          "text": [
            "Current trial : 7\n"
          ]
        },
        {
          "output_type": "stream",
          "name": "stderr",
          "text": [
            "INFO:__main__:Train Accuracy of airplane:  7% (350/5000)\n",
            "INFO:__main__:Train Accuracy of automobile: 15% (790/5000)\n",
            "INFO:__main__:Train Accuracy of  bird:  1% (79/5000)\n",
            "INFO:__main__:Train Accuracy of   cat: 24% (1218/5000)\n",
            "INFO:__main__:Train Accuracy of  deer: 53% (2699/5000)\n",
            "INFO:__main__:Train Accuracy of   dog: 83% (4172/5000)\n",
            "INFO:__main__:Train Accuracy of  frog: 16% (840/5000)\n",
            "INFO:__main__:Train Accuracy of horse: 55% (2786/5000)\n",
            "INFO:__main__:Train Accuracy of  ship: 40% (2035/5000)\n",
            "INFO:__main__:Train Accuracy of truck: 67% (3382/5000)\n",
            "INFO:__main__:Train Accuracy (Overall): 36% (18351/50000)\n",
            "INFO:__main__:Test Accuracy of airplane:  7% (78/1000)\n",
            "INFO:__main__:Test Accuracy of automobile: 19% (193/1000)\n",
            "INFO:__main__:Test Accuracy of  bird:  1% (18/1000)\n",
            "INFO:__main__:Test Accuracy of   cat: 24% (244/1000)\n",
            "INFO:__main__:Test Accuracy of  deer: 56% (566/1000)\n",
            "INFO:__main__:Test Accuracy of   dog: 79% (799/1000)\n",
            "INFO:__main__:Test Accuracy of  frog: 18% (182/1000)\n",
            "INFO:__main__:Test Accuracy of horse: 54% (540/1000)\n",
            "INFO:__main__:Test Accuracy of  ship: 42% (429/1000)\n",
            "INFO:__main__:Test Accuracy of truck: 71% (712/1000)\n",
            "INFO:__main__:Test Accuracy (Overall): 37% (3761/10000)\n"
          ]
        },
        {
          "output_type": "stream",
          "name": "stdout",
          "text": [
            "Current trial : 8\n"
          ]
        },
        {
          "output_type": "stream",
          "name": "stderr",
          "text": [
            "INFO:__main__:Train Accuracy of airplane:  6% (308/5000)\n",
            "INFO:__main__:Train Accuracy of automobile: 16% (816/5000)\n",
            "INFO:__main__:Train Accuracy of  bird:  1% (67/5000)\n",
            "INFO:__main__:Train Accuracy of   cat: 24% (1219/5000)\n",
            "INFO:__main__:Train Accuracy of  deer: 52% (2638/5000)\n",
            "INFO:__main__:Train Accuracy of   dog: 83% (4150/5000)\n",
            "INFO:__main__:Train Accuracy of  frog: 16% (838/5000)\n",
            "INFO:__main__:Train Accuracy of horse: 54% (2720/5000)\n",
            "INFO:__main__:Train Accuracy of  ship: 41% (2085/5000)\n",
            "INFO:__main__:Train Accuracy of truck: 69% (3468/5000)\n",
            "INFO:__main__:Train Accuracy (Overall): 36% (18309/50000)\n",
            "INFO:__main__:Test Accuracy of airplane:  7% (73/1000)\n",
            "INFO:__main__:Test Accuracy of automobile: 16% (161/1000)\n",
            "INFO:__main__:Test Accuracy of  bird:  1% (19/1000)\n",
            "INFO:__main__:Test Accuracy of   cat: 23% (238/1000)\n",
            "INFO:__main__:Test Accuracy of  deer: 54% (542/1000)\n",
            "INFO:__main__:Test Accuracy of   dog: 80% (803/1000)\n",
            "INFO:__main__:Test Accuracy of  frog: 17% (178/1000)\n",
            "INFO:__main__:Test Accuracy of horse: 55% (558/1000)\n",
            "INFO:__main__:Test Accuracy of  ship: 42% (427/1000)\n",
            "INFO:__main__:Test Accuracy of truck: 68% (687/1000)\n",
            "INFO:__main__:Test Accuracy (Overall): 36% (3686/10000)\n"
          ]
        },
        {
          "output_type": "stream",
          "name": "stdout",
          "text": [
            "Current trial : 9\n"
          ]
        },
        {
          "output_type": "stream",
          "name": "stderr",
          "text": [
            "INFO:__main__:Train Accuracy of airplane:  6% (333/5000)\n",
            "INFO:__main__:Train Accuracy of automobile: 16% (817/5000)\n",
            "INFO:__main__:Train Accuracy of  bird:  1% (80/5000)\n",
            "INFO:__main__:Train Accuracy of   cat: 23% (1154/5000)\n",
            "INFO:__main__:Train Accuracy of  deer: 52% (2632/5000)\n",
            "INFO:__main__:Train Accuracy of   dog: 83% (4187/5000)\n",
            "INFO:__main__:Train Accuracy of  frog: 15% (776/5000)\n",
            "INFO:__main__:Train Accuracy of horse: 56% (2843/5000)\n",
            "INFO:__main__:Train Accuracy of  ship: 41% (2061/5000)\n",
            "INFO:__main__:Train Accuracy of truck: 68% (3430/5000)\n",
            "INFO:__main__:Train Accuracy (Overall): 36% (18313/50000)\n",
            "INFO:__main__:Test Accuracy of airplane:  8% (84/1000)\n",
            "INFO:__main__:Test Accuracy of automobile: 17% (174/1000)\n",
            "INFO:__main__:Test Accuracy of  bird:  1% (16/1000)\n",
            "INFO:__main__:Test Accuracy of   cat: 22% (222/1000)\n",
            "INFO:__main__:Test Accuracy of  deer: 55% (554/1000)\n",
            "INFO:__main__:Test Accuracy of   dog: 80% (807/1000)\n",
            "INFO:__main__:Test Accuracy of  frog: 18% (183/1000)\n",
            "INFO:__main__:Test Accuracy of horse: 54% (549/1000)\n",
            "INFO:__main__:Test Accuracy of  ship: 44% (442/1000)\n",
            "INFO:__main__:Test Accuracy of truck: 69% (691/1000)\n",
            "INFO:__main__:Test Accuracy (Overall): 37% (3722/10000)\n"
          ]
        },
        {
          "output_type": "stream",
          "name": "stdout",
          "text": [
            "Current trial : 10\n"
          ]
        },
        {
          "output_type": "stream",
          "name": "stderr",
          "text": [
            "INFO:__main__:Train Accuracy of airplane:  6% (318/5000)\n",
            "INFO:__main__:Train Accuracy of automobile: 16% (804/5000)\n",
            "INFO:__main__:Train Accuracy of  bird:  1% (84/5000)\n",
            "INFO:__main__:Train Accuracy of   cat: 23% (1194/5000)\n",
            "INFO:__main__:Train Accuracy of  deer: 53% (2650/5000)\n",
            "INFO:__main__:Train Accuracy of   dog: 83% (4195/5000)\n",
            "INFO:__main__:Train Accuracy of  frog: 16% (822/5000)\n",
            "INFO:__main__:Train Accuracy of horse: 55% (2757/5000)\n",
            "INFO:__main__:Train Accuracy of  ship: 40% (2014/5000)\n",
            "INFO:__main__:Train Accuracy of truck: 70% (3506/5000)\n",
            "INFO:__main__:Train Accuracy (Overall): 36% (18344/50000)\n",
            "INFO:__main__:Test Accuracy of airplane:  7% (71/1000)\n",
            "INFO:__main__:Test Accuracy of automobile: 18% (183/1000)\n",
            "INFO:__main__:Test Accuracy of  bird:  1% (15/1000)\n",
            "INFO:__main__:Test Accuracy of   cat: 21% (216/1000)\n",
            "INFO:__main__:Test Accuracy of  deer: 56% (566/1000)\n",
            "INFO:__main__:Test Accuracy of   dog: 81% (810/1000)\n",
            "INFO:__main__:Test Accuracy of  frog: 18% (180/1000)\n",
            "INFO:__main__:Test Accuracy of horse: 54% (541/1000)\n",
            "INFO:__main__:Test Accuracy of  ship: 44% (442/1000)\n",
            "INFO:__main__:Test Accuracy of truck: 69% (691/1000)\n",
            "INFO:__main__:Test Accuracy (Overall): 37% (3715/10000)\n"
          ]
        },
        {
          "output_type": "stream",
          "name": "stdout",
          "text": [
            "Current trial : 11\n"
          ]
        },
        {
          "output_type": "stream",
          "name": "stderr",
          "text": [
            "INFO:__main__:Train Accuracy of airplane:  6% (338/5000)\n",
            "INFO:__main__:Train Accuracy of automobile: 15% (790/5000)\n",
            "INFO:__main__:Train Accuracy of  bird:  1% (85/5000)\n",
            "INFO:__main__:Train Accuracy of   cat: 23% (1159/5000)\n",
            "INFO:__main__:Train Accuracy of  deer: 53% (2657/5000)\n",
            "INFO:__main__:Train Accuracy of   dog: 82% (4140/5000)\n",
            "INFO:__main__:Train Accuracy of  frog: 16% (813/5000)\n",
            "INFO:__main__:Train Accuracy of horse: 55% (2766/5000)\n",
            "INFO:__main__:Train Accuracy of  ship: 41% (2051/5000)\n",
            "INFO:__main__:Train Accuracy of truck: 70% (3512/5000)\n",
            "INFO:__main__:Train Accuracy (Overall): 36% (18311/50000)\n",
            "INFO:__main__:Test Accuracy of airplane:  6% (61/1000)\n",
            "INFO:__main__:Test Accuracy of automobile: 16% (161/1000)\n",
            "INFO:__main__:Test Accuracy of  bird:  1% (17/1000)\n",
            "INFO:__main__:Test Accuracy of   cat: 23% (233/1000)\n",
            "INFO:__main__:Test Accuracy of  deer: 59% (591/1000)\n",
            "INFO:__main__:Test Accuracy of   dog: 82% (828/1000)\n",
            "INFO:__main__:Test Accuracy of  frog: 17% (174/1000)\n",
            "INFO:__main__:Test Accuracy of horse: 53% (533/1000)\n",
            "INFO:__main__:Test Accuracy of  ship: 42% (422/1000)\n",
            "INFO:__main__:Test Accuracy of truck: 72% (720/1000)\n",
            "INFO:__main__:Test Accuracy (Overall): 37% (3740/10000)\n"
          ]
        },
        {
          "output_type": "stream",
          "name": "stdout",
          "text": [
            "Current trial : 12\n"
          ]
        },
        {
          "output_type": "stream",
          "name": "stderr",
          "text": [
            "INFO:__main__:Train Accuracy of airplane:  7% (365/5000)\n",
            "INFO:__main__:Train Accuracy of automobile: 16% (834/5000)\n",
            "INFO:__main__:Train Accuracy of  bird:  1% (72/5000)\n",
            "INFO:__main__:Train Accuracy of   cat: 24% (1240/5000)\n",
            "INFO:__main__:Train Accuracy of  deer: 53% (2654/5000)\n",
            "INFO:__main__:Train Accuracy of   dog: 84% (4213/5000)\n",
            "INFO:__main__:Train Accuracy of  frog: 16% (841/5000)\n",
            "INFO:__main__:Train Accuracy of horse: 56% (2845/5000)\n",
            "INFO:__main__:Train Accuracy of  ship: 41% (2070/5000)\n",
            "INFO:__main__:Train Accuracy of truck: 68% (3449/5000)\n",
            "INFO:__main__:Train Accuracy (Overall): 37% (18583/50000)\n",
            "INFO:__main__:Test Accuracy of airplane:  8% (81/1000)\n",
            "INFO:__main__:Test Accuracy of automobile: 15% (156/1000)\n",
            "INFO:__main__:Test Accuracy of  bird:  1% (19/1000)\n",
            "INFO:__main__:Test Accuracy of   cat: 22% (222/1000)\n",
            "INFO:__main__:Test Accuracy of  deer: 56% (567/1000)\n",
            "INFO:__main__:Test Accuracy of   dog: 83% (830/1000)\n",
            "INFO:__main__:Test Accuracy of  frog: 18% (189/1000)\n",
            "INFO:__main__:Test Accuracy of horse: 52% (525/1000)\n",
            "INFO:__main__:Test Accuracy of  ship: 43% (434/1000)\n",
            "INFO:__main__:Test Accuracy of truck: 68% (684/1000)\n",
            "INFO:__main__:Test Accuracy (Overall): 37% (3707/10000)\n"
          ]
        },
        {
          "output_type": "stream",
          "name": "stdout",
          "text": [
            "Current trial : 13\n"
          ]
        },
        {
          "output_type": "stream",
          "name": "stderr",
          "text": [
            "INFO:__main__:Train Accuracy of airplane:  6% (330/5000)\n",
            "INFO:__main__:Train Accuracy of automobile: 16% (848/5000)\n",
            "INFO:__main__:Train Accuracy of  bird:  1% (76/5000)\n",
            "INFO:__main__:Train Accuracy of   cat: 24% (1223/5000)\n",
            "INFO:__main__:Train Accuracy of  deer: 53% (2650/5000)\n",
            "INFO:__main__:Train Accuracy of   dog: 84% (4218/5000)\n",
            "INFO:__main__:Train Accuracy of  frog: 16% (800/5000)\n",
            "INFO:__main__:Train Accuracy of horse: 54% (2728/5000)\n",
            "INFO:__main__:Train Accuracy of  ship: 42% (2113/5000)\n",
            "INFO:__main__:Train Accuracy of truck: 69% (3459/5000)\n",
            "INFO:__main__:Train Accuracy (Overall): 36% (18445/50000)\n",
            "INFO:__main__:Test Accuracy of airplane:  7% (74/1000)\n",
            "INFO:__main__:Test Accuracy of automobile: 19% (192/1000)\n",
            "INFO:__main__:Test Accuracy of  bird:  1% (17/1000)\n",
            "INFO:__main__:Test Accuracy of   cat: 23% (236/1000)\n",
            "INFO:__main__:Test Accuracy of  deer: 55% (558/1000)\n",
            "INFO:__main__:Test Accuracy of   dog: 80% (802/1000)\n",
            "INFO:__main__:Test Accuracy of  frog: 17% (171/1000)\n",
            "INFO:__main__:Test Accuracy of horse: 55% (552/1000)\n",
            "INFO:__main__:Test Accuracy of  ship: 44% (441/1000)\n",
            "INFO:__main__:Test Accuracy of truck: 71% (717/1000)\n",
            "INFO:__main__:Test Accuracy (Overall): 37% (3760/10000)\n"
          ]
        },
        {
          "output_type": "stream",
          "name": "stdout",
          "text": [
            "Current trial : 14\n"
          ]
        },
        {
          "output_type": "stream",
          "name": "stderr",
          "text": [
            "INFO:__main__:Train Accuracy of airplane:  6% (333/5000)\n",
            "INFO:__main__:Train Accuracy of automobile: 16% (802/5000)\n",
            "INFO:__main__:Train Accuracy of  bird:  1% (98/5000)\n",
            "INFO:__main__:Train Accuracy of   cat: 23% (1197/5000)\n",
            "INFO:__main__:Train Accuracy of  deer: 54% (2722/5000)\n",
            "INFO:__main__:Train Accuracy of   dog: 83% (4194/5000)\n",
            "INFO:__main__:Train Accuracy of  frog: 16% (801/5000)\n",
            "INFO:__main__:Train Accuracy of horse: 55% (2757/5000)\n",
            "INFO:__main__:Train Accuracy of  ship: 41% (2054/5000)\n",
            "INFO:__main__:Train Accuracy of truck: 69% (3463/5000)\n",
            "INFO:__main__:Train Accuracy (Overall): 36% (18421/50000)\n",
            "INFO:__main__:Test Accuracy of airplane:  8% (82/1000)\n",
            "INFO:__main__:Test Accuracy of automobile: 15% (154/1000)\n",
            "INFO:__main__:Test Accuracy of  bird:  1% (17/1000)\n",
            "INFO:__main__:Test Accuracy of   cat: 22% (229/1000)\n",
            "INFO:__main__:Test Accuracy of  deer: 58% (580/1000)\n",
            "INFO:__main__:Test Accuracy of   dog: 80% (806/1000)\n",
            "INFO:__main__:Test Accuracy of  frog: 18% (180/1000)\n",
            "INFO:__main__:Test Accuracy of horse: 55% (557/1000)\n",
            "INFO:__main__:Test Accuracy of  ship: 43% (438/1000)\n",
            "INFO:__main__:Test Accuracy of truck: 69% (696/1000)\n",
            "INFO:__main__:Test Accuracy (Overall): 37% (3739/10000)\n"
          ]
        },
        {
          "output_type": "stream",
          "name": "stdout",
          "text": [
            "Current trial : 15\n"
          ]
        },
        {
          "output_type": "stream",
          "name": "stderr",
          "text": [
            "INFO:__main__:Train Accuracy of airplane:  6% (340/5000)\n",
            "INFO:__main__:Train Accuracy of automobile: 15% (750/5000)\n",
            "INFO:__main__:Train Accuracy of  bird:  1% (79/5000)\n",
            "INFO:__main__:Train Accuracy of   cat: 23% (1151/5000)\n",
            "INFO:__main__:Train Accuracy of  deer: 53% (2655/5000)\n",
            "INFO:__main__:Train Accuracy of   dog: 83% (4190/5000)\n",
            "INFO:__main__:Train Accuracy of  frog: 16% (837/5000)\n",
            "INFO:__main__:Train Accuracy of horse: 55% (2752/5000)\n",
            "INFO:__main__:Train Accuracy of  ship: 40% (2020/5000)\n",
            "INFO:__main__:Train Accuracy of truck: 69% (3460/5000)\n",
            "INFO:__main__:Train Accuracy (Overall): 36% (18234/50000)\n",
            "INFO:__main__:Test Accuracy of airplane:  6% (67/1000)\n",
            "INFO:__main__:Test Accuracy of automobile: 18% (183/1000)\n",
            "INFO:__main__:Test Accuracy of  bird:  1% (14/1000)\n",
            "INFO:__main__:Test Accuracy of   cat: 22% (220/1000)\n",
            "INFO:__main__:Test Accuracy of  deer: 55% (550/1000)\n",
            "INFO:__main__:Test Accuracy of   dog: 78% (787/1000)\n",
            "INFO:__main__:Test Accuracy of  frog: 17% (178/1000)\n",
            "INFO:__main__:Test Accuracy of horse: 53% (539/1000)\n",
            "INFO:__main__:Test Accuracy of  ship: 43% (434/1000)\n",
            "INFO:__main__:Test Accuracy of truck: 70% (702/1000)\n",
            "INFO:__main__:Test Accuracy (Overall): 36% (3674/10000)\n"
          ]
        },
        {
          "output_type": "stream",
          "name": "stdout",
          "text": [
            "Current trial : 16\n"
          ]
        },
        {
          "output_type": "stream",
          "name": "stderr",
          "text": [
            "INFO:__main__:Train Accuracy of airplane:  6% (335/5000)\n",
            "INFO:__main__:Train Accuracy of automobile: 15% (791/5000)\n",
            "INFO:__main__:Train Accuracy of  bird:  1% (90/5000)\n",
            "INFO:__main__:Train Accuracy of   cat: 24% (1218/5000)\n",
            "INFO:__main__:Train Accuracy of  deer: 51% (2586/5000)\n",
            "INFO:__main__:Train Accuracy of   dog: 83% (4151/5000)\n",
            "INFO:__main__:Train Accuracy of  frog: 17% (866/5000)\n",
            "INFO:__main__:Train Accuracy of horse: 55% (2795/5000)\n",
            "INFO:__main__:Train Accuracy of  ship: 40% (2045/5000)\n",
            "INFO:__main__:Train Accuracy of truck: 70% (3530/5000)\n",
            "INFO:__main__:Train Accuracy (Overall): 36% (18407/50000)\n",
            "INFO:__main__:Test Accuracy of airplane:  6% (67/1000)\n",
            "INFO:__main__:Test Accuracy of automobile: 16% (164/1000)\n",
            "INFO:__main__:Test Accuracy of  bird:  1% (15/1000)\n",
            "INFO:__main__:Test Accuracy of   cat: 24% (245/1000)\n",
            "INFO:__main__:Test Accuracy of  deer: 55% (554/1000)\n",
            "INFO:__main__:Test Accuracy of   dog: 80% (805/1000)\n",
            "INFO:__main__:Test Accuracy of  frog: 17% (172/1000)\n",
            "INFO:__main__:Test Accuracy of horse: 54% (545/1000)\n",
            "INFO:__main__:Test Accuracy of  ship: 43% (436/1000)\n",
            "INFO:__main__:Test Accuracy of truck: 71% (711/1000)\n",
            "INFO:__main__:Test Accuracy (Overall): 37% (3714/10000)\n"
          ]
        },
        {
          "output_type": "stream",
          "name": "stdout",
          "text": [
            "Current trial : 17\n"
          ]
        },
        {
          "output_type": "stream",
          "name": "stderr",
          "text": [
            "INFO:__main__:Train Accuracy of airplane:  6% (326/5000)\n",
            "INFO:__main__:Train Accuracy of automobile: 15% (791/5000)\n",
            "INFO:__main__:Train Accuracy of  bird:  2% (100/5000)\n",
            "INFO:__main__:Train Accuracy of   cat: 24% (1215/5000)\n",
            "INFO:__main__:Train Accuracy of  deer: 51% (2598/5000)\n",
            "INFO:__main__:Train Accuracy of   dog: 84% (4210/5000)\n",
            "INFO:__main__:Train Accuracy of  frog: 16% (840/5000)\n",
            "INFO:__main__:Train Accuracy of horse: 54% (2747/5000)\n",
            "INFO:__main__:Train Accuracy of  ship: 40% (2031/5000)\n",
            "INFO:__main__:Train Accuracy of truck: 69% (3459/5000)\n",
            "INFO:__main__:Train Accuracy (Overall): 36% (18317/50000)\n",
            "INFO:__main__:Test Accuracy of airplane:  7% (75/1000)\n",
            "INFO:__main__:Test Accuracy of automobile: 16% (167/1000)\n",
            "INFO:__main__:Test Accuracy of  bird:  2% (21/1000)\n",
            "INFO:__main__:Test Accuracy of   cat: 24% (248/1000)\n",
            "INFO:__main__:Test Accuracy of  deer: 55% (558/1000)\n",
            "INFO:__main__:Test Accuracy of   dog: 81% (810/1000)\n",
            "INFO:__main__:Test Accuracy of  frog: 18% (182/1000)\n",
            "INFO:__main__:Test Accuracy of horse: 53% (537/1000)\n",
            "INFO:__main__:Test Accuracy of  ship: 45% (451/1000)\n",
            "INFO:__main__:Test Accuracy of truck: 72% (725/1000)\n",
            "INFO:__main__:Test Accuracy (Overall): 37% (3774/10000)\n"
          ]
        },
        {
          "output_type": "stream",
          "name": "stdout",
          "text": [
            "Current trial : 18\n"
          ]
        },
        {
          "output_type": "stream",
          "name": "stderr",
          "text": [
            "INFO:__main__:Train Accuracy of airplane:  6% (311/5000)\n",
            "INFO:__main__:Train Accuracy of automobile: 17% (850/5000)\n",
            "INFO:__main__:Train Accuracy of  bird:  1% (81/5000)\n",
            "INFO:__main__:Train Accuracy of   cat: 24% (1200/5000)\n",
            "INFO:__main__:Train Accuracy of  deer: 52% (2639/5000)\n",
            "INFO:__main__:Train Accuracy of   dog: 83% (4194/5000)\n",
            "INFO:__main__:Train Accuracy of  frog: 16% (841/5000)\n",
            "INFO:__main__:Train Accuracy of horse: 55% (2795/5000)\n",
            "INFO:__main__:Train Accuracy of  ship: 40% (2042/5000)\n",
            "INFO:__main__:Train Accuracy of truck: 68% (3448/5000)\n",
            "INFO:__main__:Train Accuracy (Overall): 36% (18401/50000)\n",
            "INFO:__main__:Test Accuracy of airplane:  7% (75/1000)\n",
            "INFO:__main__:Test Accuracy of automobile: 16% (169/1000)\n",
            "INFO:__main__:Test Accuracy of  bird:  1% (18/1000)\n",
            "INFO:__main__:Test Accuracy of   cat: 22% (224/1000)\n",
            "INFO:__main__:Test Accuracy of  deer: 56% (565/1000)\n",
            "INFO:__main__:Test Accuracy of   dog: 79% (790/1000)\n",
            "INFO:__main__:Test Accuracy of  frog: 18% (181/1000)\n",
            "INFO:__main__:Test Accuracy of horse: 53% (536/1000)\n",
            "INFO:__main__:Test Accuracy of  ship: 42% (429/1000)\n",
            "INFO:__main__:Test Accuracy of truck: 70% (702/1000)\n",
            "INFO:__main__:Test Accuracy (Overall): 36% (3689/10000)\n"
          ]
        },
        {
          "output_type": "stream",
          "name": "stdout",
          "text": [
            "Current trial : 19\n"
          ]
        },
        {
          "output_type": "stream",
          "name": "stderr",
          "text": [
            "INFO:__main__:Train Accuracy of airplane:  6% (347/5000)\n",
            "INFO:__main__:Train Accuracy of automobile: 15% (789/5000)\n",
            "INFO:__main__:Train Accuracy of  bird:  1% (68/5000)\n",
            "INFO:__main__:Train Accuracy of   cat: 23% (1191/5000)\n",
            "INFO:__main__:Train Accuracy of  deer: 53% (2661/5000)\n",
            "INFO:__main__:Train Accuracy of   dog: 82% (4142/5000)\n",
            "INFO:__main__:Train Accuracy of  frog: 15% (795/5000)\n",
            "INFO:__main__:Train Accuracy of horse: 56% (2825/5000)\n",
            "INFO:__main__:Train Accuracy of  ship: 41% (2062/5000)\n",
            "INFO:__main__:Train Accuracy of truck: 69% (3482/5000)\n",
            "INFO:__main__:Train Accuracy (Overall): 36% (18362/50000)\n",
            "INFO:__main__:Test Accuracy of airplane:  6% (63/1000)\n",
            "INFO:__main__:Test Accuracy of automobile: 16% (162/1000)\n",
            "INFO:__main__:Test Accuracy of  bird:  0% ( 7/1000)\n",
            "INFO:__main__:Test Accuracy of   cat: 22% (220/1000)\n",
            "INFO:__main__:Test Accuracy of  deer: 58% (583/1000)\n",
            "INFO:__main__:Test Accuracy of   dog: 79% (796/1000)\n",
            "INFO:__main__:Test Accuracy of  frog: 18% (189/1000)\n",
            "INFO:__main__:Test Accuracy of horse: 53% (531/1000)\n",
            "INFO:__main__:Test Accuracy of  ship: 42% (421/1000)\n",
            "INFO:__main__:Test Accuracy of truck: 70% (700/1000)\n",
            "INFO:__main__:Test Accuracy (Overall): 36% (3672/10000)\n"
          ]
        },
        {
          "output_type": "stream",
          "name": "stdout",
          "text": [
            "the following model ResNet18.middle.0.2 is starting from epoch : 50\n",
            "Current Loss 0.07059522741859546 \n",
            "Loading into a new model with 0.91 dropout in middle location\n",
            "Loading into a new model with 0.93 dropout in middle location\n",
            "Loading into a new model with 0.95 dropout in middle location\n",
            "Loading into a new model with 0.97 dropout in middle location\n",
            "Loading into a new model with 0.99 dropout in middle location\n",
            "Current trial : 0\n"
          ]
        },
        {
          "output_type": "stream",
          "name": "stderr",
          "text": [
            "INFO:__main__:Train Accuracy of airplane: 15% (768/5000)\n",
            "INFO:__main__:Train Accuracy of automobile:  4% (244/5000)\n",
            "INFO:__main__:Train Accuracy of  bird:  4% (245/5000)\n",
            "INFO:__main__:Train Accuracy of   cat: 17% (879/5000)\n",
            "INFO:__main__:Train Accuracy of  deer: 31% (1599/5000)\n",
            "INFO:__main__:Train Accuracy of   dog: 93% (4693/5000)\n",
            "INFO:__main__:Train Accuracy of  frog: 26% (1344/5000)\n",
            "INFO:__main__:Train Accuracy of horse: 53% (2657/5000)\n",
            "INFO:__main__:Train Accuracy of  ship: 31% (1596/5000)\n",
            "INFO:__main__:Train Accuracy of truck: 73% (3689/5000)\n",
            "INFO:__main__:Train Accuracy (Overall): 35% (17714/50000)\n",
            "INFO:__main__:Test Accuracy of airplane: 18% (189/1000)\n",
            "INFO:__main__:Test Accuracy of automobile:  5% (57/1000)\n",
            "INFO:__main__:Test Accuracy of  bird:  4% (46/1000)\n",
            "INFO:__main__:Test Accuracy of   cat: 16% (161/1000)\n",
            "INFO:__main__:Test Accuracy of  deer: 33% (338/1000)\n",
            "INFO:__main__:Test Accuracy of   dog: 91% (913/1000)\n",
            "INFO:__main__:Test Accuracy of  frog: 33% (331/1000)\n",
            "INFO:__main__:Test Accuracy of horse: 55% (552/1000)\n",
            "INFO:__main__:Test Accuracy of  ship: 38% (385/1000)\n",
            "INFO:__main__:Test Accuracy of truck: 77% (775/1000)\n",
            "INFO:__main__:Test Accuracy (Overall): 37% (3747/10000)\n"
          ]
        },
        {
          "output_type": "stream",
          "name": "stdout",
          "text": [
            "Current trial : 1\n"
          ]
        },
        {
          "output_type": "stream",
          "name": "stderr",
          "text": [
            "INFO:__main__:Train Accuracy of airplane: 15% (766/5000)\n",
            "INFO:__main__:Train Accuracy of automobile:  4% (225/5000)\n",
            "INFO:__main__:Train Accuracy of  bird:  5% (250/5000)\n",
            "INFO:__main__:Train Accuracy of   cat: 16% (848/5000)\n",
            "INFO:__main__:Train Accuracy of  deer: 32% (1604/5000)\n",
            "INFO:__main__:Train Accuracy of   dog: 93% (4691/5000)\n",
            "INFO:__main__:Train Accuracy of  frog: 26% (1328/5000)\n",
            "INFO:__main__:Train Accuracy of horse: 53% (2676/5000)\n",
            "INFO:__main__:Train Accuracy of  ship: 31% (1567/5000)\n",
            "INFO:__main__:Train Accuracy of truck: 73% (3672/5000)\n",
            "INFO:__main__:Train Accuracy (Overall): 35% (17627/50000)\n",
            "INFO:__main__:Test Accuracy of airplane: 20% (200/1000)\n",
            "INFO:__main__:Test Accuracy of automobile:  5% (53/1000)\n",
            "INFO:__main__:Test Accuracy of  bird:  6% (62/1000)\n",
            "INFO:__main__:Test Accuracy of   cat: 17% (178/1000)\n",
            "INFO:__main__:Test Accuracy of  deer: 34% (341/1000)\n",
            "INFO:__main__:Test Accuracy of   dog: 91% (913/1000)\n",
            "INFO:__main__:Test Accuracy of  frog: 33% (330/1000)\n",
            "INFO:__main__:Test Accuracy of horse: 50% (502/1000)\n",
            "INFO:__main__:Test Accuracy of  ship: 36% (361/1000)\n",
            "INFO:__main__:Test Accuracy of truck: 76% (766/1000)\n",
            "INFO:__main__:Test Accuracy (Overall): 37% (3706/10000)\n"
          ]
        },
        {
          "output_type": "stream",
          "name": "stdout",
          "text": [
            "Current trial : 2\n"
          ]
        },
        {
          "output_type": "stream",
          "name": "stderr",
          "text": [
            "INFO:__main__:Train Accuracy of airplane: 14% (735/5000)\n",
            "INFO:__main__:Train Accuracy of automobile:  4% (244/5000)\n",
            "INFO:__main__:Train Accuracy of  bird:  5% (264/5000)\n",
            "INFO:__main__:Train Accuracy of   cat: 17% (891/5000)\n",
            "INFO:__main__:Train Accuracy of  deer: 32% (1610/5000)\n",
            "INFO:__main__:Train Accuracy of   dog: 93% (4676/5000)\n",
            "INFO:__main__:Train Accuracy of  frog: 27% (1353/5000)\n",
            "INFO:__main__:Train Accuracy of horse: 52% (2628/5000)\n",
            "INFO:__main__:Train Accuracy of  ship: 32% (1601/5000)\n",
            "INFO:__main__:Train Accuracy of truck: 74% (3706/5000)\n",
            "INFO:__main__:Train Accuracy (Overall): 35% (17708/50000)\n",
            "INFO:__main__:Test Accuracy of airplane: 18% (186/1000)\n",
            "INFO:__main__:Test Accuracy of automobile:  4% (49/1000)\n",
            "INFO:__main__:Test Accuracy of  bird:  6% (63/1000)\n",
            "INFO:__main__:Test Accuracy of   cat: 16% (163/1000)\n",
            "INFO:__main__:Test Accuracy of  deer: 37% (372/1000)\n",
            "INFO:__main__:Test Accuracy of   dog: 90% (906/1000)\n",
            "INFO:__main__:Test Accuracy of  frog: 30% (307/1000)\n",
            "INFO:__main__:Test Accuracy of horse: 50% (507/1000)\n",
            "INFO:__main__:Test Accuracy of  ship: 38% (381/1000)\n",
            "INFO:__main__:Test Accuracy of truck: 76% (762/1000)\n",
            "INFO:__main__:Test Accuracy (Overall): 36% (3696/10000)\n"
          ]
        },
        {
          "output_type": "stream",
          "name": "stdout",
          "text": [
            "Current trial : 3\n"
          ]
        },
        {
          "output_type": "stream",
          "name": "stderr",
          "text": [
            "INFO:__main__:Train Accuracy of airplane: 14% (711/5000)\n",
            "INFO:__main__:Train Accuracy of automobile:  4% (227/5000)\n",
            "INFO:__main__:Train Accuracy of  bird:  5% (257/5000)\n",
            "INFO:__main__:Train Accuracy of   cat: 17% (881/5000)\n",
            "INFO:__main__:Train Accuracy of  deer: 31% (1565/5000)\n",
            "INFO:__main__:Train Accuracy of   dog: 92% (4643/5000)\n",
            "INFO:__main__:Train Accuracy of  frog: 27% (1399/5000)\n",
            "INFO:__main__:Train Accuracy of horse: 52% (2606/5000)\n",
            "INFO:__main__:Train Accuracy of  ship: 32% (1609/5000)\n",
            "INFO:__main__:Train Accuracy of truck: 73% (3656/5000)\n",
            "INFO:__main__:Train Accuracy (Overall): 35% (17554/50000)\n",
            "INFO:__main__:Test Accuracy of airplane: 18% (184/1000)\n",
            "INFO:__main__:Test Accuracy of automobile:  5% (50/1000)\n",
            "INFO:__main__:Test Accuracy of  bird:  5% (56/1000)\n",
            "INFO:__main__:Test Accuracy of   cat: 14% (143/1000)\n",
            "INFO:__main__:Test Accuracy of  deer: 34% (345/1000)\n",
            "INFO:__main__:Test Accuracy of   dog: 91% (915/1000)\n",
            "INFO:__main__:Test Accuracy of  frog: 31% (311/1000)\n",
            "INFO:__main__:Test Accuracy of horse: 52% (520/1000)\n",
            "INFO:__main__:Test Accuracy of  ship: 37% (377/1000)\n",
            "INFO:__main__:Test Accuracy of truck: 77% (773/1000)\n",
            "INFO:__main__:Test Accuracy (Overall): 36% (3674/10000)\n"
          ]
        },
        {
          "output_type": "stream",
          "name": "stdout",
          "text": [
            "Current trial : 4\n"
          ]
        },
        {
          "output_type": "stream",
          "name": "stderr",
          "text": [
            "INFO:__main__:Train Accuracy of airplane: 14% (738/5000)\n",
            "INFO:__main__:Train Accuracy of automobile:  3% (199/5000)\n",
            "INFO:__main__:Train Accuracy of  bird:  5% (260/5000)\n",
            "INFO:__main__:Train Accuracy of   cat: 17% (861/5000)\n",
            "INFO:__main__:Train Accuracy of  deer: 31% (1561/5000)\n",
            "INFO:__main__:Train Accuracy of   dog: 93% (4673/5000)\n",
            "INFO:__main__:Train Accuracy of  frog: 27% (1368/5000)\n",
            "INFO:__main__:Train Accuracy of horse: 53% (2664/5000)\n",
            "INFO:__main__:Train Accuracy of  ship: 31% (1565/5000)\n",
            "INFO:__main__:Train Accuracy of truck: 74% (3707/5000)\n",
            "INFO:__main__:Train Accuracy (Overall): 35% (17596/50000)\n",
            "INFO:__main__:Test Accuracy of airplane: 19% (193/1000)\n",
            "INFO:__main__:Test Accuracy of automobile:  5% (58/1000)\n",
            "INFO:__main__:Test Accuracy of  bird:  5% (56/1000)\n",
            "INFO:__main__:Test Accuracy of   cat: 14% (144/1000)\n",
            "INFO:__main__:Test Accuracy of  deer: 33% (331/1000)\n",
            "INFO:__main__:Test Accuracy of   dog: 90% (907/1000)\n",
            "INFO:__main__:Test Accuracy of  frog: 32% (329/1000)\n",
            "INFO:__main__:Test Accuracy of horse: 51% (513/1000)\n",
            "INFO:__main__:Test Accuracy of  ship: 38% (387/1000)\n",
            "INFO:__main__:Test Accuracy of truck: 79% (792/1000)\n",
            "INFO:__main__:Test Accuracy (Overall): 37% (3710/10000)\n"
          ]
        },
        {
          "output_type": "stream",
          "name": "stdout",
          "text": [
            "Current trial : 5\n"
          ]
        },
        {
          "output_type": "stream",
          "name": "stderr",
          "text": [
            "INFO:__main__:Train Accuracy of airplane: 14% (734/5000)\n",
            "INFO:__main__:Train Accuracy of automobile:  4% (231/5000)\n",
            "INFO:__main__:Train Accuracy of  bird:  4% (235/5000)\n",
            "INFO:__main__:Train Accuracy of   cat: 18% (907/5000)\n",
            "INFO:__main__:Train Accuracy of  deer: 32% (1616/5000)\n",
            "INFO:__main__:Train Accuracy of   dog: 93% (4661/5000)\n",
            "INFO:__main__:Train Accuracy of  frog: 27% (1354/5000)\n",
            "INFO:__main__:Train Accuracy of horse: 54% (2716/5000)\n",
            "INFO:__main__:Train Accuracy of  ship: 30% (1540/5000)\n",
            "INFO:__main__:Train Accuracy of truck: 74% (3745/5000)\n",
            "INFO:__main__:Train Accuracy (Overall): 35% (17739/50000)\n",
            "INFO:__main__:Test Accuracy of airplane: 18% (187/1000)\n",
            "INFO:__main__:Test Accuracy of automobile:  4% (43/1000)\n",
            "INFO:__main__:Test Accuracy of  bird:  6% (63/1000)\n",
            "INFO:__main__:Test Accuracy of   cat: 17% (170/1000)\n",
            "INFO:__main__:Test Accuracy of  deer: 34% (343/1000)\n",
            "INFO:__main__:Test Accuracy of   dog: 91% (913/1000)\n",
            "INFO:__main__:Test Accuracy of  frog: 30% (306/1000)\n",
            "INFO:__main__:Test Accuracy of horse: 52% (526/1000)\n",
            "INFO:__main__:Test Accuracy of  ship: 37% (378/1000)\n",
            "INFO:__main__:Test Accuracy of truck: 76% (769/1000)\n",
            "INFO:__main__:Test Accuracy (Overall): 36% (3698/10000)\n"
          ]
        },
        {
          "output_type": "stream",
          "name": "stdout",
          "text": [
            "Current trial : 6\n"
          ]
        },
        {
          "output_type": "stream",
          "name": "stderr",
          "text": [
            "INFO:__main__:Train Accuracy of airplane: 15% (770/5000)\n",
            "INFO:__main__:Train Accuracy of automobile:  4% (218/5000)\n",
            "INFO:__main__:Train Accuracy of  bird:  4% (247/5000)\n",
            "INFO:__main__:Train Accuracy of   cat: 17% (862/5000)\n",
            "INFO:__main__:Train Accuracy of  deer: 31% (1565/5000)\n",
            "INFO:__main__:Train Accuracy of   dog: 93% (4683/5000)\n",
            "INFO:__main__:Train Accuracy of  frog: 26% (1300/5000)\n",
            "INFO:__main__:Train Accuracy of horse: 52% (2617/5000)\n",
            "INFO:__main__:Train Accuracy of  ship: 31% (1567/5000)\n",
            "INFO:__main__:Train Accuracy of truck: 73% (3665/5000)\n",
            "INFO:__main__:Train Accuracy (Overall): 34% (17494/50000)\n",
            "INFO:__main__:Test Accuracy of airplane: 19% (193/1000)\n",
            "INFO:__main__:Test Accuracy of automobile:  5% (52/1000)\n",
            "INFO:__main__:Test Accuracy of  bird:  4% (44/1000)\n",
            "INFO:__main__:Test Accuracy of   cat: 18% (183/1000)\n",
            "INFO:__main__:Test Accuracy of  deer: 37% (374/1000)\n",
            "INFO:__main__:Test Accuracy of   dog: 90% (902/1000)\n",
            "INFO:__main__:Test Accuracy of  frog: 32% (328/1000)\n",
            "INFO:__main__:Test Accuracy of horse: 52% (529/1000)\n",
            "INFO:__main__:Test Accuracy of  ship: 40% (405/1000)\n",
            "INFO:__main__:Test Accuracy of truck: 76% (769/1000)\n",
            "INFO:__main__:Test Accuracy (Overall): 37% (3779/10000)\n"
          ]
        },
        {
          "output_type": "stream",
          "name": "stdout",
          "text": [
            "Current trial : 7\n"
          ]
        },
        {
          "output_type": "stream",
          "name": "stderr",
          "text": [
            "INFO:__main__:Train Accuracy of airplane: 15% (757/5000)\n",
            "INFO:__main__:Train Accuracy of automobile:  4% (233/5000)\n",
            "INFO:__main__:Train Accuracy of  bird:  5% (267/5000)\n",
            "INFO:__main__:Train Accuracy of   cat: 16% (845/5000)\n",
            "INFO:__main__:Train Accuracy of  deer: 32% (1604/5000)\n",
            "INFO:__main__:Train Accuracy of   dog: 92% (4637/5000)\n",
            "INFO:__main__:Train Accuracy of  frog: 27% (1362/5000)\n",
            "INFO:__main__:Train Accuracy of horse: 52% (2643/5000)\n",
            "INFO:__main__:Train Accuracy of  ship: 31% (1590/5000)\n",
            "INFO:__main__:Train Accuracy of truck: 73% (3654/5000)\n",
            "INFO:__main__:Train Accuracy (Overall): 35% (17592/50000)\n",
            "INFO:__main__:Test Accuracy of airplane: 19% (197/1000)\n",
            "INFO:__main__:Test Accuracy of automobile:  5% (50/1000)\n",
            "INFO:__main__:Test Accuracy of  bird:  5% (53/1000)\n",
            "INFO:__main__:Test Accuracy of   cat: 16% (168/1000)\n",
            "INFO:__main__:Test Accuracy of  deer: 33% (333/1000)\n",
            "INFO:__main__:Test Accuracy of   dog: 91% (915/1000)\n",
            "INFO:__main__:Test Accuracy of  frog: 31% (312/1000)\n",
            "INFO:__main__:Test Accuracy of horse: 51% (511/1000)\n",
            "INFO:__main__:Test Accuracy of  ship: 38% (389/1000)\n",
            "INFO:__main__:Test Accuracy of truck: 78% (782/1000)\n",
            "INFO:__main__:Test Accuracy (Overall): 37% (3710/10000)\n"
          ]
        },
        {
          "output_type": "stream",
          "name": "stdout",
          "text": [
            "Current trial : 8\n"
          ]
        },
        {
          "output_type": "stream",
          "name": "stderr",
          "text": [
            "INFO:__main__:Train Accuracy of airplane: 15% (760/5000)\n",
            "INFO:__main__:Train Accuracy of automobile:  4% (231/5000)\n",
            "INFO:__main__:Train Accuracy of  bird:  4% (240/5000)\n",
            "INFO:__main__:Train Accuracy of   cat: 17% (885/5000)\n",
            "INFO:__main__:Train Accuracy of  deer: 31% (1568/5000)\n",
            "INFO:__main__:Train Accuracy of   dog: 93% (4666/5000)\n",
            "INFO:__main__:Train Accuracy of  frog: 26% (1341/5000)\n",
            "INFO:__main__:Train Accuracy of horse: 53% (2679/5000)\n",
            "INFO:__main__:Train Accuracy of  ship: 31% (1553/5000)\n",
            "INFO:__main__:Train Accuracy of truck: 74% (3725/5000)\n",
            "INFO:__main__:Train Accuracy (Overall): 35% (17648/50000)\n",
            "INFO:__main__:Test Accuracy of airplane: 19% (191/1000)\n",
            "INFO:__main__:Test Accuracy of automobile:  5% (53/1000)\n",
            "INFO:__main__:Test Accuracy of  bird:  6% (65/1000)\n",
            "INFO:__main__:Test Accuracy of   cat: 15% (156/1000)\n",
            "INFO:__main__:Test Accuracy of  deer: 37% (379/1000)\n",
            "INFO:__main__:Test Accuracy of   dog: 92% (928/1000)\n",
            "INFO:__main__:Test Accuracy of  frog: 31% (310/1000)\n",
            "INFO:__main__:Test Accuracy of horse: 54% (540/1000)\n",
            "INFO:__main__:Test Accuracy of  ship: 38% (384/1000)\n",
            "INFO:__main__:Test Accuracy of truck: 74% (742/1000)\n",
            "INFO:__main__:Test Accuracy (Overall): 37% (3748/10000)\n"
          ]
        },
        {
          "output_type": "stream",
          "name": "stdout",
          "text": [
            "Current trial : 9\n"
          ]
        },
        {
          "output_type": "stream",
          "name": "stderr",
          "text": [
            "INFO:__main__:Train Accuracy of airplane: 13% (689/5000)\n",
            "INFO:__main__:Train Accuracy of automobile:  4% (243/5000)\n",
            "INFO:__main__:Train Accuracy of  bird:  5% (256/5000)\n",
            "INFO:__main__:Train Accuracy of   cat: 16% (840/5000)\n",
            "INFO:__main__:Train Accuracy of  deer: 31% (1583/5000)\n",
            "INFO:__main__:Train Accuracy of   dog: 93% (4683/5000)\n",
            "INFO:__main__:Train Accuracy of  frog: 26% (1343/5000)\n",
            "INFO:__main__:Train Accuracy of horse: 53% (2691/5000)\n",
            "INFO:__main__:Train Accuracy of  ship: 32% (1616/5000)\n",
            "INFO:__main__:Train Accuracy of truck: 74% (3721/5000)\n",
            "INFO:__main__:Train Accuracy (Overall): 35% (17665/50000)\n",
            "INFO:__main__:Test Accuracy of airplane: 17% (175/1000)\n",
            "INFO:__main__:Test Accuracy of automobile:  4% (49/1000)\n",
            "INFO:__main__:Test Accuracy of  bird:  4% (42/1000)\n",
            "INFO:__main__:Test Accuracy of   cat: 14% (141/1000)\n",
            "INFO:__main__:Test Accuracy of  deer: 36% (360/1000)\n",
            "INFO:__main__:Test Accuracy of   dog: 90% (906/1000)\n",
            "INFO:__main__:Test Accuracy of  frog: 31% (315/1000)\n",
            "INFO:__main__:Test Accuracy of horse: 53% (537/1000)\n",
            "INFO:__main__:Test Accuracy of  ship: 36% (365/1000)\n",
            "INFO:__main__:Test Accuracy of truck: 78% (788/1000)\n",
            "INFO:__main__:Test Accuracy (Overall): 36% (3678/10000)\n"
          ]
        },
        {
          "output_type": "stream",
          "name": "stdout",
          "text": [
            "Current trial : 10\n"
          ]
        },
        {
          "output_type": "stream",
          "name": "stderr",
          "text": [
            "INFO:__main__:Train Accuracy of airplane: 15% (796/5000)\n",
            "INFO:__main__:Train Accuracy of automobile:  4% (248/5000)\n",
            "INFO:__main__:Train Accuracy of  bird:  5% (256/5000)\n",
            "INFO:__main__:Train Accuracy of   cat: 18% (940/5000)\n",
            "INFO:__main__:Train Accuracy of  deer: 31% (1589/5000)\n",
            "INFO:__main__:Train Accuracy of   dog: 93% (4688/5000)\n",
            "INFO:__main__:Train Accuracy of  frog: 27% (1383/5000)\n",
            "INFO:__main__:Train Accuracy of horse: 52% (2628/5000)\n",
            "INFO:__main__:Train Accuracy of  ship: 31% (1554/5000)\n",
            "INFO:__main__:Train Accuracy of truck: 73% (3678/5000)\n",
            "INFO:__main__:Train Accuracy (Overall): 35% (17760/50000)\n",
            "INFO:__main__:Test Accuracy of airplane: 20% (201/1000)\n",
            "INFO:__main__:Test Accuracy of automobile:  5% (50/1000)\n",
            "INFO:__main__:Test Accuracy of  bird:  6% (60/1000)\n",
            "INFO:__main__:Test Accuracy of   cat: 16% (168/1000)\n",
            "INFO:__main__:Test Accuracy of  deer: 36% (361/1000)\n",
            "INFO:__main__:Test Accuracy of   dog: 91% (913/1000)\n",
            "INFO:__main__:Test Accuracy of  frog: 29% (291/1000)\n",
            "INFO:__main__:Test Accuracy of horse: 53% (533/1000)\n",
            "INFO:__main__:Test Accuracy of  ship: 37% (376/1000)\n",
            "INFO:__main__:Test Accuracy of truck: 77% (772/1000)\n",
            "INFO:__main__:Test Accuracy (Overall): 37% (3725/10000)\n"
          ]
        },
        {
          "output_type": "stream",
          "name": "stdout",
          "text": [
            "Current trial : 11\n"
          ]
        },
        {
          "output_type": "stream",
          "name": "stderr",
          "text": [
            "INFO:__main__:Train Accuracy of airplane: 15% (761/5000)\n",
            "INFO:__main__:Train Accuracy of automobile:  4% (248/5000)\n",
            "INFO:__main__:Train Accuracy of  bird:  5% (266/5000)\n",
            "INFO:__main__:Train Accuracy of   cat: 16% (842/5000)\n",
            "INFO:__main__:Train Accuracy of  deer: 31% (1594/5000)\n",
            "INFO:__main__:Train Accuracy of   dog: 93% (4695/5000)\n",
            "INFO:__main__:Train Accuracy of  frog: 26% (1322/5000)\n",
            "INFO:__main__:Train Accuracy of horse: 53% (2665/5000)\n",
            "INFO:__main__:Train Accuracy of  ship: 30% (1530/5000)\n",
            "INFO:__main__:Train Accuracy of truck: 74% (3722/5000)\n",
            "INFO:__main__:Train Accuracy (Overall): 35% (17645/50000)\n",
            "INFO:__main__:Test Accuracy of airplane: 18% (182/1000)\n",
            "INFO:__main__:Test Accuracy of automobile:  5% (53/1000)\n",
            "INFO:__main__:Test Accuracy of  bird:  4% (40/1000)\n",
            "INFO:__main__:Test Accuracy of   cat: 16% (161/1000)\n",
            "INFO:__main__:Test Accuracy of  deer: 39% (397/1000)\n",
            "INFO:__main__:Test Accuracy of   dog: 89% (898/1000)\n",
            "INFO:__main__:Test Accuracy of  frog: 30% (300/1000)\n",
            "INFO:__main__:Test Accuracy of horse: 50% (506/1000)\n",
            "INFO:__main__:Test Accuracy of  ship: 38% (386/1000)\n",
            "INFO:__main__:Test Accuracy of truck: 76% (765/1000)\n",
            "INFO:__main__:Test Accuracy (Overall): 36% (3688/10000)\n"
          ]
        },
        {
          "output_type": "stream",
          "name": "stdout",
          "text": [
            "Current trial : 12\n"
          ]
        },
        {
          "output_type": "stream",
          "name": "stderr",
          "text": [
            "INFO:__main__:Train Accuracy of airplane: 14% (726/5000)\n",
            "INFO:__main__:Train Accuracy of automobile:  4% (230/5000)\n",
            "INFO:__main__:Train Accuracy of  bird:  5% (259/5000)\n",
            "INFO:__main__:Train Accuracy of   cat: 17% (898/5000)\n",
            "INFO:__main__:Train Accuracy of  deer: 32% (1619/5000)\n",
            "INFO:__main__:Train Accuracy of   dog: 93% (4687/5000)\n",
            "INFO:__main__:Train Accuracy of  frog: 27% (1361/5000)\n",
            "INFO:__main__:Train Accuracy of horse: 52% (2600/5000)\n",
            "INFO:__main__:Train Accuracy of  ship: 31% (1553/5000)\n",
            "INFO:__main__:Train Accuracy of truck: 74% (3704/5000)\n",
            "INFO:__main__:Train Accuracy (Overall): 35% (17637/50000)\n",
            "INFO:__main__:Test Accuracy of airplane: 18% (181/1000)\n",
            "INFO:__main__:Test Accuracy of automobile:  6% (66/1000)\n",
            "INFO:__main__:Test Accuracy of  bird:  5% (55/1000)\n",
            "INFO:__main__:Test Accuracy of   cat: 15% (156/1000)\n",
            "INFO:__main__:Test Accuracy of  deer: 37% (376/1000)\n",
            "INFO:__main__:Test Accuracy of   dog: 90% (904/1000)\n",
            "INFO:__main__:Test Accuracy of  frog: 30% (301/1000)\n",
            "INFO:__main__:Test Accuracy of horse: 54% (544/1000)\n",
            "INFO:__main__:Test Accuracy of  ship: 35% (351/1000)\n",
            "INFO:__main__:Test Accuracy of truck: 77% (770/1000)\n",
            "INFO:__main__:Test Accuracy (Overall): 37% (3704/10000)\n"
          ]
        },
        {
          "output_type": "stream",
          "name": "stdout",
          "text": [
            "Current trial : 13\n"
          ]
        },
        {
          "output_type": "stream",
          "name": "stderr",
          "text": [
            "INFO:__main__:Train Accuracy of airplane: 15% (751/5000)\n",
            "INFO:__main__:Train Accuracy of automobile:  5% (262/5000)\n",
            "INFO:__main__:Train Accuracy of  bird:  5% (266/5000)\n",
            "INFO:__main__:Train Accuracy of   cat: 17% (867/5000)\n",
            "INFO:__main__:Train Accuracy of  deer: 31% (1587/5000)\n",
            "INFO:__main__:Train Accuracy of   dog: 92% (4638/5000)\n",
            "INFO:__main__:Train Accuracy of  frog: 26% (1337/5000)\n",
            "INFO:__main__:Train Accuracy of horse: 53% (2667/5000)\n",
            "INFO:__main__:Train Accuracy of  ship: 31% (1566/5000)\n",
            "INFO:__main__:Train Accuracy of truck: 74% (3707/5000)\n",
            "INFO:__main__:Train Accuracy (Overall): 35% (17648/50000)\n",
            "INFO:__main__:Test Accuracy of airplane: 19% (193/1000)\n",
            "INFO:__main__:Test Accuracy of automobile:  5% (58/1000)\n",
            "INFO:__main__:Test Accuracy of  bird:  5% (58/1000)\n",
            "INFO:__main__:Test Accuracy of   cat: 15% (159/1000)\n",
            "INFO:__main__:Test Accuracy of  deer: 38% (382/1000)\n",
            "INFO:__main__:Test Accuracy of   dog: 91% (915/1000)\n",
            "INFO:__main__:Test Accuracy of  frog: 30% (300/1000)\n",
            "INFO:__main__:Test Accuracy of horse: 52% (522/1000)\n",
            "INFO:__main__:Test Accuracy of  ship: 36% (369/1000)\n",
            "INFO:__main__:Test Accuracy of truck: 73% (738/1000)\n",
            "INFO:__main__:Test Accuracy (Overall): 36% (3694/10000)\n"
          ]
        },
        {
          "output_type": "stream",
          "name": "stdout",
          "text": [
            "Current trial : 14\n"
          ]
        },
        {
          "output_type": "stream",
          "name": "stderr",
          "text": [
            "INFO:__main__:Train Accuracy of airplane: 15% (750/5000)\n",
            "INFO:__main__:Train Accuracy of automobile:  5% (263/5000)\n",
            "INFO:__main__:Train Accuracy of  bird:  5% (263/5000)\n",
            "INFO:__main__:Train Accuracy of   cat: 16% (848/5000)\n",
            "INFO:__main__:Train Accuracy of  deer: 31% (1584/5000)\n",
            "INFO:__main__:Train Accuracy of   dog: 93% (4672/5000)\n",
            "INFO:__main__:Train Accuracy of  frog: 26% (1347/5000)\n",
            "INFO:__main__:Train Accuracy of horse: 52% (2641/5000)\n",
            "INFO:__main__:Train Accuracy of  ship: 31% (1575/5000)\n",
            "INFO:__main__:Train Accuracy of truck: 73% (3666/5000)\n",
            "INFO:__main__:Train Accuracy (Overall): 35% (17609/50000)\n",
            "INFO:__main__:Test Accuracy of airplane: 20% (208/1000)\n",
            "INFO:__main__:Test Accuracy of automobile:  6% (67/1000)\n",
            "INFO:__main__:Test Accuracy of  bird:  6% (66/1000)\n",
            "INFO:__main__:Test Accuracy of   cat: 16% (164/1000)\n",
            "INFO:__main__:Test Accuracy of  deer: 35% (355/1000)\n",
            "INFO:__main__:Test Accuracy of   dog: 90% (904/1000)\n",
            "INFO:__main__:Test Accuracy of  frog: 31% (312/1000)\n",
            "INFO:__main__:Test Accuracy of horse: 51% (514/1000)\n",
            "INFO:__main__:Test Accuracy of  ship: 35% (357/1000)\n",
            "INFO:__main__:Test Accuracy of truck: 78% (789/1000)\n",
            "INFO:__main__:Test Accuracy (Overall): 37% (3736/10000)\n"
          ]
        },
        {
          "output_type": "stream",
          "name": "stdout",
          "text": [
            "Current trial : 15\n"
          ]
        },
        {
          "output_type": "stream",
          "name": "stderr",
          "text": [
            "INFO:__main__:Train Accuracy of airplane: 14% (747/5000)\n",
            "INFO:__main__:Train Accuracy of automobile:  4% (240/5000)\n",
            "INFO:__main__:Train Accuracy of  bird:  5% (258/5000)\n",
            "INFO:__main__:Train Accuracy of   cat: 17% (872/5000)\n",
            "INFO:__main__:Train Accuracy of  deer: 32% (1638/5000)\n",
            "INFO:__main__:Train Accuracy of   dog: 93% (4652/5000)\n",
            "INFO:__main__:Train Accuracy of  frog: 26% (1336/5000)\n",
            "INFO:__main__:Train Accuracy of horse: 54% (2714/5000)\n",
            "INFO:__main__:Train Accuracy of  ship: 32% (1609/5000)\n",
            "INFO:__main__:Train Accuracy of truck: 73% (3693/5000)\n",
            "INFO:__main__:Train Accuracy (Overall): 35% (17759/50000)\n",
            "INFO:__main__:Test Accuracy of airplane: 17% (179/1000)\n",
            "INFO:__main__:Test Accuracy of automobile:  5% (50/1000)\n",
            "INFO:__main__:Test Accuracy of  bird:  5% (56/1000)\n",
            "INFO:__main__:Test Accuracy of   cat: 16% (168/1000)\n",
            "INFO:__main__:Test Accuracy of  deer: 36% (365/1000)\n",
            "INFO:__main__:Test Accuracy of   dog: 91% (917/1000)\n",
            "INFO:__main__:Test Accuracy of  frog: 30% (306/1000)\n",
            "INFO:__main__:Test Accuracy of horse: 51% (513/1000)\n",
            "INFO:__main__:Test Accuracy of  ship: 35% (356/1000)\n",
            "INFO:__main__:Test Accuracy of truck: 78% (786/1000)\n",
            "INFO:__main__:Test Accuracy (Overall): 36% (3696/10000)\n"
          ]
        },
        {
          "output_type": "stream",
          "name": "stdout",
          "text": [
            "Current trial : 16\n"
          ]
        },
        {
          "output_type": "stream",
          "name": "stderr",
          "text": [
            "INFO:__main__:Train Accuracy of airplane: 15% (767/5000)\n",
            "INFO:__main__:Train Accuracy of automobile:  4% (227/5000)\n",
            "INFO:__main__:Train Accuracy of  bird:  5% (260/5000)\n",
            "INFO:__main__:Train Accuracy of   cat: 18% (924/5000)\n",
            "INFO:__main__:Train Accuracy of  deer: 32% (1607/5000)\n",
            "INFO:__main__:Train Accuracy of   dog: 93% (4681/5000)\n",
            "INFO:__main__:Train Accuracy of  frog: 27% (1354/5000)\n",
            "INFO:__main__:Train Accuracy of horse: 54% (2716/5000)\n",
            "INFO:__main__:Train Accuracy of  ship: 31% (1563/5000)\n",
            "INFO:__main__:Train Accuracy of truck: 73% (3693/5000)\n",
            "INFO:__main__:Train Accuracy (Overall): 35% (17792/50000)\n",
            "INFO:__main__:Test Accuracy of airplane: 20% (201/1000)\n",
            "INFO:__main__:Test Accuracy of automobile:  5% (55/1000)\n",
            "INFO:__main__:Test Accuracy of  bird:  6% (60/1000)\n",
            "INFO:__main__:Test Accuracy of   cat: 18% (184/1000)\n",
            "INFO:__main__:Test Accuracy of  deer: 36% (366/1000)\n",
            "INFO:__main__:Test Accuracy of   dog: 90% (906/1000)\n",
            "INFO:__main__:Test Accuracy of  frog: 29% (295/1000)\n",
            "INFO:__main__:Test Accuracy of horse: 52% (522/1000)\n",
            "INFO:__main__:Test Accuracy of  ship: 37% (373/1000)\n",
            "INFO:__main__:Test Accuracy of truck: 77% (776/1000)\n",
            "INFO:__main__:Test Accuracy (Overall): 37% (3738/10000)\n"
          ]
        },
        {
          "output_type": "stream",
          "name": "stdout",
          "text": [
            "Current trial : 17\n"
          ]
        },
        {
          "output_type": "stream",
          "name": "stderr",
          "text": [
            "INFO:__main__:Train Accuracy of airplane: 14% (747/5000)\n",
            "INFO:__main__:Train Accuracy of automobile:  4% (229/5000)\n",
            "INFO:__main__:Train Accuracy of  bird:  5% (275/5000)\n",
            "INFO:__main__:Train Accuracy of   cat: 17% (872/5000)\n",
            "INFO:__main__:Train Accuracy of  deer: 32% (1611/5000)\n",
            "INFO:__main__:Train Accuracy of   dog: 93% (4682/5000)\n",
            "INFO:__main__:Train Accuracy of  frog: 25% (1290/5000)\n",
            "INFO:__main__:Train Accuracy of horse: 51% (2577/5000)\n",
            "INFO:__main__:Train Accuracy of  ship: 32% (1602/5000)\n",
            "INFO:__main__:Train Accuracy of truck: 74% (3705/5000)\n",
            "INFO:__main__:Train Accuracy (Overall): 35% (17590/50000)\n",
            "INFO:__main__:Test Accuracy of airplane: 17% (176/1000)\n",
            "INFO:__main__:Test Accuracy of automobile:  5% (50/1000)\n",
            "INFO:__main__:Test Accuracy of  bird:  5% (57/1000)\n",
            "INFO:__main__:Test Accuracy of   cat: 15% (158/1000)\n",
            "INFO:__main__:Test Accuracy of  deer: 34% (344/1000)\n",
            "INFO:__main__:Test Accuracy of   dog: 91% (916/1000)\n",
            "INFO:__main__:Test Accuracy of  frog: 30% (308/1000)\n",
            "INFO:__main__:Test Accuracy of horse: 52% (528/1000)\n",
            "INFO:__main__:Test Accuracy of  ship: 35% (358/1000)\n",
            "INFO:__main__:Test Accuracy of truck: 75% (754/1000)\n",
            "INFO:__main__:Test Accuracy (Overall): 36% (3649/10000)\n"
          ]
        },
        {
          "output_type": "stream",
          "name": "stdout",
          "text": [
            "Current trial : 18\n"
          ]
        },
        {
          "output_type": "stream",
          "name": "stderr",
          "text": [
            "INFO:__main__:Train Accuracy of airplane: 15% (769/5000)\n",
            "INFO:__main__:Train Accuracy of automobile:  4% (214/5000)\n",
            "INFO:__main__:Train Accuracy of  bird:  5% (283/5000)\n",
            "INFO:__main__:Train Accuracy of   cat: 17% (896/5000)\n",
            "INFO:__main__:Train Accuracy of  deer: 31% (1597/5000)\n",
            "INFO:__main__:Train Accuracy of   dog: 94% (4716/5000)\n",
            "INFO:__main__:Train Accuracy of  frog: 26% (1318/5000)\n",
            "INFO:__main__:Train Accuracy of horse: 53% (2652/5000)\n",
            "INFO:__main__:Train Accuracy of  ship: 31% (1552/5000)\n",
            "INFO:__main__:Train Accuracy of truck: 73% (3689/5000)\n",
            "INFO:__main__:Train Accuracy (Overall): 35% (17686/50000)\n",
            "INFO:__main__:Test Accuracy of airplane: 18% (187/1000)\n",
            "INFO:__main__:Test Accuracy of automobile:  6% (66/1000)\n",
            "INFO:__main__:Test Accuracy of  bird:  6% (69/1000)\n",
            "INFO:__main__:Test Accuracy of   cat: 14% (148/1000)\n",
            "INFO:__main__:Test Accuracy of  deer: 32% (323/1000)\n",
            "INFO:__main__:Test Accuracy of   dog: 91% (910/1000)\n",
            "INFO:__main__:Test Accuracy of  frog: 31% (312/1000)\n",
            "INFO:__main__:Test Accuracy of horse: 52% (520/1000)\n",
            "INFO:__main__:Test Accuracy of  ship: 38% (387/1000)\n",
            "INFO:__main__:Test Accuracy of truck: 77% (778/1000)\n",
            "INFO:__main__:Test Accuracy (Overall): 37% (3700/10000)\n"
          ]
        },
        {
          "output_type": "stream",
          "name": "stdout",
          "text": [
            "Current trial : 19\n"
          ]
        },
        {
          "output_type": "stream",
          "name": "stderr",
          "text": [
            "INFO:__main__:Train Accuracy of airplane: 14% (746/5000)\n",
            "INFO:__main__:Train Accuracy of automobile:  4% (214/5000)\n",
            "INFO:__main__:Train Accuracy of  bird:  5% (252/5000)\n",
            "INFO:__main__:Train Accuracy of   cat: 17% (899/5000)\n",
            "INFO:__main__:Train Accuracy of  deer: 30% (1525/5000)\n",
            "INFO:__main__:Train Accuracy of   dog: 93% (4652/5000)\n",
            "INFO:__main__:Train Accuracy of  frog: 27% (1366/5000)\n",
            "INFO:__main__:Train Accuracy of horse: 53% (2667/5000)\n",
            "INFO:__main__:Train Accuracy of  ship: 30% (1543/5000)\n",
            "INFO:__main__:Train Accuracy of truck: 73% (3686/5000)\n",
            "INFO:__main__:Train Accuracy (Overall): 35% (17550/50000)\n",
            "INFO:__main__:Test Accuracy of airplane: 20% (208/1000)\n",
            "INFO:__main__:Test Accuracy of automobile:  5% (56/1000)\n",
            "INFO:__main__:Test Accuracy of  bird:  4% (49/1000)\n",
            "INFO:__main__:Test Accuracy of   cat: 15% (158/1000)\n",
            "INFO:__main__:Test Accuracy of  deer: 35% (352/1000)\n",
            "INFO:__main__:Test Accuracy of   dog: 90% (908/1000)\n",
            "INFO:__main__:Test Accuracy of  frog: 33% (335/1000)\n",
            "INFO:__main__:Test Accuracy of horse: 52% (522/1000)\n",
            "INFO:__main__:Test Accuracy of  ship: 37% (371/1000)\n",
            "INFO:__main__:Test Accuracy of truck: 75% (759/1000)\n",
            "INFO:__main__:Test Accuracy (Overall): 37% (3718/10000)\n"
          ]
        },
        {
          "output_type": "stream",
          "name": "stdout",
          "text": [
            "the following model ResNet18.middle.0.3 is starting from epoch : 50\n",
            "Current Loss 0.0714432856392581 \n",
            "Loading into a new model with 0.91 dropout in middle location\n",
            "Loading into a new model with 0.93 dropout in middle location\n",
            "Loading into a new model with 0.95 dropout in middle location\n",
            "Loading into a new model with 0.97 dropout in middle location\n",
            "Loading into a new model with 0.99 dropout in middle location\n",
            "Current trial : 0\n"
          ]
        },
        {
          "output_type": "stream",
          "name": "stderr",
          "text": [
            "INFO:__main__:Train Accuracy of airplane: 25% (1284/5000)\n",
            "INFO:__main__:Train Accuracy of automobile: 74% (3733/5000)\n",
            "INFO:__main__:Train Accuracy of  bird: 48% (2407/5000)\n",
            "INFO:__main__:Train Accuracy of   cat: 58% (2909/5000)\n",
            "INFO:__main__:Train Accuracy of  deer: 69% (3461/5000)\n",
            "INFO:__main__:Train Accuracy of   dog: 73% (3664/5000)\n",
            "INFO:__main__:Train Accuracy of  frog: 31% (1554/5000)\n",
            "INFO:__main__:Train Accuracy of horse: 38% (1931/5000)\n",
            "INFO:__main__:Train Accuracy of  ship: 53% (2685/5000)\n",
            "INFO:__main__:Train Accuracy of truck: 76% (3832/5000)\n",
            "INFO:__main__:Train Accuracy (Overall): 54% (27460/50000)\n",
            "INFO:__main__:Test Accuracy of airplane: 24% (249/1000)\n",
            "INFO:__main__:Test Accuracy of automobile: 76% (760/1000)\n",
            "INFO:__main__:Test Accuracy of  bird: 43% (438/1000)\n",
            "INFO:__main__:Test Accuracy of   cat: 53% (533/1000)\n",
            "INFO:__main__:Test Accuracy of  deer: 70% (708/1000)\n",
            "INFO:__main__:Test Accuracy of   dog: 71% (711/1000)\n",
            "INFO:__main__:Test Accuracy of  frog: 35% (355/1000)\n",
            "INFO:__main__:Test Accuracy of horse: 39% (392/1000)\n",
            "INFO:__main__:Test Accuracy of  ship: 59% (594/1000)\n",
            "INFO:__main__:Test Accuracy of truck: 78% (788/1000)\n",
            "INFO:__main__:Test Accuracy (Overall): 55% (5528/10000)\n"
          ]
        },
        {
          "output_type": "stream",
          "name": "stdout",
          "text": [
            "Current trial : 1\n"
          ]
        },
        {
          "output_type": "stream",
          "name": "stderr",
          "text": [
            "INFO:__main__:Train Accuracy of airplane: 24% (1219/5000)\n",
            "INFO:__main__:Train Accuracy of automobile: 75% (3750/5000)\n",
            "INFO:__main__:Train Accuracy of  bird: 47% (2395/5000)\n",
            "INFO:__main__:Train Accuracy of   cat: 57% (2885/5000)\n",
            "INFO:__main__:Train Accuracy of  deer: 70% (3518/5000)\n",
            "INFO:__main__:Train Accuracy of   dog: 73% (3667/5000)\n",
            "INFO:__main__:Train Accuracy of  frog: 31% (1578/5000)\n",
            "INFO:__main__:Train Accuracy of horse: 38% (1939/5000)\n",
            "INFO:__main__:Train Accuracy of  ship: 52% (2622/5000)\n",
            "INFO:__main__:Train Accuracy of truck: 77% (3895/5000)\n",
            "INFO:__main__:Train Accuracy (Overall): 54% (27468/50000)\n",
            "INFO:__main__:Test Accuracy of airplane: 28% (284/1000)\n",
            "INFO:__main__:Test Accuracy of automobile: 73% (739/1000)\n",
            "INFO:__main__:Test Accuracy of  bird: 47% (473/1000)\n",
            "INFO:__main__:Test Accuracy of   cat: 53% (532/1000)\n",
            "INFO:__main__:Test Accuracy of  deer: 68% (687/1000)\n",
            "INFO:__main__:Test Accuracy of   dog: 71% (719/1000)\n",
            "INFO:__main__:Test Accuracy of  frog: 34% (344/1000)\n",
            "INFO:__main__:Test Accuracy of horse: 39% (393/1000)\n",
            "INFO:__main__:Test Accuracy of  ship: 58% (582/1000)\n",
            "INFO:__main__:Test Accuracy of truck: 77% (779/1000)\n",
            "INFO:__main__:Test Accuracy (Overall): 55% (5532/10000)\n"
          ]
        },
        {
          "output_type": "stream",
          "name": "stdout",
          "text": [
            "Current trial : 2\n"
          ]
        },
        {
          "output_type": "stream",
          "name": "stderr",
          "text": [
            "INFO:__main__:Train Accuracy of airplane: 25% (1279/5000)\n",
            "INFO:__main__:Train Accuracy of automobile: 74% (3707/5000)\n",
            "INFO:__main__:Train Accuracy of  bird: 47% (2383/5000)\n",
            "INFO:__main__:Train Accuracy of   cat: 58% (2940/5000)\n",
            "INFO:__main__:Train Accuracy of  deer: 68% (3427/5000)\n",
            "INFO:__main__:Train Accuracy of   dog: 73% (3656/5000)\n",
            "INFO:__main__:Train Accuracy of  frog: 30% (1542/5000)\n",
            "INFO:__main__:Train Accuracy of horse: 39% (1951/5000)\n",
            "INFO:__main__:Train Accuracy of  ship: 53% (2651/5000)\n",
            "INFO:__main__:Train Accuracy of truck: 77% (3850/5000)\n",
            "INFO:__main__:Train Accuracy (Overall): 54% (27386/50000)\n",
            "INFO:__main__:Test Accuracy of airplane: 26% (267/1000)\n",
            "INFO:__main__:Test Accuracy of automobile: 73% (732/1000)\n",
            "INFO:__main__:Test Accuracy of  bird: 45% (450/1000)\n",
            "INFO:__main__:Test Accuracy of   cat: 56% (560/1000)\n",
            "INFO:__main__:Test Accuracy of  deer: 71% (710/1000)\n",
            "INFO:__main__:Test Accuracy of   dog: 70% (707/1000)\n",
            "INFO:__main__:Test Accuracy of  frog: 32% (326/1000)\n",
            "INFO:__main__:Test Accuracy of horse: 39% (393/1000)\n",
            "INFO:__main__:Test Accuracy of  ship: 58% (581/1000)\n",
            "INFO:__main__:Test Accuracy of truck: 77% (773/1000)\n",
            "INFO:__main__:Test Accuracy (Overall): 54% (5499/10000)\n"
          ]
        },
        {
          "output_type": "stream",
          "name": "stdout",
          "text": [
            "Current trial : 3\n"
          ]
        },
        {
          "output_type": "stream",
          "name": "stderr",
          "text": [
            "INFO:__main__:Train Accuracy of airplane: 25% (1266/5000)\n",
            "INFO:__main__:Train Accuracy of automobile: 74% (3718/5000)\n",
            "INFO:__main__:Train Accuracy of  bird: 46% (2338/5000)\n",
            "INFO:__main__:Train Accuracy of   cat: 57% (2872/5000)\n",
            "INFO:__main__:Train Accuracy of  deer: 71% (3555/5000)\n",
            "INFO:__main__:Train Accuracy of   dog: 72% (3630/5000)\n",
            "INFO:__main__:Train Accuracy of  frog: 31% (1563/5000)\n",
            "INFO:__main__:Train Accuracy of horse: 38% (1935/5000)\n",
            "INFO:__main__:Train Accuracy of  ship: 51% (2598/5000)\n",
            "INFO:__main__:Train Accuracy of truck: 76% (3809/5000)\n",
            "INFO:__main__:Train Accuracy (Overall): 54% (27284/50000)\n",
            "INFO:__main__:Test Accuracy of airplane: 28% (281/1000)\n",
            "INFO:__main__:Test Accuracy of automobile: 72% (725/1000)\n",
            "INFO:__main__:Test Accuracy of  bird: 45% (456/1000)\n",
            "INFO:__main__:Test Accuracy of   cat: 55% (559/1000)\n",
            "INFO:__main__:Test Accuracy of  deer: 71% (715/1000)\n",
            "INFO:__main__:Test Accuracy of   dog: 71% (711/1000)\n",
            "INFO:__main__:Test Accuracy of  frog: 31% (311/1000)\n",
            "INFO:__main__:Test Accuracy of horse: 37% (374/1000)\n",
            "INFO:__main__:Test Accuracy of  ship: 57% (575/1000)\n",
            "INFO:__main__:Test Accuracy of truck: 78% (781/1000)\n",
            "INFO:__main__:Test Accuracy (Overall): 54% (5488/10000)\n"
          ]
        },
        {
          "output_type": "stream",
          "name": "stdout",
          "text": [
            "Current trial : 4\n"
          ]
        },
        {
          "output_type": "stream",
          "name": "stderr",
          "text": [
            "INFO:__main__:Train Accuracy of airplane: 26% (1313/5000)\n",
            "INFO:__main__:Train Accuracy of automobile: 74% (3736/5000)\n",
            "INFO:__main__:Train Accuracy of  bird: 45% (2284/5000)\n",
            "INFO:__main__:Train Accuracy of   cat: 58% (2923/5000)\n",
            "INFO:__main__:Train Accuracy of  deer: 69% (3480/5000)\n",
            "INFO:__main__:Train Accuracy of   dog: 72% (3638/5000)\n",
            "INFO:__main__:Train Accuracy of  frog: 30% (1539/5000)\n",
            "INFO:__main__:Train Accuracy of horse: 38% (1933/5000)\n",
            "INFO:__main__:Train Accuracy of  ship: 54% (2705/5000)\n",
            "INFO:__main__:Train Accuracy of truck: 76% (3841/5000)\n",
            "INFO:__main__:Train Accuracy (Overall): 54% (27392/50000)\n",
            "INFO:__main__:Test Accuracy of airplane: 29% (290/1000)\n",
            "INFO:__main__:Test Accuracy of automobile: 74% (747/1000)\n",
            "INFO:__main__:Test Accuracy of  bird: 46% (467/1000)\n",
            "INFO:__main__:Test Accuracy of   cat: 54% (541/1000)\n",
            "INFO:__main__:Test Accuracy of  deer: 70% (703/1000)\n",
            "INFO:__main__:Test Accuracy of   dog: 70% (700/1000)\n",
            "INFO:__main__:Test Accuracy of  frog: 30% (306/1000)\n",
            "INFO:__main__:Test Accuracy of horse: 38% (382/1000)\n",
            "INFO:__main__:Test Accuracy of  ship: 56% (563/1000)\n",
            "INFO:__main__:Test Accuracy of truck: 75% (758/1000)\n",
            "INFO:__main__:Test Accuracy (Overall): 54% (5457/10000)\n"
          ]
        },
        {
          "output_type": "stream",
          "name": "stdout",
          "text": [
            "Current trial : 5\n"
          ]
        },
        {
          "output_type": "stream",
          "name": "stderr",
          "text": [
            "INFO:__main__:Train Accuracy of airplane: 25% (1263/5000)\n",
            "INFO:__main__:Train Accuracy of automobile: 74% (3727/5000)\n",
            "INFO:__main__:Train Accuracy of  bird: 46% (2340/5000)\n",
            "INFO:__main__:Train Accuracy of   cat: 59% (2992/5000)\n",
            "INFO:__main__:Train Accuracy of  deer: 70% (3527/5000)\n",
            "INFO:__main__:Train Accuracy of   dog: 73% (3668/5000)\n",
            "INFO:__main__:Train Accuracy of  frog: 30% (1520/5000)\n",
            "INFO:__main__:Train Accuracy of horse: 39% (1996/5000)\n",
            "INFO:__main__:Train Accuracy of  ship: 53% (2656/5000)\n",
            "INFO:__main__:Train Accuracy of truck: 77% (3874/5000)\n",
            "INFO:__main__:Train Accuracy (Overall): 55% (27563/50000)\n",
            "INFO:__main__:Test Accuracy of airplane: 28% (285/1000)\n",
            "INFO:__main__:Test Accuracy of automobile: 75% (750/1000)\n",
            "INFO:__main__:Test Accuracy of  bird: 44% (441/1000)\n",
            "INFO:__main__:Test Accuracy of   cat: 52% (525/1000)\n",
            "INFO:__main__:Test Accuracy of  deer: 71% (715/1000)\n",
            "INFO:__main__:Test Accuracy of   dog: 71% (710/1000)\n",
            "INFO:__main__:Test Accuracy of  frog: 33% (333/1000)\n",
            "INFO:__main__:Test Accuracy of horse: 37% (377/1000)\n",
            "INFO:__main__:Test Accuracy of  ship: 58% (585/1000)\n",
            "INFO:__main__:Test Accuracy of truck: 76% (760/1000)\n",
            "INFO:__main__:Test Accuracy (Overall): 54% (5481/10000)\n"
          ]
        },
        {
          "output_type": "stream",
          "name": "stdout",
          "text": [
            "Current trial : 6\n"
          ]
        },
        {
          "output_type": "stream",
          "name": "stderr",
          "text": [
            "INFO:__main__:Train Accuracy of airplane: 25% (1289/5000)\n",
            "INFO:__main__:Train Accuracy of automobile: 73% (3693/5000)\n",
            "INFO:__main__:Train Accuracy of  bird: 45% (2295/5000)\n",
            "INFO:__main__:Train Accuracy of   cat: 58% (2949/5000)\n",
            "INFO:__main__:Train Accuracy of  deer: 69% (3460/5000)\n",
            "INFO:__main__:Train Accuracy of   dog: 72% (3641/5000)\n",
            "INFO:__main__:Train Accuracy of  frog: 30% (1544/5000)\n",
            "INFO:__main__:Train Accuracy of horse: 38% (1930/5000)\n",
            "INFO:__main__:Train Accuracy of  ship: 54% (2703/5000)\n",
            "INFO:__main__:Train Accuracy of truck: 78% (3919/5000)\n",
            "INFO:__main__:Train Accuracy (Overall): 54% (27423/50000)\n",
            "INFO:__main__:Test Accuracy of airplane: 28% (281/1000)\n",
            "INFO:__main__:Test Accuracy of automobile: 72% (726/1000)\n",
            "INFO:__main__:Test Accuracy of  bird: 43% (437/1000)\n",
            "INFO:__main__:Test Accuracy of   cat: 54% (541/1000)\n",
            "INFO:__main__:Test Accuracy of  deer: 69% (699/1000)\n",
            "INFO:__main__:Test Accuracy of   dog: 70% (700/1000)\n",
            "INFO:__main__:Test Accuracy of  frog: 32% (325/1000)\n",
            "INFO:__main__:Test Accuracy of horse: 38% (387/1000)\n",
            "INFO:__main__:Test Accuracy of  ship: 59% (595/1000)\n",
            "INFO:__main__:Test Accuracy of truck: 75% (758/1000)\n",
            "INFO:__main__:Test Accuracy (Overall): 54% (5449/10000)\n"
          ]
        },
        {
          "output_type": "stream",
          "name": "stdout",
          "text": [
            "Current trial : 7\n"
          ]
        },
        {
          "output_type": "stream",
          "name": "stderr",
          "text": [
            "INFO:__main__:Train Accuracy of airplane: 25% (1280/5000)\n",
            "INFO:__main__:Train Accuracy of automobile: 74% (3706/5000)\n",
            "INFO:__main__:Train Accuracy of  bird: 47% (2363/5000)\n",
            "INFO:__main__:Train Accuracy of   cat: 58% (2944/5000)\n",
            "INFO:__main__:Train Accuracy of  deer: 70% (3529/5000)\n",
            "INFO:__main__:Train Accuracy of   dog: 72% (3647/5000)\n",
            "INFO:__main__:Train Accuracy of  frog: 29% (1474/5000)\n",
            "INFO:__main__:Train Accuracy of horse: 38% (1921/5000)\n",
            "INFO:__main__:Train Accuracy of  ship: 53% (2659/5000)\n",
            "INFO:__main__:Train Accuracy of truck: 78% (3905/5000)\n",
            "INFO:__main__:Train Accuracy (Overall): 54% (27428/50000)\n",
            "INFO:__main__:Test Accuracy of airplane: 26% (268/1000)\n",
            "INFO:__main__:Test Accuracy of automobile: 71% (710/1000)\n",
            "INFO:__main__:Test Accuracy of  bird: 44% (447/1000)\n",
            "INFO:__main__:Test Accuracy of   cat: 49% (499/1000)\n",
            "INFO:__main__:Test Accuracy of  deer: 72% (723/1000)\n",
            "INFO:__main__:Test Accuracy of   dog: 70% (700/1000)\n",
            "INFO:__main__:Test Accuracy of  frog: 32% (325/1000)\n",
            "INFO:__main__:Test Accuracy of horse: 37% (372/1000)\n",
            "INFO:__main__:Test Accuracy of  ship: 57% (574/1000)\n",
            "INFO:__main__:Test Accuracy of truck: 78% (780/1000)\n",
            "INFO:__main__:Test Accuracy (Overall): 53% (5398/10000)\n"
          ]
        },
        {
          "output_type": "stream",
          "name": "stdout",
          "text": [
            "Current trial : 8\n"
          ]
        },
        {
          "output_type": "stream",
          "name": "stderr",
          "text": [
            "INFO:__main__:Train Accuracy of airplane: 24% (1218/5000)\n",
            "INFO:__main__:Train Accuracy of automobile: 75% (3760/5000)\n",
            "INFO:__main__:Train Accuracy of  bird: 46% (2348/5000)\n",
            "INFO:__main__:Train Accuracy of   cat: 58% (2939/5000)\n",
            "INFO:__main__:Train Accuracy of  deer: 69% (3451/5000)\n",
            "INFO:__main__:Train Accuracy of   dog: 72% (3616/5000)\n",
            "INFO:__main__:Train Accuracy of  frog: 31% (1589/5000)\n",
            "INFO:__main__:Train Accuracy of horse: 38% (1941/5000)\n",
            "INFO:__main__:Train Accuracy of  ship: 52% (2604/5000)\n",
            "INFO:__main__:Train Accuracy of truck: 77% (3868/5000)\n",
            "INFO:__main__:Train Accuracy (Overall): 54% (27334/50000)\n",
            "INFO:__main__:Test Accuracy of airplane: 25% (254/1000)\n",
            "INFO:__main__:Test Accuracy of automobile: 72% (729/1000)\n",
            "INFO:__main__:Test Accuracy of  bird: 45% (454/1000)\n",
            "INFO:__main__:Test Accuracy of   cat: 53% (535/1000)\n",
            "INFO:__main__:Test Accuracy of  deer: 70% (704/1000)\n",
            "INFO:__main__:Test Accuracy of   dog: 71% (719/1000)\n",
            "INFO:__main__:Test Accuracy of  frog: 30% (300/1000)\n",
            "INFO:__main__:Test Accuracy of horse: 38% (383/1000)\n",
            "INFO:__main__:Test Accuracy of  ship: 57% (579/1000)\n",
            "INFO:__main__:Test Accuracy of truck: 75% (754/1000)\n",
            "INFO:__main__:Test Accuracy (Overall): 54% (5411/10000)\n"
          ]
        },
        {
          "output_type": "stream",
          "name": "stdout",
          "text": [
            "Current trial : 9\n"
          ]
        },
        {
          "output_type": "stream",
          "name": "stderr",
          "text": [
            "INFO:__main__:Train Accuracy of airplane: 25% (1267/5000)\n",
            "INFO:__main__:Train Accuracy of automobile: 73% (3672/5000)\n",
            "INFO:__main__:Train Accuracy of  bird: 46% (2347/5000)\n",
            "INFO:__main__:Train Accuracy of   cat: 57% (2892/5000)\n",
            "INFO:__main__:Train Accuracy of  deer: 69% (3484/5000)\n",
            "INFO:__main__:Train Accuracy of   dog: 72% (3629/5000)\n",
            "INFO:__main__:Train Accuracy of  frog: 30% (1510/5000)\n",
            "INFO:__main__:Train Accuracy of horse: 38% (1926/5000)\n",
            "INFO:__main__:Train Accuracy of  ship: 53% (2653/5000)\n",
            "INFO:__main__:Train Accuracy of truck: 76% (3833/5000)\n",
            "INFO:__main__:Train Accuracy (Overall): 54% (27213/50000)\n",
            "INFO:__main__:Test Accuracy of airplane: 25% (259/1000)\n",
            "INFO:__main__:Test Accuracy of automobile: 73% (730/1000)\n",
            "INFO:__main__:Test Accuracy of  bird: 44% (443/1000)\n",
            "INFO:__main__:Test Accuracy of   cat: 53% (537/1000)\n",
            "INFO:__main__:Test Accuracy of  deer: 70% (709/1000)\n",
            "INFO:__main__:Test Accuracy of   dog: 70% (704/1000)\n",
            "INFO:__main__:Test Accuracy of  frog: 31% (311/1000)\n",
            "INFO:__main__:Test Accuracy of horse: 38% (384/1000)\n",
            "INFO:__main__:Test Accuracy of  ship: 59% (593/1000)\n",
            "INFO:__main__:Test Accuracy of truck: 73% (738/1000)\n",
            "INFO:__main__:Test Accuracy (Overall): 54% (5408/10000)\n"
          ]
        },
        {
          "output_type": "stream",
          "name": "stdout",
          "text": [
            "Current trial : 10\n"
          ]
        },
        {
          "output_type": "stream",
          "name": "stderr",
          "text": [
            "INFO:__main__:Train Accuracy of airplane: 25% (1277/5000)\n",
            "INFO:__main__:Train Accuracy of automobile: 74% (3743/5000)\n",
            "INFO:__main__:Train Accuracy of  bird: 46% (2336/5000)\n",
            "INFO:__main__:Train Accuracy of   cat: 58% (2930/5000)\n",
            "INFO:__main__:Train Accuracy of  deer: 69% (3483/5000)\n",
            "INFO:__main__:Train Accuracy of   dog: 71% (3595/5000)\n",
            "INFO:__main__:Train Accuracy of  frog: 30% (1544/5000)\n",
            "INFO:__main__:Train Accuracy of horse: 38% (1930/5000)\n",
            "INFO:__main__:Train Accuracy of  ship: 54% (2704/5000)\n",
            "INFO:__main__:Train Accuracy of truck: 76% (3806/5000)\n",
            "INFO:__main__:Train Accuracy (Overall): 54% (27348/50000)\n",
            "INFO:__main__:Test Accuracy of airplane: 26% (264/1000)\n",
            "INFO:__main__:Test Accuracy of automobile: 72% (724/1000)\n",
            "INFO:__main__:Test Accuracy of  bird: 45% (450/1000)\n",
            "INFO:__main__:Test Accuracy of   cat: 57% (576/1000)\n",
            "INFO:__main__:Test Accuracy of  deer: 70% (706/1000)\n",
            "INFO:__main__:Test Accuracy of   dog: 70% (703/1000)\n",
            "INFO:__main__:Test Accuracy of  frog: 35% (358/1000)\n",
            "INFO:__main__:Test Accuracy of horse: 36% (364/1000)\n",
            "INFO:__main__:Test Accuracy of  ship: 57% (578/1000)\n",
            "INFO:__main__:Test Accuracy of truck: 77% (776/1000)\n",
            "INFO:__main__:Test Accuracy (Overall): 54% (5499/10000)\n"
          ]
        },
        {
          "output_type": "stream",
          "name": "stdout",
          "text": [
            "Current trial : 11\n"
          ]
        },
        {
          "output_type": "stream",
          "name": "stderr",
          "text": [
            "INFO:__main__:Train Accuracy of airplane: 25% (1279/5000)\n",
            "INFO:__main__:Train Accuracy of automobile: 73% (3683/5000)\n",
            "INFO:__main__:Train Accuracy of  bird: 48% (2404/5000)\n",
            "INFO:__main__:Train Accuracy of   cat: 58% (2934/5000)\n",
            "INFO:__main__:Train Accuracy of  deer: 70% (3528/5000)\n",
            "INFO:__main__:Train Accuracy of   dog: 72% (3607/5000)\n",
            "INFO:__main__:Train Accuracy of  frog: 31% (1581/5000)\n",
            "INFO:__main__:Train Accuracy of horse: 38% (1900/5000)\n",
            "INFO:__main__:Train Accuracy of  ship: 52% (2632/5000)\n",
            "INFO:__main__:Train Accuracy of truck: 76% (3841/5000)\n",
            "INFO:__main__:Train Accuracy (Overall): 54% (27389/50000)\n",
            "INFO:__main__:Test Accuracy of airplane: 27% (278/1000)\n",
            "INFO:__main__:Test Accuracy of automobile: 73% (732/1000)\n",
            "INFO:__main__:Test Accuracy of  bird: 46% (461/1000)\n",
            "INFO:__main__:Test Accuracy of   cat: 54% (540/1000)\n",
            "INFO:__main__:Test Accuracy of  deer: 71% (718/1000)\n",
            "INFO:__main__:Test Accuracy of   dog: 70% (700/1000)\n",
            "INFO:__main__:Test Accuracy of  frog: 32% (323/1000)\n",
            "INFO:__main__:Test Accuracy of horse: 38% (387/1000)\n",
            "INFO:__main__:Test Accuracy of  ship: 58% (583/1000)\n",
            "INFO:__main__:Test Accuracy of truck: 75% (757/1000)\n",
            "INFO:__main__:Test Accuracy (Overall): 54% (5479/10000)\n"
          ]
        },
        {
          "output_type": "stream",
          "name": "stdout",
          "text": [
            "Current trial : 12\n"
          ]
        },
        {
          "output_type": "stream",
          "name": "stderr",
          "text": [
            "INFO:__main__:Train Accuracy of airplane: 26% (1315/5000)\n",
            "INFO:__main__:Train Accuracy of automobile: 75% (3765/5000)\n",
            "INFO:__main__:Train Accuracy of  bird: 47% (2371/5000)\n",
            "INFO:__main__:Train Accuracy of   cat: 58% (2919/5000)\n",
            "INFO:__main__:Train Accuracy of  deer: 69% (3457/5000)\n",
            "INFO:__main__:Train Accuracy of   dog: 73% (3664/5000)\n",
            "INFO:__main__:Train Accuracy of  frog: 30% (1536/5000)\n",
            "INFO:__main__:Train Accuracy of horse: 39% (1990/5000)\n",
            "INFO:__main__:Train Accuracy of  ship: 52% (2628/5000)\n",
            "INFO:__main__:Train Accuracy of truck: 76% (3831/5000)\n",
            "INFO:__main__:Train Accuracy (Overall): 54% (27476/50000)\n",
            "INFO:__main__:Test Accuracy of airplane: 29% (290/1000)\n",
            "INFO:__main__:Test Accuracy of automobile: 75% (751/1000)\n",
            "INFO:__main__:Test Accuracy of  bird: 45% (458/1000)\n",
            "INFO:__main__:Test Accuracy of   cat: 51% (517/1000)\n",
            "INFO:__main__:Test Accuracy of  deer: 70% (703/1000)\n",
            "INFO:__main__:Test Accuracy of   dog: 70% (705/1000)\n",
            "INFO:__main__:Test Accuracy of  frog: 35% (350/1000)\n",
            "INFO:__main__:Test Accuracy of horse: 38% (383/1000)\n",
            "INFO:__main__:Test Accuracy of  ship: 57% (575/1000)\n",
            "INFO:__main__:Test Accuracy of truck: 76% (760/1000)\n",
            "INFO:__main__:Test Accuracy (Overall): 54% (5492/10000)\n"
          ]
        },
        {
          "output_type": "stream",
          "name": "stdout",
          "text": [
            "Current trial : 13\n"
          ]
        },
        {
          "output_type": "stream",
          "name": "stderr",
          "text": [
            "INFO:__main__:Train Accuracy of airplane: 26% (1315/5000)\n",
            "INFO:__main__:Train Accuracy of automobile: 74% (3712/5000)\n",
            "INFO:__main__:Train Accuracy of  bird: 47% (2394/5000)\n",
            "INFO:__main__:Train Accuracy of   cat: 57% (2896/5000)\n",
            "INFO:__main__:Train Accuracy of  deer: 69% (3459/5000)\n",
            "INFO:__main__:Train Accuracy of   dog: 73% (3668/5000)\n",
            "INFO:__main__:Train Accuracy of  frog: 30% (1503/5000)\n",
            "INFO:__main__:Train Accuracy of horse: 39% (1979/5000)\n",
            "INFO:__main__:Train Accuracy of  ship: 51% (2590/5000)\n",
            "INFO:__main__:Train Accuracy of truck: 77% (3885/5000)\n",
            "INFO:__main__:Train Accuracy (Overall): 54% (27401/50000)\n",
            "INFO:__main__:Test Accuracy of airplane: 27% (278/1000)\n",
            "INFO:__main__:Test Accuracy of automobile: 72% (724/1000)\n",
            "INFO:__main__:Test Accuracy of  bird: 44% (449/1000)\n",
            "INFO:__main__:Test Accuracy of   cat: 53% (538/1000)\n",
            "INFO:__main__:Test Accuracy of  deer: 71% (717/1000)\n",
            "INFO:__main__:Test Accuracy of   dog: 70% (700/1000)\n",
            "INFO:__main__:Test Accuracy of  frog: 33% (338/1000)\n",
            "INFO:__main__:Test Accuracy of horse: 40% (406/1000)\n",
            "INFO:__main__:Test Accuracy of  ship: 56% (568/1000)\n",
            "INFO:__main__:Test Accuracy of truck: 76% (760/1000)\n",
            "INFO:__main__:Test Accuracy (Overall): 54% (5478/10000)\n"
          ]
        },
        {
          "output_type": "stream",
          "name": "stdout",
          "text": [
            "Current trial : 14\n"
          ]
        },
        {
          "output_type": "stream",
          "name": "stderr",
          "text": [
            "INFO:__main__:Train Accuracy of airplane: 25% (1255/5000)\n",
            "INFO:__main__:Train Accuracy of automobile: 75% (3759/5000)\n",
            "INFO:__main__:Train Accuracy of  bird: 47% (2385/5000)\n",
            "INFO:__main__:Train Accuracy of   cat: 58% (2921/5000)\n",
            "INFO:__main__:Train Accuracy of  deer: 70% (3520/5000)\n",
            "INFO:__main__:Train Accuracy of   dog: 72% (3644/5000)\n",
            "INFO:__main__:Train Accuracy of  frog: 30% (1518/5000)\n",
            "INFO:__main__:Train Accuracy of horse: 40% (2003/5000)\n",
            "INFO:__main__:Train Accuracy of  ship: 52% (2644/5000)\n",
            "INFO:__main__:Train Accuracy of truck: 77% (3883/5000)\n",
            "INFO:__main__:Train Accuracy (Overall): 55% (27532/50000)\n",
            "INFO:__main__:Test Accuracy of airplane: 29% (295/1000)\n",
            "INFO:__main__:Test Accuracy of automobile: 73% (739/1000)\n",
            "INFO:__main__:Test Accuracy of  bird: 47% (470/1000)\n",
            "INFO:__main__:Test Accuracy of   cat: 51% (519/1000)\n",
            "INFO:__main__:Test Accuracy of  deer: 69% (694/1000)\n",
            "INFO:__main__:Test Accuracy of   dog: 71% (710/1000)\n",
            "INFO:__main__:Test Accuracy of  frog: 32% (322/1000)\n",
            "INFO:__main__:Test Accuracy of horse: 38% (383/1000)\n",
            "INFO:__main__:Test Accuracy of  ship: 60% (604/1000)\n",
            "INFO:__main__:Test Accuracy of truck: 74% (743/1000)\n",
            "INFO:__main__:Test Accuracy (Overall): 54% (5479/10000)\n"
          ]
        },
        {
          "output_type": "stream",
          "name": "stdout",
          "text": [
            "Current trial : 15\n"
          ]
        },
        {
          "output_type": "stream",
          "name": "stderr",
          "text": [
            "INFO:__main__:Train Accuracy of airplane: 24% (1229/5000)\n",
            "INFO:__main__:Train Accuracy of automobile: 73% (3697/5000)\n",
            "INFO:__main__:Train Accuracy of  bird: 48% (2402/5000)\n",
            "INFO:__main__:Train Accuracy of   cat: 58% (2936/5000)\n",
            "INFO:__main__:Train Accuracy of  deer: 70% (3500/5000)\n",
            "INFO:__main__:Train Accuracy of   dog: 73% (3682/5000)\n",
            "INFO:__main__:Train Accuracy of  frog: 31% (1569/5000)\n",
            "INFO:__main__:Train Accuracy of horse: 40% (2026/5000)\n",
            "INFO:__main__:Train Accuracy of  ship: 52% (2628/5000)\n",
            "INFO:__main__:Train Accuracy of truck: 77% (3872/5000)\n",
            "INFO:__main__:Train Accuracy (Overall): 55% (27541/50000)\n",
            "INFO:__main__:Test Accuracy of airplane: 28% (289/1000)\n",
            "INFO:__main__:Test Accuracy of automobile: 73% (732/1000)\n",
            "INFO:__main__:Test Accuracy of  bird: 44% (440/1000)\n",
            "INFO:__main__:Test Accuracy of   cat: 54% (549/1000)\n",
            "INFO:__main__:Test Accuracy of  deer: 69% (694/1000)\n",
            "INFO:__main__:Test Accuracy of   dog: 70% (707/1000)\n",
            "INFO:__main__:Test Accuracy of  frog: 32% (323/1000)\n",
            "INFO:__main__:Test Accuracy of horse: 40% (402/1000)\n",
            "INFO:__main__:Test Accuracy of  ship: 58% (581/1000)\n",
            "INFO:__main__:Test Accuracy of truck: 76% (767/1000)\n",
            "INFO:__main__:Test Accuracy (Overall): 54% (5484/10000)\n"
          ]
        },
        {
          "output_type": "stream",
          "name": "stdout",
          "text": [
            "Current trial : 16\n"
          ]
        },
        {
          "output_type": "stream",
          "name": "stderr",
          "text": [
            "INFO:__main__:Train Accuracy of airplane: 25% (1282/5000)\n",
            "INFO:__main__:Train Accuracy of automobile: 74% (3735/5000)\n",
            "INFO:__main__:Train Accuracy of  bird: 48% (2435/5000)\n",
            "INFO:__main__:Train Accuracy of   cat: 59% (2960/5000)\n",
            "INFO:__main__:Train Accuracy of  deer: 69% (3497/5000)\n",
            "INFO:__main__:Train Accuracy of   dog: 73% (3653/5000)\n",
            "INFO:__main__:Train Accuracy of  frog: 29% (1490/5000)\n",
            "INFO:__main__:Train Accuracy of horse: 37% (1886/5000)\n",
            "INFO:__main__:Train Accuracy of  ship: 54% (2703/5000)\n",
            "INFO:__main__:Train Accuracy of truck: 77% (3853/5000)\n",
            "INFO:__main__:Train Accuracy (Overall): 54% (27494/50000)\n",
            "INFO:__main__:Test Accuracy of airplane: 27% (271/1000)\n",
            "INFO:__main__:Test Accuracy of automobile: 71% (712/1000)\n",
            "INFO:__main__:Test Accuracy of  bird: 47% (470/1000)\n",
            "INFO:__main__:Test Accuracy of   cat: 55% (556/1000)\n",
            "INFO:__main__:Test Accuracy of  deer: 68% (685/1000)\n",
            "INFO:__main__:Test Accuracy of   dog: 72% (727/1000)\n",
            "INFO:__main__:Test Accuracy of  frog: 31% (318/1000)\n",
            "INFO:__main__:Test Accuracy of horse: 40% (403/1000)\n",
            "INFO:__main__:Test Accuracy of  ship: 58% (583/1000)\n",
            "INFO:__main__:Test Accuracy of truck: 76% (765/1000)\n",
            "INFO:__main__:Test Accuracy (Overall): 54% (5490/10000)\n"
          ]
        },
        {
          "output_type": "stream",
          "name": "stdout",
          "text": [
            "Current trial : 17\n"
          ]
        },
        {
          "output_type": "stream",
          "name": "stderr",
          "text": [
            "INFO:__main__:Train Accuracy of airplane: 25% (1252/5000)\n",
            "INFO:__main__:Train Accuracy of automobile: 74% (3712/5000)\n",
            "INFO:__main__:Train Accuracy of  bird: 47% (2390/5000)\n",
            "INFO:__main__:Train Accuracy of   cat: 59% (2954/5000)\n",
            "INFO:__main__:Train Accuracy of  deer: 69% (3450/5000)\n",
            "INFO:__main__:Train Accuracy of   dog: 73% (3676/5000)\n",
            "INFO:__main__:Train Accuracy of  frog: 31% (1552/5000)\n",
            "INFO:__main__:Train Accuracy of horse: 38% (1929/5000)\n",
            "INFO:__main__:Train Accuracy of  ship: 52% (2635/5000)\n",
            "INFO:__main__:Train Accuracy of truck: 77% (3864/5000)\n",
            "INFO:__main__:Train Accuracy (Overall): 54% (27414/50000)\n",
            "INFO:__main__:Test Accuracy of airplane: 28% (285/1000)\n",
            "INFO:__main__:Test Accuracy of automobile: 74% (747/1000)\n",
            "INFO:__main__:Test Accuracy of  bird: 45% (456/1000)\n",
            "INFO:__main__:Test Accuracy of   cat: 53% (536/1000)\n",
            "INFO:__main__:Test Accuracy of  deer: 70% (703/1000)\n",
            "INFO:__main__:Test Accuracy of   dog: 70% (708/1000)\n",
            "INFO:__main__:Test Accuracy of  frog: 34% (342/1000)\n",
            "INFO:__main__:Test Accuracy of horse: 38% (386/1000)\n",
            "INFO:__main__:Test Accuracy of  ship: 56% (566/1000)\n",
            "INFO:__main__:Test Accuracy of truck: 76% (760/1000)\n",
            "INFO:__main__:Test Accuracy (Overall): 54% (5489/10000)\n"
          ]
        },
        {
          "output_type": "stream",
          "name": "stdout",
          "text": [
            "Current trial : 18\n"
          ]
        },
        {
          "output_type": "stream",
          "name": "stderr",
          "text": [
            "INFO:__main__:Train Accuracy of airplane: 24% (1239/5000)\n",
            "INFO:__main__:Train Accuracy of automobile: 73% (3665/5000)\n",
            "INFO:__main__:Train Accuracy of  bird: 47% (2397/5000)\n",
            "INFO:__main__:Train Accuracy of   cat: 57% (2886/5000)\n",
            "INFO:__main__:Train Accuracy of  deer: 70% (3517/5000)\n",
            "INFO:__main__:Train Accuracy of   dog: 72% (3622/5000)\n",
            "INFO:__main__:Train Accuracy of  frog: 31% (1552/5000)\n",
            "INFO:__main__:Train Accuracy of horse: 39% (1950/5000)\n",
            "INFO:__main__:Train Accuracy of  ship: 52% (2626/5000)\n",
            "INFO:__main__:Train Accuracy of truck: 77% (3855/5000)\n",
            "INFO:__main__:Train Accuracy (Overall): 54% (27309/50000)\n",
            "INFO:__main__:Test Accuracy of airplane: 27% (272/1000)\n",
            "INFO:__main__:Test Accuracy of automobile: 74% (743/1000)\n",
            "INFO:__main__:Test Accuracy of  bird: 44% (442/1000)\n",
            "INFO:__main__:Test Accuracy of   cat: 56% (562/1000)\n",
            "INFO:__main__:Test Accuracy of  deer: 72% (726/1000)\n",
            "INFO:__main__:Test Accuracy of   dog: 72% (721/1000)\n",
            "INFO:__main__:Test Accuracy of  frog: 31% (311/1000)\n",
            "INFO:__main__:Test Accuracy of horse: 37% (371/1000)\n",
            "INFO:__main__:Test Accuracy of  ship: 58% (587/1000)\n",
            "INFO:__main__:Test Accuracy of truck: 75% (759/1000)\n",
            "INFO:__main__:Test Accuracy (Overall): 54% (5494/10000)\n"
          ]
        },
        {
          "output_type": "stream",
          "name": "stdout",
          "text": [
            "Current trial : 19\n"
          ]
        },
        {
          "output_type": "stream",
          "name": "stderr",
          "text": [
            "INFO:__main__:Train Accuracy of airplane: 25% (1255/5000)\n",
            "INFO:__main__:Train Accuracy of automobile: 74% (3737/5000)\n",
            "INFO:__main__:Train Accuracy of  bird: 47% (2374/5000)\n",
            "INFO:__main__:Train Accuracy of   cat: 59% (2965/5000)\n",
            "INFO:__main__:Train Accuracy of  deer: 69% (3472/5000)\n",
            "INFO:__main__:Train Accuracy of   dog: 72% (3647/5000)\n",
            "INFO:__main__:Train Accuracy of  frog: 30% (1535/5000)\n",
            "INFO:__main__:Train Accuracy of horse: 39% (1976/5000)\n",
            "INFO:__main__:Train Accuracy of  ship: 53% (2669/5000)\n",
            "INFO:__main__:Train Accuracy of truck: 77% (3887/5000)\n",
            "INFO:__main__:Train Accuracy (Overall): 55% (27517/50000)\n",
            "INFO:__main__:Test Accuracy of airplane: 29% (299/1000)\n",
            "INFO:__main__:Test Accuracy of automobile: 74% (744/1000)\n",
            "INFO:__main__:Test Accuracy of  bird: 46% (460/1000)\n",
            "INFO:__main__:Test Accuracy of   cat: 56% (561/1000)\n",
            "INFO:__main__:Test Accuracy of  deer: 69% (698/1000)\n",
            "INFO:__main__:Test Accuracy of   dog: 70% (705/1000)\n",
            "INFO:__main__:Test Accuracy of  frog: 33% (332/1000)\n",
            "INFO:__main__:Test Accuracy of horse: 38% (385/1000)\n",
            "INFO:__main__:Test Accuracy of  ship: 55% (552/1000)\n",
            "INFO:__main__:Test Accuracy of truck: 75% (758/1000)\n",
            "INFO:__main__:Test Accuracy (Overall): 54% (5494/10000)\n"
          ]
        },
        {
          "output_type": "stream",
          "name": "stdout",
          "text": [
            "the following model ResNet18.middle.0.4 is starting from epoch : 50\n",
            "Current Loss 0.07055166492923162 \n",
            "Loading into a new model with 0.91 dropout in middle location\n",
            "Loading into a new model with 0.93 dropout in middle location\n",
            "Loading into a new model with 0.95 dropout in middle location\n",
            "Loading into a new model with 0.97 dropout in middle location\n",
            "Loading into a new model with 0.99 dropout in middle location\n",
            "Current trial : 0\n"
          ]
        },
        {
          "output_type": "stream",
          "name": "stderr",
          "text": [
            "INFO:__main__:Train Accuracy of airplane: 36% (1817/5000)\n",
            "INFO:__main__:Train Accuracy of automobile: 49% (2463/5000)\n",
            "INFO:__main__:Train Accuracy of  bird: 13% (691/5000)\n",
            "INFO:__main__:Train Accuracy of   cat: 64% (3230/5000)\n",
            "INFO:__main__:Train Accuracy of  deer: 77% (3850/5000)\n",
            "INFO:__main__:Train Accuracy of   dog: 58% (2936/5000)\n",
            "INFO:__main__:Train Accuracy of  frog: 53% (2685/5000)\n",
            "INFO:__main__:Train Accuracy of horse: 51% (2576/5000)\n",
            "INFO:__main__:Train Accuracy of  ship: 69% (3491/5000)\n",
            "INFO:__main__:Train Accuracy of truck: 90% (4506/5000)\n",
            "INFO:__main__:Train Accuracy (Overall): 56% (28245/50000)\n",
            "INFO:__main__:Test Accuracy of airplane: 36% (369/1000)\n",
            "INFO:__main__:Test Accuracy of automobile: 50% (507/1000)\n",
            "INFO:__main__:Test Accuracy of  bird: 13% (130/1000)\n",
            "INFO:__main__:Test Accuracy of   cat: 60% (607/1000)\n",
            "INFO:__main__:Test Accuracy of  deer: 75% (757/1000)\n",
            "INFO:__main__:Test Accuracy of   dog: 56% (565/1000)\n",
            "INFO:__main__:Test Accuracy of  frog: 56% (562/1000)\n",
            "INFO:__main__:Test Accuracy of horse: 49% (495/1000)\n",
            "INFO:__main__:Test Accuracy of  ship: 72% (723/1000)\n",
            "INFO:__main__:Test Accuracy of truck: 87% (874/1000)\n",
            "INFO:__main__:Test Accuracy (Overall): 55% (5589/10000)\n"
          ]
        },
        {
          "output_type": "stream",
          "name": "stdout",
          "text": [
            "Current trial : 1\n"
          ]
        },
        {
          "output_type": "stream",
          "name": "stderr",
          "text": [
            "INFO:__main__:Train Accuracy of airplane: 36% (1803/5000)\n",
            "INFO:__main__:Train Accuracy of automobile: 51% (2565/5000)\n",
            "INFO:__main__:Train Accuracy of  bird: 14% (711/5000)\n",
            "INFO:__main__:Train Accuracy of   cat: 65% (3259/5000)\n",
            "INFO:__main__:Train Accuracy of  deer: 75% (3761/5000)\n",
            "INFO:__main__:Train Accuracy of   dog: 58% (2906/5000)\n",
            "INFO:__main__:Train Accuracy of  frog: 54% (2715/5000)\n",
            "INFO:__main__:Train Accuracy of horse: 50% (2543/5000)\n",
            "INFO:__main__:Train Accuracy of  ship: 69% (3478/5000)\n",
            "INFO:__main__:Train Accuracy of truck: 89% (4462/5000)\n",
            "INFO:__main__:Train Accuracy (Overall): 56% (28203/50000)\n",
            "INFO:__main__:Test Accuracy of airplane: 38% (381/1000)\n",
            "INFO:__main__:Test Accuracy of automobile: 54% (544/1000)\n",
            "INFO:__main__:Test Accuracy of  bird: 10% (100/1000)\n",
            "INFO:__main__:Test Accuracy of   cat: 59% (594/1000)\n",
            "INFO:__main__:Test Accuracy of  deer: 77% (771/1000)\n",
            "INFO:__main__:Test Accuracy of   dog: 57% (578/1000)\n",
            "INFO:__main__:Test Accuracy of  frog: 56% (569/1000)\n",
            "INFO:__main__:Test Accuracy of horse: 48% (481/1000)\n",
            "INFO:__main__:Test Accuracy of  ship: 72% (728/1000)\n",
            "INFO:__main__:Test Accuracy of truck: 88% (887/1000)\n",
            "INFO:__main__:Test Accuracy (Overall): 56% (5633/10000)\n"
          ]
        },
        {
          "output_type": "stream",
          "name": "stdout",
          "text": [
            "Current trial : 2\n"
          ]
        },
        {
          "output_type": "stream",
          "name": "stderr",
          "text": [
            "INFO:__main__:Train Accuracy of airplane: 36% (1838/5000)\n",
            "INFO:__main__:Train Accuracy of automobile: 50% (2547/5000)\n",
            "INFO:__main__:Train Accuracy of  bird: 13% (663/5000)\n",
            "INFO:__main__:Train Accuracy of   cat: 64% (3231/5000)\n",
            "INFO:__main__:Train Accuracy of  deer: 77% (3865/5000)\n",
            "INFO:__main__:Train Accuracy of   dog: 59% (2977/5000)\n",
            "INFO:__main__:Train Accuracy of  frog: 54% (2741/5000)\n",
            "INFO:__main__:Train Accuracy of horse: 51% (2591/5000)\n",
            "INFO:__main__:Train Accuracy of  ship: 69% (3496/5000)\n",
            "INFO:__main__:Train Accuracy of truck: 89% (4495/5000)\n",
            "INFO:__main__:Train Accuracy (Overall): 56% (28444/50000)\n",
            "INFO:__main__:Test Accuracy of airplane: 37% (374/1000)\n",
            "INFO:__main__:Test Accuracy of automobile: 51% (511/1000)\n",
            "INFO:__main__:Test Accuracy of  bird: 10% (109/1000)\n",
            "INFO:__main__:Test Accuracy of   cat: 57% (579/1000)\n",
            "INFO:__main__:Test Accuracy of  deer: 78% (781/1000)\n",
            "INFO:__main__:Test Accuracy of   dog: 55% (553/1000)\n",
            "INFO:__main__:Test Accuracy of  frog: 58% (582/1000)\n",
            "INFO:__main__:Test Accuracy of horse: 49% (498/1000)\n",
            "INFO:__main__:Test Accuracy of  ship: 73% (733/1000)\n",
            "INFO:__main__:Test Accuracy of truck: 88% (883/1000)\n",
            "INFO:__main__:Test Accuracy (Overall): 56% (5603/10000)\n"
          ]
        },
        {
          "output_type": "stream",
          "name": "stdout",
          "text": [
            "Current trial : 3\n"
          ]
        },
        {
          "output_type": "stream",
          "name": "stderr",
          "text": [
            "INFO:__main__:Train Accuracy of airplane: 35% (1787/5000)\n",
            "INFO:__main__:Train Accuracy of automobile: 50% (2527/5000)\n",
            "INFO:__main__:Train Accuracy of  bird: 14% (712/5000)\n",
            "INFO:__main__:Train Accuracy of   cat: 64% (3222/5000)\n",
            "INFO:__main__:Train Accuracy of  deer: 76% (3821/5000)\n",
            "INFO:__main__:Train Accuracy of   dog: 57% (2880/5000)\n",
            "INFO:__main__:Train Accuracy of  frog: 54% (2736/5000)\n",
            "INFO:__main__:Train Accuracy of horse: 52% (2635/5000)\n",
            "INFO:__main__:Train Accuracy of  ship: 69% (3487/5000)\n",
            "INFO:__main__:Train Accuracy of truck: 89% (4494/5000)\n",
            "INFO:__main__:Train Accuracy (Overall): 56% (28301/50000)\n",
            "INFO:__main__:Test Accuracy of airplane: 37% (372/1000)\n",
            "INFO:__main__:Test Accuracy of automobile: 50% (509/1000)\n",
            "INFO:__main__:Test Accuracy of  bird: 14% (142/1000)\n",
            "INFO:__main__:Test Accuracy of   cat: 60% (609/1000)\n",
            "INFO:__main__:Test Accuracy of  deer: 77% (771/1000)\n",
            "INFO:__main__:Test Accuracy of   dog: 56% (569/1000)\n",
            "INFO:__main__:Test Accuracy of  frog: 56% (568/1000)\n",
            "INFO:__main__:Test Accuracy of horse: 49% (493/1000)\n",
            "INFO:__main__:Test Accuracy of  ship: 73% (731/1000)\n",
            "INFO:__main__:Test Accuracy of truck: 88% (887/1000)\n",
            "INFO:__main__:Test Accuracy (Overall): 56% (5651/10000)\n"
          ]
        },
        {
          "output_type": "stream",
          "name": "stdout",
          "text": [
            "Current trial : 4\n"
          ]
        },
        {
          "output_type": "stream",
          "name": "stderr",
          "text": [
            "INFO:__main__:Train Accuracy of airplane: 36% (1827/5000)\n",
            "INFO:__main__:Train Accuracy of automobile: 50% (2511/5000)\n",
            "INFO:__main__:Train Accuracy of  bird: 13% (696/5000)\n",
            "INFO:__main__:Train Accuracy of   cat: 64% (3203/5000)\n",
            "INFO:__main__:Train Accuracy of  deer: 76% (3835/5000)\n",
            "INFO:__main__:Train Accuracy of   dog: 58% (2920/5000)\n",
            "INFO:__main__:Train Accuracy of  frog: 54% (2736/5000)\n",
            "INFO:__main__:Train Accuracy of horse: 52% (2639/5000)\n",
            "INFO:__main__:Train Accuracy of  ship: 70% (3521/5000)\n",
            "INFO:__main__:Train Accuracy of truck: 90% (4515/5000)\n",
            "INFO:__main__:Train Accuracy (Overall): 56% (28403/50000)\n",
            "INFO:__main__:Test Accuracy of airplane: 37% (370/1000)\n",
            "INFO:__main__:Test Accuracy of automobile: 50% (507/1000)\n",
            "INFO:__main__:Test Accuracy of  bird: 13% (133/1000)\n",
            "INFO:__main__:Test Accuracy of   cat: 58% (582/1000)\n",
            "INFO:__main__:Test Accuracy of  deer: 75% (755/1000)\n",
            "INFO:__main__:Test Accuracy of   dog: 53% (535/1000)\n",
            "INFO:__main__:Test Accuracy of  frog: 61% (613/1000)\n",
            "INFO:__main__:Test Accuracy of horse: 46% (465/1000)\n",
            "INFO:__main__:Test Accuracy of  ship: 73% (731/1000)\n",
            "INFO:__main__:Test Accuracy of truck: 88% (889/1000)\n",
            "INFO:__main__:Test Accuracy (Overall): 55% (5580/10000)\n"
          ]
        },
        {
          "output_type": "stream",
          "name": "stdout",
          "text": [
            "Current trial : 5\n"
          ]
        },
        {
          "output_type": "stream",
          "name": "stderr",
          "text": [
            "INFO:__main__:Train Accuracy of airplane: 36% (1802/5000)\n",
            "INFO:__main__:Train Accuracy of automobile: 51% (2569/5000)\n",
            "INFO:__main__:Train Accuracy of  bird: 14% (717/5000)\n",
            "INFO:__main__:Train Accuracy of   cat: 66% (3306/5000)\n",
            "INFO:__main__:Train Accuracy of  deer: 76% (3816/5000)\n",
            "INFO:__main__:Train Accuracy of   dog: 57% (2886/5000)\n",
            "INFO:__main__:Train Accuracy of  frog: 54% (2748/5000)\n",
            "INFO:__main__:Train Accuracy of horse: 52% (2628/5000)\n",
            "INFO:__main__:Train Accuracy of  ship: 70% (3515/5000)\n",
            "INFO:__main__:Train Accuracy of truck: 89% (4469/5000)\n",
            "INFO:__main__:Train Accuracy (Overall): 56% (28456/50000)\n",
            "INFO:__main__:Test Accuracy of airplane: 36% (365/1000)\n",
            "INFO:__main__:Test Accuracy of automobile: 50% (504/1000)\n",
            "INFO:__main__:Test Accuracy of  bird: 11% (119/1000)\n",
            "INFO:__main__:Test Accuracy of   cat: 58% (585/1000)\n",
            "INFO:__main__:Test Accuracy of  deer: 78% (780/1000)\n",
            "INFO:__main__:Test Accuracy of   dog: 55% (559/1000)\n",
            "INFO:__main__:Test Accuracy of  frog: 58% (582/1000)\n",
            "INFO:__main__:Test Accuracy of horse: 45% (458/1000)\n",
            "INFO:__main__:Test Accuracy of  ship: 73% (735/1000)\n",
            "INFO:__main__:Test Accuracy of truck: 89% (890/1000)\n",
            "INFO:__main__:Test Accuracy (Overall): 55% (5577/10000)\n"
          ]
        },
        {
          "output_type": "stream",
          "name": "stdout",
          "text": [
            "Current trial : 6\n"
          ]
        },
        {
          "output_type": "stream",
          "name": "stderr",
          "text": [
            "INFO:__main__:Train Accuracy of airplane: 36% (1804/5000)\n",
            "INFO:__main__:Train Accuracy of automobile: 50% (2535/5000)\n",
            "INFO:__main__:Train Accuracy of  bird: 13% (688/5000)\n",
            "INFO:__main__:Train Accuracy of   cat: 64% (3226/5000)\n",
            "INFO:__main__:Train Accuracy of  deer: 76% (3814/5000)\n",
            "INFO:__main__:Train Accuracy of   dog: 57% (2885/5000)\n",
            "INFO:__main__:Train Accuracy of  frog: 53% (2659/5000)\n",
            "INFO:__main__:Train Accuracy of horse: 52% (2641/5000)\n",
            "INFO:__main__:Train Accuracy of  ship: 69% (3455/5000)\n",
            "INFO:__main__:Train Accuracy of truck: 90% (4503/5000)\n",
            "INFO:__main__:Train Accuracy (Overall): 56% (28210/50000)\n",
            "INFO:__main__:Test Accuracy of airplane: 36% (361/1000)\n",
            "INFO:__main__:Test Accuracy of automobile: 51% (510/1000)\n",
            "INFO:__main__:Test Accuracy of  bird: 11% (113/1000)\n",
            "INFO:__main__:Test Accuracy of   cat: 56% (565/1000)\n",
            "INFO:__main__:Test Accuracy of  deer: 76% (763/1000)\n",
            "INFO:__main__:Test Accuracy of   dog: 56% (566/1000)\n",
            "INFO:__main__:Test Accuracy of  frog: 58% (582/1000)\n",
            "INFO:__main__:Test Accuracy of horse: 49% (499/1000)\n",
            "INFO:__main__:Test Accuracy of  ship: 73% (731/1000)\n",
            "INFO:__main__:Test Accuracy of truck: 90% (903/1000)\n",
            "INFO:__main__:Test Accuracy (Overall): 55% (5593/10000)\n"
          ]
        },
        {
          "output_type": "stream",
          "name": "stdout",
          "text": [
            "Current trial : 7\n"
          ]
        },
        {
          "output_type": "stream",
          "name": "stderr",
          "text": [
            "INFO:__main__:Train Accuracy of airplane: 35% (1763/5000)\n",
            "INFO:__main__:Train Accuracy of automobile: 50% (2505/5000)\n",
            "INFO:__main__:Train Accuracy of  bird: 13% (681/5000)\n",
            "INFO:__main__:Train Accuracy of   cat: 65% (3267/5000)\n",
            "INFO:__main__:Train Accuracy of  deer: 75% (3794/5000)\n",
            "INFO:__main__:Train Accuracy of   dog: 57% (2899/5000)\n",
            "INFO:__main__:Train Accuracy of  frog: 54% (2711/5000)\n",
            "INFO:__main__:Train Accuracy of horse: 51% (2586/5000)\n",
            "INFO:__main__:Train Accuracy of  ship: 69% (3494/5000)\n",
            "INFO:__main__:Train Accuracy of truck: 90% (4504/5000)\n",
            "INFO:__main__:Train Accuracy (Overall): 56% (28204/50000)\n",
            "INFO:__main__:Test Accuracy of airplane: 37% (376/1000)\n",
            "INFO:__main__:Test Accuracy of automobile: 51% (518/1000)\n",
            "INFO:__main__:Test Accuracy of  bird: 10% (104/1000)\n",
            "INFO:__main__:Test Accuracy of   cat: 56% (563/1000)\n",
            "INFO:__main__:Test Accuracy of  deer: 77% (771/1000)\n",
            "INFO:__main__:Test Accuracy of   dog: 54% (543/1000)\n",
            "INFO:__main__:Test Accuracy of  frog: 58% (583/1000)\n",
            "INFO:__main__:Test Accuracy of horse: 49% (492/1000)\n",
            "INFO:__main__:Test Accuracy of  ship: 72% (721/1000)\n",
            "INFO:__main__:Test Accuracy of truck: 89% (890/1000)\n",
            "INFO:__main__:Test Accuracy (Overall): 55% (5561/10000)\n"
          ]
        },
        {
          "output_type": "stream",
          "name": "stdout",
          "text": [
            "Current trial : 8\n"
          ]
        },
        {
          "output_type": "stream",
          "name": "stderr",
          "text": [
            "INFO:__main__:Train Accuracy of airplane: 36% (1800/5000)\n",
            "INFO:__main__:Train Accuracy of automobile: 50% (2528/5000)\n",
            "INFO:__main__:Train Accuracy of  bird: 13% (659/5000)\n",
            "INFO:__main__:Train Accuracy of   cat: 64% (3228/5000)\n",
            "INFO:__main__:Train Accuracy of  deer: 76% (3825/5000)\n",
            "INFO:__main__:Train Accuracy of   dog: 58% (2926/5000)\n",
            "INFO:__main__:Train Accuracy of  frog: 54% (2700/5000)\n",
            "INFO:__main__:Train Accuracy of horse: 52% (2611/5000)\n",
            "INFO:__main__:Train Accuracy of  ship: 69% (3492/5000)\n",
            "INFO:__main__:Train Accuracy of truck: 89% (4467/5000)\n",
            "INFO:__main__:Train Accuracy (Overall): 56% (28236/50000)\n",
            "INFO:__main__:Test Accuracy of airplane: 36% (368/1000)\n",
            "INFO:__main__:Test Accuracy of automobile: 53% (530/1000)\n",
            "INFO:__main__:Test Accuracy of  bird: 12% (128/1000)\n",
            "INFO:__main__:Test Accuracy of   cat: 57% (578/1000)\n",
            "INFO:__main__:Test Accuracy of  deer: 76% (765/1000)\n",
            "INFO:__main__:Test Accuracy of   dog: 54% (546/1000)\n",
            "INFO:__main__:Test Accuracy of  frog: 56% (567/1000)\n",
            "INFO:__main__:Test Accuracy of horse: 46% (463/1000)\n",
            "INFO:__main__:Test Accuracy of  ship: 71% (718/1000)\n",
            "INFO:__main__:Test Accuracy of truck: 87% (878/1000)\n",
            "INFO:__main__:Test Accuracy (Overall): 55% (5541/10000)\n"
          ]
        },
        {
          "output_type": "stream",
          "name": "stdout",
          "text": [
            "Current trial : 9\n"
          ]
        },
        {
          "output_type": "stream",
          "name": "stderr",
          "text": [
            "INFO:__main__:Train Accuracy of airplane: 35% (1781/5000)\n",
            "INFO:__main__:Train Accuracy of automobile: 51% (2571/5000)\n",
            "INFO:__main__:Train Accuracy of  bird: 13% (695/5000)\n",
            "INFO:__main__:Train Accuracy of   cat: 65% (3261/5000)\n",
            "INFO:__main__:Train Accuracy of  deer: 76% (3831/5000)\n",
            "INFO:__main__:Train Accuracy of   dog: 57% (2875/5000)\n",
            "INFO:__main__:Train Accuracy of  frog: 53% (2687/5000)\n",
            "INFO:__main__:Train Accuracy of horse: 51% (2553/5000)\n",
            "INFO:__main__:Train Accuracy of  ship: 71% (3556/5000)\n",
            "INFO:__main__:Train Accuracy of truck: 89% (4483/5000)\n",
            "INFO:__main__:Train Accuracy (Overall): 56% (28293/50000)\n",
            "INFO:__main__:Test Accuracy of airplane: 39% (391/1000)\n",
            "INFO:__main__:Test Accuracy of automobile: 52% (523/1000)\n",
            "INFO:__main__:Test Accuracy of  bird: 12% (124/1000)\n",
            "INFO:__main__:Test Accuracy of   cat: 60% (604/1000)\n",
            "INFO:__main__:Test Accuracy of  deer: 76% (767/1000)\n",
            "INFO:__main__:Test Accuracy of   dog: 54% (541/1000)\n",
            "INFO:__main__:Test Accuracy of  frog: 60% (602/1000)\n",
            "INFO:__main__:Test Accuracy of horse: 48% (488/1000)\n",
            "INFO:__main__:Test Accuracy of  ship: 72% (725/1000)\n",
            "INFO:__main__:Test Accuracy of truck: 90% (903/1000)\n",
            "INFO:__main__:Test Accuracy (Overall): 56% (5668/10000)\n"
          ]
        },
        {
          "output_type": "stream",
          "name": "stdout",
          "text": [
            "Current trial : 10\n"
          ]
        },
        {
          "output_type": "stream",
          "name": "stderr",
          "text": [
            "INFO:__main__:Train Accuracy of airplane: 35% (1757/5000)\n",
            "INFO:__main__:Train Accuracy of automobile: 50% (2548/5000)\n",
            "INFO:__main__:Train Accuracy of  bird: 13% (685/5000)\n",
            "INFO:__main__:Train Accuracy of   cat: 65% (3254/5000)\n",
            "INFO:__main__:Train Accuracy of  deer: 77% (3853/5000)\n",
            "INFO:__main__:Train Accuracy of   dog: 58% (2928/5000)\n",
            "INFO:__main__:Train Accuracy of  frog: 54% (2703/5000)\n",
            "INFO:__main__:Train Accuracy of horse: 52% (2615/5000)\n",
            "INFO:__main__:Train Accuracy of  ship: 69% (3463/5000)\n",
            "INFO:__main__:Train Accuracy of truck: 90% (4500/5000)\n",
            "INFO:__main__:Train Accuracy (Overall): 56% (28306/50000)\n",
            "INFO:__main__:Test Accuracy of airplane: 38% (382/1000)\n",
            "INFO:__main__:Test Accuracy of automobile: 49% (490/1000)\n",
            "INFO:__main__:Test Accuracy of  bird: 12% (129/1000)\n",
            "INFO:__main__:Test Accuracy of   cat: 60% (600/1000)\n",
            "INFO:__main__:Test Accuracy of  deer: 77% (778/1000)\n",
            "INFO:__main__:Test Accuracy of   dog: 53% (539/1000)\n",
            "INFO:__main__:Test Accuracy of  frog: 59% (592/1000)\n",
            "INFO:__main__:Test Accuracy of horse: 50% (505/1000)\n",
            "INFO:__main__:Test Accuracy of  ship: 71% (716/1000)\n",
            "INFO:__main__:Test Accuracy of truck: 87% (871/1000)\n",
            "INFO:__main__:Test Accuracy (Overall): 56% (5602/10000)\n"
          ]
        },
        {
          "output_type": "stream",
          "name": "stdout",
          "text": [
            "Current trial : 11\n"
          ]
        },
        {
          "output_type": "stream",
          "name": "stderr",
          "text": [
            "INFO:__main__:Train Accuracy of airplane: 34% (1743/5000)\n",
            "INFO:__main__:Train Accuracy of automobile: 51% (2592/5000)\n",
            "INFO:__main__:Train Accuracy of  bird: 14% (721/5000)\n",
            "INFO:__main__:Train Accuracy of   cat: 64% (3235/5000)\n",
            "INFO:__main__:Train Accuracy of  deer: 75% (3790/5000)\n",
            "INFO:__main__:Train Accuracy of   dog: 58% (2902/5000)\n",
            "INFO:__main__:Train Accuracy of  frog: 53% (2667/5000)\n",
            "INFO:__main__:Train Accuracy of horse: 52% (2633/5000)\n",
            "INFO:__main__:Train Accuracy of  ship: 69% (3494/5000)\n",
            "INFO:__main__:Train Accuracy of truck: 90% (4538/5000)\n",
            "INFO:__main__:Train Accuracy (Overall): 56% (28315/50000)\n",
            "INFO:__main__:Test Accuracy of airplane: 38% (385/1000)\n",
            "INFO:__main__:Test Accuracy of automobile: 50% (508/1000)\n",
            "INFO:__main__:Test Accuracy of  bird: 11% (118/1000)\n",
            "INFO:__main__:Test Accuracy of   cat: 58% (585/1000)\n",
            "INFO:__main__:Test Accuracy of  deer: 75% (757/1000)\n",
            "INFO:__main__:Test Accuracy of   dog: 54% (546/1000)\n",
            "INFO:__main__:Test Accuracy of  frog: 59% (597/1000)\n",
            "INFO:__main__:Test Accuracy of horse: 47% (476/1000)\n",
            "INFO:__main__:Test Accuracy of  ship: 70% (704/1000)\n",
            "INFO:__main__:Test Accuracy of truck: 90% (900/1000)\n",
            "INFO:__main__:Test Accuracy (Overall): 55% (5576/10000)\n"
          ]
        },
        {
          "output_type": "stream",
          "name": "stdout",
          "text": [
            "Current trial : 12\n"
          ]
        },
        {
          "output_type": "stream",
          "name": "stderr",
          "text": [
            "INFO:__main__:Train Accuracy of airplane: 35% (1799/5000)\n",
            "INFO:__main__:Train Accuracy of automobile: 49% (2497/5000)\n",
            "INFO:__main__:Train Accuracy of  bird: 13% (695/5000)\n",
            "INFO:__main__:Train Accuracy of   cat: 64% (3212/5000)\n",
            "INFO:__main__:Train Accuracy of  deer: 76% (3826/5000)\n",
            "INFO:__main__:Train Accuracy of   dog: 58% (2901/5000)\n",
            "INFO:__main__:Train Accuracy of  frog: 54% (2702/5000)\n",
            "INFO:__main__:Train Accuracy of horse: 51% (2585/5000)\n",
            "INFO:__main__:Train Accuracy of  ship: 69% (3452/5000)\n",
            "INFO:__main__:Train Accuracy of truck: 90% (4531/5000)\n",
            "INFO:__main__:Train Accuracy (Overall): 56% (28200/50000)\n",
            "INFO:__main__:Test Accuracy of airplane: 37% (379/1000)\n",
            "INFO:__main__:Test Accuracy of automobile: 50% (506/1000)\n",
            "INFO:__main__:Test Accuracy of  bird: 13% (131/1000)\n",
            "INFO:__main__:Test Accuracy of   cat: 57% (574/1000)\n",
            "INFO:__main__:Test Accuracy of  deer: 78% (786/1000)\n",
            "INFO:__main__:Test Accuracy of   dog: 55% (552/1000)\n",
            "INFO:__main__:Test Accuracy of  frog: 61% (617/1000)\n",
            "INFO:__main__:Test Accuracy of horse: 48% (486/1000)\n",
            "INFO:__main__:Test Accuracy of  ship: 75% (751/1000)\n",
            "INFO:__main__:Test Accuracy of truck: 88% (885/1000)\n",
            "INFO:__main__:Test Accuracy (Overall): 56% (5667/10000)\n"
          ]
        },
        {
          "output_type": "stream",
          "name": "stdout",
          "text": [
            "Current trial : 13\n"
          ]
        },
        {
          "output_type": "stream",
          "name": "stderr",
          "text": [
            "INFO:__main__:Train Accuracy of airplane: 35% (1794/5000)\n",
            "INFO:__main__:Train Accuracy of automobile: 51% (2571/5000)\n",
            "INFO:__main__:Train Accuracy of  bird: 14% (737/5000)\n",
            "INFO:__main__:Train Accuracy of   cat: 64% (3241/5000)\n",
            "INFO:__main__:Train Accuracy of  deer: 76% (3823/5000)\n",
            "INFO:__main__:Train Accuracy of   dog: 57% (2895/5000)\n",
            "INFO:__main__:Train Accuracy of  frog: 55% (2780/5000)\n",
            "INFO:__main__:Train Accuracy of horse: 52% (2615/5000)\n",
            "INFO:__main__:Train Accuracy of  ship: 69% (3478/5000)\n",
            "INFO:__main__:Train Accuracy of truck: 90% (4500/5000)\n",
            "INFO:__main__:Train Accuracy (Overall): 56% (28434/50000)\n",
            "INFO:__main__:Test Accuracy of airplane: 38% (386/1000)\n",
            "INFO:__main__:Test Accuracy of automobile: 52% (524/1000)\n",
            "INFO:__main__:Test Accuracy of  bird: 12% (120/1000)\n",
            "INFO:__main__:Test Accuracy of   cat: 60% (603/1000)\n",
            "INFO:__main__:Test Accuracy of  deer: 76% (769/1000)\n",
            "INFO:__main__:Test Accuracy of   dog: 55% (552/1000)\n",
            "INFO:__main__:Test Accuracy of  frog: 60% (609/1000)\n",
            "INFO:__main__:Test Accuracy of horse: 48% (485/1000)\n",
            "INFO:__main__:Test Accuracy of  ship: 72% (729/1000)\n",
            "INFO:__main__:Test Accuracy of truck: 90% (903/1000)\n",
            "INFO:__main__:Test Accuracy (Overall): 56% (5680/10000)\n"
          ]
        },
        {
          "output_type": "stream",
          "name": "stdout",
          "text": [
            "Current trial : 14\n"
          ]
        },
        {
          "output_type": "stream",
          "name": "stderr",
          "text": [
            "INFO:__main__:Train Accuracy of airplane: 36% (1843/5000)\n",
            "INFO:__main__:Train Accuracy of automobile: 50% (2534/5000)\n",
            "INFO:__main__:Train Accuracy of  bird: 13% (689/5000)\n",
            "INFO:__main__:Train Accuracy of   cat: 64% (3216/5000)\n",
            "INFO:__main__:Train Accuracy of  deer: 76% (3803/5000)\n",
            "INFO:__main__:Train Accuracy of   dog: 58% (2933/5000)\n",
            "INFO:__main__:Train Accuracy of  frog: 54% (2707/5000)\n",
            "INFO:__main__:Train Accuracy of horse: 51% (2589/5000)\n",
            "INFO:__main__:Train Accuracy of  ship: 70% (3507/5000)\n",
            "INFO:__main__:Train Accuracy of truck: 89% (4489/5000)\n",
            "INFO:__main__:Train Accuracy (Overall): 56% (28310/50000)\n",
            "INFO:__main__:Test Accuracy of airplane: 37% (370/1000)\n",
            "INFO:__main__:Test Accuracy of automobile: 48% (486/1000)\n",
            "INFO:__main__:Test Accuracy of  bird: 12% (126/1000)\n",
            "INFO:__main__:Test Accuracy of   cat: 58% (585/1000)\n",
            "INFO:__main__:Test Accuracy of  deer: 76% (768/1000)\n",
            "INFO:__main__:Test Accuracy of   dog: 55% (551/1000)\n",
            "INFO:__main__:Test Accuracy of  frog: 58% (580/1000)\n",
            "INFO:__main__:Test Accuracy of horse: 48% (489/1000)\n",
            "INFO:__main__:Test Accuracy of  ship: 72% (720/1000)\n",
            "INFO:__main__:Test Accuracy of truck: 90% (900/1000)\n",
            "INFO:__main__:Test Accuracy (Overall): 55% (5575/10000)\n"
          ]
        },
        {
          "output_type": "stream",
          "name": "stdout",
          "text": [
            "Current trial : 15\n"
          ]
        },
        {
          "output_type": "stream",
          "name": "stderr",
          "text": [
            "INFO:__main__:Train Accuracy of airplane: 35% (1771/5000)\n",
            "INFO:__main__:Train Accuracy of automobile: 49% (2475/5000)\n",
            "INFO:__main__:Train Accuracy of  bird: 13% (691/5000)\n",
            "INFO:__main__:Train Accuracy of   cat: 65% (3263/5000)\n",
            "INFO:__main__:Train Accuracy of  deer: 76% (3805/5000)\n",
            "INFO:__main__:Train Accuracy of   dog: 58% (2933/5000)\n",
            "INFO:__main__:Train Accuracy of  frog: 54% (2701/5000)\n",
            "INFO:__main__:Train Accuracy of horse: 51% (2575/5000)\n",
            "INFO:__main__:Train Accuracy of  ship: 69% (3498/5000)\n",
            "INFO:__main__:Train Accuracy of truck: 90% (4505/5000)\n",
            "INFO:__main__:Train Accuracy (Overall): 56% (28217/50000)\n",
            "INFO:__main__:Test Accuracy of airplane: 37% (374/1000)\n",
            "INFO:__main__:Test Accuracy of automobile: 52% (520/1000)\n",
            "INFO:__main__:Test Accuracy of  bird: 12% (121/1000)\n",
            "INFO:__main__:Test Accuracy of   cat: 60% (602/1000)\n",
            "INFO:__main__:Test Accuracy of  deer: 78% (782/1000)\n",
            "INFO:__main__:Test Accuracy of   dog: 54% (544/1000)\n",
            "INFO:__main__:Test Accuracy of  frog: 59% (592/1000)\n",
            "INFO:__main__:Test Accuracy of horse: 48% (487/1000)\n",
            "INFO:__main__:Test Accuracy of  ship: 72% (721/1000)\n",
            "INFO:__main__:Test Accuracy of truck: 89% (895/1000)\n",
            "INFO:__main__:Test Accuracy (Overall): 56% (5638/10000)\n"
          ]
        },
        {
          "output_type": "stream",
          "name": "stdout",
          "text": [
            "Current trial : 16\n"
          ]
        },
        {
          "output_type": "stream",
          "name": "stderr",
          "text": [
            "INFO:__main__:Train Accuracy of airplane: 35% (1778/5000)\n",
            "INFO:__main__:Train Accuracy of automobile: 50% (2514/5000)\n",
            "INFO:__main__:Train Accuracy of  bird: 14% (727/5000)\n",
            "INFO:__main__:Train Accuracy of   cat: 65% (3288/5000)\n",
            "INFO:__main__:Train Accuracy of  deer: 75% (3797/5000)\n",
            "INFO:__main__:Train Accuracy of   dog: 57% (2889/5000)\n",
            "INFO:__main__:Train Accuracy of  frog: 54% (2741/5000)\n",
            "INFO:__main__:Train Accuracy of horse: 52% (2613/5000)\n",
            "INFO:__main__:Train Accuracy of  ship: 70% (3526/5000)\n",
            "INFO:__main__:Train Accuracy of truck: 89% (4489/5000)\n",
            "INFO:__main__:Train Accuracy (Overall): 56% (28362/50000)\n",
            "INFO:__main__:Test Accuracy of airplane: 37% (370/1000)\n",
            "INFO:__main__:Test Accuracy of automobile: 52% (527/1000)\n",
            "INFO:__main__:Test Accuracy of  bird: 12% (128/1000)\n",
            "INFO:__main__:Test Accuracy of   cat: 58% (581/1000)\n",
            "INFO:__main__:Test Accuracy of  deer: 77% (778/1000)\n",
            "INFO:__main__:Test Accuracy of   dog: 55% (552/1000)\n",
            "INFO:__main__:Test Accuracy of  frog: 57% (570/1000)\n",
            "INFO:__main__:Test Accuracy of horse: 48% (482/1000)\n",
            "INFO:__main__:Test Accuracy of  ship: 73% (730/1000)\n",
            "INFO:__main__:Test Accuracy of truck: 89% (891/1000)\n",
            "INFO:__main__:Test Accuracy (Overall): 56% (5609/10000)\n"
          ]
        },
        {
          "output_type": "stream",
          "name": "stdout",
          "text": [
            "Current trial : 17\n"
          ]
        },
        {
          "output_type": "stream",
          "name": "stderr",
          "text": [
            "INFO:__main__:Train Accuracy of airplane: 36% (1813/5000)\n",
            "INFO:__main__:Train Accuracy of automobile: 51% (2553/5000)\n",
            "INFO:__main__:Train Accuracy of  bird: 14% (720/5000)\n",
            "INFO:__main__:Train Accuracy of   cat: 65% (3255/5000)\n",
            "INFO:__main__:Train Accuracy of  deer: 76% (3829/5000)\n",
            "INFO:__main__:Train Accuracy of   dog: 57% (2891/5000)\n",
            "INFO:__main__:Train Accuracy of  frog: 54% (2710/5000)\n",
            "INFO:__main__:Train Accuracy of horse: 52% (2633/5000)\n",
            "INFO:__main__:Train Accuracy of  ship: 69% (3457/5000)\n",
            "INFO:__main__:Train Accuracy of truck: 89% (4480/5000)\n",
            "INFO:__main__:Train Accuracy (Overall): 56% (28341/50000)\n",
            "INFO:__main__:Test Accuracy of airplane: 34% (349/1000)\n",
            "INFO:__main__:Test Accuracy of automobile: 51% (516/1000)\n",
            "INFO:__main__:Test Accuracy of  bird: 12% (127/1000)\n",
            "INFO:__main__:Test Accuracy of   cat: 56% (569/1000)\n",
            "INFO:__main__:Test Accuracy of  deer: 74% (740/1000)\n",
            "INFO:__main__:Test Accuracy of   dog: 53% (532/1000)\n",
            "INFO:__main__:Test Accuracy of  frog: 58% (585/1000)\n",
            "INFO:__main__:Test Accuracy of horse: 46% (461/1000)\n",
            "INFO:__main__:Test Accuracy of  ship: 74% (741/1000)\n",
            "INFO:__main__:Test Accuracy of truck: 88% (889/1000)\n",
            "INFO:__main__:Test Accuracy (Overall): 55% (5509/10000)\n"
          ]
        },
        {
          "output_type": "stream",
          "name": "stdout",
          "text": [
            "Current trial : 18\n"
          ]
        },
        {
          "output_type": "stream",
          "name": "stderr",
          "text": [
            "INFO:__main__:Train Accuracy of airplane: 37% (1873/5000)\n",
            "INFO:__main__:Train Accuracy of automobile: 50% (2543/5000)\n",
            "INFO:__main__:Train Accuracy of  bird: 13% (654/5000)\n",
            "INFO:__main__:Train Accuracy of   cat: 65% (3293/5000)\n",
            "INFO:__main__:Train Accuracy of  deer: 77% (3880/5000)\n",
            "INFO:__main__:Train Accuracy of   dog: 59% (2963/5000)\n",
            "INFO:__main__:Train Accuracy of  frog: 54% (2741/5000)\n",
            "INFO:__main__:Train Accuracy of horse: 51% (2566/5000)\n",
            "INFO:__main__:Train Accuracy of  ship: 69% (3452/5000)\n",
            "INFO:__main__:Train Accuracy of truck: 89% (4473/5000)\n",
            "INFO:__main__:Train Accuracy (Overall): 56% (28438/50000)\n",
            "INFO:__main__:Test Accuracy of airplane: 39% (390/1000)\n",
            "INFO:__main__:Test Accuracy of automobile: 51% (518/1000)\n",
            "INFO:__main__:Test Accuracy of  bird: 11% (116/1000)\n",
            "INFO:__main__:Test Accuracy of   cat: 61% (616/1000)\n",
            "INFO:__main__:Test Accuracy of  deer: 75% (754/1000)\n",
            "INFO:__main__:Test Accuracy of   dog: 52% (526/1000)\n",
            "INFO:__main__:Test Accuracy of  frog: 59% (598/1000)\n",
            "INFO:__main__:Test Accuracy of horse: 48% (488/1000)\n",
            "INFO:__main__:Test Accuracy of  ship: 74% (745/1000)\n",
            "INFO:__main__:Test Accuracy of truck: 89% (891/1000)\n",
            "INFO:__main__:Test Accuracy (Overall): 56% (5642/10000)\n"
          ]
        },
        {
          "output_type": "stream",
          "name": "stdout",
          "text": [
            "Current trial : 19\n"
          ]
        },
        {
          "output_type": "stream",
          "name": "stderr",
          "text": [
            "INFO:__main__:Train Accuracy of airplane: 36% (1812/5000)\n",
            "INFO:__main__:Train Accuracy of automobile: 49% (2488/5000)\n",
            "INFO:__main__:Train Accuracy of  bird: 14% (729/5000)\n",
            "INFO:__main__:Train Accuracy of   cat: 64% (3229/5000)\n",
            "INFO:__main__:Train Accuracy of  deer: 76% (3802/5000)\n",
            "INFO:__main__:Train Accuracy of   dog: 58% (2909/5000)\n",
            "INFO:__main__:Train Accuracy of  frog: 54% (2719/5000)\n",
            "INFO:__main__:Train Accuracy of horse: 52% (2639/5000)\n",
            "INFO:__main__:Train Accuracy of  ship: 69% (3478/5000)\n",
            "INFO:__main__:Train Accuracy of truck: 89% (4463/5000)\n",
            "INFO:__main__:Train Accuracy (Overall): 56% (28268/50000)\n",
            "INFO:__main__:Test Accuracy of airplane: 37% (374/1000)\n",
            "INFO:__main__:Test Accuracy of automobile: 52% (528/1000)\n",
            "INFO:__main__:Test Accuracy of  bird: 13% (130/1000)\n",
            "INFO:__main__:Test Accuracy of   cat: 60% (603/1000)\n",
            "INFO:__main__:Test Accuracy of  deer: 75% (753/1000)\n",
            "INFO:__main__:Test Accuracy of   dog: 56% (569/1000)\n",
            "INFO:__main__:Test Accuracy of  frog: 59% (599/1000)\n",
            "INFO:__main__:Test Accuracy of horse: 48% (481/1000)\n",
            "INFO:__main__:Test Accuracy of  ship: 74% (741/1000)\n",
            "INFO:__main__:Test Accuracy of truck: 88% (881/1000)\n",
            "INFO:__main__:Test Accuracy (Overall): 56% (5659/10000)\n"
          ]
        },
        {
          "output_type": "stream",
          "name": "stdout",
          "text": [
            "the following model ResNet18.middle.0.5 is starting from epoch : 50\n",
            "Current Loss 0.07425218462591292 \n",
            "Loading into a new model with 0.91 dropout in middle location\n",
            "Loading into a new model with 0.93 dropout in middle location\n",
            "Loading into a new model with 0.95 dropout in middle location\n",
            "Loading into a new model with 0.97 dropout in middle location\n",
            "Loading into a new model with 0.99 dropout in middle location\n",
            "Current trial : 0\n"
          ]
        },
        {
          "output_type": "stream",
          "name": "stderr",
          "text": [
            "INFO:__main__:Train Accuracy of airplane: 54% (2720/5000)\n",
            "INFO:__main__:Train Accuracy of automobile: 66% (3304/5000)\n",
            "INFO:__main__:Train Accuracy of  bird: 15% (752/5000)\n",
            "INFO:__main__:Train Accuracy of   cat: 73% (3690/5000)\n",
            "INFO:__main__:Train Accuracy of  deer: 67% (3380/5000)\n",
            "INFO:__main__:Train Accuracy of   dog: 72% (3613/5000)\n",
            "INFO:__main__:Train Accuracy of  frog: 60% (3038/5000)\n",
            "INFO:__main__:Train Accuracy of horse: 85% (4297/5000)\n",
            "INFO:__main__:Train Accuracy of  ship: 59% (2997/5000)\n",
            "INFO:__main__:Train Accuracy of truck: 59% (2975/5000)\n",
            "INFO:__main__:Train Accuracy (Overall): 61% (30766/50000)\n",
            "INFO:__main__:Test Accuracy of airplane: 54% (540/1000)\n",
            "INFO:__main__:Test Accuracy of automobile: 67% (673/1000)\n",
            "INFO:__main__:Test Accuracy of  bird: 16% (166/1000)\n",
            "INFO:__main__:Test Accuracy of   cat: 67% (672/1000)\n",
            "INFO:__main__:Test Accuracy of  deer: 65% (656/1000)\n",
            "INFO:__main__:Test Accuracy of   dog: 70% (703/1000)\n",
            "INFO:__main__:Test Accuracy of  frog: 64% (644/1000)\n",
            "INFO:__main__:Test Accuracy of horse: 83% (832/1000)\n",
            "INFO:__main__:Test Accuracy of  ship: 63% (636/1000)\n",
            "INFO:__main__:Test Accuracy of truck: 63% (630/1000)\n",
            "INFO:__main__:Test Accuracy (Overall): 61% (6152/10000)\n"
          ]
        },
        {
          "output_type": "stream",
          "name": "stdout",
          "text": [
            "Current trial : 1\n"
          ]
        },
        {
          "output_type": "stream",
          "name": "stderr",
          "text": [
            "INFO:__main__:Train Accuracy of airplane: 54% (2727/5000)\n",
            "INFO:__main__:Train Accuracy of automobile: 66% (3321/5000)\n",
            "INFO:__main__:Train Accuracy of  bird: 15% (759/5000)\n",
            "INFO:__main__:Train Accuracy of   cat: 72% (3627/5000)\n",
            "INFO:__main__:Train Accuracy of  deer: 67% (3390/5000)\n",
            "INFO:__main__:Train Accuracy of   dog: 71% (3599/5000)\n",
            "INFO:__main__:Train Accuracy of  frog: 61% (3070/5000)\n",
            "INFO:__main__:Train Accuracy of horse: 86% (4307/5000)\n",
            "INFO:__main__:Train Accuracy of  ship: 60% (3000/5000)\n",
            "INFO:__main__:Train Accuracy of truck: 60% (3009/5000)\n",
            "INFO:__main__:Train Accuracy (Overall): 61% (30809/50000)\n",
            "INFO:__main__:Test Accuracy of airplane: 56% (566/1000)\n",
            "INFO:__main__:Test Accuracy of automobile: 66% (669/1000)\n",
            "INFO:__main__:Test Accuracy of  bird: 13% (132/1000)\n",
            "INFO:__main__:Test Accuracy of   cat: 65% (654/1000)\n",
            "INFO:__main__:Test Accuracy of  deer: 68% (682/1000)\n",
            "INFO:__main__:Test Accuracy of   dog: 67% (670/1000)\n",
            "INFO:__main__:Test Accuracy of  frog: 61% (615/1000)\n",
            "INFO:__main__:Test Accuracy of horse: 82% (828/1000)\n",
            "INFO:__main__:Test Accuracy of  ship: 64% (647/1000)\n",
            "INFO:__main__:Test Accuracy of truck: 62% (621/1000)\n",
            "INFO:__main__:Test Accuracy (Overall): 60% (6084/10000)\n"
          ]
        },
        {
          "output_type": "stream",
          "name": "stdout",
          "text": [
            "Current trial : 2\n"
          ]
        },
        {
          "output_type": "stream",
          "name": "stderr",
          "text": [
            "INFO:__main__:Train Accuracy of airplane: 54% (2745/5000)\n",
            "INFO:__main__:Train Accuracy of automobile: 65% (3296/5000)\n",
            "INFO:__main__:Train Accuracy of  bird: 14% (722/5000)\n",
            "INFO:__main__:Train Accuracy of   cat: 73% (3675/5000)\n",
            "INFO:__main__:Train Accuracy of  deer: 67% (3381/5000)\n",
            "INFO:__main__:Train Accuracy of   dog: 72% (3629/5000)\n",
            "INFO:__main__:Train Accuracy of  frog: 60% (3039/5000)\n",
            "INFO:__main__:Train Accuracy of horse: 85% (4290/5000)\n",
            "INFO:__main__:Train Accuracy of  ship: 61% (3055/5000)\n",
            "INFO:__main__:Train Accuracy of truck: 58% (2926/5000)\n",
            "INFO:__main__:Train Accuracy (Overall): 61% (30758/50000)\n",
            "INFO:__main__:Test Accuracy of airplane: 57% (575/1000)\n",
            "INFO:__main__:Test Accuracy of automobile: 66% (667/1000)\n",
            "INFO:__main__:Test Accuracy of  bird: 14% (146/1000)\n",
            "INFO:__main__:Test Accuracy of   cat: 66% (662/1000)\n",
            "INFO:__main__:Test Accuracy of  deer: 66% (668/1000)\n",
            "INFO:__main__:Test Accuracy of   dog: 68% (687/1000)\n",
            "INFO:__main__:Test Accuracy of  frog: 64% (642/1000)\n",
            "INFO:__main__:Test Accuracy of horse: 81% (816/1000)\n",
            "INFO:__main__:Test Accuracy of  ship: 63% (631/1000)\n",
            "INFO:__main__:Test Accuracy of truck: 65% (651/1000)\n",
            "INFO:__main__:Test Accuracy (Overall): 61% (6145/10000)\n"
          ]
        },
        {
          "output_type": "stream",
          "name": "stdout",
          "text": [
            "Current trial : 3\n"
          ]
        },
        {
          "output_type": "stream",
          "name": "stderr",
          "text": [
            "INFO:__main__:Train Accuracy of airplane: 54% (2724/5000)\n",
            "INFO:__main__:Train Accuracy of automobile: 65% (3298/5000)\n",
            "INFO:__main__:Train Accuracy of  bird: 14% (747/5000)\n",
            "INFO:__main__:Train Accuracy of   cat: 72% (3624/5000)\n",
            "INFO:__main__:Train Accuracy of  deer: 68% (3421/5000)\n",
            "INFO:__main__:Train Accuracy of   dog: 72% (3641/5000)\n",
            "INFO:__main__:Train Accuracy of  frog: 60% (3035/5000)\n",
            "INFO:__main__:Train Accuracy of horse: 85% (4250/5000)\n",
            "INFO:__main__:Train Accuracy of  ship: 60% (3029/5000)\n",
            "INFO:__main__:Train Accuracy of truck: 59% (2979/5000)\n",
            "INFO:__main__:Train Accuracy (Overall): 61% (30748/50000)\n",
            "INFO:__main__:Test Accuracy of airplane: 53% (537/1000)\n",
            "INFO:__main__:Test Accuracy of automobile: 67% (671/1000)\n",
            "INFO:__main__:Test Accuracy of  bird: 17% (174/1000)\n",
            "INFO:__main__:Test Accuracy of   cat: 67% (679/1000)\n",
            "INFO:__main__:Test Accuracy of  deer: 65% (657/1000)\n",
            "INFO:__main__:Test Accuracy of   dog: 67% (678/1000)\n",
            "INFO:__main__:Test Accuracy of  frog: 64% (640/1000)\n",
            "INFO:__main__:Test Accuracy of horse: 82% (820/1000)\n",
            "INFO:__main__:Test Accuracy of  ship: 64% (643/1000)\n",
            "INFO:__main__:Test Accuracy of truck: 63% (635/1000)\n",
            "INFO:__main__:Test Accuracy (Overall): 61% (6134/10000)\n"
          ]
        },
        {
          "output_type": "stream",
          "name": "stdout",
          "text": [
            "Current trial : 4\n"
          ]
        },
        {
          "output_type": "stream",
          "name": "stderr",
          "text": [
            "INFO:__main__:Train Accuracy of airplane: 54% (2727/5000)\n",
            "INFO:__main__:Train Accuracy of automobile: 65% (3279/5000)\n",
            "INFO:__main__:Train Accuracy of  bird: 15% (752/5000)\n",
            "INFO:__main__:Train Accuracy of   cat: 73% (3698/5000)\n",
            "INFO:__main__:Train Accuracy of  deer: 67% (3381/5000)\n",
            "INFO:__main__:Train Accuracy of   dog: 72% (3630/5000)\n",
            "INFO:__main__:Train Accuracy of  frog: 60% (3029/5000)\n",
            "INFO:__main__:Train Accuracy of horse: 86% (4312/5000)\n",
            "INFO:__main__:Train Accuracy of  ship: 59% (2998/5000)\n",
            "INFO:__main__:Train Accuracy of truck: 59% (2965/5000)\n",
            "INFO:__main__:Train Accuracy (Overall): 61% (30771/50000)\n",
            "INFO:__main__:Test Accuracy of airplane: 56% (560/1000)\n",
            "INFO:__main__:Test Accuracy of automobile: 67% (675/1000)\n",
            "INFO:__main__:Test Accuracy of  bird: 12% (125/1000)\n",
            "INFO:__main__:Test Accuracy of   cat: 67% (679/1000)\n",
            "INFO:__main__:Test Accuracy of  deer: 69% (690/1000)\n",
            "INFO:__main__:Test Accuracy of   dog: 66% (666/1000)\n",
            "INFO:__main__:Test Accuracy of  frog: 64% (644/1000)\n",
            "INFO:__main__:Test Accuracy of horse: 83% (831/1000)\n",
            "INFO:__main__:Test Accuracy of  ship: 62% (629/1000)\n",
            "INFO:__main__:Test Accuracy of truck: 64% (646/1000)\n",
            "INFO:__main__:Test Accuracy (Overall): 61% (6145/10000)\n"
          ]
        },
        {
          "output_type": "stream",
          "name": "stdout",
          "text": [
            "Current trial : 5\n"
          ]
        },
        {
          "output_type": "stream",
          "name": "stderr",
          "text": [
            "INFO:__main__:Train Accuracy of airplane: 54% (2745/5000)\n",
            "INFO:__main__:Train Accuracy of automobile: 65% (3251/5000)\n",
            "INFO:__main__:Train Accuracy of  bird: 14% (748/5000)\n",
            "INFO:__main__:Train Accuracy of   cat: 71% (3592/5000)\n",
            "INFO:__main__:Train Accuracy of  deer: 67% (3377/5000)\n",
            "INFO:__main__:Train Accuracy of   dog: 73% (3685/5000)\n",
            "INFO:__main__:Train Accuracy of  frog: 60% (3004/5000)\n",
            "INFO:__main__:Train Accuracy of horse: 85% (4288/5000)\n",
            "INFO:__main__:Train Accuracy of  ship: 59% (2990/5000)\n",
            "INFO:__main__:Train Accuracy of truck: 59% (2985/5000)\n",
            "INFO:__main__:Train Accuracy (Overall): 61% (30665/50000)\n",
            "INFO:__main__:Test Accuracy of airplane: 54% (549/1000)\n",
            "INFO:__main__:Test Accuracy of automobile: 67% (670/1000)\n",
            "INFO:__main__:Test Accuracy of  bird: 16% (164/1000)\n",
            "INFO:__main__:Test Accuracy of   cat: 67% (671/1000)\n",
            "INFO:__main__:Test Accuracy of  deer: 69% (695/1000)\n",
            "INFO:__main__:Test Accuracy of   dog: 69% (694/1000)\n",
            "INFO:__main__:Test Accuracy of  frog: 61% (618/1000)\n",
            "INFO:__main__:Test Accuracy of horse: 82% (821/1000)\n",
            "INFO:__main__:Test Accuracy of  ship: 63% (631/1000)\n",
            "INFO:__main__:Test Accuracy of truck: 62% (625/1000)\n",
            "INFO:__main__:Test Accuracy (Overall): 61% (6138/10000)\n"
          ]
        },
        {
          "output_type": "stream",
          "name": "stdout",
          "text": [
            "Current trial : 6\n"
          ]
        },
        {
          "output_type": "stream",
          "name": "stderr",
          "text": [
            "INFO:__main__:Train Accuracy of airplane: 54% (2706/5000)\n",
            "INFO:__main__:Train Accuracy of automobile: 64% (3239/5000)\n",
            "INFO:__main__:Train Accuracy of  bird: 15% (751/5000)\n",
            "INFO:__main__:Train Accuracy of   cat: 72% (3623/5000)\n",
            "INFO:__main__:Train Accuracy of  deer: 68% (3426/5000)\n",
            "INFO:__main__:Train Accuracy of   dog: 74% (3707/5000)\n",
            "INFO:__main__:Train Accuracy of  frog: 60% (3018/5000)\n",
            "INFO:__main__:Train Accuracy of horse: 85% (4295/5000)\n",
            "INFO:__main__:Train Accuracy of  ship: 59% (2960/5000)\n",
            "INFO:__main__:Train Accuracy of truck: 59% (2991/5000)\n",
            "INFO:__main__:Train Accuracy (Overall): 61% (30716/50000)\n",
            "INFO:__main__:Test Accuracy of airplane: 54% (543/1000)\n",
            "INFO:__main__:Test Accuracy of automobile: 67% (679/1000)\n",
            "INFO:__main__:Test Accuracy of  bird: 16% (165/1000)\n",
            "INFO:__main__:Test Accuracy of   cat: 65% (652/1000)\n",
            "INFO:__main__:Test Accuracy of  deer: 69% (698/1000)\n",
            "INFO:__main__:Test Accuracy of   dog: 68% (681/1000)\n",
            "INFO:__main__:Test Accuracy of  frog: 64% (647/1000)\n",
            "INFO:__main__:Test Accuracy of horse: 83% (834/1000)\n",
            "INFO:__main__:Test Accuracy of  ship: 62% (621/1000)\n",
            "INFO:__main__:Test Accuracy of truck: 60% (609/1000)\n",
            "INFO:__main__:Test Accuracy (Overall): 61% (6129/10000)\n"
          ]
        },
        {
          "output_type": "stream",
          "name": "stdout",
          "text": [
            "Current trial : 7\n"
          ]
        },
        {
          "output_type": "stream",
          "name": "stderr",
          "text": [
            "INFO:__main__:Train Accuracy of airplane: 55% (2753/5000)\n",
            "INFO:__main__:Train Accuracy of automobile: 65% (3265/5000)\n",
            "INFO:__main__:Train Accuracy of  bird: 14% (702/5000)\n",
            "INFO:__main__:Train Accuracy of   cat: 73% (3651/5000)\n",
            "INFO:__main__:Train Accuracy of  deer: 67% (3375/5000)\n",
            "INFO:__main__:Train Accuracy of   dog: 73% (3652/5000)\n",
            "INFO:__main__:Train Accuracy of  frog: 60% (3025/5000)\n",
            "INFO:__main__:Train Accuracy of horse: 85% (4281/5000)\n",
            "INFO:__main__:Train Accuracy of  ship: 59% (2965/5000)\n",
            "INFO:__main__:Train Accuracy of truck: 60% (3020/5000)\n",
            "INFO:__main__:Train Accuracy (Overall): 61% (30689/50000)\n",
            "INFO:__main__:Test Accuracy of airplane: 56% (560/1000)\n",
            "INFO:__main__:Test Accuracy of automobile: 67% (678/1000)\n",
            "INFO:__main__:Test Accuracy of  bird: 16% (164/1000)\n",
            "INFO:__main__:Test Accuracy of   cat: 69% (690/1000)\n",
            "INFO:__main__:Test Accuracy of  deer: 68% (681/1000)\n",
            "INFO:__main__:Test Accuracy of   dog: 67% (675/1000)\n",
            "INFO:__main__:Test Accuracy of  frog: 64% (645/1000)\n",
            "INFO:__main__:Test Accuracy of horse: 84% (847/1000)\n",
            "INFO:__main__:Test Accuracy of  ship: 64% (640/1000)\n",
            "INFO:__main__:Test Accuracy of truck: 62% (623/1000)\n",
            "INFO:__main__:Test Accuracy (Overall): 62% (6203/10000)\n"
          ]
        },
        {
          "output_type": "stream",
          "name": "stdout",
          "text": [
            "Current trial : 8\n"
          ]
        },
        {
          "output_type": "stream",
          "name": "stderr",
          "text": [
            "INFO:__main__:Train Accuracy of airplane: 54% (2735/5000)\n",
            "INFO:__main__:Train Accuracy of automobile: 65% (3267/5000)\n",
            "INFO:__main__:Train Accuracy of  bird: 15% (774/5000)\n",
            "INFO:__main__:Train Accuracy of   cat: 73% (3682/5000)\n",
            "INFO:__main__:Train Accuracy of  deer: 67% (3384/5000)\n",
            "INFO:__main__:Train Accuracy of   dog: 73% (3672/5000)\n",
            "INFO:__main__:Train Accuracy of  frog: 61% (3071/5000)\n",
            "INFO:__main__:Train Accuracy of horse: 85% (4271/5000)\n",
            "INFO:__main__:Train Accuracy of  ship: 61% (3053/5000)\n",
            "INFO:__main__:Train Accuracy of truck: 58% (2931/5000)\n",
            "INFO:__main__:Train Accuracy (Overall): 61% (30840/50000)\n",
            "INFO:__main__:Test Accuracy of airplane: 53% (539/1000)\n",
            "INFO:__main__:Test Accuracy of automobile: 65% (653/1000)\n",
            "INFO:__main__:Test Accuracy of  bird: 15% (153/1000)\n",
            "INFO:__main__:Test Accuracy of   cat: 69% (697/1000)\n",
            "INFO:__main__:Test Accuracy of  deer: 68% (682/1000)\n",
            "INFO:__main__:Test Accuracy of   dog: 65% (655/1000)\n",
            "INFO:__main__:Test Accuracy of  frog: 64% (646/1000)\n",
            "INFO:__main__:Test Accuracy of horse: 84% (843/1000)\n",
            "INFO:__main__:Test Accuracy of  ship: 64% (644/1000)\n",
            "INFO:__main__:Test Accuracy of truck: 62% (627/1000)\n",
            "INFO:__main__:Test Accuracy (Overall): 61% (6139/10000)\n"
          ]
        },
        {
          "output_type": "stream",
          "name": "stdout",
          "text": [
            "Current trial : 9\n"
          ]
        },
        {
          "output_type": "stream",
          "name": "stderr",
          "text": [
            "INFO:__main__:Train Accuracy of airplane: 55% (2764/5000)\n",
            "INFO:__main__:Train Accuracy of automobile: 65% (3271/5000)\n",
            "INFO:__main__:Train Accuracy of  bird: 14% (724/5000)\n",
            "INFO:__main__:Train Accuracy of   cat: 72% (3645/5000)\n",
            "INFO:__main__:Train Accuracy of  deer: 66% (3301/5000)\n",
            "INFO:__main__:Train Accuracy of   dog: 72% (3639/5000)\n",
            "INFO:__main__:Train Accuracy of  frog: 59% (2989/5000)\n",
            "INFO:__main__:Train Accuracy of horse: 86% (4302/5000)\n",
            "INFO:__main__:Train Accuracy of  ship: 59% (2972/5000)\n",
            "INFO:__main__:Train Accuracy of truck: 60% (3014/5000)\n",
            "INFO:__main__:Train Accuracy (Overall): 61% (30621/50000)\n",
            "INFO:__main__:Test Accuracy of airplane: 57% (571/1000)\n",
            "INFO:__main__:Test Accuracy of automobile: 68% (683/1000)\n",
            "INFO:__main__:Test Accuracy of  bird: 16% (164/1000)\n",
            "INFO:__main__:Test Accuracy of   cat: 66% (664/1000)\n",
            "INFO:__main__:Test Accuracy of  deer: 67% (671/1000)\n",
            "INFO:__main__:Test Accuracy of   dog: 66% (669/1000)\n",
            "INFO:__main__:Test Accuracy of  frog: 64% (642/1000)\n",
            "INFO:__main__:Test Accuracy of horse: 83% (835/1000)\n",
            "INFO:__main__:Test Accuracy of  ship: 63% (639/1000)\n",
            "INFO:__main__:Test Accuracy of truck: 63% (631/1000)\n",
            "INFO:__main__:Test Accuracy (Overall): 61% (6169/10000)\n"
          ]
        },
        {
          "output_type": "stream",
          "name": "stdout",
          "text": [
            "Current trial : 10\n"
          ]
        },
        {
          "output_type": "stream",
          "name": "stderr",
          "text": [
            "INFO:__main__:Train Accuracy of airplane: 54% (2706/5000)\n",
            "INFO:__main__:Train Accuracy of automobile: 66% (3319/5000)\n",
            "INFO:__main__:Train Accuracy of  bird: 14% (746/5000)\n",
            "INFO:__main__:Train Accuracy of   cat: 73% (3670/5000)\n",
            "INFO:__main__:Train Accuracy of  deer: 67% (3371/5000)\n",
            "INFO:__main__:Train Accuracy of   dog: 72% (3649/5000)\n",
            "INFO:__main__:Train Accuracy of  frog: 60% (3032/5000)\n",
            "INFO:__main__:Train Accuracy of horse: 86% (4320/5000)\n",
            "INFO:__main__:Train Accuracy of  ship: 58% (2947/5000)\n",
            "INFO:__main__:Train Accuracy of truck: 58% (2929/5000)\n",
            "INFO:__main__:Train Accuracy (Overall): 61% (30689/50000)\n",
            "INFO:__main__:Test Accuracy of airplane: 53% (538/1000)\n",
            "INFO:__main__:Test Accuracy of automobile: 65% (654/1000)\n",
            "INFO:__main__:Test Accuracy of  bird: 14% (142/1000)\n",
            "INFO:__main__:Test Accuracy of   cat: 67% (676/1000)\n",
            "INFO:__main__:Test Accuracy of  deer: 69% (692/1000)\n",
            "INFO:__main__:Test Accuracy of   dog: 68% (683/1000)\n",
            "INFO:__main__:Test Accuracy of  frog: 65% (652/1000)\n",
            "INFO:__main__:Test Accuracy of horse: 81% (818/1000)\n",
            "INFO:__main__:Test Accuracy of  ship: 60% (609/1000)\n",
            "INFO:__main__:Test Accuracy of truck: 64% (640/1000)\n",
            "INFO:__main__:Test Accuracy (Overall): 61% (6104/10000)\n"
          ]
        },
        {
          "output_type": "stream",
          "name": "stdout",
          "text": [
            "Current trial : 11\n"
          ]
        },
        {
          "output_type": "stream",
          "name": "stderr",
          "text": [
            "INFO:__main__:Train Accuracy of airplane: 55% (2776/5000)\n",
            "INFO:__main__:Train Accuracy of automobile: 66% (3306/5000)\n",
            "INFO:__main__:Train Accuracy of  bird: 14% (743/5000)\n",
            "INFO:__main__:Train Accuracy of   cat: 73% (3693/5000)\n",
            "INFO:__main__:Train Accuracy of  deer: 68% (3419/5000)\n",
            "INFO:__main__:Train Accuracy of   dog: 73% (3658/5000)\n",
            "INFO:__main__:Train Accuracy of  frog: 61% (3068/5000)\n",
            "INFO:__main__:Train Accuracy of horse: 86% (4303/5000)\n",
            "INFO:__main__:Train Accuracy of  ship: 60% (3019/5000)\n",
            "INFO:__main__:Train Accuracy of truck: 59% (2972/5000)\n",
            "INFO:__main__:Train Accuracy (Overall): 61% (30957/50000)\n",
            "INFO:__main__:Test Accuracy of airplane: 53% (538/1000)\n",
            "INFO:__main__:Test Accuracy of automobile: 67% (670/1000)\n",
            "INFO:__main__:Test Accuracy of  bird: 13% (137/1000)\n",
            "INFO:__main__:Test Accuracy of   cat: 67% (670/1000)\n",
            "INFO:__main__:Test Accuracy of  deer: 66% (665/1000)\n",
            "INFO:__main__:Test Accuracy of   dog: 67% (671/1000)\n",
            "INFO:__main__:Test Accuracy of  frog: 65% (650/1000)\n",
            "INFO:__main__:Test Accuracy of horse: 81% (815/1000)\n",
            "INFO:__main__:Test Accuracy of  ship: 62% (623/1000)\n",
            "INFO:__main__:Test Accuracy of truck: 60% (607/1000)\n",
            "INFO:__main__:Test Accuracy (Overall): 60% (6046/10000)\n"
          ]
        },
        {
          "output_type": "stream",
          "name": "stdout",
          "text": [
            "Current trial : 12\n"
          ]
        },
        {
          "output_type": "stream",
          "name": "stderr",
          "text": [
            "INFO:__main__:Train Accuracy of airplane: 54% (2743/5000)\n",
            "INFO:__main__:Train Accuracy of automobile: 65% (3279/5000)\n",
            "INFO:__main__:Train Accuracy of  bird: 14% (733/5000)\n",
            "INFO:__main__:Train Accuracy of   cat: 73% (3697/5000)\n",
            "INFO:__main__:Train Accuracy of  deer: 67% (3380/5000)\n",
            "INFO:__main__:Train Accuracy of   dog: 72% (3648/5000)\n",
            "INFO:__main__:Train Accuracy of  frog: 62% (3105/5000)\n",
            "INFO:__main__:Train Accuracy of horse: 85% (4285/5000)\n",
            "INFO:__main__:Train Accuracy of  ship: 59% (2997/5000)\n",
            "INFO:__main__:Train Accuracy of truck: 60% (3023/5000)\n",
            "INFO:__main__:Train Accuracy (Overall): 61% (30890/50000)\n",
            "INFO:__main__:Test Accuracy of airplane: 57% (579/1000)\n",
            "INFO:__main__:Test Accuracy of automobile: 65% (650/1000)\n",
            "INFO:__main__:Test Accuracy of  bird: 13% (137/1000)\n",
            "INFO:__main__:Test Accuracy of   cat: 68% (683/1000)\n",
            "INFO:__main__:Test Accuracy of  deer: 70% (706/1000)\n",
            "INFO:__main__:Test Accuracy of   dog: 68% (689/1000)\n",
            "INFO:__main__:Test Accuracy of  frog: 65% (652/1000)\n",
            "INFO:__main__:Test Accuracy of horse: 82% (821/1000)\n",
            "INFO:__main__:Test Accuracy of  ship: 63% (635/1000)\n",
            "INFO:__main__:Test Accuracy of truck: 64% (642/1000)\n",
            "INFO:__main__:Test Accuracy (Overall): 61% (6194/10000)\n"
          ]
        },
        {
          "output_type": "stream",
          "name": "stdout",
          "text": [
            "Current trial : 13\n"
          ]
        },
        {
          "output_type": "stream",
          "name": "stderr",
          "text": [
            "INFO:__main__:Train Accuracy of airplane: 55% (2757/5000)\n",
            "INFO:__main__:Train Accuracy of automobile: 66% (3348/5000)\n",
            "INFO:__main__:Train Accuracy of  bird: 15% (753/5000)\n",
            "INFO:__main__:Train Accuracy of   cat: 72% (3606/5000)\n",
            "INFO:__main__:Train Accuracy of  deer: 68% (3400/5000)\n",
            "INFO:__main__:Train Accuracy of   dog: 72% (3615/5000)\n",
            "INFO:__main__:Train Accuracy of  frog: 60% (3014/5000)\n",
            "INFO:__main__:Train Accuracy of horse: 85% (4296/5000)\n",
            "INFO:__main__:Train Accuracy of  ship: 60% (3001/5000)\n",
            "INFO:__main__:Train Accuracy of truck: 59% (2996/5000)\n",
            "INFO:__main__:Train Accuracy (Overall): 61% (30786/50000)\n",
            "INFO:__main__:Test Accuracy of airplane: 55% (553/1000)\n",
            "INFO:__main__:Test Accuracy of automobile: 66% (662/1000)\n",
            "INFO:__main__:Test Accuracy of  bird: 14% (145/1000)\n",
            "INFO:__main__:Test Accuracy of   cat: 67% (674/1000)\n",
            "INFO:__main__:Test Accuracy of  deer: 68% (683/1000)\n",
            "INFO:__main__:Test Accuracy of   dog: 67% (678/1000)\n",
            "INFO:__main__:Test Accuracy of  frog: 62% (627/1000)\n",
            "INFO:__main__:Test Accuracy of horse: 83% (836/1000)\n",
            "INFO:__main__:Test Accuracy of  ship: 64% (649/1000)\n",
            "INFO:__main__:Test Accuracy of truck: 63% (638/1000)\n",
            "INFO:__main__:Test Accuracy (Overall): 61% (6145/10000)\n"
          ]
        },
        {
          "output_type": "stream",
          "name": "stdout",
          "text": [
            "Current trial : 14\n"
          ]
        },
        {
          "output_type": "stream",
          "name": "stderr",
          "text": [
            "INFO:__main__:Train Accuracy of airplane: 55% (2753/5000)\n",
            "INFO:__main__:Train Accuracy of automobile: 65% (3279/5000)\n",
            "INFO:__main__:Train Accuracy of  bird: 14% (749/5000)\n",
            "INFO:__main__:Train Accuracy of   cat: 73% (3678/5000)\n",
            "INFO:__main__:Train Accuracy of  deer: 67% (3389/5000)\n",
            "INFO:__main__:Train Accuracy of   dog: 72% (3628/5000)\n",
            "INFO:__main__:Train Accuracy of  frog: 59% (2997/5000)\n",
            "INFO:__main__:Train Accuracy of horse: 85% (4286/5000)\n",
            "INFO:__main__:Train Accuracy of  ship: 60% (3022/5000)\n",
            "INFO:__main__:Train Accuracy of truck: 58% (2944/5000)\n",
            "INFO:__main__:Train Accuracy (Overall): 61% (30725/50000)\n",
            "INFO:__main__:Test Accuracy of airplane: 55% (552/1000)\n",
            "INFO:__main__:Test Accuracy of automobile: 63% (634/1000)\n",
            "INFO:__main__:Test Accuracy of  bird: 15% (153/1000)\n",
            "INFO:__main__:Test Accuracy of   cat: 68% (680/1000)\n",
            "INFO:__main__:Test Accuracy of  deer: 70% (702/1000)\n",
            "INFO:__main__:Test Accuracy of   dog: 67% (674/1000)\n",
            "INFO:__main__:Test Accuracy of  frog: 64% (641/1000)\n",
            "INFO:__main__:Test Accuracy of horse: 80% (809/1000)\n",
            "INFO:__main__:Test Accuracy of  ship: 66% (660/1000)\n",
            "INFO:__main__:Test Accuracy of truck: 64% (642/1000)\n",
            "INFO:__main__:Test Accuracy (Overall): 61% (6147/10000)\n"
          ]
        },
        {
          "output_type": "stream",
          "name": "stdout",
          "text": [
            "Current trial : 15\n"
          ]
        },
        {
          "output_type": "stream",
          "name": "stderr",
          "text": [
            "INFO:__main__:Train Accuracy of airplane: 54% (2710/5000)\n",
            "INFO:__main__:Train Accuracy of automobile: 65% (3282/5000)\n",
            "INFO:__main__:Train Accuracy of  bird: 15% (776/5000)\n",
            "INFO:__main__:Train Accuracy of   cat: 72% (3649/5000)\n",
            "INFO:__main__:Train Accuracy of  deer: 67% (3383/5000)\n",
            "INFO:__main__:Train Accuracy of   dog: 73% (3688/5000)\n",
            "INFO:__main__:Train Accuracy of  frog: 60% (3014/5000)\n",
            "INFO:__main__:Train Accuracy of horse: 85% (4272/5000)\n",
            "INFO:__main__:Train Accuracy of  ship: 59% (2985/5000)\n",
            "INFO:__main__:Train Accuracy of truck: 61% (3054/5000)\n",
            "INFO:__main__:Train Accuracy (Overall): 61% (30813/50000)\n",
            "INFO:__main__:Test Accuracy of airplane: 56% (563/1000)\n",
            "INFO:__main__:Test Accuracy of automobile: 68% (685/1000)\n",
            "INFO:__main__:Test Accuracy of  bird: 16% (169/1000)\n",
            "INFO:__main__:Test Accuracy of   cat: 66% (662/1000)\n",
            "INFO:__main__:Test Accuracy of  deer: 68% (680/1000)\n",
            "INFO:__main__:Test Accuracy of   dog: 67% (676/1000)\n",
            "INFO:__main__:Test Accuracy of  frog: 64% (647/1000)\n",
            "INFO:__main__:Test Accuracy of horse: 83% (837/1000)\n",
            "INFO:__main__:Test Accuracy of  ship: 63% (635/1000)\n",
            "INFO:__main__:Test Accuracy of truck: 61% (616/1000)\n",
            "INFO:__main__:Test Accuracy (Overall): 61% (6170/10000)\n"
          ]
        },
        {
          "output_type": "stream",
          "name": "stdout",
          "text": [
            "Current trial : 16\n"
          ]
        },
        {
          "output_type": "stream",
          "name": "stderr",
          "text": [
            "INFO:__main__:Train Accuracy of airplane: 54% (2733/5000)\n",
            "INFO:__main__:Train Accuracy of automobile: 65% (3257/5000)\n",
            "INFO:__main__:Train Accuracy of  bird: 14% (712/5000)\n",
            "INFO:__main__:Train Accuracy of   cat: 72% (3616/5000)\n",
            "INFO:__main__:Train Accuracy of  deer: 67% (3362/5000)\n",
            "INFO:__main__:Train Accuracy of   dog: 73% (3676/5000)\n",
            "INFO:__main__:Train Accuracy of  frog: 61% (3067/5000)\n",
            "INFO:__main__:Train Accuracy of horse: 85% (4261/5000)\n",
            "INFO:__main__:Train Accuracy of  ship: 59% (2966/5000)\n",
            "INFO:__main__:Train Accuracy of truck: 60% (3011/5000)\n",
            "INFO:__main__:Train Accuracy (Overall): 61% (30661/50000)\n",
            "INFO:__main__:Test Accuracy of airplane: 55% (551/1000)\n",
            "INFO:__main__:Test Accuracy of automobile: 66% (666/1000)\n",
            "INFO:__main__:Test Accuracy of  bird: 15% (157/1000)\n",
            "INFO:__main__:Test Accuracy of   cat: 68% (686/1000)\n",
            "INFO:__main__:Test Accuracy of  deer: 69% (692/1000)\n",
            "INFO:__main__:Test Accuracy of   dog: 67% (677/1000)\n",
            "INFO:__main__:Test Accuracy of  frog: 62% (628/1000)\n",
            "INFO:__main__:Test Accuracy of horse: 82% (825/1000)\n",
            "INFO:__main__:Test Accuracy of  ship: 62% (620/1000)\n",
            "INFO:__main__:Test Accuracy of truck: 65% (653/1000)\n",
            "INFO:__main__:Test Accuracy (Overall): 61% (6155/10000)\n"
          ]
        },
        {
          "output_type": "stream",
          "name": "stdout",
          "text": [
            "Current trial : 17\n"
          ]
        },
        {
          "output_type": "stream",
          "name": "stderr",
          "text": [
            "INFO:__main__:Train Accuracy of airplane: 54% (2738/5000)\n",
            "INFO:__main__:Train Accuracy of automobile: 66% (3312/5000)\n",
            "INFO:__main__:Train Accuracy of  bird: 14% (741/5000)\n",
            "INFO:__main__:Train Accuracy of   cat: 73% (3657/5000)\n",
            "INFO:__main__:Train Accuracy of  deer: 66% (3325/5000)\n",
            "INFO:__main__:Train Accuracy of   dog: 73% (3654/5000)\n",
            "INFO:__main__:Train Accuracy of  frog: 60% (3008/5000)\n",
            "INFO:__main__:Train Accuracy of horse: 85% (4270/5000)\n",
            "INFO:__main__:Train Accuracy of  ship: 60% (3002/5000)\n",
            "INFO:__main__:Train Accuracy of truck: 59% (2957/5000)\n",
            "INFO:__main__:Train Accuracy (Overall): 61% (30664/50000)\n",
            "INFO:__main__:Test Accuracy of airplane: 54% (549/1000)\n",
            "INFO:__main__:Test Accuracy of automobile: 65% (656/1000)\n",
            "INFO:__main__:Test Accuracy of  bird: 16% (163/1000)\n",
            "INFO:__main__:Test Accuracy of   cat: 67% (670/1000)\n",
            "INFO:__main__:Test Accuracy of  deer: 72% (724/1000)\n",
            "INFO:__main__:Test Accuracy of   dog: 68% (687/1000)\n",
            "INFO:__main__:Test Accuracy of  frog: 64% (642/1000)\n",
            "INFO:__main__:Test Accuracy of horse: 80% (808/1000)\n",
            "INFO:__main__:Test Accuracy of  ship: 62% (625/1000)\n",
            "INFO:__main__:Test Accuracy of truck: 60% (607/1000)\n",
            "INFO:__main__:Test Accuracy (Overall): 61% (6131/10000)\n"
          ]
        },
        {
          "output_type": "stream",
          "name": "stdout",
          "text": [
            "Current trial : 18\n"
          ]
        },
        {
          "output_type": "stream",
          "name": "stderr",
          "text": [
            "INFO:__main__:Train Accuracy of airplane: 54% (2741/5000)\n",
            "INFO:__main__:Train Accuracy of automobile: 65% (3272/5000)\n",
            "INFO:__main__:Train Accuracy of  bird: 14% (725/5000)\n",
            "INFO:__main__:Train Accuracy of   cat: 72% (3644/5000)\n",
            "INFO:__main__:Train Accuracy of  deer: 68% (3426/5000)\n",
            "INFO:__main__:Train Accuracy of   dog: 72% (3645/5000)\n",
            "INFO:__main__:Train Accuracy of  frog: 59% (2969/5000)\n",
            "INFO:__main__:Train Accuracy of horse: 85% (4292/5000)\n",
            "INFO:__main__:Train Accuracy of  ship: 60% (3049/5000)\n",
            "INFO:__main__:Train Accuracy of truck: 59% (2980/5000)\n",
            "INFO:__main__:Train Accuracy (Overall): 61% (30743/50000)\n",
            "INFO:__main__:Test Accuracy of airplane: 57% (573/1000)\n",
            "INFO:__main__:Test Accuracy of automobile: 66% (662/1000)\n",
            "INFO:__main__:Test Accuracy of  bird: 18% (181/1000)\n",
            "INFO:__main__:Test Accuracy of   cat: 67% (678/1000)\n",
            "INFO:__main__:Test Accuracy of  deer: 70% (706/1000)\n",
            "INFO:__main__:Test Accuracy of   dog: 66% (669/1000)\n",
            "INFO:__main__:Test Accuracy of  frog: 63% (636/1000)\n",
            "INFO:__main__:Test Accuracy of horse: 81% (810/1000)\n",
            "INFO:__main__:Test Accuracy of  ship: 62% (624/1000)\n",
            "INFO:__main__:Test Accuracy of truck: 62% (622/1000)\n",
            "INFO:__main__:Test Accuracy (Overall): 61% (6161/10000)\n"
          ]
        },
        {
          "output_type": "stream",
          "name": "stdout",
          "text": [
            "Current trial : 19\n"
          ]
        },
        {
          "output_type": "stream",
          "name": "stderr",
          "text": [
            "INFO:__main__:Train Accuracy of airplane: 55% (2762/5000)\n",
            "INFO:__main__:Train Accuracy of automobile: 65% (3254/5000)\n",
            "INFO:__main__:Train Accuracy of  bird: 15% (750/5000)\n",
            "INFO:__main__:Train Accuracy of   cat: 72% (3624/5000)\n",
            "INFO:__main__:Train Accuracy of  deer: 68% (3437/5000)\n",
            "INFO:__main__:Train Accuracy of   dog: 73% (3653/5000)\n",
            "INFO:__main__:Train Accuracy of  frog: 60% (3015/5000)\n",
            "INFO:__main__:Train Accuracy of horse: 86% (4315/5000)\n",
            "INFO:__main__:Train Accuracy of  ship: 60% (3031/5000)\n",
            "INFO:__main__:Train Accuracy of truck: 60% (3014/5000)\n",
            "INFO:__main__:Train Accuracy (Overall): 61% (30855/50000)\n",
            "INFO:__main__:Test Accuracy of airplane: 56% (566/1000)\n",
            "INFO:__main__:Test Accuracy of automobile: 66% (664/1000)\n",
            "INFO:__main__:Test Accuracy of  bird: 17% (173/1000)\n",
            "INFO:__main__:Test Accuracy of   cat: 67% (674/1000)\n",
            "INFO:__main__:Test Accuracy of  deer: 67% (674/1000)\n",
            "INFO:__main__:Test Accuracy of   dog: 66% (666/1000)\n",
            "INFO:__main__:Test Accuracy of  frog: 64% (645/1000)\n",
            "INFO:__main__:Test Accuracy of horse: 82% (820/1000)\n",
            "INFO:__main__:Test Accuracy of  ship: 61% (615/1000)\n",
            "INFO:__main__:Test Accuracy of truck: 62% (620/1000)\n",
            "INFO:__main__:Test Accuracy (Overall): 61% (6117/10000)\n"
          ]
        }
      ],
      "source": [
        "for combination in combinations:\n",
        "  dropout_location, dropout_rate = combination\n",
        "  trial_dict_key = f\"{dropout_rate}_{dropout_location}\"\n",
        "\n",
        "  if trial_result_dict.get(trial_dict_key) is None:\n",
        "    trial_result_dict[trial_dict_key]={}\n",
        "\n",
        "  net, curr_epoch, train_loss_min = get_model_for_training(dropout_location, dropout_rate)\n",
        "  original_dict = copy.deepcopy(net.state_dict())\n",
        "  print(f\"Current Loss {train_loss_min} \")\n",
        "  # for rate in np.arange(0, 1.1, 0.1):\n",
        "  for rate in [0.91, 0.93, 0.95, 0.97, 0.99]:\n",
        "    print(f\"Loading into a new model with {rate} dropout in {dropout_location} location\")\n",
        "    net = ResNet18(rate, dropout_location)\n",
        "    net.load_state_dict(original_dict)\n",
        "\n",
        "    trial_test_key = f\"{rate}_test\"\n",
        "    trial_train_key = f\"{rate}_train\"\n",
        "\n",
        "    if trial_result_dict.get(trial_dict_key).get(trial_test_key) is None:\n",
        "      trial_result_dict[trial_dict_key][trial_test_key]= []\n",
        "\n",
        "    if trial_result_dict.get(trial_dict_key).get(trial_train_key) is None:\n",
        "      trial_result_dict[trial_dict_key][trial_train_key] = []\n",
        "\n",
        "    start_idx = len(trial_result_dict[trial_dict_key][trial_train_key])\n",
        "\n",
        "    for trial in range(start_idx, TRIALS_NUMBER):\n",
        "      print(f\"Current trial : {trial}\")\n",
        "      if train_on_gpu:\n",
        "        net = LoggerDataParallel(net, model_props = net.model_props)\n",
        "        cudnn.benchmark = True\n",
        "\n",
        "      # specify loss function (categorical cross-entropy)\n",
        "      criterion = nn.CrossEntropyLoss()\n",
        "\n",
        "      # specify optimizer\n",
        "      optimizer = optim.SGD(net.parameters(), lr=0.01, momentum=0.9, weight_decay=0.0001)\n",
        "\n",
        "      #run_test_data(net, optimizer, criterion, False)\n",
        "      total_overall_accuracy_on_train = run_test_data(net, optimizer, criterion, True, True)\n",
        "      total_overall_accuracy_on_test = run_test_data(net, optimizer, criterion, True, False)\n",
        "\n",
        "      trial_result_dict[trial_dict_key][trial_test_key].append(total_overall_accuracy_on_test)\n",
        "      trial_result_dict[trial_dict_key][trial_train_key].append(total_overall_accuracy_on_train)\n",
        "      save_trials_dict(trial_result_dict)"
      ]
    },
    {
      "cell_type": "code",
      "execution_count": null,
      "metadata": {
        "id": "AuRpFkiZANJn"
      },
      "outputs": [],
      "source": []
    }
  ],
  "metadata": {
    "accelerator": "GPU",
    "colab": {
      "collapsed_sections": [
        "FVwz1WydnN_7"
      ],
      "machine_shape": "hm",
      "provenance": [],
      "gpuType": "T4"
    },
    "gpuClass": "standard",
    "kernelspec": {
      "display_name": "Python 3",
      "name": "python3"
    }
  },
  "nbformat": 4,
  "nbformat_minor": 0
}